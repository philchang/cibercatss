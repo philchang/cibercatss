{
 "cells": [
  {
   "cell_type": "markdown",
   "id": "acd3393e-7aa1-4a53-aa97-418cf9b7f3f5",
   "metadata": {},
   "source": [
    "## Project: Fashion MNIST Classification with CNN\n",
    "### Project Description\n",
    "\n",
    "In this project, you will build Convolutional Neural Networks (CNNs) to classify images of clothing from the Fashion MNIST dataset. The Fashion MNIST dataset consists of 70,000 grayscale images in 10 categories. The images show individual articles of clothing at low resolution (28x28 pixels):\n",
    "\n",
    "60,000 training images\n",
    "10,000 test images\n",
    "Each image is labeled with one of the following classes:\n",
    "\n",
    "T-shirt/top\n",
    "Trouser\n",
    "Pullover\n",
    "Dress\n",
    "Coat\n",
    "Sandal\n",
    "Shirt\n",
    "Sneaker\n",
    "Bag\n",
    "Ankle boot\n",
    "Project Goal\n",
    "\n",
    "The goal of this project is to build and train three different CNN models that can accurately classify images of clothing into their respective categories. Your models will take as input a 28x28 pixel grayscale image and predict which one of the 10 categories the image belongs to. After training, you will compare and evaluate the performance of these models."
   ]
  },
  {
   "cell_type": "markdown",
   "id": "2036fb8f-2a9c-452b-91c8-6539355ebba2",
   "metadata": {},
   "source": [
    "### Instructions and Starter Code"
   ]
  },
  {
   "cell_type": "markdown",
   "id": "f9cec100-00f8-4037-8d63-ec1a7eed45b9",
   "metadata": {},
   "source": [
    "1. Import Libraries"
   ]
  },
  {
   "cell_type": "code",
   "execution_count": 1,
   "id": "e46c2028-68be-4373-aa05-806dc4fb6b8a",
   "metadata": {
    "tags": []
   },
   "outputs": [],
   "source": [
    "# Import necessary libraries\n",
    "import tensorflow as tf\n",
    "from tensorflow.keras import datasets, layers, models\n",
    "import matplotlib.pyplot as plt\n",
    "import numpy as np\n"
   ]
  },
  {
   "cell_type": "markdown",
   "id": "d3c22364-c758-465a-b312-52e2b27d7e2c",
   "metadata": {},
   "source": [
    "2. Load and Explore the Dataset"
   ]
  },
  {
   "cell_type": "markdown",
   "id": "8d6b7a45-8bb9-46d6-b150-03d18aa6279a",
   "metadata": {
    "tags": []
   },
   "source": [
    "**Instructions:**\n",
    "\n",
    "1. Load the Fashion MNIST dataset using `tf.keras.datasets.fashion_mnist.load_data()`.\n",
    "2. Normalize the pixel values of the training and test images to be between 0 and 1.\n",
    "3. Display the first 25 images from the training set along with their labels to understand the data.\n"
   ]
  },
  {
   "cell_type": "code",
   "execution_count": 4,
   "id": "7e88397d-03ff-435d-ab19-76ec456a2303",
   "metadata": {
    "tags": []
   },
   "outputs": [],
   "source": [
    "# Load the Fashion MNIST dataset\n",
    "fashion_mnist = datasets.fashion_mnist\n",
    "(train_images, train_labels), (test_images, test_labels) = fashion_mnist.load_data()\n",
    "\n",
    "# Normalize the pixel values to be between 0 and 1\n",
    "train_images, test_images = train_images / 255.0, test_images / 255.0\n",
    "\n",
    "# Display the first 25 images from the training set to understand the data\n",
    "\n",
    "class_names = ['T-shirt/top', 'Trouser', 'Pullover', 'Dress', 'Coat', \n",
    "               'Sandal', 'Shirt', 'Sneaker', 'Bag', 'Ankle boot']\n",
    "# uncomment\n",
    "# plt.figure(figsize=(10,10))\n",
    "# for i in range(25):\n",
    "#     plt.subplot(5,5,i+1)\n",
    "#     plt.xticks([])\n",
    "#     plt.yticks([])\n",
    "#     plt.grid(False)\n",
    "#     plt.imshow(train_images[i], cmap=plt.cm.binary)\n",
    "#     plt.xlabel(class_names[train_labels[i]])\n",
    "# plt.show()\n"
   ]
  },
  {
   "cell_type": "markdown",
   "id": "5c7f9f2b-be2c-4f81-a038-32f0df0a06eb",
   "metadata": {},
   "source": [
    "3. Build and Train Three Different CNN Models"
   ]
  },
  {
   "cell_type": "markdown",
   "id": "eb9c0714-e4d9-40a0-9a0e-3a3070552330",
   "metadata": {},
   "source": [
    "**Instructions:**\n",
    "\n",
    "1. Build three different CNN models using `tf.keras.Sequential()` and layers such as `Conv2D`, `MaxPooling2D`, `Flatten`, and `Dense`.\n",
    "2. Compile each model using the 'adam' optimizer and `SparseCategoricalCrossentropy` loss.\n",
    "3. Train each model for 10 epochs using the training data and validate it on the test data.\n",
    "4. Save the training history of each model for later comparison.\n"
   ]
  },
  {
   "cell_type": "markdown",
   "id": "74f402a1-4edc-46a2-a479-53c0652a1d54",
   "metadata": {},
   "source": [
    "**Instructions:**\n",
    "\n",
    "1. Build three different CNN models using `tf.keras.Sequential()` and layers such as `Conv2D`, `MaxPooling2D`, `Flatten`, and `Dense`.\n",
    "2. Compile each model using the 'adam' optimizer and `SparseCategoricalCrossentropy` loss.\n",
    "3. Train each model for 10 epochs using the training data and validate it on the test data.\n",
    "4. Save the training history of each model for later comparison.\n"
   ]
  },
  {
   "cell_type": "code",
   "execution_count": 5,
   "id": "5cb947c2-6f1f-4c7c-bf8c-973232486575",
   "metadata": {
    "tags": []
   },
   "outputs": [],
   "source": [
    "# Model 1\n",
    "# TODO: Build the first CNN model\n",
    "\n",
    "# Model 2\n",
    "# TODO: Build the second CNN model with different parameters\n",
    "\n",
    "# Model 3\n",
    "# TODO: Build the third CNN model with different parameters\n"
   ]
  },
  {
   "cell_type": "code",
   "execution_count": 6,
   "id": "9a5c820f-fdf6-4499-870d-392debcf7946",
   "metadata": {
    "tags": []
   },
   "outputs": [],
   "source": [
    "# Compile the models\n",
    "# TODO: Compile each model with the 'adam' optimizer and SparseCategoricalCrossentropy loss\n",
    "\n",
    "# Train the models\n",
    "# TODO: Train each model for 10 epochs using the training data and validate it on the test data\n"
   ]
  },
  {
   "cell_type": "markdown",
   "id": "17e016cb-5189-492c-8368-b9918a969a90",
   "metadata": {},
   "source": [
    "4. Evaluate the Models"
   ]
  },
  {
   "cell_type": "markdown",
   "id": "df8e88f9-a409-4f73-8992-fccc40d543a5",
   "metadata": {},
   "source": [
    "**Instructions:**\n",
    "\n",
    "1. Evaluate each model using the test data.\n",
    "2. Print the test accuracy for each model.\n"
   ]
  },
  {
   "cell_type": "code",
   "execution_count": null,
   "id": "829c2cd9-11bf-44e3-bc8f-882235c2bcbe",
   "metadata": {},
   "outputs": [],
   "source": []
  },
  {
   "cell_type": "code",
   "execution_count": 7,
   "id": "1c26b2bd-3f5b-40cf-8aab-0a4901b6a639",
   "metadata": {
    "tags": []
   },
   "outputs": [],
   "source": [
    "# Evaluate the first model\n",
    "# TODO: Evaluate model_1 and print its test accuracy\n",
    "\n",
    "# Evaluate the second model\n",
    "# TODO: Evaluate model_2 and print its test accuracy\n",
    "\n",
    "# Evaluate the third model\n",
    "# TODO: Evaluate model_3 and print its test accuracy\n"
   ]
  },
  {
   "cell_type": "markdown",
   "id": "37e30e47-c3b0-458e-a430-da556f724a39",
   "metadata": {},
   "source": [
    "5. Compare and Visualize Model Performance"
   ]
  },
  {
   "cell_type": "markdown",
   "id": "68f064c5-7322-4e3e-a79a-9ac7bc004bfc",
   "metadata": {},
   "source": [
    "**Instructions:**\n",
    "\n",
    "1. Compare the performance of the three models by plotting their accuracy and loss over epochs.\n",
    "2. Use `matplotlib` to create the plots.\n"
   ]
  },
  {
   "cell_type": "code",
   "execution_count": null,
   "id": "b1dac9b1-603a-49e3-b7c6-3f49fcfb30e9",
   "metadata": {
    "tags": []
   },
   "outputs": [],
   "source": [
    "# Plot the accuracy of each model over epochs\n",
    "# uncommentplt.figure(figsize=(12, 4))\n",
    "plt.subplot(1, 2, 1)\n",
    "# TODO: Plot the accuracy for model_1\n",
    "# TODO: Plot the accuracy for model_2\n",
    "# TODO: Plot the accuracy for model_3\n",
    "plt.title('Model Accuracy')\n",
    "plt.xlabel('Epochs')\n",
    "plt.ylabel('Accuracy')\n",
    "plt.legend()\n",
    "\n",
    "\n",
    "# Plot the loss of each model over epochs\n",
    "plt.subplot(1, 2, 2)\n",
    "# TODO: Plot the loss for model_1\n",
    "# TODO: Plot the loss for model_2\n",
    "# TODO: Plot the loss for model_3\n",
    "plt.title('Model Loss')\n",
    "plt.xlabel('Epochs')\n",
    "plt.ylabel('Loss')\n",
    "plt.legend()\n",
    "\n",
    "plt.tight_layout()\n",
    "plt.show()\n"
   ]
  },
  {
   "cell_type": "markdown",
   "id": "9c18bedc-7fbd-4521-a708-42cef8e0d7a0",
   "metadata": {},
   "source": [
    "6. Make Predictions with the Best Model"
   ]
  },
  {
   "cell_type": "markdown",
   "id": "d097c7ba-40a5-4ccb-884b-38dc148c3681",
   "metadata": {},
   "source": [
    "**Instructions:**\n",
    "\n",
    "1. Choose the model with the highest test accuracy.\n",
    "2. Use this model to make predictions on the test data.\n",
    "3. Visualize the predictions using `matplotlib`.\n"
   ]
  },
  {
   "cell_type": "code",
   "execution_count": null,
   "id": "d40165c8-a973-48e2-abc2-a0ff2cc599b2",
   "metadata": {},
   "outputs": [],
   "source": [
    "# Use the model with the best performance to make predictions\n",
    "# TODO: Choose the model with the highest test accuracy\n",
    "\n",
    "# Make predictions\n",
    "# TODO: Use the best model to make predictions on the test data\n",
    "\n",
    "# Visualize the predictions using matplotlib functions\n",
    "def plot_image(predictions_array, true_label, img):\n",
    "    plt.grid(False)\n",
    "    plt.xticks([])\n",
    "    plt.yticks([])\n",
    "\n",
    "    plt.imshow(img, cmap=plt.cm.binary)\n",
    "\n",
    "    predicted_label = np.argmax(predictions_array)\n",
    "    color = 'blue' if predicted_label == true_label else 'red'\n",
    "\n",
    "    plt.xlabel(\"{} {:2.0f}% ({})\".format(class_names[predicted_label],\n",
    "                                         100*np.max(predictions_array),\n",
    "                                         class_names[true_label]),\n",
    "                                         color=color)\n",
    "\n",
    "def plot_value_array(predictions_array, true_label):\n",
    "    plt.grid(False)\n",
    "    plt.xticks(range(10))\n",
    "    plt.yticks([])\n",
    "    thisplot = plt.bar(range(10), predictions_array, color=\"#777777\")\n",
    "    plt.ylim([0, 1])\n",
    "    predicted_label = np.argmax(predictions_array)\n",
    "\n",
    "    thisplot[predicted_label].set_color('red')\n",
    "    thisplot[true_label].set_color('blue')\n",
    "\n",
    "# Plot the first X test images, their predicted label, and the true label\n",
    "# TODO: Plot the first X test images with predictions and true labels\n"
   ]
  }
 ],
 "metadata": {
  "kernelspec": {
   "display_name": "Python 3 (ipykernel)",
   "language": "python",
   "name": "python3"
  },
  "language_info": {
   "codemirror_mode": {
    "name": "ipython",
    "version": 3
   },
   "file_extension": ".py",
   "mimetype": "text/x-python",
   "name": "python",
   "nbconvert_exporter": "python",
   "pygments_lexer": "ipython3",
   "version": "3.11.5"
  }
 },
 "nbformat": 4,
 "nbformat_minor": 5
}
