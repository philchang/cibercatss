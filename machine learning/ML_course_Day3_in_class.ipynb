{
  "nbformat": 4,
  "nbformat_minor": 0,
  "metadata": {
    "colab": {
      "provenance": []
    },
    "kernelspec": {
      "name": "python3",
      "display_name": "Python 3"
    },
    "language_info": {
      "name": "python"
    }
  },
  "cells": [
    {
      "cell_type": "markdown",
      "source": [
        "# Prediction Models\n",
        "\n",
        "In machine learning, a prediction model, also known as a predictive model or a regression model, is a mathematical representation or algorithm that is trained on data to make predictions or estimates about unknown or future outcomes. It is a fundamental component of supervised learning, where the model learns patterns and relationships from labeled training data and then applies that knowledge to make predictions on new, unseen data.\n",
        "\n",
        "The prediction model takes input features or variables and uses them to generate output predictions. The specific type of prediction model used depends on the problem at hand. For example, linear regression models are commonly used for predicting continuous numerical values, while classification models such as logistic regression, decision trees, or support vector machines are used for predicting discrete categorical values or class labels.\n",
        "\n",
        "\n"
      ],
      "metadata": {
        "id": "-le2Iy22CRqe"
      }
    },
    {
      "cell_type": "markdown",
      "source": [
        "##Part 1 - Regression"
      ],
      "metadata": {
        "id": "f4RA9hDUj-CY"
      }
    },
    {
      "cell_type": "markdown",
      "source": [
        "## Linear Regression\n",
        "\n",
        "Linear regression is a basic supervised learning algorithm that is widely used for making predictions. It is often taught in introductory statistics courses and is considered a fundamental technique in data analysis. Although it is straightforward and relatively simple compared to other machine learning algorithms, **linear regression remains valuable for predicting quantitative values such as home prices or ages**. Despite its simplicity, linear regression and its variations remain relevant and effective in practical applications.\n"
      ],
      "metadata": {
        "id": "rPSXD33r-XrG"
      }
    },
    {
      "cell_type": "markdown",
      "source": [
        "##Problem \n",
        "##1.1 Fitting a line\n",
        "Suppose you want to train a model that represents a linear relationship between the feature and target vector. You can use a linear regression (in scikit-learn, `LinearRegression`):"
      ],
      "metadata": {
        "id": "ULmpHSvLCnNB"
      }
    },
    {
      "cell_type": "code",
      "execution_count": 2,
      "metadata": {
        "id": "a09bmWf_-VOn"
      },
      "outputs": [],
      "source": [
        "# Load libraries\n",
        "from sklearn.linear_model import LinearRegression\n",
        "\n",
        "#load california housing dataset from scikit\n",
        "from sklearn.datasets import fetch_california_housing\n",
        "\n",
        "#load dataset\n",
        "california_housing = fetch_california_housing(as_frame=True)\n",
        "\n"
      ]
    },
    {
      "cell_type": "markdown",
      "source": [
        "###First, visualizing the data that we have:\n",
        "Let's better visualize these features by plotting their histograms."
      ],
      "metadata": {
        "id": "GJIHix4BHD0W"
      }
    },
    {
      "cell_type": "code",
      "source": [
        "#let's take a look at the data description\n",
        "#TODO"
      ],
      "metadata": {
        "id": "f6yKBWLDFjF6"
      },
      "execution_count": 3,
      "outputs": []
    },
    {
      "cell_type": "code",
      "source": [
        "#show the dataset's info: the details the data types and if the dataset contains any missing value.\n",
        "#TODO"
      ],
      "metadata": {
        "id": "eA1s1N7WGFXM"
      },
      "execution_count": 4,
      "outputs": []
    },
    {
      "cell_type": "markdown",
      "source": [
        "We can see that:\n",
        "\n",
        "the dataset contains 20,640 samples and 8 features\n",
        "\n",
        "all features are numerical features encoded as floating number\n",
        "\n",
        "there is no missing values."
      ],
      "metadata": {
        "id": "ud1EkQzuGpma"
      }
    },
    {
      "cell_type": "code",
      "source": [
        "# visualize the distribution of these features by plotting their histograms\n",
        "import matplotlib.pyplot as plt\n",
        "\n",
        "#TODO\n",
        "#TODO"
      ],
      "metadata": {
        "id": "Ei3BxrnuHC2K"
      },
      "execution_count": 71,
      "outputs": []
    },
    {
      "cell_type": "markdown",
      "source": [
        "As you see in the output of the data info, we are provided with the longitude and latitude that carry geographical information. Let's take a look at this information. "
      ],
      "metadata": {
        "id": "DKWJMcSsIgaa"
      }
    },
    {
      "cell_type": "code",
      "source": [
        "import seaborn as sns\n",
        "\n",
        "sns.scatterplot(\n",
        "    data=california_housing.frame,\n",
        "    x=\"Longitude\",\n",
        "    y=\"Latitude\",\n",
        "    size=\"MedHouseVal\",\n",
        "    hue=\"MedHouseVal\",\n",
        "    palette=\"viridis\",\n",
        "    alpha=0.5,\n",
        ")\n",
        "plt.legend(title=\"MedHouseVal\", bbox_to_anchor=(1.05, 0.95), loc=\"upper left\")\n",
        "_ = plt.title(\"Median house value depending of\\n their spatial location\")"
      ],
      "metadata": {
        "id": "ufVdvbhDJCGF"
      },
      "execution_count": null,
      "outputs": []
    },
    {
      "cell_type": "markdown",
      "source": [
        "Please note that California's big cities: San Diego, Los Angeles, San Jose, or San Francisco, are located in the east coast!"
      ],
      "metadata": {
        "id": "T3RLkTjwJMy3"
      }
    },
    {
      "cell_type": "markdown",
      "source": [
        "We can perform random subsampling to reduce the number of data points for plotting, while still capturing the relevant characteristics."
      ],
      "metadata": {
        "id": "PAW1AzVmJnqX"
      }
    },
    {
      "cell_type": "code",
      "source": [
        "import numpy as np\n",
        "\n",
        "rng = np.random.RandomState(0)\n",
        "indices = rng.choice(\n",
        "    np.arange(california_housing.frame.shape[0]), size=200, replace=False\n",
        ")"
      ],
      "metadata": {
        "id": "caCS1RYyJo5N"
      },
      "execution_count": 7,
      "outputs": []
    },
    {
      "cell_type": "code",
      "source": [
        "sns.scatterplot(\n",
        "    data=california_housing.frame.iloc[indices],\n",
        "    x=\"Longitude\",\n",
        "    y=\"Latitude\",\n",
        "    size=\"MedHouseVal\",\n",
        "    hue=\"MedHouseVal\",\n",
        "    palette=\"viridis\",\n",
        "    alpha=0.5,\n",
        ")\n",
        "plt.legend(title=\"MedHouseVal\", bbox_to_anchor=(1.05, 1), loc=\"upper left\")\n",
        "_ = plt.title(\"Median house value depending of\\n their spatial location\")"
      ],
      "metadata": {
        "colab": {
          "base_uri": "https://localhost:8080/",
          "height": 492
        },
        "id": "wgei-5IpJtld",
        "outputId": "4a19d671-0e55-4986-8e3d-8c171055da2e"
      },
      "execution_count": 8,
      "outputs": [
        {
          "output_type": "display_data",
          "data": {
            "text/plain": [
              "<Figure size 640x480 with 1 Axes>"
            ],
            "image/png": "[encoded data removed]"
          },
          "metadata": {}
        }
      ]
    },
    {
      "cell_type": "markdown",
      "source": [
        "###Create input feature set and traget aka output set for fitting the regression:"
      ],
      "metadata": {
        "id": "uNKyUyt2KbDA"
      }
    },
    {
      "cell_type": "code",
      "source": [
        "# Create features\n",
        "#TODO"
      ],
      "metadata": {
        "id": "vhXLQ7UoF6J4"
      },
      "execution_count": 9,
      "outputs": []
    },
    {
      "cell_type": "code",
      "source": [
        "# show features head information\n",
        "\n",
        "#TODO\n"
      ],
      "metadata": {
        "id": "sJWWLcAXEufV"
      },
      "execution_count": 73,
      "outputs": []
    },
    {
      "cell_type": "code",
      "source": [
        "#the target contains the median of the house value for each district\n",
        "# to see it show target head information\n",
        "\n",
        "#TODO\n"
      ],
      "metadata": {
        "id": "TJy0lVG6EyKl"
      },
      "execution_count": 72,
      "outputs": []
    },
    {
      "cell_type": "code",
      "source": [
        "# Create linear regression\n",
        "#TODO\n",
        "\n",
        "# Fit the linear regression\n",
        "#TODO"
      ],
      "metadata": {
        "id": "oOHkh3E3EMGY"
      },
      "execution_count": 12,
      "outputs": []
    },
    {
      "cell_type": "code",
      "source": [
        "# First value in the target vector multiplied by 1000\n",
        "#TODO"
      ],
      "metadata": {
        "colab": {
          "base_uri": "https://localhost:8080/"
        },
        "id": "JJvOepA4FBsq",
        "outputId": "052dabb6-e6d6-4198-d6ba-66dedb5e8d2b"
      },
      "execution_count": 13,
      "outputs": [
        {
          "output_type": "execute_result",
          "data": {
            "text/plain": [
              "4526.0"
            ]
          },
          "metadata": {},
          "execution_count": 13
        }
      ]
    },
    {
      "cell_type": "markdown",
      "source": [
        "Using the `predict` method, we can predict a value for that house:"
      ],
      "metadata": {
        "id": "u2hjawcdK6-7"
      }
    },
    {
      "cell_type": "code",
      "source": [
        "# Predict the target value of the first observation, multiplied by 1000\n",
        "#TODO"
      ],
      "metadata": {
        "colab": {
          "base_uri": "https://localhost:8080/"
        },
        "id": "bRmdg1zWK-mv",
        "outputId": "b10bc4f1-820d-4b4e-f136-861ec3bc0d8e"
      },
      "execution_count": 14,
      "outputs": [
        {
          "output_type": "execute_result",
          "data": {
            "text/plain": [
              "4131.649827076742"
            ]
          },
          "metadata": {},
          "execution_count": 14
        }
      ]
    },
    {
      "cell_type": "markdown",
      "source": [
        "Not bad! Our model was only off by $394.35!"
      ],
      "metadata": {
        "id": "I7WbLrrALDDD"
      }
    },
    {
      "cell_type": "markdown",
      "source": [
        "##1.2 Reducing Features with Lasso Regression\n",
        "\n",
        "Suppose you want to simplify your linear regression model by reducing the number of features To find this, you can use a lasso regression:"
      ],
      "metadata": {
        "id": "ciBGMEp1LV_M"
      }
    },
    {
      "cell_type": "code",
      "source": [
        "# import lasso regressor from scikit library\n",
        "from sklearn.linear_model import Lasso\n",
        "from sklearn.preprocessing import StandardScaler"
      ],
      "metadata": {
        "id": "1U_7je0oOif3"
      },
      "execution_count": 15,
      "outputs": []
    },
    {
      "cell_type": "code",
      "source": [
        "# Standardize features\n",
        "scaler = StandardScaler()\n",
        "features_standardized = scaler.fit_transform(features)\n",
        "\n",
        "# Create lasso regression with alpha value\n",
        "regression = Lasso(alpha=0.5) \n",
        "\n",
        "# Fit the linear regression\n",
        "model = regression.fit(features_standardized, target)"
      ],
      "metadata": {
        "id": "fTIj3sJ_PSPG"
      },
      "execution_count": 16,
      "outputs": []
    },
    {
      "cell_type": "code",
      "source": [
        "# First value in the target vector multiplied by 1000\n",
        "#TODO"
      ],
      "metadata": {
        "colab": {
          "base_uri": "https://localhost:8080/"
        },
        "id": "mVgsRRoTPa-n",
        "outputId": "bfc9fb50-4f80-4b9c-acc0-feb91d9b3ced"
      },
      "execution_count": 17,
      "outputs": [
        {
          "output_type": "execute_result",
          "data": {
            "text/plain": [
              "4526.0"
            ]
          },
          "metadata": {},
          "execution_count": 17
        }
      ]
    },
    {
      "cell_type": "code",
      "source": [
        "# Predict the target value of the first observation, multiplied by 1000\n",
        "#TODO"
      ],
      "metadata": {
        "colab": {
          "base_uri": "https://localhost:8080/"
        },
        "id": "0_71apK2Pdw1",
        "outputId": "6dd9f4d4-afc6-45e3-e00b-84e364c6d7e1"
      },
      "execution_count": 18,
      "outputs": [
        {
          "output_type": "stream",
          "name": "stderr",
          "text": [
            "/usr/local/lib/python3.10/dist-packages/sklearn/base.py:432: UserWarning: X has feature names, but Lasso was fitted without feature names\n",
            "  warnings.warn(\n"
          ]
        },
        {
          "output_type": "execute_result",
          "data": {
            "text/plain": [
              "4516.07863009973"
            ]
          },
          "metadata": {},
          "execution_count": 18
        }
      ]
    },
    {
      "cell_type": "markdown",
      "source": [
        "Wow! Look at the difference!"
      ],
      "metadata": {
        "id": "siu4LVyFPgTq"
      }
    },
    {
      "cell_type": "markdown",
      "source": [
        "**Discussion**\n",
        "\n",
        "One interesting characteristic of lasso regression’s penalty is that it can shrink the coefficients of a model to zero, effectively reducing the number of features in the model. For example, in our solution we set alpha to 0.5, if we adjust lasso’s α hyperparameter to 10, it produces a model that uses only 10 (for instance) of the most important features. This lets us reduce variance while improving the interpretability of our model (since fewer features is easier to explain)."
      ],
      "metadata": {
        "id": "iqAowFPZQ-HE"
      }
    },
    {
      "cell_type": "markdown",
      "source": [
        "##Part 2 - Classification Algorithms"
      ],
      "metadata": {
        "id": "qtauAXhkjs8I"
      }
    },
    {
      "cell_type": "markdown",
      "source": [
        "### 2.1 Getting Dataset for classification tasks and some data visualization "
      ],
      "metadata": {
        "id": "hvn9DhuZXNFn"
      }
    },
    {
      "cell_type": "code",
      "source": [
        "# Load libraries\n",
        "import pandas as pd\n",
        "import numpy as np\n",
        "import seaborn as sns\n",
        "import matplotlib.pyplot as plt\n",
        "from sklearn import datasets"
      ],
      "metadata": {
        "id": "hrQenQYYTaSW"
      },
      "execution_count": 19,
      "outputs": []
    },
    {
      "cell_type": "code",
      "source": [
        "#load iris dataset for classification from scikit datasets library\n",
        "iris = datasets.load_iris()\n"
      ],
      "metadata": {
        "id": "9nzT1Nx_Tfqm"
      },
      "execution_count": 20,
      "outputs": []
    },
    {
      "cell_type": "code",
      "source": [
        "from IPython.display import Image\n",
        "Image(url='https://www.tensorflow.org/images/iris_three_species.jpg')"
      ],
      "metadata": {
        "colab": {
          "base_uri": "https://localhost:8080/",
          "height": 580
        },
        "id": "nyjSE52RU_Cn",
        "outputId": "18cc5648-f1cf-46ac-aa6e-78aaf4970545"
      },
      "execution_count": 21,
      "outputs": [
        {
          "output_type": "execute_result",
          "data": {
            "text/html": [
              "<img src=\"https://www.tensorflow.org/images/iris_three_species.jpg\"/>"
            ],
            "text/plain": [
              "<IPython.core.display.Image object>"
            ]
          },
          "metadata": {},
          "execution_count": 21
        }
      ]
    },
    {
      "cell_type": "markdown",
      "source": [
        "From left to right, Iris setosa (by Radomil, CC BY-SA 3.0), Iris versicolor (by Dlanglois, CC BY-SA 3.0), and Iris virginica (by Frank Mayfield, CC BY-SA 2.0). (Image was taken from tensorflow website)"
      ],
      "metadata": {
        "id": "YdxTyWQ3WTlx"
      }
    },
    {
      "cell_type": "code",
      "source": [
        "features = iris.data\n",
        "target = iris.target"
      ],
      "metadata": {
        "id": "83OO85N-XuFp"
      },
      "execution_count": 23,
      "outputs": []
    },
    {
      "cell_type": "markdown",
      "source": [
        "**input features**"
      ],
      "metadata": {
        "id": "8nRX8PeEcIGf"
      }
    },
    {
      "cell_type": "code",
      "source": [
        "# show iris feature names\n",
        "\n",
        "#TODO\n"
      ],
      "metadata": {
        "colab": {
          "base_uri": "https://localhost:8080/"
        },
        "id": "vJ-P1xy-a88C",
        "outputId": "ad341f84-33e8-431f-b212-25af2003d844"
      },
      "execution_count": 24,
      "outputs": [
        {
          "output_type": "stream",
          "name": "stdout",
          "text": [
            "['sepal length (cm)', 'sepal width (cm)', 'petal length (cm)', 'petal width (cm)']\n"
          ]
        }
      ]
    },
    {
      "cell_type": "markdown",
      "source": [
        "There are 4 features in the iris dataset named Sepal, Petal, length, and width. Since the iris dataset contains four features, it is expected to have four columns in the feature matrix. We can confirm this by utilizing `shape` function."
      ],
      "metadata": {
        "id": "_vGxFeplbDuD"
      }
    },
    {
      "cell_type": "code",
      "source": [
        "# show size of feature matrix\n",
        "#TODO"
      ],
      "metadata": {
        "colab": {
          "base_uri": "https://localhost:8080/"
        },
        "id": "l7ZseOuDbl6J",
        "outputId": "a2ea77c3-4f44-439e-e95f-1ddd21b516d1"
      },
      "execution_count": 25,
      "outputs": [
        {
          "output_type": "stream",
          "name": "stdout",
          "text": [
            "(150, 4)\n"
          ]
        }
      ]
    },
    {
      "cell_type": "markdown",
      "source": [
        "**target data**"
      ],
      "metadata": {
        "id": "-UmiZxq6cD_u"
      }
    },
    {
      "cell_type": "code",
      "source": [
        "# show names of target/output in iris dataset\n",
        "#TODO"
      ],
      "metadata": {
        "colab": {
          "base_uri": "https://localhost:8080/"
        },
        "id": "5cTeL37SbLZR",
        "outputId": "6d490b9e-faf9-460d-f875-4ad69087eafb"
      },
      "execution_count": 26,
      "outputs": [
        {
          "output_type": "stream",
          "name": "stdout",
          "text": [
            "['setosa' 'versicolor' 'virginica']\n"
          ]
        }
      ]
    },
    {
      "cell_type": "code",
      "source": [
        "# show size of target\n",
        "#TODO"
      ],
      "metadata": {
        "colab": {
          "base_uri": "https://localhost:8080/"
        },
        "id": "ESCXJC1cbwZv",
        "outputId": "949d563d-355d-4ac5-9ec2-e83b118ffa01"
      },
      "execution_count": 27,
      "outputs": [
        {
          "output_type": "stream",
          "name": "stdout",
          "text": [
            "(150,)\n"
          ]
        }
      ]
    },
    {
      "cell_type": "code",
      "source": [
        "# print target data\n",
        "#TODO"
      ],
      "metadata": {
        "colab": {
          "base_uri": "https://localhost:8080/"
        },
        "id": "7-qiF9CZcSiV",
        "outputId": "a889cff9-7de8-4e2d-8c2f-2260b2ac3429"
      },
      "execution_count": 28,
      "outputs": [
        {
          "output_type": "stream",
          "name": "stdout",
          "text": [
            "[0 0 0 0 0 0 0 0 0 0 0 0 0 0 0 0 0 0 0 0 0 0 0 0 0 0 0 0 0 0 0 0 0 0 0 0 0\n",
            " 0 0 0 0 0 0 0 0 0 0 0 0 0 1 1 1 1 1 1 1 1 1 1 1 1 1 1 1 1 1 1 1 1 1 1 1 1\n",
            " 1 1 1 1 1 1 1 1 1 1 1 1 1 1 1 1 1 1 1 1 1 1 1 1 1 1 2 2 2 2 2 2 2 2 2 2 2\n",
            " 2 2 2 2 2 2 2 2 2 2 2 2 2 2 2 2 2 2 2 2 2 2 2 2 2 2 2 2 2 2 2 2 2 2 2 2 2\n",
            " 2 2]\n"
          ]
        }
      ]
    },
    {
      "cell_type": "markdown",
      "source": [
        "\n",
        "\n",
        "iris species: \n",
        "\n",
        "0 = setosa\n",
        "\n",
        "1 = versicolor\n",
        "\n",
        "2 = virginica"
      ],
      "metadata": {
        "id": "d8cD8cUucffE"
      }
    },
    {
      "cell_type": "markdown",
      "source": [
        "Converting dataset into Dataframe for getting some helpful insights about iris dataset. To perform this we need pandas numpy libraries."
      ],
      "metadata": {
        "id": "LuHs6QRvc0MS"
      }
    },
    {
      "cell_type": "code",
      "source": [
        "#convert iris dataset to a dataframe\n",
        "\n",
        "df = pd.DataFrame(data= np.c_[iris['data'], iris['target']],\n",
        "                  columns= iris['feature_names'] + ['Species'])"
      ],
      "metadata": {
        "id": "BNp4e5Kac0v6"
      },
      "execution_count": 75,
      "outputs": []
    },
    {
      "cell_type": "code",
      "source": [
        "#show head of the dataframe\n",
        "#TODO\n"
      ],
      "metadata": {
        "id": "MhuzlZYUK5HX"
      },
      "execution_count": 77,
      "outputs": []
    },
    {
      "cell_type": "code",
      "source": [
        "#show dataframe description\n",
        "#TODO\n"
      ],
      "metadata": {
        "id": "e9wUyMDyddat"
      },
      "execution_count": 78,
      "outputs": []
    },
    {
      "cell_type": "code",
      "source": [
        "#show dataframe info\n",
        "#TODO"
      ],
      "metadata": {
        "id": "LXMdFD7udn6I"
      },
      "execution_count": 79,
      "outputs": []
    },
    {
      "cell_type": "markdown",
      "source": [
        "Check columns names of dataset:"
      ],
      "metadata": {
        "id": "TifQ1MQwduEy"
      }
    },
    {
      "cell_type": "code",
      "source": [
        "#show dataframe keys\n",
        "#TODO"
      ],
      "metadata": {
        "id": "sHhMzNFndwdG"
      },
      "execution_count": 80,
      "outputs": []
    },
    {
      "cell_type": "markdown",
      "source": [
        "###Visualize Iris data with Python's visualization tools from Pandas, Matplotlib and Seaborn Libraries"
      ],
      "metadata": {
        "id": "2Y6AIOh8d8KB"
      }
    },
    {
      "cell_type": "code",
      "source": [
        "df.Species.value_counts()"
      ],
      "metadata": {
        "colab": {
          "base_uri": "https://localhost:8080/"
        },
        "id": "Yx_EcYaCegnD",
        "outputId": "2b80b2d4-0fa1-4540-9cb8-e2c14e3a2f7d"
      },
      "execution_count": 34,
      "outputs": [
        {
          "output_type": "execute_result",
          "data": {
            "text/plain": [
              "0.0    50\n",
              "1.0    50\n",
              "2.0    50\n",
              "Name: Species, dtype: int64"
            ]
          },
          "metadata": {},
          "execution_count": 34
        }
      ]
    },
    {
      "cell_type": "code",
      "source": [
        "# plot iris features histogram\n",
        "#TODO\n"
      ],
      "metadata": {
        "id": "ilH1nPYgeNKM"
      },
      "execution_count": 81,
      "outputs": []
    },
    {
      "cell_type": "code",
      "source": [
        "# plot data density\n",
        "#TODO\n"
      ],
      "metadata": {
        "id": "xRiur7QDfJjx"
      },
      "execution_count": 82,
      "outputs": []
    },
    {
      "cell_type": "markdown",
      "source": [
        "### Visualize the correlations among feautres"
      ],
      "metadata": {
        "id": "O0adLM5Jip3t"
      }
    },
    {
      "cell_type": "code",
      "source": [
        "plt.figure(figsize=(7,4)) \n",
        "#draws  heatmap with input as the correlation matrix calculted by(df.corr())\n",
        "sns.heatmap(df.corr(),cbar = True, square = True, annot=True, fmt='.2f',annot_kws={'size': 15},cmap='Dark2') \n",
        "\n",
        "#show plot\n",
        "plt.show()"
      ],
      "metadata": {
        "id": "ZWRAkfZaicrV"
      },
      "execution_count": null,
      "outputs": []
    },
    {
      "cell_type": "markdown",
      "source": [
        "Based on the depicted figure, it is evident that Sepal Length and Sepal Width have weak correlations, while Petal Width and Petal Length exhibit strong correlations. This implies that the identification of species can be achieved more accurately using the Petal measurements compared to the Sepal measurements."
      ],
      "metadata": {
        "id": "JpfPRZ85jIWd"
      }
    },
    {
      "cell_type": "markdown",
      "source": [
        "##2.2 Tree-based learning algorithms\n",
        "\n",
        "Tree-based learning algorithms are a widely used and diverse group of non-parametric supervised methods that are effective for both classification and regression tasks. They are characterized by their ability to create decision trees, which are hierarchical structures that make predictions based on a sequence of binary splits. These algorithms are popular due to their flexibility and ability to capture complex relationships in the data without relying on explicit assumptions about the underlying distribution.\n",
        "\n",
        "In this section we will cover how to train, handle, adjust, visualize, and evaluate a number of tree-based models for classification problems.\n"
      ],
      "metadata": {
        "id": "LqFEG-s8RZuY"
      }
    },
    {
      "cell_type": "markdown",
      "source": [
        "##Problem \n",
        "##2.2.1 Training a Decision Tree Classifier\n",
        "Suppose you want to train a classifier using a decision tree. You can use scikit-learn’s DecisionTreeClassifier:"
      ],
      "metadata": {
        "id": "zNVyx2ZWlbc-"
      }
    },
    {
      "cell_type": "code",
      "source": [
        "#import decision tree classifier from scikit\n",
        "#TODO"
      ],
      "metadata": {
        "id": "-v7906dLmUBK"
      },
      "execution_count": 38,
      "outputs": []
    },
    {
      "cell_type": "code",
      "source": [
        "# Create decision tree classifier object with random state=0\n",
        "#TODO"
      ],
      "metadata": {
        "id": "_4yMULLWTqIH"
      },
      "execution_count": 39,
      "outputs": []
    },
    {
      "cell_type": "code",
      "source": [
        "# Train model\n",
        "#TODO"
      ],
      "metadata": {
        "id": "9IASsVrBTtHF"
      },
      "execution_count": 40,
      "outputs": []
    },
    {
      "cell_type": "markdown",
      "source": [
        "**Discussion**\n",
        "\n",
        "Decision tree learners attempt to find a decision rule that produces the greatest decrease in impurity at a node. While there are a number of measurements of impurity, by default DecisionTreeClassifier uses Gini impurity:\n",
        "\n",
        "*G(t) =1 − ∑pi^2*\n",
        "\n",
        "where G(t) is the Gini impurity at node t and pi is the proportion of observations of class c at node t. This process of finding the decision rules that create splits to increase impurity is repeated recursively until all leaf nodes are pure (i.e., contain only one class) or some arbitrary cut-off is reached.\n",
        "In scikit-learn, DecisionTreeClassifier operates like other learning methods; after the model is trained using fit we can use the model to predict the class of an observation:"
      ],
      "metadata": {
        "id": "-X78sN7Wz9uA"
      }
    },
    {
      "cell_type": "code",
      "source": [
        "# Make new observation\n",
        "observation = [[ 5, 4, 3, 2]] \n",
        "\n",
        "# Predict observation's class\n",
        "model.predict(observation)"
      ],
      "metadata": {
        "colab": {
          "base_uri": "https://localhost:8080/"
        },
        "id": "FlUSChcl0Yts",
        "outputId": "19d6c9e2-8b4a-46b2-8483-e10420df2be6"
      },
      "execution_count": 41,
      "outputs": [
        {
          "output_type": "execute_result",
          "data": {
            "text/plain": [
              "array([1])"
            ]
          },
          "metadata": {},
          "execution_count": 41
        }
      ]
    },
    {
      "cell_type": "markdown",
      "source": [
        "We can also see the predicted class probabilities of the observation:"
      ],
      "metadata": {
        "id": "krCoukrK0lYo"
      }
    },
    {
      "cell_type": "code",
      "source": [
        "# View predicted class probabilities for the three classes\n",
        "model.predict_proba(observation)"
      ],
      "metadata": {
        "colab": {
          "base_uri": "https://localhost:8080/"
        },
        "id": "ObHlx6bZ0mC0",
        "outputId": "e028729a-c4d3-41d4-fbf2-d5dd1b2e0e9b"
      },
      "execution_count": 42,
      "outputs": [
        {
          "output_type": "execute_result",
          "data": {
            "text/plain": [
              "array([[0., 1., 0.]])"
            ]
          },
          "metadata": {},
          "execution_count": 42
        }
      ]
    },
    {
      "cell_type": "markdown",
      "source": [
        "Let's Visualize our Decision Tree Model"
      ],
      "metadata": {
        "id": "t3mpLQCwxfwC"
      }
    },
    {
      "cell_type": "code",
      "source": [
        "# Load libraries\n",
        "import pydotplus\n",
        "from IPython.display import Image\n",
        "from sklearn import tree"
      ],
      "metadata": {
        "id": "3C05_ziJxjnX"
      },
      "execution_count": 43,
      "outputs": []
    },
    {
      "cell_type": "code",
      "source": [
        "# Create DOT data\n",
        "dot_data = tree.export_graphviz(decisiontree,\n",
        "                                    out_file=None,\n",
        "                                    feature_names=iris.feature_names,\n",
        "                                    class_names=iris.target_names)\n",
        "# Draw graph\n",
        "graph = pydotplus.graph_from_dot_data(dot_data) \n",
        "\n",
        "# Show graph\n",
        "Image(graph.create_png())\n"
      ],
      "metadata": {
        "id": "PDWkug-Axtig"
      },
      "execution_count": null,
      "outputs": []
    },
    {
      "cell_type": "markdown",
      "source": [
        "**Discussion**\n",
        "\n",
        "One of the key advantages of decision tree classifiers is their interpretability, as the entire trained model can be visualized. This makes decision trees one of the most comprehensible models in the field of machine learning. In our approach, we exported the trained model in DOT format, which is a graph description language, and utilized it to generate the graph visualization.\n",
        "\n",
        "By examining the root node of the decision tree, we can observe the decision rule: if the petal width is less than or equal to 0.8, the left branch is followed; otherwise, the right branch is taken. Additionally, the graph displays the Gini impurity index (0.667), the total number of observations (150), the distribution of observations across each class ([50, 50, 50]), and the predicted class if the decision-making process ended at that node (setosa).\n",
        "\n",
        "It is noteworthy that the learner found that a single decision rule (petal width (cm) <= 0.8) was sufficient to accurately identify all observations belonging to the setosa class at that node. Moreover, by incorporating one more decision rule with the same feature (petal width (cm) <= 1.75), the decision tree achieves correct classification of 144 out of 150 observations. This highlights the significant importance of the petal width feature in the decision-making process."
      ],
      "metadata": {
        "id": "4dmbhDGRzCay"
      }
    },
    {
      "cell_type": "markdown",
      "source": [
        "##2.2.2 Training a Random Forest Classifier\n",
        "\n",
        "In this section, you want to train a classification model using a “forest” of randomized decision trees. TYou can perform this tasks by using scikit-learn’s RandomForestClassifier:"
      ],
      "metadata": {
        "id": "nCOBZlZX0xIL"
      }
    },
    {
      "cell_type": "code",
      "source": [
        "# Load libraries\n",
        "#TODO"
      ],
      "metadata": {
        "id": "R0aHbFiv1RvP"
      },
      "execution_count": 45,
      "outputs": []
    },
    {
      "cell_type": "code",
      "source": [
        " # Create random forest classifier object\n",
        "#TODO"
      ],
      "metadata": {
        "id": "xt-CI23S1U0R"
      },
      "execution_count": 46,
      "outputs": []
    },
    {
      "cell_type": "code",
      "source": [
        "# Train model\n",
        "#TODO"
      ],
      "metadata": {
        "id": "VKdVTj4N1Xh-"
      },
      "execution_count": 47,
      "outputs": []
    },
    {
      "cell_type": "code",
      "source": [
        " # Make new observation\n",
        "observation = [[ 5, 4, 3, 2]]\n",
        "\n",
        "# Predict observation's class\n",
        "#TODO"
      ],
      "metadata": {
        "colab": {
          "base_uri": "https://localhost:8080/"
        },
        "id": "0znZsoXj1deU",
        "outputId": "455f73e1-d668-4228-c68e-ca157bf2c281"
      },
      "execution_count": 48,
      "outputs": [
        {
          "output_type": "execute_result",
          "data": {
            "text/plain": [
              "array([1])"
            ]
          },
          "metadata": {},
          "execution_count": 48
        }
      ]
    },
    {
      "cell_type": "code",
      "source": [
        "# View predicted class probabilities for the three classes\n",
        "#TODO"
      ],
      "metadata": {
        "colab": {
          "base_uri": "https://localhost:8080/"
        },
        "id": "VAYqeSRC1oeQ",
        "outputId": "cdc0090e-791c-4718-b378-27c02bbd7eba"
      },
      "execution_count": 49,
      "outputs": [
        {
          "output_type": "execute_result",
          "data": {
            "text/plain": [
              "array([[0.028, 0.571, 0.401]])"
            ]
          },
          "metadata": {},
          "execution_count": 49
        }
      ]
    },
    {
      "cell_type": "markdown",
      "source": [
        "**Discusion**\n",
        "\n",
        "Overfitting is a common issue with decision trees, where they become overly tailored to the training data. To address this problem, a popular ensemble learning technique called random forest is often used. \n",
        "In a random forest, multiple decision trees are trained, but each tree is trained on a different random sample of observations (selected with replacement) and considers only a subset of features at each node to determine the best split. The predictions of these randomized decision trees are then combined through voting to determine the final predicted class.\n",
        "\n",
        "However, the RandomForestClassifier, being a collection of decision trees rather than a single tree, has certain parameters that are unique to random forests or particularly important.\n",
        "\n",
        "` max_features`: determines the maximum number of features to consider at each node  \n",
        " \n",
        " `random_state`: controls randomness of the sample and not specific to random forest classifier\n",
        "\n",
        " `n_estimators` : determines the number of decision trees to include in the random forest\n",
        " \n",
        "  `n_jobs`: it is often beneficial to utilize all available cores by setting n_jobs=-1, as we are effectively training multiple decision tree models."
      ],
      "metadata": {
        "id": "p_pF6ii42Afa"
      }
    },
    {
      "cell_type": "markdown",
      "source": [
        "###Identifying Important Features in Random Forests\n",
        "\n",
        "To find which features are most important in a random forest model."
      ],
      "metadata": {
        "id": "X0uTxYqK3lMS"
      }
    },
    {
      "cell_type": "code",
      "source": [
        "# Calculate feature importances\n",
        "importances = model.feature_importances_\n",
        "\n",
        "# Sort feature importances in descending order\n",
        "indices = np.argsort(importances)[::-1]\n",
        "\n",
        "# Rearrange feature names so they match the sorted feature importances\n",
        "names = [iris.feature_names[i] for i in indices]"
      ],
      "metadata": {
        "id": "WlAhyIM03zhg"
      },
      "execution_count": 50,
      "outputs": []
    },
    {
      "cell_type": "code",
      "source": [
        "# Create plot\n",
        "plt.figure()\n",
        "\n",
        "# Create plot title\n",
        "plt.title(\"Feature Importance\") \n",
        "\n",
        "# Add bars\n",
        "plt.bar(range(features.shape[1]), importances[indices]) \n",
        "\n",
        "# Add feature names as x-axis labels\n",
        "plt.xticks(range(features.shape[1]), names, rotation=90) \n",
        "\n",
        "# Show plot\n",
        "plt.show()"
      ],
      "metadata": {
        "colab": {
          "base_uri": "https://localhost:8080/",
          "height": 560
        },
        "id": "ihiLqRsd36eJ",
        "outputId": "f0ac0b0a-8666-4291-85bc-3a3be04ec342"
      },
      "execution_count": 51,
      "outputs": [
        {
          "output_type": "display_data",
          "data": {
            "text/plain": [
              "<Figure size 640x480 with 1 Axes>"
            ],
            "image/png": "[encoded data removed]"
          },
          "metadata": {}
        }
      ]
    },
    {
      "cell_type": "markdown",
      "source": [
        "In scikit-learn, classification and regression decision trees and random forests can report the relative importance of each feature using the `feature_importances_` method:"
      ],
      "metadata": {
        "id": "HYuM8Zjs4dbt"
      }
    },
    {
      "cell_type": "code",
      "source": [
        "# View feature importances\n",
        "model.feature_importances_"
      ],
      "metadata": {
        "colab": {
          "base_uri": "https://localhost:8080/"
        },
        "id": "_Ktq9PhI4U0j",
        "outputId": "b05f2242-51d7-4427-9054-9dd9a58ac24b"
      },
      "execution_count": 52,
      "outputs": [
        {
          "output_type": "execute_result",
          "data": {
            "text/plain": [
              "array([0.09792816, 0.02518223, 0.4422498 , 0.43463981])"
            ]
          },
          "metadata": {},
          "execution_count": 52
        }
      ]
    },
    {
      "cell_type": "markdown",
      "source": [
        "###Evaluating Random Forests with Out-of-Bag Errors\n",
        "\n",
        "If you want to evaluate a random forest model without using cross-validation, calculate the model’s out-of-bag score.\n",
        "\n",
        "In random forests, each decision tree is trained using a subset of observations created through bootstrapping. This implies that for every tree, there is a distinct subset of observations that are not used for training that particular tree. These excluded observations are referred to as out-of-bag (OOB) observations. We can utilize these OOB observations as a test set to assess the performance of our random forest.\n",
        "\n",
        "In scikit-learn, we can OOB scores of a random forest by setting `oob_score=True` in the random forest object (i.e., RandomForestClassifier). The score can be retrieved using *oob_score_*."
      ],
      "metadata": {
        "id": "pJqr_5mx7P7D"
      }
    },
    {
      "cell_type": "code",
      "source": [
        "# Create random tree classifier object\n",
        "randomforest = RandomForestClassifier(\n",
        "        random_state=0, n_estimators=1000, oob_score=True, n_jobs=-1)\n",
        "\n",
        "# Train model\n",
        "#TODO\n",
        "\n",
        "# View out-of-bag-error\n",
        "randomforest.oob_score_"
      ],
      "metadata": {
        "colab": {
          "base_uri": "https://localhost:8080/"
        },
        "id": "bup8H25G7Dnr",
        "outputId": "d96ed527-1a26-4fb6-8085-c2c0a7fd1c45"
      },
      "execution_count": 53,
      "outputs": [
        {
          "output_type": "execute_result",
          "data": {
            "text/plain": [
              "0.9533333333333334"
            ]
          },
          "metadata": {},
          "execution_count": 53
        }
      ]
    },
    {
      "cell_type": "markdown",
      "source": [
        "##2.3 K-Nearest Neighbors Classifier\n",
        "\n",
        "The K-Nearest Neighbors classifier (KNN) is one of the simplest yet most commonly used classifiers in supervised machine learning. KNN is often considered a lazy learner; it doesn’t technically train a model to make predictions. Instead an observation is predicted to be the class of that of the largest proportion of the k nearest observations. For example, if an observation with an unknown class is surrounded by an observation of class 1, then the observation is classified as class 1. In this chapter we will explore how to use scikit-learn to create and use a KNN classifier."
      ],
      "metadata": {
        "id": "TVoqT1c6759-"
      }
    },
    {
      "cell_type": "markdown",
      "source": [
        "###Creating a K-Nearest Neighbor Classifier\n",
        "\n"
      ],
      "metadata": {
        "id": "Q71AxM7y8lb4"
      }
    },
    {
      "cell_type": "code",
      "source": [
        " # Load KNN classifier from scikit learn\n",
        "from sklearn.neighbors import KNeighborsClassifier \n",
        "from sklearn.preprocessing import StandardScaler"
      ],
      "metadata": {
        "id": "Ej0S2d1Y8ymG"
      },
      "execution_count": 54,
      "outputs": []
    },
    {
      "cell_type": "code",
      "source": [
        "# Load data \n",
        "iris = datasets.load_iris()\n",
        "X = iris.data\n",
        "y = iris.target"
      ],
      "metadata": {
        "id": "Di9MQ35084F-"
      },
      "execution_count": 55,
      "outputs": []
    },
    {
      "cell_type": "code",
      "source": [
        "# Create standardizer\n",
        "standardizer = StandardScaler() \n",
        "\n",
        "# Standardize features\n",
        "X_std = standardizer.fit_transform(X)\n",
        "\n",
        "# Train a KNN classifier with 5 neighbors\n",
        "knn = KNeighborsClassifier(n_neighbors=5, n_jobs=-1).fit(X_std, y)"
      ],
      "metadata": {
        "id": "KMXQVa7J89Em"
      },
      "execution_count": 56,
      "outputs": []
    },
    {
      "cell_type": "code",
      "source": [
        "# Create two observations\n",
        "new_observations = [[ 0.75, 0.75, 0.75, 0.75], [1, 1, 1, 1]]\n",
        "\n",
        "# Predict the class of two observations\n",
        "#TODO"
      ],
      "metadata": {
        "colab": {
          "base_uri": "https://localhost:8080/"
        },
        "id": "_ODhPG009Cbt",
        "outputId": "8288af46-3dec-47d3-9e60-6f2ca8e72b11"
      },
      "execution_count": 57,
      "outputs": [
        {
          "output_type": "execute_result",
          "data": {
            "text/plain": [
              "array([1, 2])"
            ]
          },
          "metadata": {},
          "execution_count": 57
        }
      ]
    },
    {
      "cell_type": "code",
      "source": [
        "# View probability each observation is one of three classes\n",
        "#TODO"
      ],
      "metadata": {
        "colab": {
          "base_uri": "https://localhost:8080/"
        },
        "id": "SxSnj4AU9krg",
        "outputId": "ed72ba34-d37b-415c-e82a-bbb13b378623"
      },
      "execution_count": 58,
      "outputs": [
        {
          "output_type": "execute_result",
          "data": {
            "text/plain": [
              "array([[0. , 0.6, 0.4],\n",
              "       [0. , 0. , 1. ]])"
            ]
          },
          "metadata": {},
          "execution_count": 58
        }
      ]
    },
    {
      "cell_type": "markdown",
      "source": [
        "**Discussion**\n",
        "\n",
        "In KNN, given an observation, xu, with an unknown target class, the algorithm first identifies the k closest observations (sometimes called x(i)’s neighborhood) based on some distance metric (e.g., Euclidean distance), then these k observations “vote” based on their class, and the class that wins the vote is x(i)’s predicted class. "
      ],
      "metadata": {
        "id": "QTp2yXeN9L_f"
      }
    },
    {
      "cell_type": "markdown",
      "source": [
        "##2.3 Support Vector Machines Classifier\n",
        "\n",
        "Support vector machines (SVM) rely on the concept of hyperplanes to classify data. A hyperplane is a subspace that exists in an n-dimensional space, where n represents the number of dimensions. In simpler terms, it can be visualized as a line in a two-dimensional space or a flat surface in a three-dimensional space. The purpose of a hyperplane in SVM is to maximize the margin between the classes present in the training data. In a two-dimensional scenario with two classes, the hyperplane can be imagined as the widest band or line that separates the two classes.\n",
        "\n",
        "To train a support vector classifier (SVC) to find the hyperplane that maximizes the margins between the classes:"
      ],
      "metadata": {
        "id": "i3sYUjQxChME"
      }
    },
    {
      "cell_type": "code",
      "source": [
        "# Load libraries\n",
        "from sklearn.svm import LinearSVC\n",
        "from sklearn.preprocessing import StandardScaler"
      ],
      "metadata": {
        "id": "n3zfkNNLDF1a"
      },
      "execution_count": 59,
      "outputs": []
    },
    {
      "cell_type": "code",
      "source": [
        "# Load data with only two classes and two features\n",
        "iris = datasets.load_iris()\n",
        "features = iris.data[:100,:2]\n",
        "target = iris.target[:100]"
      ],
      "metadata": {
        "id": "WbSbYGIIDL7L"
      },
      "execution_count": 60,
      "outputs": []
    },
    {
      "cell_type": "code",
      "source": [
        "# Standardize features\n",
        "scaler = StandardScaler()\n",
        "features_standardized = scaler.fit_transform(features)"
      ],
      "metadata": {
        "id": "pZQWhjObDQd3"
      },
      "execution_count": 61,
      "outputs": []
    },
    {
      "cell_type": "code",
      "source": [
        "# Create support vector classifier\n",
        "svc = LinearSVC(C=1.0) \n",
        "\n",
        "# Train model\n",
        "#TODO"
      ],
      "metadata": {
        "id": "ROFO5q3BDUMd"
      },
      "execution_count": 62,
      "outputs": []
    },
    {
      "cell_type": "markdown",
      "source": [
        "**Discussion**\n",
        "\n",
        "scikit-learn’s LinearSVC implements a simple SVC. To get an intuition behind what an SVC is doing, let us plot out the data and hyperplane. While SVCs work well in high dimensions, in our solution we only loaded two features and took a subset of observations so that the data contains only two classes. This will let us visualize the model. Recall that SVC attempts to find the hyperplane—a line when we only have two dimensions—with the maximum margin between the classes. In the following code we plot the two classes on a two-dimensional space, then draw the hyperplane:"
      ],
      "metadata": {
        "id": "TF6cB37RDaoy"
      }
    },
    {
      "cell_type": "code",
      "source": [
        "# Load library\n",
        "from matplotlib import pyplot as plt\n",
        "\n",
        "# Plot data points and color using their class\n",
        "color = [\"black\" if c == 0 else \"lightgrey\" for c in target] \n",
        "plt.scatter(features_standardized[:,0], features_standardized[:,1], c=color)\n",
        "\n",
        "# Create the hyperplane\n",
        "w = svc.coef_[0]\n",
        "a=-w[0]/w[1]\n",
        "xx = np.linspace(-2.5, 2.5)\n",
        "yy = a * xx - (svc.intercept_[0]) / w[1]\n",
        "\n",
        "# Plot the hyperplane\n",
        "plt.plot(xx, yy)\n",
        "plt.axis(\"off\"), plt.show();"
      ],
      "metadata": {
        "colab": {
          "base_uri": "https://localhost:8080/",
          "height": 405
        },
        "id": "R5KeAC35DgX0",
        "outputId": "86f2968e-a8ea-4d4c-b373-6c3e67678e80"
      },
      "execution_count": 63,
      "outputs": [
        {
          "output_type": "display_data",
          "data": {
            "text/plain": [
              "<Figure size 640x480 with 1 Axes>"
            ],
            "image/png": "[encoded data removed]"
          },
          "metadata": {}
        }
      ]
    },
    {
      "cell_type": "markdown",
      "source": [
        "In this graphical representation, the data points belonging to class 0 are depicted as black, while those belonging to class 1 are shown as light gray. The hyperplane serves as the boundary that determines the classification of new observations. More precisely, any observation positioned above the line will be classified as class 0, whereas any observation below the line will be classified as class 1. This can be demonstrated by introducing a new observation in the top-left corner of the graph, indicating that it should be predicted as class 0."
      ],
      "metadata": {
        "id": "tTr7mpoBDzLN"
      }
    },
    {
      "cell_type": "code",
      "source": [
        "# Create new observation\n",
        "new_observation = [[ -2, 3]]\n",
        "\n",
        "# Predict class of new observation\n",
        "#TODO"
      ],
      "metadata": {
        "colab": {
          "base_uri": "https://localhost:8080/"
        },
        "id": "meWL6GNzD1Vd",
        "outputId": "0b4cbecb-7a9b-4cf6-8462-ab7a48e83d4f"
      },
      "execution_count": 64,
      "outputs": [
        {
          "output_type": "execute_result",
          "data": {
            "text/plain": [
              "array([0])"
            ]
          },
          "metadata": {},
          "execution_count": 64
        }
      ]
    },
    {
      "cell_type": "markdown",
      "source": [
        "There are several important points to consider regarding Support Vector Classifiers (SVCs). Firstly, in our illustration, we focused on a binary example with only two classes. However, SVCs are also capable of effectively handling multiple classes. Secondly, as demonstrated in our visualization, the hyperplane of an SVC is inherently linear and not curved. This was acceptable in our example since the data was linearly separable, implying the existence of a hyperplane that could accurately separate the two classes. However, it is crucial to acknowledge that in real-world scenarios, linear separability is seldom encountered."
      ],
      "metadata": {
        "id": "1mwQknw5EFvU"
      }
    },
    {
      "cell_type": "markdown",
      "source": [
        "##2.4 Naive Bayes Classifier\n",
        "\n",
        "The most common type of naive Bayes classifier is the Gaussian naive Bayes. "
      ],
      "metadata": {
        "id": "BAFBYiIDEOzU"
      }
    },
    {
      "cell_type": "code",
      "source": [
        "from sklearn.naive_bayes import GaussianNB"
      ],
      "metadata": {
        "id": "cgZFifWTEdLV"
      },
      "execution_count": 65,
      "outputs": []
    },
    {
      "cell_type": "code",
      "source": [
        "# Load data\n",
        "iris = datasets.load_iris()\n",
        "features = iris.data\n",
        "target = iris.target"
      ],
      "metadata": {
        "id": "cVearDYvEfUB"
      },
      "execution_count": 66,
      "outputs": []
    },
    {
      "cell_type": "code",
      "source": [
        "# Create Gaussian Naive Bayes object\n",
        "classifer = GaussianNB() \n",
        "\n",
        "# Train model\n",
        "#TODO"
      ],
      "metadata": {
        "id": "czyfzDY3Ej96"
      },
      "execution_count": 67,
      "outputs": []
    },
    {
      "cell_type": "markdown",
      "source": [
        "In scikit-learn, we train a Gaussian naive Bayes like any other model using fit, and in turn can then make predictions about the class of an observation:"
      ],
      "metadata": {
        "id": "AiANpbJ9E_DN"
      }
    },
    {
      "cell_type": "code",
      "source": [
        "# Create new observation\n",
        "new_observation = [[ 4, 4, 4, 0.4]] \n",
        "\n",
        "# Predict class\n",
        "#TODO"
      ],
      "metadata": {
        "colab": {
          "base_uri": "https://localhost:8080/"
        },
        "id": "Lb1KzMw2FCiM",
        "outputId": "155f6026-b38f-4027-c96b-123de955bb4d"
      },
      "execution_count": 68,
      "outputs": [
        {
          "output_type": "execute_result",
          "data": {
            "text/plain": [
              "array([1])"
            ]
          },
          "metadata": {},
          "execution_count": 68
        }
      ]
    },
    {
      "cell_type": "code",
      "source": [
        "classifer.predict_proba(new_observation)"
      ],
      "metadata": {
        "colab": {
          "base_uri": "https://localhost:8080/"
        },
        "id": "YThBXoIgFROO",
        "outputId": "d407a76e-5d5d-4411-c859-c5e332a03425"
      },
      "execution_count": 69,
      "outputs": [
        {
          "output_type": "execute_result",
          "data": {
            "text/plain": [
              "array([[1.34715602e-38, 9.99949727e-01, 5.02727760e-05]])"
            ]
          },
          "metadata": {},
          "execution_count": 69
        }
      ]
    },
    {
      "cell_type": "markdown",
      "source": [
        "If you are intersted in visualizing the KNN model foloow the [Sample usage of Nearest Neighbors classification](https://scikit-learn.org/stable/auto_examples/neighbors/plot_classification.html), from scikit learn website. It will plot the decision boundaries for each class."
      ],
      "metadata": {
        "id": "BnnBB8bUGa3c"
      }
    },
    {
      "cell_type": "code",
      "source": [],
      "metadata": {
        "id": "NrQ5y0dQG9Aj"
      },
      "execution_count": 69,
      "outputs": []
    },
    {
      "cell_type": "markdown",
      "source": [],
      "metadata": {
        "id": "srEUON7iG9Sd"
      }
    }
  ]
}