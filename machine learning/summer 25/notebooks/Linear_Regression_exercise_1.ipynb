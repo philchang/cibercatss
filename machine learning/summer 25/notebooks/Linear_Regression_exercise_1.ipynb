{
 "cells": [
  {
   "cell_type": "markdown",
   "id": "a86d518c",
   "metadata": {},
   "source": [
    "# Linear Regression from Scratch\n",
    "This notebook walks through a beginner-friendly implementation of linear regression using Python and NumPy."
   ]
  },
  {
   "cell_type": "markdown",
   "id": "07a7e965",
   "metadata": {},
   "source": [
    "## Step 1: Generate Synthetic Dataset\n",
    "We simulate a dataset where the true relationship is linear with some noise added."
   ]
  },
  {
   "cell_type": "code",
   "execution_count": null,
   "id": "a87a1a29",
   "metadata": {},
   "outputs": [],
   "source": [
    "import numpy as np\n",
    "import matplotlib.pyplot as plt\n",
    "from sklearn.metrics import mean_squared_error, r2_score\n",
    "\n",
    "# Generate data\n",
    "np.random.seed(0)\n",
    "X = np.random.rand(50) * 10\n",
    "true_slope = 2\n",
    "true_intercept = 1\n",
    "noise = np.random.randn(50) * 2\n",
    "y = true_slope * X + true_intercept + noise"
   ]
  },
  {
   "cell_type": "markdown",
   "id": "19a800c5",
   "metadata": {},
   "source": [
    "## Step 2: Compute Slope and Intercept\n",
    "We compute the best-fit line using the closed-form solution of linear regression."
   ]
  },
  {
   "cell_type": "code",
   "execution_count": null,
   "id": "7167df4e",
   "metadata": {},
   "outputs": [],
   "source": [
    "x_mean = np.mean(X)\n",
    "y_mean = np.mean(y)\n",
    "\n",
    "numerator = np.sum((X - x_mean) * (y - y_mean))\n",
    "denominator = np.sum((X - x_mean)**2)\n",
    "w = numerator / denominator\n",
    "b = y_mean - w * x_mean"
   ]
  },
  {
   "cell_type": "markdown",
   "id": "d6dbfd6e",
   "metadata": {},
   "source": [
    "## Step 3: Make Predictions\n",
    "We use the learned slope and intercept to predict values for X."
   ]
  },
  {
   "cell_type": "code",
   "execution_count": null,
   "id": "5aaea746",
   "metadata": {},
   "outputs": [],
   "source": [
    "y_pred = w * X + b"
   ]
  },
  {
   "cell_type": "markdown",
   "id": "6476d127",
   "metadata": {},
   "source": [
    "## Step 4: Plot the Results with Error Lines\n",
    "We visualize the actual data, the predicted line, and the error lines between them."
   ]
  },
  {
   "cell_type": "code",
   "execution_count": null,
   "id": "b1de1325",
   "metadata": {},
   "outputs": [],
   "source": [
    "plt.figure(figsize=(10, 6))\n",
    "plt.scatter(X, y, label='Actual data')\n",
    "plt.plot(X, y_pred, color='red', linewidth=2, label='Prediction line')\n",
    "for i in range(len(X)):\n",
    "    plt.plot([X[i], X[i]], [y[i], y_pred[i]], color='gray', linestyle='--', linewidth=0.5)\n",
    "plt.xlabel(\"X\")\n",
    "plt.ylabel(\"y\")\n",
    "plt.title(\"Linear Regression with Error Lines\")\n",
    "plt.legend()\n",
    "plt.grid(True)\n",
    "plt.tight_layout()\n",
    "plt.show()"
   ]
  },
  {
   "cell_type": "markdown",
   "id": "2af6ad89",
   "metadata": {},
   "source": [
    "## Step 5: Evaluate the Model\n",
    "We use Mean Squared Error (MSE) and R-squared (R²) to evaluate the performance."
   ]
  },
  {
   "cell_type": "code",
   "execution_count": null,
   "id": "5db1107d",
   "metadata": {},
   "outputs": [],
   "source": [
    "mse = mean_squared_error(y, y_pred)\n",
    "r2 = r2_score(y, y_pred)\n",
    "\n",
    "print(f\" Learned slope (w): {w:.2f}\")\n",
    "print(f\" Learned intercept (b): {b:.2f}\")\n",
    "print(f\" Mean Squared Error (MSE): {mse:.2f}\")\n",
    "print(f\" R-squared (R²): {r2:.2f}\")"
   ]
  },
  {
   "cell_type": "markdown",
   "id": "170eefa2",
   "metadata": {},
   "source": [
    "\n",
    "## 🎨 Creative Exercise – Regression Artist\n",
    "\n",
    "Let's make regression fun and visual! In this exercise, you will become a **Regression Artist**:\n",
    "\n",
    "### 🎯 Your Goal:\n",
    "Design a dataset that makes your linear regression model perform *poorly* — even though it **looks linear** at a glance.\n",
    "\n",
    "You can control:\n",
    "- The slope (`w`)\n",
    "- The intercept (`b`)\n",
    "- The noise level (`noise_scale`)\n",
    "\n",
    "### 🔍 Explore:\n",
    "- How do noise and outliers affect the model?\n",
    "- What happens to the Mean Squared Error and R² score?\n"
   ]
  }
 ],
 "metadata": {
  "kernelspec": {
   "display_name": "Python 3 (ipykernel)",
   "language": "python",
   "name": "python3"
  },
  "language_info": {
   "codemirror_mode": {
    "name": "ipython",
    "version": 3
   },
   "file_extension": ".py",
   "mimetype": "text/x-python",
   "name": "python",
   "nbconvert_exporter": "python",
   "pygments_lexer": "ipython3",
   "version": "3.11.5"
  }
 },
 "nbformat": 4,
 "nbformat_minor": 5
}
