{
 "cells": [
  {
   "cell_type": "markdown",
   "id": "0c2903d6-57e6-4ae7-87f8-a575afb13c04",
   "metadata": {},
   "source": [
    "## Wine Quality Classification\n",
    "Two datasets are included, related to red and white vinho verde wine samples, from the north of Portugal. The goal is to model wine quality based on physicochemical tests.\n",
    "\n",
    "Download the datasset from: https://www.kaggle.com/code/anatpeled/multi-class-classification-for-wine-quality\n"
   ]
  },
  {
   "cell_type": "code",
   "execution_count": null,
   "id": "8e5545c8-4c4f-4458-ad16-d5d748a545bd",
   "metadata": {
    "tags": []
   },
   "outputs": [],
   "source": [
    "from sklearn.model_selection import train_test_split\n",
    "from sklearn.preprocessing import StandardScaler\n",
    "from sklearn.linear_model import LogisticRegression\n",
    "from sklearn.neighbors import KNeighborsClassifier\n",
    "from sklearn.ensemble import RandomForestClassifier\n",
    "from xgboost import XGBClassifier\n",
    "from sklearn.metrics import classification_report, confusion_matrix, accuracy_score\n",
    "import pandas as pd\n",
    "import matplotlib.pyplot as plt\n",
    "import seaborn as sns\n"
   ]
  },
  {
   "cell_type": "code",
   "execution_count": null,
   "id": "e5749b63-dcb8-4e6a-9805-833ab0610b01",
   "metadata": {
    "tags": []
   },
   "outputs": [],
   "source": [
    "path = 'winequalityN.csv'\n",
    "wine_data = pd.read_csv(path)\n"
   ]
  },
  {
   "cell_type": "code",
   "execution_count": null,
   "id": "bae51680-40aa-4ec5-853e-21ab738813eb",
   "metadata": {
    "tags": []
   },
   "outputs": [],
   "source": [
    "\n",
    "# Display the first few rows\n",
    "print(\"First few rows of the dataset:\")\n",
    "wine_data.head()"
   ]
  },
  {
   "cell_type": "code",
   "execution_count": null,
   "id": "c7f2e94a-0fb4-4ea2-9dd0-c346114e3097",
   "metadata": {
    "tags": []
   },
   "outputs": [],
   "source": [
    "wine_data.describe()"
   ]
  },
  {
   "cell_type": "code",
   "execution_count": null,
   "id": "fddfd3c9-828d-4f97-8c9c-60ba04b74b3a",
   "metadata": {
    "tags": []
   },
   "outputs": [],
   "source": [
    "wine_data.info()"
   ]
  },
  {
   "cell_type": "code",
   "execution_count": null,
   "id": "31023338-bcd5-4f1a-a029-5da5ade5c918",
   "metadata": {
    "tags": []
   },
   "outputs": [],
   "source": [
    "wine_data.duplicated().sum()"
   ]
  },
  {
   "cell_type": "code",
   "execution_count": null,
   "id": "7c48d73f-bf7d-4c0f-a49f-b5c5f29d632d",
   "metadata": {
    "tags": []
   },
   "outputs": [],
   "source": [
    "wine_data['type'].loc[wine_data.duplicated()==1].value_counts()"
   ]
  },
  {
   "cell_type": "markdown",
   "id": "d2d41e3e-b674-432d-92a0-29729f5eb866",
   "metadata": {},
   "source": [
    "### Handle Duplicate Data"
   ]
  },
  {
   "cell_type": "code",
   "execution_count": null,
   "id": "3883c882-2fe6-4cc4-9f6b-3797d9fac1b1",
   "metadata": {
    "tags": []
   },
   "outputs": [],
   "source": [
    "# Check for duplicates\n",
    "#TODO\n"
   ]
  },
  {
   "cell_type": "code",
   "execution_count": null,
   "id": "29faf534-d6ea-4ce4-9d7c-de5c6622c090",
   "metadata": {},
   "outputs": [],
   "source": []
  },
  {
   "cell_type": "code",
   "execution_count": null,
   "id": "c4c2e761-b121-428c-a834-fdda24ba6e52",
   "metadata": {
    "tags": []
   },
   "outputs": [],
   "source": [
    "# Check for missing values in the dataset\n",
    "#TODO\n"
   ]
  },
  {
   "cell_type": "code",
   "execution_count": null,
   "id": "0311971f-c46e-4a6d-8af4-72c5bc287f22",
   "metadata": {
    "tags": []
   },
   "outputs": [],
   "source": [
    "# Drop rows with any missing values\n",
    "#TODO\n"
   ]
  },
  {
   "cell_type": "markdown",
   "id": "c88c56a0-f2eb-4bff-9e14-5faa6400132f",
   "metadata": {
    "tags": []
   },
   "source": [
    "### Exploratory data analysis\n"
   ]
  },
  {
   "cell_type": "markdown",
   "id": "4c4ec5ad-93cc-42e7-a2e8-ee346d877868",
   "metadata": {},
   "source": [
    "### Type"
   ]
  },
  {
   "cell_type": "code",
   "execution_count": null,
   "id": "3d9084d2-9a2c-43ba-bafa-5810d549b858",
   "metadata": {
    "tags": []
   },
   "outputs": [],
   "source": [
    "# View unique types in the dataset\n",
    "#TODO"
   ]
  },
  {
   "cell_type": "markdown",
   "id": "e24e2971-7e06-4273-bbdc-10dc1edd9d80",
   "metadata": {},
   "source": [
    "This is the only categorical feature in the dataset, except for the target. There are two types of wines - red wine and white wine.\n"
   ]
  },
  {
   "cell_type": "code",
   "execution_count": null,
   "id": "a6f7f455-5918-4160-896e-c511842992a0",
   "metadata": {},
   "outputs": [],
   "source": []
  },
  {
   "cell_type": "code",
   "execution_count": null,
   "id": "d6adc944-f62b-457e-bed7-c102f4455ee5",
   "metadata": {
    "tags": []
   },
   "outputs": [],
   "source": [
    "#Setting Up the Plot\n",
    "fig, ax = plt.subplots(figsize=(12,4))\n",
    "\n",
    "#Display Options for Data Formatting\n",
    "pd.options.display.float_format = '{:,.2f}'.format\n",
    "\n",
    "#Preparing the Data for Plotting\n",
    "bar_chart = df.groupby(['type','quality'])['quality'].count().unstack('type')\n",
    "\n",
    "#Normalization: (bar_chart.T / bar_chart.T.sum()).T calculates the percentage of each wine type\n",
    "#within each quality level by dividing the counts by the total for each row (i.e., quality level).\n",
    "bar_chart= (bar_chart.T/bar_chart.T.sum()).T\n",
    "\n",
    "#Plotting the Stacked Bar Chart\n",
    "ax = bar_chart.plot(kind='bar', stacked=True, color=['r','w'], edgecolor='black', ax=ax)\n",
    "\n",
    "#Adding Percentage Labels\n",
    "labels = []\n",
    "for j in bar_chart.columns:\n",
    "    for i in bar_chart.index:\n",
    "          label = str('{0:.2%}'.format(bar_chart.loc[i][j]))\n",
    "          labels.append(label)\n",
    "\n",
    "#Positioning the Labels on the Plot\n",
    "patches = ax.patches\n",
    "\n",
    "for label, rect in zip(labels, patches):\n",
    "    width = rect.get_width()\n",
    "    if width > 0:\n",
    "        x = rect.get_x()\n",
    "        y = rect.get_y()\n",
    "        height = rect.get_height()\n",
    "        ax.text(x + width/2., y + height/2., label, ha='center', va='center', color='black')\n",
    "\n",
    "#Customizing the Axis Labels and Legend\n",
    "ax.set_xticklabels(labels=ax.get_xticklabels(), rotation=0)\n",
    "ax.set_yticklabels(labels='')\n",
    "ax.set_ylabel('% of records')\n",
    "plt.legend(bbox_to_anchor = (1, 1.01), edgecolor='black')\n",
    "plt.show()"
   ]
  },
  {
   "cell_type": "markdown",
   "id": "ffe83ffa-4367-4ed8-8458-6a25ca87e729",
   "metadata": {},
   "source": [
    "A **pie** chart to show the distribution of red and white wines in the dataset. "
   ]
  },
  {
   "cell_type": "code",
   "execution_count": null,
   "id": "300184fb-1f8e-4dcc-abbc-b675e5f1e4fe",
   "metadata": {
    "tags": []
   },
   "outputs": [],
   "source": [
    "#Grouping and Counting Wine Types\n",
    "data = df.groupby('type')['quality'].count()\n",
    "\n",
    "#Setting Up the Plot\n",
    "fig, ax = plt.subplots(figsize=[10,6])\n",
    "\n",
    "#Defining Labels\n",
    "labels = ['red','white']\n",
    "\n",
    "#Creating the Pie Chart\n",
    "ax = plt.pie(x=data, autopct=\"%.1f%%\", explode=[0.05]*2, labels=labels, colors=['darkred','white'],\n",
    "             wedgeprops={\"edgecolor\":\"black\"},pctdistance=0.5)\n",
    "plt.show()"
   ]
  },
  {
   "cell_type": "markdown",
   "id": "f4238587-19b3-4f6a-bc14-a3e4d70cc017",
   "metadata": {},
   "source": [
    "A **violin plot** to show the distribution of wine quality ratings for both red and white wines."
   ]
  },
  {
   "cell_type": "code",
   "execution_count": null,
   "id": "7cffb54c-c6fc-4305-b7d7-fa6b8884b3bb",
   "metadata": {
    "tags": []
   },
   "outputs": [],
   "source": [
    "#Setting Up the Figure\n",
    "fig, ax = plt.subplots(figsize=(10,5))\n",
    "\n",
    "#Defining Colors\n",
    "colors = ['w', 'r']\n",
    "\n",
    "#Setting the Color Palette\n",
    "sns.set_palette(sns.color_palette(colors))\n",
    "\n",
    "#Creating the Violin Plot\n",
    "ax = sns.violinplot(data=df ,x=df.type ,y=df.quality)\n",
    "\n",
    "#Adding Labels\n",
    "ax.set_ylabel('Quality', fontsize=14)\n",
    "\n",
    "#Adjusting the Layout\n",
    "plt.tight_layout()"
   ]
  },
  {
   "cell_type": "markdown",
   "id": "4b7fa752-6c90-49ba-985c-bc4ca7718c1f",
   "metadata": {},
   "source": [
    "The plot shows the distribution of quality ratings for both red and white wines:\n",
    "\n",
    "- The white violin (for white wine) is on the left, and the red violin (for red wine) is on the right.\n",
    "- The distribution shape of each wine type shows the concentration of quality ratings. For example:\n",
    "\n",
    "    If the violin plot for white wine is widest around a quality rating of 5 or 6, it indicates that most white wines have these quality ratings.\n",
    "\n",
    "    Similarly, red wines are likely concentrated around certain quality levels depending on where the red violin plot is widest."
   ]
  },
  {
   "cell_type": "markdown",
   "id": "3409e029-2e5b-40c8-b379-8b727baec98a",
   "metadata": {},
   "source": [
    "Understanding the Target (Wine Quality Ratings)"
   ]
  },
  {
   "cell_type": "code",
   "execution_count": null,
   "id": "61d5c4de-edb2-42e4-8406-ad608bc5053d",
   "metadata": {
    "tags": []
   },
   "outputs": [],
   "source": [
    "# View unique values in the quality column\n",
    "#TODO\n"
   ]
  },
  {
   "cell_type": "code",
   "execution_count": null,
   "id": "6b24b5cb-46de-4fed-b31c-cc4648c81a59",
   "metadata": {
    "tags": []
   },
   "outputs": [],
   "source": [
    "# Checking the distribution of wine quality ratings \n",
    "# to understand the frequency of each wine quality rating and observe if there is an imbalance.\n",
    "\n",
    "#TODO\n",
    "\n",
    "# value_counts() will display the count of each unique value in the quality column, \n",
    "# which helps you understand how common each rating is in the dataset."
   ]
  },
  {
   "cell_type": "markdown",
   "id": "4892d74c-4fb1-40b5-ab85-71599877d763",
   "metadata": {},
   "source": [
    "This output indicates:\n",
    "\n",
    "Imbalance: Quality ratings of 5 and 6 are most common, while ratings of 3 and 8 are rare.\n",
    "Implication: If you’re building a classification model, it may **struggle to accurately predict the minority classes** due to this imbalance. This will lead to discussions on resampling methods or class weighting to improve performance on imbalanced classes."
   ]
  },
  {
   "cell_type": "code",
   "execution_count": null,
   "id": "4003897b-6b66-4f86-b1f4-7a866d1a2f11",
   "metadata": {
    "tags": []
   },
   "outputs": [],
   "source": [
    "# Print the lowest and highest quality ratings\n",
    "#TODO\n",
    "\n",
    "print(\"Lowest wine quality rating:\", lowest_quality)\n",
    "print(\"Highest wine quality rating:\", highest_quality)\n"
   ]
  },
  {
   "cell_type": "markdown",
   "id": "e641413f-6017-46dc-a20e-5119426af1d7",
   "metadata": {},
   "source": [
    "### Visualizing the Distribution of the Target \n",
    "Let's use a plot to visually assess the distribution of wine quality ratings."
   ]
  },
  {
   "cell_type": "code",
   "execution_count": null,
   "id": "ae287220-7ad5-4944-9b26-4b1cea38bfcc",
   "metadata": {
    "tags": []
   },
   "outputs": [],
   "source": [
    "import seaborn as sns\n",
    "import matplotlib.pyplot as plt\n",
    "\n",
    "# Plot the distribution of quality ratings\n",
    "plt.figure(figsize=(10, 6))\n",
    "sns.countplot(data=wine_data, x='quality', palette='viridis')\n",
    "plt.title(\"Distribution of Wine Quality Ratings\")\n",
    "plt.xlabel(\"Quality\")\n",
    "plt.ylabel(\"Count\")\n",
    "plt.show()\n",
    "\n",
    "# A count plot makes it easy to see if certain ratings are more common than others. \n",
    "# This visualization is particularly helpful for identifying any imbalances in the quality ratings, \n",
    "# which is useful for discussions on class imbalance in machine learning."
   ]
  },
  {
   "cell_type": "markdown",
   "id": "e2c95960-0b28-4da4-a4c8-48b1f3dbe80a",
   "metadata": {},
   "source": [
    "### Feature Exploration "
   ]
  },
  {
   "cell_type": "markdown",
   "id": "5345ae92-332b-4b73-a475-26db7aaef1b7",
   "metadata": {},
   "source": [
    "### Visualize Alcohol vs. Quality\n",
    "What is the relationship between individual alcohol values and quality ratings?\n"
   ]
  },
  {
   "cell_type": "code",
   "execution_count": null,
   "id": "091b6001-4c18-4dc0-bed6-e90e3107de65",
   "metadata": {
    "tags": []
   },
   "outputs": [],
   "source": [
    "# Calculate Correlation: Quantify the Relationship Between Alcohol and Quality\n",
    "# Calculate the correlation between alcohol content and quality\n",
    "\n",
    "c#TODO\n",
    "\n",
    "print(\"Correlation between Alcohol Content and Wine Quality:\", correlation)\n"
   ]
  },
  {
   "cell_type": "code",
   "execution_count": null,
   "id": "a2b7a880-886b-4197-bf89-f030391ce55d",
   "metadata": {
    "tags": []
   },
   "outputs": [],
   "source": [
    "# Convert the 'type' column from categorical to numerical, keeping both categories\n",
    "#TODO\n"
   ]
  },
  {
   "cell_type": "code",
   "execution_count": null,
   "id": "edf6ad58-57ba-44d7-9911-bf90ee00dcd2",
   "metadata": {
    "tags": []
   },
   "outputs": [],
   "source": [
    "#all correlation\n",
    "#TODO"
   ]
  },
  {
   "cell_type": "code",
   "execution_count": null,
   "id": "d989cafc-bffe-4896-aa30-056e1f123dcd",
   "metadata": {
    "tags": []
   },
   "outputs": [],
   "source": [
    "# Calculate the correlation matrix\n",
    "correlation_matrix = wine_data.corr()\n",
    "\n",
    "# Plot the heatmap\n",
    "plt.figure(figsize=(12, 10))\n",
    "sns.heatmap(correlation_matrix, annot=True, cmap='coolwarm', linewidths=0.5, vmax=1, vmin=-1)\n",
    "plt.title(\"Correlation Heatmap of Wine Quality Dataset\")\n",
    "plt.show()\n"
   ]
  },
  {
   "cell_type": "markdown",
   "id": "0219b276-7f91-490e-a587-de736f52dc55",
   "metadata": {},
   "source": [
    "**Practical Recommendation:** Start with All Features and Use Regularization or Feature Importance"
   ]
  },
  {
   "cell_type": "markdown",
   "id": "3321253a-538f-4ebc-9366-5ef25ce8dc46",
   "metadata": {},
   "source": [
    "## Prepare the Data\n",
    "Separate features and target: The quality column is the target, and all other columns are features.\n",
    "- Train-test split: Split the data into training and testing sets.\n",
    "- Feature Scaling: Scale the features, as KNN and Logistic Regression are sensitive to feature magnitudes."
   ]
  },
  {
   "cell_type": "code",
   "execution_count": null,
   "id": "7e68bfa3-5bdb-4703-9de2-6329a795499d",
   "metadata": {
    "tags": []
   },
   "outputs": [],
   "source": [
    "from sklearn.model_selection import train_test_split\n",
    "from sklearn.preprocessing import StandardScaler\n",
    "\n",
    "#TODO\n"
   ]
  },
  {
   "cell_type": "markdown",
   "id": "84650493-7b95-466b-9dad-660aeaf6274c",
   "metadata": {},
   "source": [
    "### Train and Evaluate Models\n"
   ]
  },
  {
   "cell_type": "code",
   "execution_count": null,
   "id": "9c6a4b56-55da-49d3-995f-4483aaec25b6",
   "metadata": {
    "tags": []
   },
   "outputs": [],
   "source": [
    "import warnings\n",
    "\n",
    "warnings.filterwarnings('ignore')\n"
   ]
  },
  {
   "cell_type": "markdown",
   "id": "dedd2022-6115-4f06-b858-d27456535980",
   "metadata": {},
   "source": [
    "We first, define a function to evaluate each model for consistency:"
   ]
  },
  {
   "cell_type": "code",
   "execution_count": null,
   "id": "bb4c4c0f-7138-47f9-b0c1-96bbc372e858",
   "metadata": {
    "tags": []
   },
   "outputs": [],
   "source": [
    "#a function for evaluation\n",
    "#TODO\n"
   ]
  },
  {
   "cell_type": "markdown",
   "id": "61d0c3ef-5a0e-4a3e-a8fc-dac19b94a19a",
   "metadata": {},
   "source": [
    "**Logistic Regression**"
   ]
  },
  {
   "cell_type": "code",
   "execution_count": null,
   "id": "1dd849f3-890a-4db3-b0cf-21cf4203090c",
   "metadata": {
    "tags": []
   },
   "outputs": [],
   "source": [
    "#TODO\n"
   ]
  },
  {
   "cell_type": "markdown",
   "id": "7fca7474-2760-4a4f-af4a-be46fe0a2960",
   "metadata": {},
   "source": [
    "**K-Nearest Neighbors**"
   ]
  },
  {
   "cell_type": "code",
   "execution_count": null,
   "id": "4974a331-19e5-4e7a-978f-98dfaef79b47",
   "metadata": {
    "tags": []
   },
   "outputs": [],
   "source": [
    "#TODO\n"
   ]
  },
  {
   "cell_type": "markdown",
   "id": "91f97b77-e73c-489a-aa5e-095d8aa2a2e0",
   "metadata": {},
   "source": [
    "**Random Forest**"
   ]
  },
  {
   "cell_type": "code",
   "execution_count": null,
   "id": "af399aa9-4fe3-4594-94a5-ce49df3b4456",
   "metadata": {
    "tags": []
   },
   "outputs": [],
   "source": [
    "#TODO\n"
   ]
  },
  {
   "cell_type": "markdown",
   "id": "26b1f0fa-f320-4f5c-bebf-ad87d7d946f7",
   "metadata": {},
   "source": [
    "## Grid search"
   ]
  },
  {
   "cell_type": "markdown",
   "id": "02edac11-aaed-4e10-b8e6-6d59c7f69853",
   "metadata": {},
   "source": [
    "https://scikit-learn.org/0.15/modules/grid_search.html"
   ]
  },
  {
   "cell_type": "code",
   "execution_count": null,
   "id": "125ea7f8-aa10-4f85-979f-de96f30dfc73",
   "metadata": {},
   "outputs": [],
   "source": [
    "from sklearn.model_selection import GridSearchCV"
   ]
  },
  {
   "cell_type": "markdown",
   "id": "c823b5f6-8404-4c17-821b-0a9c1dcd1886",
   "metadata": {},
   "source": [
    "**Define the Hyperparameter Grids**\n",
    "\n",
    "Set up the parameter grids for each model"
   ]
  },
  {
   "cell_type": "code",
   "execution_count": null,
   "id": "0284af3f-70c9-4f45-862f-497d75d796ae",
   "metadata": {
    "tags": []
   },
   "outputs": [],
   "source": [
    "# Logistic Regression parameter grid\n",
    "param_grid_log_reg = [\n",
    "    {\n",
    "        'penalty': ['l1', 'l2'],\n",
    "        'C': [0.01, 0.1, 1, 10, 100],\n",
    "        'solver': ['liblinear'],  # Compatible with 'l1' and 'l2' penalties\n",
    "        'max_iter': [1000, 2000]\n",
    "    },\n",
    "    {\n",
    "        'penalty': ['l2'],\n",
    "        'C': [0.01, 0.1, 1, 10, 100],\n",
    "        'solver': ['lbfgs', 'newton-cg', 'sag'],  # Compatible only with 'l2'\n",
    "        'max_iter': [500, 1000]\n",
    "    },\n",
    "    {\n",
    "        'penalty': ['elasticnet'],\n",
    "        'C': [0.01, 0.1, 1, 10, 100],\n",
    "        'solver': ['saga'],  # 'saga' is required for 'elasticnet'\n",
    "        'l1_ratio': [0.1, 0.5, 0.9],  # Only include l1_ratio for elasticnet\n",
    "        'max_iter': [500, 1000]\n",
    "    }\n",
    "]\n",
    "\n",
    "\n",
    "# K-Nearest Neighbors parameter grid\n",
    "param_grid_knn = {\n",
    "    'n_neighbors': [3, 5, 7, 9],\n",
    "    'weights': ['uniform', 'distance'],\n",
    "    'p': [1, 2]  # 1: Manhattan distance, 2: Euclidean distance\n",
    "}\n",
    "\n",
    "# Random Forest parameter grid\n",
    "param_grid_rf = {\n",
    "    'n_estimators': [50, 100, 200],\n",
    "    'max_depth': [None, 10, 20, 30],\n",
    "    'min_samples_split': [2, 5, 10],\n",
    "    'min_samples_leaf': [1, 2, 4],\n",
    "    'class_weight': ['balanced', 'balanced_subsample']\n",
    "}\n"
   ]
  },
  {
   "cell_type": "markdown",
   "id": "af0f6d16-01cc-4623-b323-55c6598e4921",
   "metadata": {},
   "source": [
    "**Set up GridSearchCV for Each Model**\n",
    "\n",
    "Run the grid search for each model with cross-validation."
   ]
  },
  {
   "cell_type": "code",
   "execution_count": null,
   "id": "2d5dc872-ed12-40a8-9ff2-2466dff307b6",
   "metadata": {
    "tags": []
   },
   "outputs": [],
   "source": [
    "#Logistic Regression\n",
    "\n",
    "log_reg = LogisticRegression(random_state=42)\n",
    "grid_search_log_reg = GridSearchCV(log_reg, param_grid_log_reg, cv=5, scoring='accuracy', n_jobs=-1, verbose=2)\n",
    "grid_search_log_reg.fit(X_train_scaled, y_train)\n",
    "\n",
    "print(\"Best Parameters for Logistic Regression:\", grid_search_log_reg.best_params_)\n",
    "print(\"Best Cross-Validation Accuracy for Logistic Regression:\", grid_search_log_reg.best_score_)\n"
   ]
  },
  {
   "cell_type": "code",
   "execution_count": null,
   "id": "a57d02f6-897a-48f9-8bd3-b6d5a5748ac7",
   "metadata": {
    "tags": []
   },
   "outputs": [],
   "source": [
    "#K-Nearest Neighbors\n",
    "knn = KNeighborsClassifier()\n",
    "grid_search_knn = GridSearchCV(knn, param_grid_knn, cv=5, scoring='accuracy', n_jobs=-1, verbose=2)\n",
    "grid_search_knn.fit(X_train_scaled, y_train)\n",
    "\n",
    "print(\"Best Parameters for KNN:\", grid_search_knn.best_params_)\n",
    "print(\"Best Cross-Validation Accuracy for KNN:\", grid_search_knn.best_score_)\n"
   ]
  },
  {
   "cell_type": "code",
   "execution_count": null,
   "id": "ebb41b00-805a-4554-8e4f-40c9e93d6621",
   "metadata": {
    "tags": []
   },
   "outputs": [],
   "source": [
    "#Random Forest\n",
    "rf = RandomForestClassifier(random_state=42)\n",
    "grid_search_rf = GridSearchCV(rf, param_grid_rf, cv=5, scoring='accuracy', n_jobs=-1, verbose=2)\n",
    "grid_search_rf.fit(X_train_scaled, y_train)\n",
    "\n",
    "print(\"Best Parameters for Random Forest:\", grid_search_rf.best_params_)\n",
    "print(\"Best Cross-Validation Accuracy for Random Forest:\", grid_search_rf.best_score_)\n"
   ]
  },
  {
   "cell_type": "markdown",
   "id": "79cc18b5-f1bd-4b0f-bfc4-8db108b2a18d",
   "metadata": {},
   "source": [
    "### Evaluate the Best Models on the Test Set"
   ]
  },
  {
   "cell_type": "code",
   "execution_count": null,
   "id": "7803b131-ba10-4bdc-8639-0ca022cb230c",
   "metadata": {
    "tags": []
   },
   "outputs": [],
   "source": [
    "# Best models\n",
    "#TODO\n",
    "\n",
    "# Predictions\n",
    "#TODO\n",
    "\n",
    "# Evaluation\n",
    "print(\"Logistic Regression Test Accuracy:\", accuracy_score(y_test, y_pred_log_reg))\n",
    "print(\"KNN Test Accuracy:\", accuracy_score(y_test, y_pred_knn))\n",
    "print(\"Random Forest Test Accuracy:\", accuracy_score(y_test, y_pred_rf))\n",
    "\n",
    "# Optional: Detailed reports\n",
    "print(\"\\nLogistic Regression Classification Report:\\n\", classification_report(y_test, y_pred_log_reg))\n",
    "print(\"\\nKNN Classification Report:\\n\", classification_report(y_test, y_pred_knn))\n",
    "print(\"\\nRandom Forest Classification Report:\\n\", classification_report(y_test, y_pred_rf))\n"
   ]
  },
  {
   "cell_type": "markdown",
   "id": "fff74fd8-391c-4314-8de5-ec6c1948813c",
   "metadata": {},
   "source": [
    "### Confusion Matrices for Each Model"
   ]
  },
  {
   "cell_type": "code",
   "execution_count": null,
   "id": "ddb2c527-0974-463a-bcbf-d64e1c7e14be",
   "metadata": {
    "tags": []
   },
   "outputs": [],
   "source": [
    "import seaborn as sns\n",
    "import matplotlib.pyplot as plt\n",
    "\n",
    "def plot_confusion_matrix(model_name, y_true, y_pred):\n",
    "    cm = confusion_matrix(y_true, y_pred)\n",
    "    plt.figure(figsize=(8, 6))\n",
    "    sns.heatmap(cm, annot=True, fmt='d', cmap='Blues', xticklabels=sorted(y.unique()), yticklabels=sorted(y.unique()))\n",
    "    plt.xlabel('Predicted')\n",
    "    plt.ylabel('True')\n",
    "    plt.title(f\"Confusion Matrix for {model_name}\")\n",
    "    plt.show()\n",
    "\n",
    "plot_confusion_matrix(\"Logistic Regression\", y_test, y_pred_log_reg)\n",
    "plot_confusion_matrix(\"KNN\", y_test, y_pred_knn)\n",
    "plot_confusion_matrix(\"Random Forest\", y_test, y_pred_rf)\n"
   ]
  },
  {
   "cell_type": "code",
   "execution_count": null,
   "id": "fcccee9f-c387-4454-b206-26c64fea7857",
   "metadata": {},
   "outputs": [],
   "source": []
  },
  {
   "cell_type": "markdown",
   "id": "7b09c566-dcd9-4d7f-a395-5b73df0cf5c8",
   "metadata": {},
   "source": [
    "## SMOTE technique\n",
    "To apply SMOTE (Synthetic Minority Over-sampling Technique) to your dataset, you can use the SMOTE class from the imblearn library, which is part of the imbalanced-learn package. This technique will help by oversampling the minority classes in the training set, creating synthetic samples to balance the class distribution."
   ]
  },
  {
   "cell_type": "code",
   "execution_count": null,
   "id": "baea57ae-bd4d-45ab-b3ea-c56044e12a77",
   "metadata": {
    "tags": []
   },
   "outputs": [],
   "source": [
    "# pip install -U scikit-learn\n",
    "# pip install -U imbalanced-learn\n",
    "\n",
    "\n",
    "\n",
    "\n"
   ]
  },
  {
   "cell_type": "code",
   "execution_count": null,
   "id": "f9085223-0e08-49ae-83de-cc37aac7fcfb",
   "metadata": {
    "tags": []
   },
   "outputs": [],
   "source": [
    "from imblearn.over_sampling import SMOTE\n",
    "\n",
    "# Apply SMOTE to the training data\n",
    "smote = SMOTE(random_state=21, k_neighbors=3)\n",
    "X_train_resampled, y_train_resampled = smote.fit_resample(X_train, y_train)\n",
    "\n",
    "# Scale the resampled training data and the original test data\n",
    "scaler = StandardScaler()\n",
    "X_train_resampled_scaled = scaler.fit_transform(X_train_resampled)\n",
    "X_test_scaled = scaler.transform(X_test)\n",
    "\n",
    "# Initialize parameter grids for each model\n",
    "param_grid_log_reg = {\n",
    "    'penalty': ['l1', 'l2', 'elasticnet'],\n",
    "    'C': [0.01, 0.1, 1, 10, 100],\n",
    "    'solver': ['saga'],\n",
    "    'max_iter': [1000],\n",
    "    'tol': [0.001, 0.01],\n",
    "    'l1_ratio': [0.5]  # Only relevant if using 'elasticnet' penalty\n",
    "}\n",
    "\n",
    "param_grid_knn = {\n",
    "    'n_neighbors': [3, 5, 7, 9],\n",
    "    'weights': ['uniform', 'distance'],\n",
    "    'p': [1, 2]\n",
    "}\n",
    "\n",
    "param_grid_rf = {\n",
    "    'n_estimators': [50, 100, 200],\n",
    "    'max_depth': [None, 10, 20, 30],\n",
    "    'min_samples_split': [2, 5, 10],\n",
    "    'min_samples_leaf': [1, 2, 4],\n",
    "    'class_weight': ['balanced']\n",
    "}\n",
    "\n",
    "# Define a function for grid search and model evaluation\n",
    "def evaluate_model(name, model, param_grid, X_train, y_train, X_test, y_test):\n",
    "    grid_search = GridSearchCV(estimator=model, param_grid=param_grid, cv=5, scoring='accuracy', n_jobs=-1, verbose=2)\n",
    "    grid_search.fit(X_train, y_train)\n",
    "    \n",
    "    best_model = grid_search.best_estimator_\n",
    "    y_pred = best_model.predict(X_test)\n",
    "    \n",
    "    print(f\"\\n{name} - Best Parameters: {grid_search.best_params_}\")\n",
    "    print(f\"Mean Cross-Validation Accuracy: {grid_search.best_score_}\")\n",
    "    print(f\"{name} Model Performance on Test Set:\")\n",
    "    print(\"Accuracy:\", accuracy_score(y_test, y_pred))\n",
    "    print(\"Confusion Matrix:\\n\", confusion_matrix(y_test, y_pred))\n",
    "    print(\"Classification Report:\\n\", classification_report(y_test, y_pred, zero_division=0))\n",
    "    \n",
    "    return best_model\n",
    "\n",
    "# Logistic Regression\n",
    "log_reg = LogisticRegression(random_state=42)\n",
    "best_log_reg = evaluate_model(\"Logistic Regression\", log_reg, param_grid_log_reg, X_train_resampled_scaled, y_train_resampled, X_test_scaled, y_test)\n",
    "\n",
    "# K-Nearest Neighbors\n",
    "knn = KNeighborsClassifier()\n",
    "best_knn = evaluate_model(\"KNN\", knn, param_grid_knn, X_train_resampled_scaled, y_train_resampled, X_test_scaled, y_test)\n",
    "\n",
    "# Random Forest\n",
    "rf = RandomForestClassifier(random_state=42)\n",
    "best_rf = evaluate_model(\"Random Forest\", rf, param_grid_rf, X_train_resampled_scaled, y_train_resampled, X_test_scaled, y_test)"
   ]
  },
  {
   "cell_type": "code",
   "execution_count": null,
   "id": "83a2fc79-735e-4310-b43e-8dc935814172",
   "metadata": {},
   "outputs": [],
   "source": []
  }
 ],
 "metadata": {
  "kernelspec": {
   "display_name": "Python 3 (ipykernel)",
   "language": "python",
   "name": "python3"
  },
  "language_info": {
   "codemirror_mode": {
    "name": "ipython",
    "version": 3
   },
   "file_extension": ".py",
   "mimetype": "text/x-python",
   "name": "python",
   "nbconvert_exporter": "python",
   "pygments_lexer": "ipython3",
   "version": "3.11.5"
  }
 },
 "nbformat": 4,
 "nbformat_minor": 5
}
