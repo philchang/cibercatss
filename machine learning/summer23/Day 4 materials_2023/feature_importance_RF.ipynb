{
 "cells": [
  {
   "cell_type": "markdown",
   "id": "6b1ef5fa-61d3-4f93-8f3b-9ed3d7ba78f3",
   "metadata": {},
   "source": [
    "## Identifying Important Features in Random Forests\n",
    "\n",
    "Feature importance in machine learning refers to a technique that assigns a score or importance value to each feature in a dataset. It helps identify which features have the most influence or predictive power in a given model. IN other words, by analyzing the feature importance scores, you can gain insights into which features have the most predictive power and potentially focus on those features for further analysis or feature selection.\n",
    "\n",
    "Feature importance can be determined using various methods, such as random forest feature importance. In random forest the importance of the features can be accessed through the feature_importances_ attribute of scikit-learn. \n",
    "\n",
    "Problem\n",
    "\n",
    "You need to know which features are most important in a random forest model.\n",
    "\n",
    "Solution\n",
    "\n",
    "Calculate and visualize the importance of each feature:\n"
   ]
  },
  {
   "cell_type": "code",
   "execution_count": 2,
   "id": "408f800a-4ba1-482c-9bbe-5e71a5e3527e",
   "metadata": {},
   "outputs": [],
   "source": [
    "# Load libraries\n",
    "import numpy as np\n",
    "import matplotlib.pyplot as plt\n",
    "from sklearn.ensemble import RandomForestClassifier \n",
    "from sklearn import datasets\n",
    "\n"
   ]
  },
  {
   "cell_type": "code",
   "execution_count": 3,
   "id": "9e577823-2967-404c-86b1-0d75ef95b7b2",
   "metadata": {},
   "outputs": [],
   "source": [
    "# Load data\n",
    "iris = datasets.load_iris()\n",
    "features = iris.data\n",
    "target = iris.target\n"
   ]
  },
  {
   "cell_type": "code",
   "execution_count": 4,
   "id": "fe181c89-b965-458e-af81-fb6e3d2bc021",
   "metadata": {},
   "outputs": [],
   "source": [
    "# Create random forest classifier object\n",
    "randomforest = RandomForestClassifier(random_state=0, n_jobs=-1) "
   ]
  },
  {
   "cell_type": "code",
   "execution_count": 5,
   "id": "ec5b72ac-1a09-4b0c-b392-93d7e8b38918",
   "metadata": {},
   "outputs": [],
   "source": [
    "# Train model\n",
    "model = randomforest.fit(features, target) "
   ]
  },
  {
   "cell_type": "code",
   "execution_count": 6,
   "id": "d2c1de9d-2f91-4992-8aa0-8c9d2ee523bf",
   "metadata": {},
   "outputs": [],
   "source": [
    "# Calculate feature importances\n",
    "importances = model.feature_importances_"
   ]
  },
  {
   "cell_type": "code",
   "execution_count": 7,
   "id": "884b5a07-0c96-408b-b44b-b8995cb24f0a",
   "metadata": {},
   "outputs": [],
   "source": [
    "# Sort feature importances in descending order\n",
    "indices = np.argsort(importances)[::-1]"
   ]
  },
  {
   "cell_type": "code",
   "execution_count": 8,
   "id": "031b42ad-2ac4-4dc5-b022-adb24c735dc3",
   "metadata": {},
   "outputs": [],
   "source": [
    "# Rearrange feature names so they match the sorted feature importances\n",
    "names = [iris.feature_names[i] for i in indices]"
   ]
  },
  {
   "cell_type": "code",
   "execution_count": 9,
   "id": "c85d6126-07e1-4914-a53a-3f661fbd4546",
   "metadata": {
    "tags": []
   },
   "outputs": [
    {
     "data": {
      "image/png": "[encoded data removed]",
      "text/plain": [
       "<Figure size 640x480 with 1 Axes>"
      ]
     },
     "metadata": {},
     "output_type": "display_data"
    }
   ],
   "source": [
    "# Create plot\n",
    "plt.figure()\n",
    "\n",
    "# Create plot title\n",
    "plt.title(\"Feature Importance\") \n",
    "\n",
    "# Add bars\n",
    "plt.bar(range(features.shape[1]), importances[indices]) \n",
    "\n",
    "# Add feature names as x-axis labels\n",
    "plt.xticks(range(features.shape[1]), names, rotation=90) \n",
    "\n",
    "# Show plot\n",
    "plt.show()"
   ]
  },
  {
   "cell_type": "markdown",
   "id": "c26e4606-b829-4ad0-b2cc-2790d33883a4",
   "metadata": {},
   "source": [
    "There are two things to keep in mind regarding feature importance. First, scikit-learn requires that we break up nominal categorical features into multiple binary features. This has the effect of spreading the importance of that feature across all of the binary features and can often make each feature appear to be unimportant even when the original nominal categorical feature is highly important. Second, if two features are highly correlated, one feature will claim much of the importance, making the other feature appear to be far less important—which has implications for inter‐ pretation if not considered.\n",
    "\n",
    "In scikit-learn, classification and regression decision trees and random forests can report the relative importance of each feature using the feature_importances_ method:"
   ]
  },
  {
   "cell_type": "code",
   "execution_count": null,
   "id": "ca27d720-4705-432c-8965-7dcee26d9b1c",
   "metadata": {
    "tags": []
   },
   "outputs": [],
   "source": [
    "# View feature importances\n",
    "model.feature_importances_"
   ]
  },
  {
   "cell_type": "markdown",
   "id": "883986d3-09d6-4247-a868-9017799c538a",
   "metadata": {},
   "source": [
    "The higher the number, the more important the feature (all importance scores sum to 1). By plotting these values we can add interpretability to our random forest models."
   ]
  },
  {
   "cell_type": "code",
   "execution_count": null,
   "id": "d6861d20-7b5b-472f-91bb-dd581d07bdb9",
   "metadata": {},
   "outputs": [],
   "source": []
  }
 ],
 "metadata": {
  "kernelspec": {
   "display_name": "PyCamber",
   "language": "python",
   "name": "python3"
  },
  "language_info": {
   "codemirror_mode": {
    "name": "ipython",
    "version": 3
   },
   "file_extension": ".py",
   "mimetype": "text/x-python",
   "name": "python",
   "nbconvert_exporter": "python",
   "pygments_lexer": "ipython3",
   "version": "3.10.10"
  }
 },
 "nbformat": 4,
 "nbformat_minor": 5
}
