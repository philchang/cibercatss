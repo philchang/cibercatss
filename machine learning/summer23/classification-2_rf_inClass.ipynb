{
 "cells": [
  {
   "cell_type": "markdown",
   "metadata": {
    "id": "qtauAXhkjs8I"
   },
   "source": [
    "# Part 2 - Classification Algorithms"
   ]
  },
  {
   "cell_type": "markdown",
   "metadata": {
    "id": "nCOBZlZX0xIL"
   },
   "source": [
    "## Random Forest Classifier\n",
    "\n",
    "In this section, you want to train a classification model using a “forest” of randomized decision trees. TYou can perform this tasks by using scikit-learn’s RandomForestClassifier:"
   ]
  },
  {
   "cell_type": "markdown",
   "metadata": {
    "id": "hvn9DhuZXNFn"
   },
   "source": [
    "### Getting Dataset for classification tasks and some data visualization"
   ]
  },
  {
   "cell_type": "code",
   "execution_count": null,
   "metadata": {
    "id": "hrQenQYYTaSW",
    "tags": []
   },
   "outputs": [],
   "source": [
    "\n",
    "#TODO"
   ]
  },
  {
   "cell_type": "markdown",
   "metadata": {
    "id": "8nRX8PeEcIGf"
   },
   "source": []
  },
  {
   "cell_type": "markdown",
   "metadata": {
    "id": "-UmiZxq6cD_u"
   },
   "source": [
    "## Train A Random Forest Model"
   ]
  },
  {
   "cell_type": "code",
   "execution_count": null,
   "metadata": {
    "id": "R0aHbFiv1RvP",
    "tags": []
   },
   "outputs": [],
   "source": [
    "# Load libraries\n",
    "from sklearn.ensemble import RandomForestClassifier"
   ]
  },
  {
   "cell_type": "code",
   "execution_count": null,
   "metadata": {
    "id": "xt-CI23S1U0R",
    "tags": []
   },
   "outputs": [],
   "source": [
    " # Create random forest classifier object using RandomForestClassifier\n",
    "#TODO"
   ]
  },
  {
   "cell_type": "code",
   "execution_count": null,
   "metadata": {
    "id": "VKdVTj4N1Xh-",
    "tags": []
   },
   "outputs": [],
   "source": [
    "# Train model\n",
    "#TODO"
   ]
  },
  {
   "cell_type": "code",
   "execution_count": null,
   "metadata": {
    "tags": []
   },
   "outputs": [],
   "source": [
    "# Cross-validate model using accuracy\n",
    "#TODO"
   ]
  },
  {
   "cell_type": "code",
   "execution_count": null,
   "metadata": {
    "tags": []
   },
   "outputs": [],
   "source": [
    "# Cross-validate model using macro averaged F1 score\n",
    "#TODO"
   ]
  },
  {
   "cell_type": "code",
   "execution_count": null,
   "metadata": {
    "colab": {
     "base_uri": "https://localhost:8080/"
    },
    "id": "0znZsoXj1deU",
    "outputId": "853adff3-d9bb-4bb3-c8e0-caeb936a6fe3",
    "tags": []
   },
   "outputs": [],
   "source": [
    " # Make new observation\n",
    "observation = [[ 5, 4, 3, 2]]\n",
    "\n",
    "# Predict observation's class\n",
    "#TODO"
   ]
  },
  {
   "cell_type": "code",
   "execution_count": null,
   "metadata": {
    "colab": {
     "base_uri": "https://localhost:8080/"
    },
    "id": "VAYqeSRC1oeQ",
    "outputId": "7c8cc5cd-5733-4ac5-a7c9-1a34c61be7a8",
    "tags": []
   },
   "outputs": [],
   "source": [
    "# View predicted class probabilities for the three classes\n",
    "#TODO"
   ]
  },
  {
   "cell_type": "code",
   "execution_count": null,
   "metadata": {},
   "outputs": [],
   "source": [
    " # Load libraries\n",
    "#TODO"
   ]
  },
  {
   "cell_type": "code",
   "execution_count": null,
   "metadata": {},
   "outputs": [],
   "source": [
    "# Create list of target class names\n",
    "#TODO\n",
    "\n",
    "# Create training and test set using train_test_split function:\n",
    "# https://scikit-learn.org/stable/modules/generated/sklearn.model_selection.train_test_split.html\n",
    "\n",
    "#TODO"
   ]
  },
  {
   "cell_type": "code",
   "execution_count": null,
   "metadata": {
    "tags": []
   },
   "outputs": [],
   "source": [
    "# Train model and make predictions\n",
    "#TODO\n",
    "\n",
    "# Create confusion matrix\n",
    "#TODO\n",
    "\n",
    "# Create pandas dataframe\n",
    "#TODO\n",
    "\n",
    "# Create heatmap\n",
    "#TODO"
   ]
  },
  {
   "cell_type": "code",
   "execution_count": null,
   "metadata": {},
   "outputs": [],
   "source": []
  }
 ],
 "metadata": {
  "colab": {
   "provenance": []
  },
  "kernelspec": {
   "display_name": "PyCamber",
   "language": "python",
   "name": "python3"
  },
  "language_info": {
   "codemirror_mode": {
    "name": "ipython",
    "version": 3
   },
   "file_extension": ".py",
   "mimetype": "text/x-python",
   "name": "python",
   "nbconvert_exporter": "python",
   "pygments_lexer": "ipython3",
   "version": "3.10.10"
  }
 },
 "nbformat": 4,
 "nbformat_minor": 4
}
