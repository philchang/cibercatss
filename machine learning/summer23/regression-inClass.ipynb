{
 "cells": [
  {
   "cell_type": "markdown",
   "metadata": {
    "id": "-le2Iy22CRqe"
   },
   "source": [
    "# Prediction Models\n",
    "\n",
    "In machine learning, a prediction model, also known as a predictive model or a regression model, is a mathematical representation or algorithm that is trained on data to make predictions or estimates about unknown or future outcomes. It is a fundamental component of supervised learning, where the model learns patterns and relationships from labeled training data and then applies that knowledge to make predictions on new, unseen data.\n",
    "\n",
    "The prediction model takes input features or variables and uses them to generate output predictions. The specific type of prediction model used depends on the problem at hand. For example, linear regression models are commonly used for predicting continuous numerical values, while classification models such as logistic regression, decision trees, or support vector machines are used for predicting discrete categorical values or class labels.\n",
    "\n",
    "\n"
   ]
  },
  {
   "cell_type": "markdown",
   "metadata": {
    "id": "f4RA9hDUj-CY"
   },
   "source": [
    "# Part 1 - Regression"
   ]
  },
  {
   "cell_type": "markdown",
   "metadata": {
    "id": "rPSXD33r-XrG"
   },
   "source": [
    "## 1.1 Linear Regression\n",
    "\n",
    "Linear regression is a basic supervised learning algorithm that is widely used for making predictions. It is often taught in introductory statistics courses and is considered a fundamental technique in data analysis. Although it is straightforward and relatively simple compared to other machine learning algorithms, **linear regression remains valuable for predicting quantitative values such as home prices or ages**. Despite its simplicity, linear regression and its variations remain relevant and effective in practical applications.\n"
   ]
  },
  {
   "cell_type": "markdown",
   "metadata": {
    "id": "ULmpHSvLCnNB"
   },
   "source": [
    "##Problem\n",
    "##1.1 Fitting a line\n",
    "Suppose you want to train a model that represents a linear relationship between the feature and target vector. You can use a linear regression (in scikit-learn, `LinearRegression`):"
   ]
  },
  {
   "cell_type": "code",
   "execution_count": null,
   "metadata": {
    "id": "a09bmWf_-VOn",
    "tags": []
   },
   "outputs": [],
   "source": [
    "# Load libraries\n",
    "from sklearn.linear_model import LinearRegression\n",
    "from sklearn.model_selection import cross_val_score\n",
    "\n",
    "\n",
    "#load california housing dataset from scikit\n",
    "from sklearn.datasets import fetch_california_housing\n"
   ]
  },
  {
   "cell_type": "code",
   "execution_count": null,
   "metadata": {
    "tags": []
   },
   "outputs": [],
   "source": [
    "#load dataset\n",
    "#TODO"
   ]
  },
  {
   "cell_type": "markdown",
   "metadata": {
    "id": "GJIHix4BHD0W"
   },
   "source": [
    "### First, visualizing the data that we have:\n",
    "Let's better visualize these features by plotting their histograms."
   ]
  },
  {
   "cell_type": "code",
   "execution_count": null,
   "metadata": {
    "colab": {
     "base_uri": "https://localhost:8080/"
    },
    "id": "f6yKBWLDFjF6",
    "outputId": "6c73ca9e-50a7-446f-9a5d-f4cda74a5f18",
    "tags": []
   },
   "outputs": [],
   "source": [
    "#let's take a look at the data description\n",
    "#TODO"
   ]
  },
  {
   "cell_type": "code",
   "execution_count": null,
   "metadata": {
    "colab": {
     "base_uri": "https://localhost:8080/"
    },
    "id": "eA1s1N7WGFXM",
    "outputId": "52aea083-be38-4793-ce60-38ed7ed498e8",
    "tags": []
   },
   "outputs": [],
   "source": [
    "#show info\n",
    "#TODO"
   ]
  },
  {
   "cell_type": "markdown",
   "metadata": {
    "id": "ud1EkQzuGpma"
   },
   "source": [
    "We can see that:\n",
    "\n",
    "the dataset contains 20,640 samples and 8 features\n",
    "\n",
    "all features are numerical features encoded as floating number\n",
    "\n",
    "there is no missing values."
   ]
  },
  {
   "cell_type": "code",
   "execution_count": null,
   "metadata": {
    "colab": {
     "base_uri": "https://localhost:8080/",
     "height": 853
    },
    "id": "Ei3BxrnuHC2K",
    "outputId": "30599176-7c60-4f6e-d1e1-02041f418b09",
    "tags": []
   },
   "outputs": [],
   "source": [
    "import matplotlib.pyplot as plt\n",
    "\n",
    "california_housing.frame.hist(figsize=(10, 10), bins=30, edgecolor=\"blue\")\n",
    "plt.subplots_adjust(hspace=0.7, wspace=0.4)"
   ]
  },
  {
   "cell_type": "markdown",
   "metadata": {
    "id": "DKWJMcSsIgaa"
   },
   "source": [
    "As you see in the output of the data info, we are provided with the longitude and latitude that carry geographical information. Let's take a look at this information."
   ]
  },
  {
   "cell_type": "code",
   "execution_count": null,
   "metadata": {
    "colab": {
     "base_uri": "https://localhost:8080/",
     "height": 493
    },
    "id": "ufVdvbhDJCGF",
    "outputId": "037da7f8-df3c-45f3-a4b8-d847ec0c29d8",
    "tags": []
   },
   "outputs": [],
   "source": [
    "import seaborn as sns\n",
    "\n",
    "sns.scatterplot(\n",
    "    data=california_housing.frame,\n",
    "    x=\"Longitude\",\n",
    "    y=\"Latitude\",\n",
    "    size=\"MedHouseVal\",\n",
    "    hue=\"MedHouseVal\",\n",
    "    palette=\"viridis\",\n",
    "    alpha=0.5,\n",
    ")\n",
    "plt.legend(title=\"MedHouseVal\", bbox_to_anchor=(1.05, 0.95), loc=\"upper left\")\n",
    "_ = plt.title(\"Median house value depending of\\n their spatial location\")"
   ]
  },
  {
   "cell_type": "markdown",
   "metadata": {
    "id": "T3RLkTjwJMy3"
   },
   "source": [
    "Please note that California's big cities: San Diego, Los Angeles, San Jose, or San Francisco, are located in the east coast!"
   ]
  },
  {
   "cell_type": "markdown",
   "metadata": {
    "id": "PAW1AzVmJnqX"
   },
   "source": [
    "We can perform random subsampling to reduce the number of data points for plotting, while still capturing the relevant characteristics."
   ]
  },
  {
   "cell_type": "code",
   "execution_count": null,
   "metadata": {
    "id": "caCS1RYyJo5N",
    "tags": []
   },
   "outputs": [],
   "source": [
    "import numpy as np\n",
    "\n",
    "rng = np.random.RandomState(0)\n",
    "indices = rng.choice(\n",
    "    np.arange(california_housing.frame.shape[0]), size=100, replace=False\n",
    ")"
   ]
  },
  {
   "cell_type": "code",
   "execution_count": null,
   "metadata": {
    "colab": {
     "base_uri": "https://localhost:8080/",
     "height": 493
    },
    "id": "wgei-5IpJtld",
    "outputId": "a54a467b-b7dc-4316-eb08-6dbd366ce4f5",
    "tags": []
   },
   "outputs": [],
   "source": [
    "sns.scatterplot(\n",
    "    data=california_housing.frame.iloc[indices],\n",
    "    x=\"Longitude\",\n",
    "    y=\"Latitude\",\n",
    "    size=\"MedHouseVal\",\n",
    "    hue=\"MedHouseVal\",\n",
    "    palette=\"viridis\",\n",
    "    alpha=0.5,\n",
    ")\n",
    "plt.legend(title=\"MedHouseVal\", bbox_to_anchor=(1.05, 1), loc=\"upper left\")\n",
    "_ = plt.title(\"Median house value depending of\\n their spatial location\")"
   ]
  },
  {
   "cell_type": "markdown",
   "metadata": {
    "id": "uNKyUyt2KbDA"
   },
   "source": [
    "### Create input feature set for fitting the regression:"
   ]
  },
  {
   "cell_type": "code",
   "execution_count": null,
   "metadata": {
    "id": "vhXLQ7UoF6J4",
    "tags": []
   },
   "outputs": [],
   "source": [
    "# Create features\n",
    "f#TODO"
   ]
  },
  {
   "cell_type": "code",
   "execution_count": null,
   "metadata": {
    "colab": {
     "base_uri": "https://localhost:8080/"
    },
    "id": "TJy0lVG6EyKl",
    "outputId": "4f4bcddd-2045-4c65-9105-61758745adca",
    "tags": []
   },
   "outputs": [],
   "source": [
    "#the target contains the median of the house value for each district\n",
    "#TODO"
   ]
  },
  {
   "cell_type": "code",
   "execution_count": null,
   "metadata": {
    "id": "oOHkh3E3EMGY",
    "tags": []
   },
   "outputs": [],
   "source": [
    "# Create linear regression\n",
    "#TODO\n",
    "\n",
    "# Fit the linear regression\n",
    "#TODO"
   ]
  },
  {
   "cell_type": "code",
   "execution_count": null,
   "metadata": {
    "tags": []
   },
   "outputs": [],
   "source": [
    "# Evaluate model:\n",
    "# Cross-validate the linear regression using R-squared\n",
    "# The closer to 1.0, the better the model.\n",
    "\n",
    "#TODO"
   ]
  },
  {
   "cell_type": "code",
   "execution_count": null,
   "metadata": {
    "colab": {
     "base_uri": "https://localhost:8080/"
    },
    "id": "JJvOepA4FBsq",
    "outputId": "3660df2d-1f28-410d-ae1d-43b6e1752c48",
    "tags": []
   },
   "outputs": [],
   "source": [
    "# Test the first value in the target vector multiplied by 1000\n",
    "target[0]*1000"
   ]
  },
  {
   "cell_type": "markdown",
   "metadata": {
    "id": "u2hjawcdK6-7"
   },
   "source": [
    "Using the `predict` method, we can predict a value for that house:"
   ]
  },
  {
   "cell_type": "code",
   "execution_count": null,
   "metadata": {
    "colab": {
     "base_uri": "https://localhost:8080/"
    },
    "id": "bRmdg1zWK-mv",
    "outputId": "1cde0b85-3ec6-4440-c558-f376d9ce8a2b",
    "tags": []
   },
   "outputs": [],
   "source": [
    "# Predict the target value of the first observation, multiplied by 1000\n",
    "model.predict(features)[0]*1000"
   ]
  },
  {
   "cell_type": "markdown",
   "metadata": {
    "id": "I7WbLrrALDDD"
   },
   "source": [
    "Not bad! Our model was only off by $394.35!"
   ]
  }
 ],
 "metadata": {
  "colab": {
   "provenance": []
  },
  "kernelspec": {
   "display_name": "PyCamber",
   "language": "python",
   "name": "python3"
  },
  "language_info": {
   "codemirror_mode": {
    "name": "ipython",
    "version": 3
   },
   "file_extension": ".py",
   "mimetype": "text/x-python",
   "name": "python",
   "nbconvert_exporter": "python",
   "pygments_lexer": "ipython3",
   "version": "3.10.10"
  }
 },
 "nbformat": 4,
 "nbformat_minor": 4
}
