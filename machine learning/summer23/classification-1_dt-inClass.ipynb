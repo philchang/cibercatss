{
 "cells": [
  {
   "cell_type": "markdown",
   "metadata": {
    "id": "qtauAXhkjs8I"
   },
   "source": [
    "# Part 2 - Classification Algorithms"
   ]
  },
  {
   "cell_type": "markdown",
   "metadata": {
    "id": "zNVyx2ZWlbc-"
   },
   "source": [
    "\n",
    "## Decision Tree Classifier\n",
    "## Problem\n",
    "Suppose you want to train a classifier using a decision tree. You can use scikit-learn’s DecisionTreeClassifier:"
   ]
  },
  {
   "cell_type": "markdown",
   "metadata": {
    "id": "hvn9DhuZXNFn"
   },
   "source": [
    "### Getting Dataset for classification tasks and some data visualization"
   ]
  },
  {
   "cell_type": "code",
   "execution_count": null,
   "metadata": {
    "id": "hrQenQYYTaSW",
    "tags": []
   },
   "outputs": [],
   "source": [
    "# Load libraries\n",
    "import pandas as pd\n",
    "import numpy as np\n",
    "import seaborn as sns\n",
    "import matplotlib.pyplot as plt\n",
    "from sklearn import datasets"
   ]
  },
  {
   "cell_type": "code",
   "execution_count": null,
   "metadata": {
    "id": "9nzT1Nx_Tfqm",
    "tags": []
   },
   "outputs": [],
   "source": [
    "#load iris dataset for classification from scikit datasets library\n",
    "#TODO\n"
   ]
  },
  {
   "cell_type": "code",
   "execution_count": null,
   "metadata": {
    "colab": {
     "base_uri": "https://localhost:8080/",
     "height": 561
    },
    "id": "nyjSE52RU_Cn",
    "outputId": "c33ef9fa-b877-49a4-adee-191562a732e0",
    "tags": []
   },
   "outputs": [],
   "source": [
    "from IPython.display import Image\n",
    "Image(url='https://www.tensorflow.org/images/iris_three_species.jpg')"
   ]
  },
  {
   "cell_type": "markdown",
   "metadata": {
    "id": "YdxTyWQ3WTlx"
   },
   "source": [
    "From left to right, Iris setosa (by Radomil, CC BY-SA 3.0), Iris versicolor (by Dlanglois, CC BY-SA 3.0), and Iris virginica (by Frank Mayfield, CC BY-SA 2.0). (Image was taken from tensorflow website)"
   ]
  },
  {
   "cell_type": "markdown",
   "metadata": {
    "id": "8nRX8PeEcIGf"
   },
   "source": [
    "**input features**"
   ]
  },
  {
   "cell_type": "code",
   "execution_count": null,
   "metadata": {
    "id": "83OO85N-XuFp",
    "tags": []
   },
   "outputs": [],
   "source": [
    "#create feature and target set\n",
    "#TODO"
   ]
  },
  {
   "cell_type": "markdown",
   "metadata": {
    "id": "-UmiZxq6cD_u"
   },
   "source": [
    "**target data**"
   ]
  },
  {
   "cell_type": "code",
   "execution_count": null,
   "metadata": {
    "colab": {
     "base_uri": "https://localhost:8080/"
    },
    "id": "5cTeL37SbLZR",
    "outputId": "06e21a70-1a0f-46d7-8ad2-2d048341ad81",
    "tags": []
   },
   "outputs": [],
   "source": [
    "# Names of target in iris dataset\n",
    "#TODO"
   ]
  },
  {
   "cell_type": "markdown",
   "metadata": {
    "id": "d8cD8cUucffE"
   },
   "source": [
    "In this classification problem the classes are 3 iris species:\n",
    "\n",
    "0 = setosa\n",
    "\n",
    "1 = versicolor\n",
    "\n",
    "2 = virginica"
   ]
  },
  {
   "cell_type": "code",
   "execution_count": null,
   "metadata": {
    "colab": {
     "base_uri": "https://localhost:8080/"
    },
    "id": "ESCXJC1cbwZv",
    "outputId": "d3da89d1-80ac-4fe9-8ae1-97c3e095713e",
    "tags": []
   },
   "outputs": [],
   "source": [
    "# size of target\n",
    "#TODO"
   ]
  },
  {
   "cell_type": "code",
   "execution_count": null,
   "metadata": {
    "colab": {
     "base_uri": "https://localhost:8080/"
    },
    "id": "7-qiF9CZcSiV",
    "outputId": "49edd68a-42e1-4330-82d3-9442a72d5708",
    "tags": []
   },
   "outputs": [],
   "source": [
    "# print target data\n",
    "#TODO"
   ]
  },
  {
   "cell_type": "markdown",
   "metadata": {
    "id": "LuHs6QRvc0MS"
   },
   "source": [
    "Converting dataset into Dataframe for getting some helpful insights about iris dataset. To perform this we need pandas numpy libraries."
   ]
  },
  {
   "cell_type": "code",
   "execution_count": null,
   "metadata": {
    "id": "BNp4e5Kac0v6",
    "tags": []
   },
   "outputs": [],
   "source": [
    "# create a dataframe with four columns: data, target, feature_names, and Species\n",
    "#TODO"
   ]
  },
  {
   "cell_type": "code",
   "execution_count": null,
   "metadata": {
    "colab": {
     "base_uri": "https://localhost:8080/",
     "height": 201
    },
    "id": "h6LL7_AVdW5w",
    "outputId": "b7ee7452-6e13-47fd-8831-8a0878d4553e",
    "tags": []
   },
   "outputs": [],
   "source": [
    "#show head of the dataframe\n",
    "#TODO"
   ]
  },
  {
   "cell_type": "code",
   "execution_count": null,
   "metadata": {
    "colab": {
     "base_uri": "https://localhost:8080/"
    },
    "id": "LXMdFD7udn6I",
    "outputId": "d8a2a27b-bd7f-49d4-fb79-9b0b18a96a98",
    "tags": []
   },
   "outputs": [],
   "source": [
    "#show info of the dataframe\n",
    "#TODO"
   ]
  },
  {
   "cell_type": "markdown",
   "metadata": {
    "id": "TifQ1MQwduEy"
   },
   "source": [
    "Check columns names of dataset:"
   ]
  },
  {
   "cell_type": "markdown",
   "metadata": {
    "id": "2Y6AIOh8d8KB"
   },
   "source": [
    "### Visualize Iris data with Python's visualization tools from Pandas, Matplotlib and Seaborn Libraries"
   ]
  },
  {
   "cell_type": "code",
   "execution_count": null,
   "metadata": {
    "colab": {
     "base_uri": "https://localhost:8080/"
    },
    "id": "Yx_EcYaCegnD",
    "outputId": "93c686c8-cc00-437d-f1af-b5933c898e44",
    "tags": []
   },
   "outputs": [],
   "source": [
    "#show counts of each species\n",
    "#TODO"
   ]
  },
  {
   "cell_type": "code",
   "execution_count": null,
   "metadata": {
    "colab": {
     "base_uri": "https://localhost:8080/",
     "height": 451
    },
    "id": "ilH1nPYgeNKM",
    "outputId": "f81ae70a-7212-41c7-bf92-92740f1f73d2",
    "tags": []
   },
   "outputs": [],
   "source": [
    "# plot iris features histogram using hist function \n",
    "#TODO"
   ]
  },
  {
   "cell_type": "markdown",
   "metadata": {
    "id": "O0adLM5Jip3t"
   },
   "source": [
    "### Visualize the correlations among feautres"
   ]
  },
  {
   "cell_type": "code",
   "execution_count": null,
   "metadata": {
    "colab": {
     "base_uri": "https://localhost:8080/",
     "height": 482
    },
    "id": "ZWRAkfZaicrV",
    "outputId": "c0f59e5d-82d2-45f3-f846-9f281d9c3924",
    "tags": []
   },
   "outputs": [],
   "source": [
    "plt.figure(figsize=(7,4))\n",
    "#draws  heatmap with input as the correlation matrix calculted by(df.corr())\n",
    "sns.heatmap(df.corr(),cbar = True, square = True, annot=True, fmt='.2f',annot_kws={'size': 15},cmap='Dark2')\n",
    "plt.show()"
   ]
  },
  {
   "cell_type": "markdown",
   "metadata": {
    "id": "JpfPRZ85jIWd"
   },
   "source": [
    "Based on the depicted figure, it is evident that Sepal Length and Sepal Width have weak correlations, while Petal Width and Petal Length exhibit strong correlations. This implies that the identification of species can be achieved more accurately using the Petal measurements compared to the Sepal measurements."
   ]
  },
  {
   "cell_type": "markdown",
   "metadata": {},
   "source": [
    "## Train a decision tree model"
   ]
  },
  {
   "cell_type": "code",
   "execution_count": null,
   "metadata": {
    "id": "-v7906dLmUBK",
    "tags": []
   },
   "outputs": [],
   "source": [
    "# Load libraries: DecisionTreeClassifier, cross_val_score\n",
    "#TODO"
   ]
  },
  {
   "cell_type": "markdown",
   "metadata": {},
   "source": [
    "https://scikit-learn.org/stable/modules/generated/sklearn.tree.DecisionTreeClassifier.html"
   ]
  },
  {
   "cell_type": "code",
   "execution_count": null,
   "metadata": {
    "id": "_4yMULLWTqIH",
    "tags": []
   },
   "outputs": [],
   "source": [
    "# Create decision tree classifier object\n",
    "#TODO"
   ]
  },
  {
   "cell_type": "code",
   "execution_count": null,
   "metadata": {
    "id": "9IASsVrBTtHF",
    "tags": []
   },
   "outputs": [],
   "source": [
    "# Train model, use fit function\n",
    "#TODO"
   ]
  },
  {
   "cell_type": "markdown",
   "metadata": {},
   "source": [
    "https://scikit-learn.org/stable/modules/generated/sklearn.model_selection.cross_val_score.html"
   ]
  },
  {
   "cell_type": "code",
   "execution_count": null,
   "metadata": {
    "tags": []
   },
   "outputs": [],
   "source": [
    "# Cross-validate model using accuracy, use cross_val_score function\n",
    "#TODO"
   ]
  },
  {
   "cell_type": "code",
   "execution_count": null,
   "metadata": {
    "tags": []
   },
   "outputs": [],
   "source": [
    "# Cross-validate model using macro averaged F1 score\n",
    "#TODO"
   ]
  },
  {
   "cell_type": "markdown",
   "metadata": {},
   "source": [
    "**Discussion**\n",
    "\n",
    "When we have balanced classes (e.g., a roughly equal number of observations in each class of the target vector), accuracy is—just like in the binary class setting—a simple and interpretable choice for an evaluation metric. Accuracy is the number of correct predictions divided by the number of observations and works just as well in the mul‐ ticlass as binary setting. However, when we have imbalanced classes (a common sce‐ nario), we should be inclined to use other evaluation metrics."
   ]
  },
  {
   "cell_type": "markdown",
   "metadata": {},
   "source": [
    "In scikit-learn, DecisionTreeClassifier operates like other learning methods; after the model is trained using fit we can use the model to predict the class of an observation:"
   ]
  },
  {
   "cell_type": "code",
   "execution_count": null,
   "metadata": {
    "colab": {
     "base_uri": "https://localhost:8080/"
    },
    "id": "FlUSChcl0Yts",
    "outputId": "a389fb30-5368-4472-f8ef-036cf1131a36",
    "tags": []
   },
   "outputs": [],
   "source": [
    "# Make new observation\n",
    "observation = [[ 5, 4, 3, 2]]\n",
    "\n",
    "# Predict observation's class\n",
    "model.predict(observation)"
   ]
  },
  {
   "cell_type": "markdown",
   "metadata": {
    "id": "krCoukrK0lYo"
   },
   "source": [
    "We can also see the predicted class probabilities of the observation:"
   ]
  },
  {
   "cell_type": "code",
   "execution_count": null,
   "metadata": {
    "colab": {
     "base_uri": "https://localhost:8080/"
    },
    "id": "ObHlx6bZ0mC0",
    "outputId": "0c6d467c-f197-465d-fe4f-c90754a22b84",
    "tags": []
   },
   "outputs": [],
   "source": [
    "# View predicted class probabilities for the three classes\n",
    "model.predict_proba(observation)"
   ]
  },
  {
   "cell_type": "markdown",
   "metadata": {},
   "source": [
    "## Visualizing a Classifier’s Performance"
   ]
  },
  {
   "cell_type": "markdown",
   "metadata": {},
   "source": [
    "### Problem\n",
    "\n",
    "Given predicted classes and true classes of the test data, you want to visually compare the model’s quality.\n",
    "\n",
    "### Solution\n",
    "\n",
    "Use a confusion matrix, which compares predicted classes and true classes:"
   ]
  },
  {
   "cell_type": "code",
   "execution_count": null,
   "metadata": {
    "tags": []
   },
   "outputs": [],
   "source": [
    " # Load libraries\n",
    "import seaborn as sns\n",
    "from sklearn.model_selection import train_test_split \n",
    "from sklearn.metrics import confusion_matrix"
   ]
  },
  {
   "cell_type": "code",
   "execution_count": null,
   "metadata": {
    "tags": []
   },
   "outputs": [],
   "source": [
    "# Create list of target class names\n",
    "#TODO\n",
    "\n",
    "# Create training and test set using train_test_split function:\n",
    "# https://scikit-learn.org/stable/modules/generated/sklearn.model_selection.train_test_split.html\n",
    "\n",
    "#TODO"
   ]
  },
  {
   "cell_type": "code",
   "execution_count": null,
   "metadata": {
    "tags": []
   },
   "outputs": [],
   "source": [
    "# Train model and make predictions\n",
    "#TODO\n",
    "\n",
    "# Create confusion matrix\n",
    "#TODO\n",
    "\n",
    "# Create pandas dataframe\n",
    "#TODO\n",
    "\n",
    "# Create heatmap\n",
    "#TODO"
   ]
  },
  {
   "cell_type": "markdown",
   "metadata": {},
   "source": [
    "## Optional"
   ]
  },
  {
   "cell_type": "markdown",
   "metadata": {
    "id": "t3mpLQCwxfwC"
   },
   "source": [
    "Let's Visualize our Decision Tree Model"
   ]
  },
  {
   "cell_type": "code",
   "execution_count": null,
   "metadata": {
    "id": "3C05_ziJxjnX",
    "tags": []
   },
   "outputs": [],
   "source": [
    "# Load libraries\n",
    "import pydotplus\n",
    "from IPython.display import Image\n",
    "from sklearn import tree"
   ]
  },
  {
   "cell_type": "code",
   "execution_count": null,
   "metadata": {
    "colab": {
     "base_uri": "https://localhost:8080/",
     "height": 911
    },
    "id": "PDWkug-Axtig",
    "outputId": "5e4c307f-1dc5-4a35-bd18-7dd87193323b",
    "tags": []
   },
   "outputs": [],
   "source": [
    "# Create DOT data\n",
    "dot_data = tree.export_graphviz(decisiontree,\n",
    "                                    out_file=None,\n",
    "                                    feature_names=iris.feature_names,\n",
    "                                    class_names=iris.target_names)\n",
    "# Draw graph\n",
    "graph = pydotplus.graph_from_dot_data(dot_data)\n",
    "\n",
    "# Show graph\n",
    "Image(graph.create_png())\n"
   ]
  },
  {
   "cell_type": "markdown",
   "metadata": {
    "id": "4dmbhDGRzCay"
   },
   "source": [
    "**Discussion**\n",
    "\n",
    "One of the key advantages of decision tree classifiers is their interpretability, as the entire trained model can be visualized. This makes decision trees one of the most comprehensible models in the field of machine learning. In our approach, we exported the trained model in DOT format, which is a graph description language, and utilized it to generate the graph visualization.\n",
    "\n",
    "By examining the root node of the decision tree, we can observe the decision rule: if the petal width is less than or equal to 0.8, the left branch is followed; otherwise, the right branch is taken. Additionally, the graph displays the Gini impurity index (0.667), the total number of observations (150), the distribution of observations across each class ([50, 50, 50]), and the predicted class if the decision-making process ended at that node (setosa).\n",
    "\n",
    "It is noteworthy that the learner found that a single decision rule (petal width (cm) <= 0.8) was sufficient to accurately identify all observations belonging to the setosa class at that node. Moreover, by incorporating one more decision rule with the same feature (petal width (cm) <= 1.75), the decision tree achieves correct classification of 144 out of 150 observations. This highlights the significant importance of the petal width feature in the decision-making process."
   ]
  },
  {
   "cell_type": "code",
   "execution_count": null,
   "metadata": {},
   "outputs": [],
   "source": []
  }
 ],
 "metadata": {
  "colab": {
   "provenance": []
  },
  "kernelspec": {
   "display_name": "PyCamber",
   "language": "python",
   "name": "python3"
  },
  "language_info": {
   "codemirror_mode": {
    "name": "ipython",
    "version": 3
   },
   "file_extension": ".py",
   "mimetype": "text/x-python",
   "name": "python",
   "nbconvert_exporter": "python",
   "pygments_lexer": "ipython3",
   "version": "3.10.10"
  }
 },
 "nbformat": 4,
 "nbformat_minor": 4
}
