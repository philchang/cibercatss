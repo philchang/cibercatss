{
 "cells": [
  {
   "cell_type": "markdown",
   "metadata": {
    "id": "qtauAXhkjs8I"
   },
   "source": [
    "# Part 2 - Classification Algorithms"
   ]
  },
  {
   "cell_type": "markdown",
   "metadata": {
    "id": "BAFBYiIDEOzU"
   },
   "source": [
    "## Naive Bayes Classifier\n",
    "\n",
    "The most common type of naive Bayes classifier is the Gaussian naive Bayes."
   ]
  },
  {
   "cell_type": "code",
   "execution_count": 19,
   "metadata": {
    "id": "cgZFifWTEdLV",
    "tags": []
   },
   "outputs": [],
   "source": [
    "\n",
    "# Load libraries\n",
    "import pandas as pd\n",
    "import numpy as np\n",
    "import seaborn as sns\n",
    "import matplotlib.pyplot as plt\n",
    "from sklearn import datasets\n",
    "from sklearn.model_selection import cross_val_score\n",
    "from sklearn.naive_bayes import GaussianNB\n",
    "from sklearn.metrics import roc_curve, roc_auc_score"
   ]
  },
  {
   "cell_type": "code",
   "execution_count": 20,
   "metadata": {
    "id": "cVearDYvEfUB",
    "tags": []
   },
   "outputs": [],
   "source": [
    "# Load data\n",
    "iris = datasets.load_iris()\n",
    "features = iris.data\n",
    "target = iris.target"
   ]
  },
  {
   "cell_type": "code",
   "execution_count": 22,
   "metadata": {
    "id": "czyfzDY3Ej96",
    "tags": []
   },
   "outputs": [],
   "source": [
    "# Create Gaussian Naive Bayes object\n",
    "classifer = GaussianNB()\n",
    "\n",
    "# Train model\n",
    "model = classifer.fit(features, target)"
   ]
  },
  {
   "cell_type": "code",
   "execution_count": 23,
   "metadata": {
    "tags": []
   },
   "outputs": [
    {
     "data": {
      "text/plain": [
       "array([0.93333333, 0.96666667, 0.93333333, 0.93333333, 1.        ])"
      ]
     },
     "execution_count": 23,
     "metadata": {},
     "output_type": "execute_result"
    }
   ],
   "source": [
    "# Cross-validate model using accuracy\n",
    "cross_val_score(model, features, target, scoring='accuracy')"
   ]
  },
  {
   "cell_type": "markdown",
   "metadata": {
    "id": "AiANpbJ9E_DN"
   },
   "source": [
    "In scikit-learn, we train a Gaussian naive Bayes like any other model using fit, and in turn can then make predictions about the class of an observation:"
   ]
  },
  {
   "cell_type": "code",
   "execution_count": 24,
   "metadata": {
    "colab": {
     "base_uri": "https://localhost:8080/"
    },
    "id": "Lb1KzMw2FCiM",
    "outputId": "315a6da0-e8ff-4ea4-dc16-af0bfa0a46a2",
    "tags": []
   },
   "outputs": [
    {
     "data": {
      "text/plain": [
       "array([1])"
      ]
     },
     "execution_count": 24,
     "metadata": {},
     "output_type": "execute_result"
    }
   ],
   "source": [
    "# Create new observation\n",
    "new_observation = [[ 4, 4, 4, 0.4]]\n",
    "\n",
    "# Predict class\n",
    "model.predict(new_observation)"
   ]
  },
  {
   "cell_type": "code",
   "execution_count": 25,
   "metadata": {
    "colab": {
     "base_uri": "https://localhost:8080/"
    },
    "id": "YThBXoIgFROO",
    "outputId": "79449304-a445-4535-a1b9-c6813721ce2a",
    "tags": []
   },
   "outputs": [
    {
     "data": {
      "text/plain": [
       "array([[1.34715602e-38, 9.99949727e-01, 5.02727760e-05]])"
      ]
     },
     "execution_count": 25,
     "metadata": {},
     "output_type": "execute_result"
    }
   ],
   "source": [
    "classifer.predict_proba(new_observation)"
   ]
  },
  {
   "cell_type": "markdown",
   "metadata": {
    "id": "BnnBB8bUGa3c"
   },
   "source": [
    "If you are intersted in visualizing the KNN model foloow the [Sample usage of Nearest Neighbors classification](https://scikit-learn.org/stable/auto_examples/neighbors/plot_classification.html), from scikit learn website. It will plot the decision boundaries for each class."
   ]
  },
  {
   "cell_type": "code",
   "execution_count": 26,
   "metadata": {},
   "outputs": [
    {
     "data": {
      "image/png": "[encoded data removed]",
      "text/plain": [
       "<Figure size 640x480 with 1 Axes>"
      ]
     },
     "metadata": {},
     "output_type": "display_data"
    }
   ],
   "source": [
    " # Load libraries\n",
    "import matplotlib.pyplot as plt\n",
    "import seaborn as sns\n",
    "from sklearn.model_selection import train_test_split \n",
    "from sklearn.metrics import confusion_matrix\n",
    "\n",
    "# Create list of target class names\n",
    "class_names = iris.target_names\n",
    "\n",
    "# Create training and test set\n",
    "features_train, features_test, target_train, target_test = train_test_split(\n",
    "        features, target, random_state=1)\n",
    "\n",
    "target_predicted = classifer.fit(features_train,\n",
    "target_train).predict(features_test)\n",
    "\n",
    "# Create confusion matrix\n",
    "matrix = confusion_matrix(target_test, target_predicted) # Create pandas dataframe\n",
    "dataframe = pd.DataFrame(matrix, index=class_names, columns=class_names)\n",
    "\n",
    "# Create heatmap\n",
    "sns.heatmap(dataframe, annot=True, cbar=None, cmap=\"Blues\")\n",
    "plt.title(\"Confusion Matrix\"), plt.tight_layout()\n",
    "plt.ylabel(\"True Class\"), plt.xlabel(\"Predicted Class\")\n",
    "plt.show()"
   ]
  },
  {
   "cell_type": "code",
   "execution_count": null,
   "metadata": {},
   "outputs": [],
   "source": []
  }
 ],
 "metadata": {
  "colab": {
   "provenance": []
  },
  "kernelspec": {
   "display_name": "PyCamber",
   "language": "python",
   "name": "python3"
  },
  "language_info": {
   "codemirror_mode": {
    "name": "ipython",
    "version": 3
   },
   "file_extension": ".py",
   "mimetype": "text/x-python",
   "name": "python",
   "nbconvert_exporter": "python",
   "pygments_lexer": "ipython3",
   "version": "3.10.10"
  }
 },
 "nbformat": 4,
 "nbformat_minor": 4
}
