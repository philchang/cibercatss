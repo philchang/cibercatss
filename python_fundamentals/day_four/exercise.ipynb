{
 "cells": [
  {
   "cell_type": "code",
   "execution_count": 1,
   "id": "417a8a17-9d4e-45cb-ad0b-ebcdf856deae",
   "metadata": {
    "tags": []
   },
   "outputs": [],
   "source": [
    "import camber"
   ]
  },
  {
   "cell_type": "code",
   "execution_count": 2,
   "id": "27d9e055-2edd-4cb9-bc02-b5838e4259d7",
   "metadata": {
    "tags": []
   },
   "outputs": [
    {
     "name": "stdout",
     "output_type": "stream",
     "text": [
      "Requirement already satisfied: s3fs in /opt/conda/lib/python3.10/site-packages (2023.5.0)\n",
      "Requirement already satisfied: aiohttp!=4.0.0a0,!=4.0.0a1 in /opt/conda/lib/python3.10/site-packages (from s3fs) (3.8.4)\n",
      "Requirement already satisfied: aiobotocore~=2.5.0 in /opt/conda/lib/python3.10/site-packages (from s3fs) (2.5.0)\n",
      "Requirement already satisfied: fsspec==2023.5.0 in /opt/conda/lib/python3.10/site-packages (from s3fs) (2023.5.0)\n",
      "Requirement already satisfied: aioitertools>=0.5.1 in /opt/conda/lib/python3.10/site-packages (from aiobotocore~=2.5.0->s3fs) (0.11.0)\n",
      "Requirement already satisfied: botocore<1.29.77,>=1.29.76 in /opt/conda/lib/python3.10/site-packages (from aiobotocore~=2.5.0->s3fs) (1.29.76)\n",
      "Requirement already satisfied: wrapt>=1.10.10 in /opt/conda/lib/python3.10/site-packages (from aiobotocore~=2.5.0->s3fs) (1.15.0)\n",
      "Requirement already satisfied: aiosignal>=1.1.2 in /opt/conda/lib/python3.10/site-packages (from aiohttp!=4.0.0a0,!=4.0.0a1->s3fs) (1.3.1)\n",
      "Requirement already satisfied: charset-normalizer<4.0,>=2.0 in /opt/conda/lib/python3.10/site-packages (from aiohttp!=4.0.0a0,!=4.0.0a1->s3fs) (3.1.0)\n",
      "Requirement already satisfied: attrs>=17.3.0 in /opt/conda/lib/python3.10/site-packages (from aiohttp!=4.0.0a0,!=4.0.0a1->s3fs) (22.2.0)\n",
      "Requirement already satisfied: multidict<7.0,>=4.5 in /opt/conda/lib/python3.10/site-packages (from aiohttp!=4.0.0a0,!=4.0.0a1->s3fs) (6.0.4)\n",
      "Requirement already satisfied: frozenlist>=1.1.1 in /opt/conda/lib/python3.10/site-packages (from aiohttp!=4.0.0a0,!=4.0.0a1->s3fs) (1.3.3)\n",
      "Requirement already satisfied: yarl<2.0,>=1.0 in /opt/conda/lib/python3.10/site-packages (from aiohttp!=4.0.0a0,!=4.0.0a1->s3fs) (1.9.2)\n",
      "Requirement already satisfied: async-timeout<5.0,>=4.0.0a3 in /opt/conda/lib/python3.10/site-packages (from aiohttp!=4.0.0a0,!=4.0.0a1->s3fs) (4.0.2)\n",
      "Requirement already satisfied: python-dateutil<3.0.0,>=2.1 in /opt/conda/lib/python3.10/site-packages (from botocore<1.29.77,>=1.29.76->aiobotocore~=2.5.0->s3fs) (2.8.2)\n",
      "Requirement already satisfied: urllib3<1.27,>=1.25.4 in /opt/conda/lib/python3.10/site-packages (from botocore<1.29.77,>=1.29.76->aiobotocore~=2.5.0->s3fs) (1.26.15)\n",
      "Requirement already satisfied: jmespath<2.0.0,>=0.7.1 in /opt/conda/lib/python3.10/site-packages (from botocore<1.29.77,>=1.29.76->aiobotocore~=2.5.0->s3fs) (1.0.1)\n",
      "Requirement already satisfied: idna>=2.0 in /opt/conda/lib/python3.10/site-packages (from yarl<2.0,>=1.0->aiohttp!=4.0.0a0,!=4.0.0a1->s3fs) (3.4)\n",
      "Requirement already satisfied: six>=1.5 in /opt/conda/lib/python3.10/site-packages (from python-dateutil<3.0.0,>=2.1->botocore<1.29.77,>=1.29.76->aiobotocore~=2.5.0->s3fs) (1.16.0)\n"
     ]
    }
   ],
   "source": [
    "!pip install s3fs"
   ]
  },
  {
   "cell_type": "code",
   "execution_count": 3,
   "id": "33460c14-4852-4f63-ad91-378bf2b3179c",
   "metadata": {
    "tags": []
   },
   "outputs": [
    {
     "data": {
      "application/vnd.jupyter.widget-view+json": {
       "model_id": "f631afc42f3747d58dbab1fa202d8ac8",
       "version_major": 2,
       "version_minor": 0
      },
      "text/plain": [
       "Output()"
      ]
     },
     "metadata": {},
     "output_type": "display_data"
    }
   ],
   "source": [
    "spark = camber.spark.connect(worker_size=\"XSMALL\")"
   ]
  },
  {
   "cell_type": "code",
   "execution_count": 4,
   "id": "15987697-1dc8-420a-a87b-710bbc98ba3f",
   "metadata": {
    "tags": []
   },
   "outputs": [],
   "source": [
    "import pandas as pd"
   ]
  },
  {
   "cell_type": "code",
   "execution_count": 5,
   "id": "f31c5200-3112-4029-8099-c498b472eb31",
   "metadata": {
    "tags": []
   },
   "outputs": [],
   "source": [
    "DATA_PATH = \"s3://camber-spark-bkt/ciber-catts/shared-data/childhood-allergies/food-allergy-analysis.csv\""
   ]
  },
  {
   "cell_type": "code",
   "execution_count": 6,
   "id": "99971f5c-7415-406f-8857-eaeb4e99b9c8",
   "metadata": {
    "tags": []
   },
   "outputs": [],
   "source": [
    "df = pd.read_csv(DATA_PATH)"
   ]
  },
  {
   "cell_type": "code",
   "execution_count": 7,
   "id": "cb2ede88-d40a-44ef-9667-22386c0e98de",
   "metadata": {
    "tags": []
   },
   "outputs": [
    {
     "data": {
      "text/html": [
       "<div>\n",
       "<style scoped>\n",
       "    .dataframe tbody tr th:only-of-type {\n",
       "        vertical-align: middle;\n",
       "    }\n",
       "\n",
       "    .dataframe tbody tr th {\n",
       "        vertical-align: top;\n",
       "    }\n",
       "\n",
       "    .dataframe thead th {\n",
       "        text-align: right;\n",
       "    }\n",
       "</style>\n",
       "<table border=\"1\" class=\"dataframe\">\n",
       "  <thead>\n",
       "    <tr style=\"text-align: right;\">\n",
       "      <th></th>\n",
       "      <th>SUBJECT_ID</th>\n",
       "      <th>BIRTH_YEAR</th>\n",
       "      <th>GENDER_FACTOR</th>\n",
       "      <th>RACE_FACTOR</th>\n",
       "      <th>ETHNICITY_FACTOR</th>\n",
       "      <th>PAYER_FACTOR</th>\n",
       "      <th>ATOPIC_MARCH_COHORT</th>\n",
       "      <th>AGE_START_YEARS</th>\n",
       "      <th>AGE_END_YEARS</th>\n",
       "      <th>SHELLFISH_ALG_START</th>\n",
       "      <th>...</th>\n",
       "      <th>CASHEW_ALG_END</th>\n",
       "      <th>ATOPIC_DERM_START</th>\n",
       "      <th>ATOPIC_DERM_END</th>\n",
       "      <th>ALLERGIC_RHINITIS_START</th>\n",
       "      <th>ALLERGIC_RHINITIS_END</th>\n",
       "      <th>ASTHMA_START</th>\n",
       "      <th>ASTHMA_END</th>\n",
       "      <th>FIRST_ASTHMARX</th>\n",
       "      <th>LAST_ASTHMARX</th>\n",
       "      <th>NUM_ASTHMARX</th>\n",
       "    </tr>\n",
       "  </thead>\n",
       "  <tbody>\n",
       "    <tr>\n",
       "      <th>0</th>\n",
       "      <td>1</td>\n",
       "      <td>2006</td>\n",
       "      <td>S1 - Female</td>\n",
       "      <td>R1 - Black</td>\n",
       "      <td>E0 - Non-Hispanic</td>\n",
       "      <td>P1 - Medicaid</td>\n",
       "      <td>False</td>\n",
       "      <td>0.093087</td>\n",
       "      <td>3.164956</td>\n",
       "      <td>NaN</td>\n",
       "      <td>...</td>\n",
       "      <td>NaN</td>\n",
       "      <td>NaN</td>\n",
       "      <td>NaN</td>\n",
       "      <td>NaN</td>\n",
       "      <td>NaN</td>\n",
       "      <td>NaN</td>\n",
       "      <td>NaN</td>\n",
       "      <td>NaN</td>\n",
       "      <td>NaN</td>\n",
       "      <td>NaN</td>\n",
       "    </tr>\n",
       "    <tr>\n",
       "      <th>1</th>\n",
       "      <td>2</td>\n",
       "      <td>1994</td>\n",
       "      <td>S1 - Female</td>\n",
       "      <td>R0 - White</td>\n",
       "      <td>E0 - Non-Hispanic</td>\n",
       "      <td>P0 - Non-Medicaid</td>\n",
       "      <td>False</td>\n",
       "      <td>12.232717</td>\n",
       "      <td>18.880219</td>\n",
       "      <td>NaN</td>\n",
       "      <td>...</td>\n",
       "      <td>NaN</td>\n",
       "      <td>NaN</td>\n",
       "      <td>NaN</td>\n",
       "      <td>NaN</td>\n",
       "      <td>NaN</td>\n",
       "      <td>NaN</td>\n",
       "      <td>NaN</td>\n",
       "      <td>12.262834</td>\n",
       "      <td>18.880219</td>\n",
       "      <td>2.0</td>\n",
       "    </tr>\n",
       "    <tr>\n",
       "      <th>2</th>\n",
       "      <td>3</td>\n",
       "      <td>2006</td>\n",
       "      <td>S0 - Male</td>\n",
       "      <td>R0 - White</td>\n",
       "      <td>E1 - Hispanic</td>\n",
       "      <td>P0 - Non-Medicaid</td>\n",
       "      <td>True</td>\n",
       "      <td>0.010951</td>\n",
       "      <td>6.726899</td>\n",
       "      <td>NaN</td>\n",
       "      <td>...</td>\n",
       "      <td>NaN</td>\n",
       "      <td>4.884326</td>\n",
       "      <td>NaN</td>\n",
       "      <td>3.917864</td>\n",
       "      <td>6.157426</td>\n",
       "      <td>5.127995</td>\n",
       "      <td>NaN</td>\n",
       "      <td>1.404517</td>\n",
       "      <td>6.157426</td>\n",
       "      <td>4.0</td>\n",
       "    </tr>\n",
       "    <tr>\n",
       "      <th>3</th>\n",
       "      <td>4</td>\n",
       "      <td>2004</td>\n",
       "      <td>S0 - Male</td>\n",
       "      <td>R4 - Unknown</td>\n",
       "      <td>E1 - Hispanic</td>\n",
       "      <td>P0 - Non-Medicaid</td>\n",
       "      <td>False</td>\n",
       "      <td>2.398357</td>\n",
       "      <td>9.111567</td>\n",
       "      <td>NaN</td>\n",
       "      <td>...</td>\n",
       "      <td>NaN</td>\n",
       "      <td>NaN</td>\n",
       "      <td>NaN</td>\n",
       "      <td>NaN</td>\n",
       "      <td>NaN</td>\n",
       "      <td>NaN</td>\n",
       "      <td>NaN</td>\n",
       "      <td>NaN</td>\n",
       "      <td>NaN</td>\n",
       "      <td>NaN</td>\n",
       "    </tr>\n",
       "    <tr>\n",
       "      <th>4</th>\n",
       "      <td>5</td>\n",
       "      <td>2006</td>\n",
       "      <td>S1 - Female</td>\n",
       "      <td>R1 - Black</td>\n",
       "      <td>E0 - Non-Hispanic</td>\n",
       "      <td>P0 - Non-Medicaid</td>\n",
       "      <td>False</td>\n",
       "      <td>0.013689</td>\n",
       "      <td>6.193018</td>\n",
       "      <td>NaN</td>\n",
       "      <td>...</td>\n",
       "      <td>NaN</td>\n",
       "      <td>NaN</td>\n",
       "      <td>NaN</td>\n",
       "      <td>NaN</td>\n",
       "      <td>NaN</td>\n",
       "      <td>NaN</td>\n",
       "      <td>NaN</td>\n",
       "      <td>NaN</td>\n",
       "      <td>NaN</td>\n",
       "      <td>NaN</td>\n",
       "    </tr>\n",
       "  </tbody>\n",
       "</table>\n",
       "<p>5 rows × 50 columns</p>\n",
       "</div>"
      ],
      "text/plain": [
       "   SUBJECT_ID  BIRTH_YEAR GENDER_FACTOR   RACE_FACTOR   ETHNICITY_FACTOR   \n",
       "0           1        2006   S1 - Female    R1 - Black  E0 - Non-Hispanic  \\\n",
       "1           2        1994   S1 - Female    R0 - White  E0 - Non-Hispanic   \n",
       "2           3        2006     S0 - Male    R0 - White      E1 - Hispanic   \n",
       "3           4        2004     S0 - Male  R4 - Unknown      E1 - Hispanic   \n",
       "4           5        2006   S1 - Female    R1 - Black  E0 - Non-Hispanic   \n",
       "\n",
       "        PAYER_FACTOR  ATOPIC_MARCH_COHORT  AGE_START_YEARS  AGE_END_YEARS   \n",
       "0      P1 - Medicaid                False         0.093087       3.164956  \\\n",
       "1  P0 - Non-Medicaid                False        12.232717      18.880219   \n",
       "2  P0 - Non-Medicaid                 True         0.010951       6.726899   \n",
       "3  P0 - Non-Medicaid                False         2.398357       9.111567   \n",
       "4  P0 - Non-Medicaid                False         0.013689       6.193018   \n",
       "\n",
       "   SHELLFISH_ALG_START  ...  CASHEW_ALG_END  ATOPIC_DERM_START   \n",
       "0                  NaN  ...             NaN                NaN  \\\n",
       "1                  NaN  ...             NaN                NaN   \n",
       "2                  NaN  ...             NaN           4.884326   \n",
       "3                  NaN  ...             NaN                NaN   \n",
       "4                  NaN  ...             NaN                NaN   \n",
       "\n",
       "   ATOPIC_DERM_END  ALLERGIC_RHINITIS_START  ALLERGIC_RHINITIS_END   \n",
       "0              NaN                      NaN                    NaN  \\\n",
       "1              NaN                      NaN                    NaN   \n",
       "2              NaN                 3.917864               6.157426   \n",
       "3              NaN                      NaN                    NaN   \n",
       "4              NaN                      NaN                    NaN   \n",
       "\n",
       "   ASTHMA_START  ASTHMA_END  FIRST_ASTHMARX  LAST_ASTHMARX  NUM_ASTHMARX  \n",
       "0           NaN         NaN             NaN            NaN           NaN  \n",
       "1           NaN         NaN       12.262834      18.880219           2.0  \n",
       "2      5.127995         NaN        1.404517       6.157426           4.0  \n",
       "3           NaN         NaN             NaN            NaN           NaN  \n",
       "4           NaN         NaN             NaN            NaN           NaN  \n",
       "\n",
       "[5 rows x 50 columns]"
      ]
     },
     "execution_count": 7,
     "metadata": {},
     "output_type": "execute_result"
    }
   ],
   "source": [
    "df.head()"
   ]
  },
  {
   "cell_type": "markdown",
   "id": "877a5676-4f4c-4cd4-976f-560499ba19ab",
   "metadata": {},
   "source": [
    "# Exercise Description\n",
    "\n",
    "This dataset provides valuable information about the prevalence and treatment outcomes of childhood allergies over a long period. It includes data reported by healthcare providers, indicating the number of individuals currently affected by asthma, atopic dermatitis, allergic rhinitis, and food allergies. Additionally, the dataset offers various columns that enable us to analyze and understand how these outcomes vary across different demographics like gender, race, and ethnicity. By studying this data more closely, we can identify patterns and trends among diagnosed cases, which can contribute to the development of new treatments and prevention strategies. Ultimately, these insights have the potential to protect countless children worldwide from experiencing severe allergic reactions.\n",
    "\n",
    "This is open-ended exercise and you have to explore insights by yourself. Please utilize the tutorial notebooks as reference (provided during lecture) to analyze this dataset.\n",
    "\n",
    "1. What specific questions do you hope to answer using this dataset? Are you interested in studying a particular type of allergy or analyzing them collectively? Do you prefer a descriptive analysis to understand the data better, or would you like to explore correlations between different conditions?\n",
    "\n",
    "2. Once you have defined your research question(s), identify the relevant variables from the dataset that are pertinent to your inquiry. Also, assess any outliers that may require further investigation or filtering during your analysis.\n",
    "\n",
    "**Note**: If you plan to utilize alternative techniques beyond what was taught in the tutorial notebooks, make sure to provide references for those methods and explain their relevance to your analysis. Additionally, compare and contrast the mechanisms of these new methods with detailed code examples to the techniques covered in the lecture notebooks."
   ]
  },
  {
   "cell_type": "code",
   "execution_count": 1,
   "id": "1fde5316-01b7-47c0-81d2-0dff71b51d45",
   "metadata": {},
   "outputs": [],
   "source": [
    "# Start your analysis"
   ]
  },
  {
   "cell_type": "code",
   "execution_count": null,
   "id": "0473a1e9-afd9-4e36-9143-38cf38d83196",
   "metadata": {},
   "outputs": [],
   "source": []
  }
 ],
 "metadata": {
  "kernelspec": {
   "display_name": "PyCamber",
   "language": "python",
   "name": "python3"
  },
  "language_info": {
   "codemirror_mode": {
    "name": "ipython",
    "version": 3
   },
   "file_extension": ".py",
   "mimetype": "text/x-python",
   "name": "python",
   "nbconvert_exporter": "python",
   "pygments_lexer": "ipython3",
   "version": "3.10.10"
  }
 },
 "nbformat": 4,
 "nbformat_minor": 5
}
