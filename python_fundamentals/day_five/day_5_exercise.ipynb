{
 "cells": [
  {
   "cell_type": "code",
   "execution_count": 12,
   "id": "b13b9492-8819-466d-990e-048806ed33ec",
   "metadata": {
    "tags": []
   },
   "outputs": [],
   "source": [
    "import camber"
   ]
  },
  {
   "cell_type": "code",
   "execution_count": 13,
   "id": "49d8b518-8905-4c9a-a451-6b20fe0a0ade",
   "metadata": {
    "tags": []
   },
   "outputs": [
    {
     "data": {
      "application/vnd.jupyter.widget-view+json": {
       "model_id": "eaa5399bf26646999d2cfd09aa3f7a6a",
       "version_major": 2,
       "version_minor": 0
      },
      "text/plain": [
       "Output()"
      ]
     },
     "metadata": {},
     "output_type": "display_data"
    }
   ],
   "source": [
    "spark = camber.spark.connect(worker_size=\"XSMALL\")"
   ]
  },
  {
   "cell_type": "markdown",
   "id": "cd20bc3f-112f-48da-b824-37b31037b70a",
   "metadata": {},
   "source": [
    "# Necessary Imports"
   ]
  },
  {
   "cell_type": "code",
   "execution_count": 14,
   "id": "66bf3676-7f2a-42cb-af94-2594f4b1f658",
   "metadata": {
    "tags": []
   },
   "outputs": [],
   "source": [
    "import pyspark\n",
    "\n",
    "import pandas as pd \n",
    "import numpy as np\n",
    "\n",
    "import seaborn as sns\n",
    "import matplotlib as mpl\n",
    "from matplotlib import pyplot as plt"
   ]
  },
  {
   "cell_type": "markdown",
   "id": "3dc939d6-5515-4bbc-8106-aea1143be9a1",
   "metadata": {},
   "source": [
    "# Load the dataset"
   ]
  },
  {
   "cell_type": "code",
   "execution_count": 15,
   "id": "b2d7a047-e943-4f36-865b-180f10923db9",
   "metadata": {
    "tags": []
   },
   "outputs": [],
   "source": [
    "# Load the JSON data into a DataFrame\n",
    "df = spark.read.json('s3a://camber-spark-bkt/ciber-catts/shared-data/endomondoHR/', mode=\"DROPMALFORMED\")"
   ]
  },
  {
   "cell_type": "code",
   "execution_count": 16,
   "id": "93933f21-e145-4c4a-b195-c47dedd8b239",
   "metadata": {
    "tags": []
   },
   "outputs": [
    {
     "name": "stdout",
     "output_type": "stream",
     "text": [
      "Schema overview\n",
      "root\n",
      " |-- altitude: array (nullable = true)\n",
      " |    |-- element: double (containsNull = true)\n",
      " |-- gender: string (nullable = true)\n",
      " |-- heart_rate: array (nullable = true)\n",
      " |    |-- element: long (containsNull = true)\n",
      " |-- id: long (nullable = true)\n",
      " |-- latitude: array (nullable = true)\n",
      " |    |-- element: double (containsNull = true)\n",
      " |-- longitude: array (nullable = true)\n",
      " |    |-- element: double (containsNull = true)\n",
      " |-- speed: array (nullable = true)\n",
      " |    |-- element: double (containsNull = true)\n",
      " |-- sport: string (nullable = true)\n",
      " |-- timestamp: array (nullable = true)\n",
      " |    |-- element: long (containsNull = true)\n",
      " |-- url: string (nullable = true)\n",
      " |-- userId: long (nullable = true)\n",
      "\n"
     ]
    }
   ],
   "source": [
    "print('Schema overview')\n",
    "df.printSchema()"
   ]
  },
  {
   "cell_type": "code",
   "execution_count": 19,
   "id": "486eefe7-cfed-4481-99fa-2c893221ab45",
   "metadata": {
    "tags": []
   },
   "outputs": [
    {
     "name": "stdout",
     "output_type": "stream",
     "text": [
      "+--------------------+------+--------------------+---------+--------------------+--------------------+--------------------+-------------+--------------------+--------------------+--------+\n",
      "|            altitude|gender|          heart_rate|       id|            latitude|           longitude|               speed|        sport|           timestamp|                 url|  userId|\n",
      "+--------------------+------+--------------------+---------+--------------------+--------------------+--------------------+-------------+--------------------+--------------------+--------+\n",
      "|[34.8, 35.2, 33.8...|  male|[121, 128, 133, 1...|294229534|[45.6687360629439...|[16.5148551855236...|                null|         bike|[1391727581, 1391...|https://www.endom...| 4572860|\n",
      "|[34.8, 34.8, 34.8...|  male|[87, 90, 92, 93, ...|289213252|[45.6685770582407...|[16.5148167964071...|                null|          run|[1390354774, 1390...|https://www.endom...| 4572860|\n",
      "|[34.8, 34.6, 37.4...|  male|[109, 119, 137, 1...|287963607|[45.6686845142394...|[16.5148209873586...|                null|mountain bike|[1390143216, 1390...|https://www.endom...| 4572860|\n",
      "|[34.8, 33.6, 33.4...|  male|[91, 112, 124, 13...|287625967|[45.6686611287295...|[16.5148189757019...|                null|mountain bike|[1390019248, 1390...|https://www.endom...| 4572860|\n",
      "|[34.8, 35.6, 36.6...|  male|[93, 117, 135, 13...|286790361|[45.6686750426888...|[16.5148614719510...|[7.5564, 17.8416,...|mountain bike|[1389825130, 1389...|https://www.endom...| 4572860|\n",
      "|[138.0, 138.2, 13...|  male|[79, 102, 123, 13...|285009303|[45.6685806624591...|[16.5148208197206...|                null|mountain bike|[1389414252, 1389...|https://www.endom...| 4572860|\n",
      "|[135.0, 133.8, 13...|  male|[96, 107, 114, 12...|284569866|[45.6688117515295...|[16.5148496534675...|[6.678, 16.0812, ...|mountain bike|[1389307909, 1389...|https://www.endom...| 4572860|\n",
      "|[109.0, 105.8, 10...|  male|[56, 83, 80, 102,...|337072681|[54.970441, 54.97...|[73.433078, 73.43...|                null|          run|[1399587125, 1399...|https://www.endom...|11954853|\n",
      "|[112.3, 112.4, 11...|  male|[99, 102, 103, 10...|335880099|[54.967887, 54.96...|[73.428207, 73.42...|                null|          run|[1399503152, 1399...|https://www.endom...|11954853|\n",
      "|[105.7, 105.6, 10...|  male|[79, 81, 82, 86, ...|335879821|[54.97061, 54.970...|[73.431761, 73.43...|                null|          run|[1399500588, 1399...|https://www.endom...|11954853|\n",
      "|[106.0, 105.8, 10...|  male|[76, 83, 88, 89, ...|335279016|[54.970493, 54.97...|[73.432186, 73.43...|                null|          run|[1399413844, 1399...|https://www.endom...|11954853|\n",
      "|[106.3, 106.3, 10...|  male|[77, 77, 77, 88, ...|335143246|[54.97047, 54.970...|[73.432261, 73.43...|                null|          run|[1399330584, 1399...|https://www.endom...|11954853|\n",
      "|[73.7, 73.5, 73.4...|  male|[94, 100, 104, 10...|331317008|[54.958251, 54.95...|[73.356003, 73.35...|                null|          run|[1398619221, 1398...|https://www.endom...|11954853|\n",
      "|[106.3, 106.3, 10...|  male|[89, 89, 89, 89, ...|331316704|[54.970453, 54.97...|[73.432268, 73.43...|                null|          run|[1398466380, 1398...|https://www.endom...|11954853|\n",
      "|[105.7, 105.6, 10...|  male|[85, 85, 92, 97, ...|328063503|[54.97055, 54.970...|[73.431807, 73.43...|                null|          run|[1398294150, 1398...|https://www.endom...|11954853|\n",
      "|[106.2, 106.0, 10...|  male|[61, 61, 98, 98, ...|327331887|[54.970456, 54.97...|[73.432231, 73.43...|                null|          run|[1398123620, 1398...|https://www.endom...|11954853|\n",
      "|[106.5, 106.4, 10...|  male|[66, 76, 75, 76, ...|327332267|[54.970418, 54.97...|[73.432492, 73.43...|                null|          run|[1397856497, 1397...|https://www.endom...|11954853|\n",
      "|[106.3, 106.3, 10...|  male|[67, 74, 79, 91, ...|324605339|[54.970417, 54.97...|[73.432492, 73.43...|                null|          run|[1397680453, 1397...|https://www.endom...|11954853|\n",
      "|[106.0, 105.9, 10...|  male|[78, 78, 87, 96, ...|324605213|[54.9705, 54.9705...|[73.432102, 73.43...|                null|          run|[1397605960, 1397...|https://www.endom...|11954853|\n",
      "|[110.8, 110.4, 10...|female|[114, 116, 114, 1...|603813635|[56.2558574415743...|[9.86874793656170...|[9.4824, 13.122, ...|         bike|[1442599713, 1442...|https://www.endom...| 1878236|\n",
      "+--------------------+------+--------------------+---------+--------------------+--------------------+--------------------+-------------+--------------------+--------------------+--------+\n",
      "only showing top 20 rows\n",
      "\n"
     ]
    }
   ],
   "source": [
    "df.show()"
   ]
  },
  {
   "cell_type": "markdown",
   "id": "00d7bcdc-e9bd-4a7c-9646-641977b9e0d7",
   "metadata": {},
   "source": [
    "# Example to handle nested elements"
   ]
  },
  {
   "cell_type": "code",
   "execution_count": 6,
   "id": "203f1088-964c-48f5-ba6f-58f62e84416e",
   "metadata": {
    "tags": []
   },
   "outputs": [],
   "source": [
    "from pyspark.sql.functions import col, explode, expr\n",
    "from pyspark.sql.types import FloatType\n",
    "import statistics\n",
    "\n",
    "# Assuming your DataFrame is called \"df\" and the column with Array<bigint> is called \"heartrate\"\n",
    "\n",
    "# Explode the array column into multiple rows\n",
    "run_df_heart = df.select(col(\"id\"), explode(col(\"heart_rate\")).alias(\"heart_value\"))\n",
    "# Convert the exploded column to FloatType for further analysis\n",
    "run_df_heart = run_df_heart.withColumn(\"heart_value\", run_df_heart[\"heart_value\"].cast(FloatType()))\n"
   ]
  },
  {
   "cell_type": "code",
   "execution_count": 7,
   "id": "895dc9c8-b606-467e-a9f4-e2f923b90046",
   "metadata": {
    "tags": []
   },
   "outputs": [
    {
     "name": "stdout",
     "output_type": "stream",
     "text": [
      "+---------+-----------+\n",
      "|       id|heart_value|\n",
      "+---------+-----------+\n",
      "|294229534|      121.0|\n",
      "|294229534|      128.0|\n",
      "|294229534|      133.0|\n",
      "|294229534|      137.0|\n",
      "|294229534|      137.0|\n",
      "|294229534|      133.0|\n",
      "|294229534|      128.0|\n",
      "|294229534|      130.0|\n",
      "|294229534|      128.0|\n",
      "|294229534|      124.0|\n",
      "|294229534|      123.0|\n",
      "|294229534|      120.0|\n",
      "|294229534|      123.0|\n",
      "|294229534|      126.0|\n",
      "|294229534|      138.0|\n",
      "|294229534|      149.0|\n",
      "|294229534|      159.0|\n",
      "|294229534|      169.0|\n",
      "|294229534|      173.0|\n",
      "|294229534|      173.0|\n",
      "+---------+-----------+\n",
      "only showing top 20 rows\n",
      "\n"
     ]
    }
   ],
   "source": [
    "run_df_heart.show()"
   ]
  },
  {
   "cell_type": "markdown",
   "id": "bb981492-4e65-4f1a-a750-87d7480408c9",
   "metadata": {},
   "source": [
    "👀 **Tutorial**:\n",
    "\n",
    "`run_df.select(col(\"id\"), explode(col(\"heart_rate\")).alias(\"heart_value\"))`: We are selecting two columns from the DataFrame `run_df`: \"id\" and \"heart_rate\". The `explode()` function is used to explode the \"heart_rate\" array column, which means it will create a new row for each element in the array. The `alias()` function renames the exploded column as \"heart_value\" in the resulting DataFrame, `run_df_heart`.\n",
    "\n",
    "\n",
    "For example, let's say the initial DataFrame `run_df` has the following structure:\n",
    "\n",
    "```\n",
    "+---+----------------+\n",
    "|id |heart_rate      |\n",
    "+---+----------------+\n",
    "|1  |[70, 75, 80]   |\n",
    "|2  |[85, 90]       |\n",
    "+---+----------------+\n",
    "\n",
    "```\n",
    "\n",
    "After applying `run_df.select(col(\"id\"), explode(col(\"heart_rate\")).alias(\"heart_value\"))`, the resulting DataFrame run_df_heart will look like this:\n",
    "\n",
    "```\n",
    "+---+------------+\n",
    "|id |heart_value |\n",
    "+---+------------+\n",
    "|1  |70          |\n",
    "|1  |75          |\n",
    "|1  |80          |\n",
    "|2  |85          |\n",
    "|2  |90          |\n",
    "+---+------------+\n",
    "\n",
    "```\n"
   ]
  },
  {
   "cell_type": "markdown",
   "id": "2e19747d-a4e4-4609-aa85-84a2a237c17d",
   "metadata": {},
   "source": [
    "## Utilizing RDD (example)"
   ]
  },
  {
   "cell_type": "code",
   "execution_count": 8,
   "id": "8c4983a2-df70-4bbc-b7ac-237b321366f4",
   "metadata": {
    "tags": []
   },
   "outputs": [],
   "source": [
    "rdd = run_df_heart.rdd\n"
   ]
  },
  {
   "cell_type": "code",
   "execution_count": 20,
   "id": "d35ba320-a363-4f14-be59-df51766a6fb0",
   "metadata": {
    "tags": []
   },
   "outputs": [],
   "source": [
    "# Step 2: Map to create key-value pairs\n",
    "key_value_rdd = rdd.map(lambda row: (row[\"id\"], row[\"heart_value\"])) \n",
    "\n",
    "# Step 3: Calculate the mean heart rate for each user\n",
    "mean_heart_rate_rdd = key_value_rdd.groupByKey() \\\n",
    "                                  .mapValues(lambda x: sum(x) / len(x))\n",
    "\n",
    "# Printing the result\n",
    "# for user_id, mean_heart_rate in mean_heart_rate_rdd.collect():\n",
    "#     print(f\"User ID: {user_id}, Mean Heart Rate: {mean_heart_rate}\")\n",
    "\n"
   ]
  },
  {
   "cell_type": "markdown",
   "id": "dae8c61d-9b38-4d26-8075-fd0c00af69dd",
   "metadata": {
    "tags": []
   },
   "source": [
    "# Exercise: Endomondo Sensor Data\n",
    "\n",
    "\n",
    "The given datasets consist of exercise records from Endomondo, a fitness tracking platform. The data includes sequential sensor information like heart rate, speed, GPS coordinates, as well as details about the sport type, user gender, and weather conditions such as temperature and humidity.\n",
    "\n",
    "Your objective is to analyze the data using Spark RDD and/or Spark DataFrame to derive valuable insights. One example of potential research question could include:\n",
    "\n",
    "1. Identifying instances where a specific individual had higher or lower heart rates during particular workouts, if any.\n",
    "2. Comparing the heart rate of the specific individual to other users during similar workouts.\n",
    "   - Investigating whether altitude played a role in the observed heart rate differences.\n",
    "   - Exploring the impact of speed on heart rate.\n",
    "   - Examining the potential relationship between heart rate and temperature.\n",
    "\n",
    "The exercise is open-ended, but your insights should be supported by concrete reasoning and patterns/trends observed in the data. \n"
   ]
  },
  {
   "cell_type": "code",
   "execution_count": null,
   "id": "9aa6530a-b18f-4bfb-9ddb-d62a77ab7773",
   "metadata": {
    "tags": []
   },
   "outputs": [],
   "source": []
  },
  {
   "cell_type": "code",
   "execution_count": null,
   "id": "59bf17c4-78c1-4b53-b6f9-c47d6ca7ec62",
   "metadata": {},
   "outputs": [],
   "source": []
  }
 ],
 "metadata": {
  "kernelspec": {
   "display_name": "PyCamber",
   "language": "python",
   "name": "python3"
  },
  "language_info": {
   "codemirror_mode": {
    "name": "ipython",
    "version": 3
   },
   "file_extension": ".py",
   "mimetype": "text/x-python",
   "name": "python",
   "nbconvert_exporter": "python",
   "pygments_lexer": "ipython3",
   "version": "3.10.10"
  }
 },
 "nbformat": 4,
 "nbformat_minor": 5
}
