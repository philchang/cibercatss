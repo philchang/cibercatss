{
 "cells": [
  {
   "cell_type": "markdown",
   "id": "ad994070-ac0e-4449-828c-8b90d141c349",
   "metadata": {
    "collapsed": true,
    "jupyter": {
     "outputs_hidden": true
    }
   },
   "source": [
    "# Pandas Series\n",
    "\n",
    "In this section, we will introduce Pandas **Series**, the Python equivalent of a column of data, and cover their basic properties, creation, manipulation, and useful functions for analysis.\n",
    "\n",
    "## Goals for this lesson:\n",
    "- Understand the relationship between Pandas Series and NumPy arrays\n",
    "- Use the `.loc()` and `.iloc()` methods to access Series data by their indices or values\n",
    "- Learn to sort, filter, and aggregate Pandas Series using methods and functions\n",
    "- Apply custom functions using conditional logic to Pandas Series"
   ]
  },
  {
   "cell_type": "markdown",
   "id": "9523135f-a49b-4a3b-80c1-798c4de3dd21",
   "metadata": {},
   "source": [
    "# Introduction to Series\n",
    "\n",
    "**Series** are Pandas data structures built on top of NumPy arrays\n",
    "- Series also contain an **index** and have an **optional name**, in addition to the array of data\n",
    "- They can be created from other data types, but are usually imported from external sources\n",
    "- Two or more Series grouped together form a Pandas DataFrame"
   ]
  },
  {
   "cell_type": "code",
   "execution_count": 1,
   "id": "e065aef6-f7c8-4b82-9d99-06df3a15ace9",
   "metadata": {},
   "outputs": [],
   "source": [
    "import numpy as np\n",
    "import pandas as pd"
   ]
  },
  {
   "cell_type": "code",
   "execution_count": 2,
   "id": "e0375514-ca5e-4b1e-83a8-07314b62423c",
   "metadata": {},
   "outputs": [
    {
     "data": {
      "text/plain": [
       "0       0\n",
       "1       5\n",
       "2     155\n",
       "3       0\n",
       "4     518\n",
       "5       0\n",
       "6    1827\n",
       "7     616\n",
       "8     317\n",
       "9     325\n",
       "Name: Sales, dtype: int64"
      ]
     },
     "execution_count": 2,
     "metadata": {},
     "output_type": "execute_result"
    }
   ],
   "source": [
    "sales = [0, 5, 155, 0, 518, 0, 1827, 616, 317, 325]\n",
    "\n",
    "sales_series = pd.Series(sales, name=\"Sales\")\n",
    "sales_series"
   ]
  },
  {
   "cell_type": "markdown",
   "id": "1e6b6409-5e1f-4e9d-9edf-9809c0ac80eb",
   "metadata": {},
   "source": [
    "> - Pandas' Series function converts Python lists and NumPy arrays into Pandas Series.\n",
    "> - The name argument lets you specify a name.\n",
    "> - The index is an array of integers starting at 0 by default, but it can be modified."
   ]
  },
  {
   "cell_type": "markdown",
   "id": "f339db34-379d-4035-a6c7-81037a3872d4",
   "metadata": {},
   "source": [
    "# Series Properties\n",
    "\n",
    "Pandas Series have these key properties:\n",
    "- **values** - the data array in the Series\n",
    "- **index**  - the index array in the Series\n",
    "- **name**   - the optional name for the Series (*useful for accessing columns in a DataFrame*)\n",
    "- **dtype**  - the data type of the elements in the values array\n"
   ]
  },
  {
   "cell_type": "code",
   "execution_count": 3,
   "id": "d98b3c33-5ae4-44aa-a063-aa191bf6b10a",
   "metadata": {},
   "outputs": [
    {
     "data": {
      "text/plain": [
       "array([   0,    5,  155,    0,  518,    0, 1827,  616,  317,  325],\n",
       "      dtype=int64)"
      ]
     },
     "execution_count": 3,
     "metadata": {},
     "output_type": "execute_result"
    }
   ],
   "source": [
    "sales_series.values"
   ]
  },
  {
   "cell_type": "code",
   "execution_count": 4,
   "id": "0cf0a2a3-2205-4bbb-94b5-7e2b6b9bbb07",
   "metadata": {},
   "outputs": [
    {
     "data": {
      "text/plain": [
       "RangeIndex(start=0, stop=10, step=1)"
      ]
     },
     "execution_count": 4,
     "metadata": {},
     "output_type": "execute_result"
    }
   ],
   "source": [
    "sales_series.index"
   ]
  },
  {
   "cell_type": "code",
   "execution_count": 5,
   "id": "872eb0c3-9a72-4af5-9e12-41b26cd085c5",
   "metadata": {},
   "outputs": [
    {
     "data": {
      "text/plain": [
       "'Sales'"
      ]
     },
     "execution_count": 5,
     "metadata": {},
     "output_type": "execute_result"
    }
   ],
   "source": [
    "sales_series.name"
   ]
  },
  {
   "cell_type": "code",
   "execution_count": 6,
   "id": "11680b9b-1a2e-4955-9fcc-5b9cdbd8bbd5",
   "metadata": {},
   "outputs": [
    {
     "data": {
      "text/plain": [
       "dtype('int64')"
      ]
     },
     "execution_count": 6,
     "metadata": {},
     "output_type": "execute_result"
    }
   ],
   "source": [
    "sales_series.dtype"
   ]
  },
  {
   "cell_type": "markdown",
   "id": "fd6293b8-4551-4671-b553-2372ac816fca",
   "metadata": {},
   "source": [
    "> You can **convert the datatype** in a Pandas Series by using the `.astype()` method and specifying the desired data type (if compatible)"
   ]
  },
  {
   "cell_type": "code",
   "execution_count": 7,
   "id": "1b650581-7e74-4a28-95ef-72b74c1e835e",
   "metadata": {},
   "outputs": [
    {
     "data": {
      "text/plain": [
       "0       0\n",
       "1       5\n",
       "2     155\n",
       "3       0\n",
       "4     518\n",
       "5       0\n",
       "6    1827\n",
       "7     616\n",
       "8     317\n",
       "9     325\n",
       "Name: Sales, dtype: int64"
      ]
     },
     "execution_count": 7,
     "metadata": {},
     "output_type": "execute_result"
    }
   ],
   "source": [
    "sales_series"
   ]
  },
  {
   "cell_type": "code",
   "execution_count": 8,
   "id": "e7539e05-d13c-46e9-8e3c-e84cb3b62ca1",
   "metadata": {},
   "outputs": [
    {
     "data": {
      "text/plain": [
       "0       0.0\n",
       "1       5.0\n",
       "2     155.0\n",
       "3       0.0\n",
       "4     518.0\n",
       "5       0.0\n",
       "6    1827.0\n",
       "7     616.0\n",
       "8     317.0\n",
       "9     325.0\n",
       "Name: Sales, dtype: float64"
      ]
     },
     "execution_count": 8,
     "metadata": {},
     "output_type": "execute_result"
    }
   ],
   "source": [
    "sales_series.astype(\"float\")"
   ]
  },
  {
   "cell_type": "code",
   "execution_count": 9,
   "id": "1590715a-c165-4bb7-811e-44810ab09b77",
   "metadata": {},
   "outputs": [
    {
     "data": {
      "text/plain": [
       "0    False\n",
       "1     True\n",
       "2     True\n",
       "3    False\n",
       "4     True\n",
       "5    False\n",
       "6     True\n",
       "7     True\n",
       "8     True\n",
       "9     True\n",
       "Name: Sales, dtype: bool"
      ]
     },
     "execution_count": 9,
     "metadata": {},
     "output_type": "execute_result"
    }
   ],
   "source": [
    "sales_series.astype(\"bool\")"
   ]
  },
  {
   "cell_type": "code",
   "execution_count": 10,
   "id": "8b26966a-62b9-46f3-828d-d8cce444c8b6",
   "metadata": {},
   "outputs": [
    {
     "data": {
      "text/plain": [
       "0   1970-01-01 00:00:00.000000000\n",
       "1   1970-01-01 00:00:00.000000005\n",
       "2   1970-01-01 00:00:00.000000155\n",
       "3   1970-01-01 00:00:00.000000000\n",
       "4   1970-01-01 00:00:00.000000518\n",
       "5   1970-01-01 00:00:00.000000000\n",
       "6   1970-01-01 00:00:00.000001827\n",
       "7   1970-01-01 00:00:00.000000616\n",
       "8   1970-01-01 00:00:00.000000317\n",
       "9   1970-01-01 00:00:00.000000325\n",
       "Name: Sales, dtype: datetime64[ns]"
      ]
     },
     "execution_count": 10,
     "metadata": {},
     "output_type": "execute_result"
    }
   ],
   "source": [
    "sales_series.astype(\"datetime64[ns]\")"
   ]
  },
  {
   "cell_type": "code",
   "execution_count": null,
   "id": "c6d19725-15c4-42ae-9e6f-47ed167d4605",
   "metadata": {},
   "outputs": [],
   "source": []
  },
  {
   "cell_type": "markdown",
   "id": "5987677e-f2d3-447f-9f60-0a1758cea287",
   "metadata": {},
   "source": [
    "# EXERCISE: SERIES BASICS\n",
    "\n",
    "#### NEW MESSAGE: \n",
    "- From: Rachel Revenue (Financial Analyst)\n",
    "- Subject: Oil Price Series\n",
    "\n",
    "`Hi there, glad to have you on the team!`\n",
    "\n",
    "`I work in the finance department, and I’m working on an\n",
    "analysis on the impact of oil prices on our sales.`\n",
    "\n",
    "`Our last analyst read in oil data and created a NumPy array, can you\n",
    "convert that to a Pandas Series and report back on properties\n",
    "of the Series?`\n",
    "\n",
    "`Make sure to include name, dtype, size, index, then take the\n",
    "mean of the values array. Finally, convert the series to an\n",
    "integer data type and recalculate the mean.`\n",
    "\n",
    "Thanks!"
   ]
  },
  {
   "cell_type": "code",
   "execution_count": 11,
   "id": "c73ea3ec-61a9-4f10-9dd8-75b4103ab5ba",
   "metadata": {},
   "outputs": [],
   "source": [
    "# create a DataFrame from the oil file, drop missing values\n",
    "oil = pd.read_csv(\"https://media.githubusercontent.com/media/apoorvpd/data_practice/master/oil.csv\").dropna()"
   ]
  },
  {
   "cell_type": "code",
   "execution_count": 12,
   "id": "5efd6690-652f-4260-bad6-5f04c1aa05ed",
   "metadata": {},
   "outputs": [
    {
     "data": {
      "text/html": [
       "<div>\n",
       "<style scoped>\n",
       "    .dataframe tbody tr th:only-of-type {\n",
       "        vertical-align: middle;\n",
       "    }\n",
       "\n",
       "    .dataframe tbody tr th {\n",
       "        vertical-align: top;\n",
       "    }\n",
       "\n",
       "    .dataframe thead th {\n",
       "        text-align: right;\n",
       "    }\n",
       "</style>\n",
       "<table border=\"1\" class=\"dataframe\">\n",
       "  <thead>\n",
       "    <tr style=\"text-align: right;\">\n",
       "      <th></th>\n",
       "      <th>date</th>\n",
       "      <th>dcoilwtico</th>\n",
       "    </tr>\n",
       "  </thead>\n",
       "  <tbody>\n",
       "    <tr>\n",
       "      <th>1</th>\n",
       "      <td>2013-01-02</td>\n",
       "      <td>93.14</td>\n",
       "    </tr>\n",
       "    <tr>\n",
       "      <th>2</th>\n",
       "      <td>2013-01-03</td>\n",
       "      <td>92.97</td>\n",
       "    </tr>\n",
       "    <tr>\n",
       "      <th>3</th>\n",
       "      <td>2013-01-04</td>\n",
       "      <td>93.12</td>\n",
       "    </tr>\n",
       "    <tr>\n",
       "      <th>4</th>\n",
       "      <td>2013-01-07</td>\n",
       "      <td>93.20</td>\n",
       "    </tr>\n",
       "    <tr>\n",
       "      <th>5</th>\n",
       "      <td>2013-01-08</td>\n",
       "      <td>93.21</td>\n",
       "    </tr>\n",
       "  </tbody>\n",
       "</table>\n",
       "</div>"
      ],
      "text/plain": [
       "         date  dcoilwtico\n",
       "1  2013-01-02       93.14\n",
       "2  2013-01-03       92.97\n",
       "3  2013-01-04       93.12\n",
       "4  2013-01-07       93.20\n",
       "5  2013-01-08       93.21"
      ]
     },
     "execution_count": 12,
     "metadata": {},
     "output_type": "execute_result"
    }
   ],
   "source": [
    "oil.head()"
   ]
  },
  {
   "cell_type": "code",
   "execution_count": 13,
   "id": "c9d57d42-fc35-472a-b626-45dd3f53dd0e",
   "metadata": {},
   "outputs": [
    {
     "data": {
      "text/plain": [
       "array([52.22, 51.44, 51.98, 52.01, 52.82, 54.01, 53.8 , 53.75, 52.36,\n",
       "       53.26, 53.77, 53.98, 51.95, 50.82, 52.19, 53.01, 52.36, 52.45,\n",
       "       51.12, 51.39, 52.33, 52.77, 52.38, 52.14, 53.24, 53.18, 52.63,\n",
       "       52.75, 53.9 , 53.55, 53.81, 53.01, 52.19, 52.37, 52.99, 53.84,\n",
       "       52.96, 53.21, 53.11, 53.41, 53.41, 54.02, 53.61, 54.48, 53.99,\n",
       "       54.04, 54.  , 53.82, 52.63, 53.33, 53.19, 52.68, 49.83, 48.75,\n",
       "       48.05, 47.95, 47.24, 48.34, 48.3 , 48.34, 47.79, 47.02, 47.29,\n",
       "       47.  , 47.3 , 47.02, 48.36, 49.47, 50.3 , 50.54, 50.25, 50.99,\n",
       "       51.14, 51.69, 52.25, 53.06, 53.38, 53.12, 53.19, 52.62, 52.46,\n",
       "       50.49, 50.26, 49.64, 48.9 , 49.22, 49.22, 48.96, 49.31, 48.83,\n",
       "       47.65, 47.79, 45.55, 46.23, 46.46, 45.84, 47.28, 47.81, 47.83,\n",
       "       48.86])"
      ]
     },
     "execution_count": 13,
     "metadata": {},
     "output_type": "execute_result"
    }
   ],
   "source": [
    "# # Grab 100 rows of oil prices\n",
    "oil_array = np.array(oil[\"dcoilwtico\"].iloc[1000:1100])\n",
    "\n",
    "oil_array"
   ]
  },
  {
   "cell_type": "code",
   "execution_count": 14,
   "id": "42bb72df-ccb5-4a63-b5b8-47f01ea29ed2",
   "metadata": {},
   "outputs": [],
   "source": [
    "oil_series = pd.Series(oil_array, name=\"oil_prices\")"
   ]
  },
  {
   "cell_type": "code",
   "execution_count": 15,
   "id": "8b058554-cf67-4503-bb3f-0e0746f0f472",
   "metadata": {},
   "outputs": [
    {
     "name": "stdout",
     "output_type": "stream",
     "text": [
      "Name: oil_prices\n",
      "dtype: float64\n",
      "size: 100\n",
      "index: RangeIndex(start=0, stop=100, step=1)\n"
     ]
    }
   ],
   "source": [
    "print(f\"Name: {oil_series.name}\")\n",
    "print(f\"dtype: {oil_series.dtype}\")\n",
    "print(f\"size: {oil_series.size}\")\n",
    "print(f\"index: {oil_series.index}\")"
   ]
  },
  {
   "cell_type": "code",
   "execution_count": 16,
   "id": "6b19d4a3-4833-4443-ab77-2d93d9a19559",
   "metadata": {},
   "outputs": [
    {
     "data": {
      "text/plain": [
       "51.128299999999996"
      ]
     },
     "execution_count": 16,
     "metadata": {},
     "output_type": "execute_result"
    }
   ],
   "source": [
    "oil_series.values.mean()"
   ]
  },
  {
   "cell_type": "code",
   "execution_count": 17,
   "id": "0cdc78f1-d83a-4538-9747-c09a5a36e776",
   "metadata": {},
   "outputs": [
    {
     "data": {
      "text/plain": [
       "50.66"
      ]
     },
     "execution_count": 17,
     "metadata": {},
     "output_type": "execute_result"
    }
   ],
   "source": [
    "oil_series.astype('int').mean()"
   ]
  },
  {
   "cell_type": "code",
   "execution_count": null,
   "id": "3584d723-5278-47b0-8c52-faea7249e2f2",
   "metadata": {},
   "outputs": [],
   "source": []
  },
  {
   "cell_type": "markdown",
   "id": "dc29cba0-5338-44cc-8774-b96e9652ac57",
   "metadata": {},
   "source": [
    "# The Index\n",
    "\n",
    "The **index** lets you easily access *\"rows\"* in a Pandas Series or DataFrame"
   ]
  },
  {
   "cell_type": "code",
   "execution_count": 18,
   "id": "4429fdf9-1122-4c1a-b783-9178c9abda79",
   "metadata": {},
   "outputs": [],
   "source": [
    "sales = [0, 5, 155, 0, 518]"
   ]
  },
  {
   "cell_type": "code",
   "execution_count": 19,
   "id": "0baeb2ca-2f47-4534-a91c-926814df2523",
   "metadata": {},
   "outputs": [
    {
     "data": {
      "text/plain": [
       "0      0\n",
       "1      5\n",
       "2    155\n",
       "3      0\n",
       "4    518\n",
       "Name: Sales, dtype: int64"
      ]
     },
     "execution_count": 19,
     "metadata": {},
     "output_type": "execute_result"
    }
   ],
   "source": [
    "sales_series = pd.Series(sales, name=\"Sales\")\n",
    "sales_series"
   ]
  },
  {
   "cell_type": "markdown",
   "id": "c4cd0fb5-51eb-4c8e-8747-9a8c374d2ff7",
   "metadata": {},
   "source": [
    "> - Here we are using the default integer index, which is preferred\n",
    "> - You can **index** and **slice** Series like other sequence data types, but we will learn a better method"
   ]
  },
  {
   "cell_type": "code",
   "execution_count": 20,
   "id": "978bfa51-7738-421b-9264-7ab4b9fbfb9b",
   "metadata": {},
   "outputs": [
    {
     "data": {
      "text/plain": [
       "155"
      ]
     },
     "execution_count": 20,
     "metadata": {},
     "output_type": "execute_result"
    }
   ],
   "source": [
    "sales_series[2]"
   ]
  },
  {
   "cell_type": "code",
   "execution_count": 21,
   "id": "70c092a9-fe02-41c8-a7a3-23d2c651ac94",
   "metadata": {},
   "outputs": [
    {
     "data": {
      "text/plain": [
       "2    155\n",
       "3      0\n",
       "Name: Sales, dtype: int64"
      ]
     },
     "execution_count": 21,
     "metadata": {},
     "output_type": "execute_result"
    }
   ],
   "source": [
    "sales_series[2:4]"
   ]
  },
  {
   "cell_type": "code",
   "execution_count": null,
   "id": "e74062a7-e965-4482-8d40-3331310bbb25",
   "metadata": {},
   "outputs": [],
   "source": []
  },
  {
   "cell_type": "markdown",
   "id": "3212047f-83d8-45d9-9fd7-a229bd96dc5e",
   "metadata": {},
   "source": [
    "# CUSTOM INDICES\n",
    "\n",
    "There are cases where it's applicable to use a **custom index** for accessing rows"
   ]
  },
  {
   "cell_type": "code",
   "execution_count": 22,
   "id": "227a7cac-6ea3-4f4c-89ee-e2809457baf0",
   "metadata": {},
   "outputs": [],
   "source": [
    "sales = [0, 5, 155, 0, 518]\n",
    "items = [\"coffee\", \"bananas\", \"tea\", \"coconut\", \"sugar\"]"
   ]
  },
  {
   "cell_type": "code",
   "execution_count": 23,
   "id": "87499a12-bc55-41a6-809c-98ec9a761c86",
   "metadata": {},
   "outputs": [
    {
     "data": {
      "text/plain": [
       "coffee       0\n",
       "bananas      5\n",
       "tea        155\n",
       "coconut      0\n",
       "sugar      518\n",
       "Name: Sales, dtype: int64"
      ]
     },
     "execution_count": 23,
     "metadata": {},
     "output_type": "execute_result"
    }
   ],
   "source": [
    "sales_series = pd.Series(sales, index=items, name=\"Sales\")\n",
    "sales_series"
   ]
  },
  {
   "cell_type": "markdown",
   "id": "9666e107-f858-4dc4-807f-af054acbb865",
   "metadata": {},
   "source": [
    "> You can still **index** and **slice** to retrieve Series values using the custom indices"
   ]
  },
  {
   "cell_type": "code",
   "execution_count": 24,
   "id": "7727fd12-fae4-44a4-a251-0f7e5c1c1529",
   "metadata": {},
   "outputs": [
    {
     "data": {
      "text/plain": [
       "155"
      ]
     },
     "execution_count": 24,
     "metadata": {},
     "output_type": "execute_result"
    }
   ],
   "source": [
    "sales_series[\"tea\"]"
   ]
  },
  {
   "cell_type": "code",
   "execution_count": 25,
   "id": "f163cafc-9152-4b52-82de-71a5f14ed6f3",
   "metadata": {},
   "outputs": [
    {
     "data": {
      "text/plain": [
       "bananas      5\n",
       "tea        155\n",
       "coconut      0\n",
       "Name: Sales, dtype: int64"
      ]
     },
     "execution_count": 25,
     "metadata": {},
     "output_type": "execute_result"
    }
   ],
   "source": [
    "sales_series[\"bananas\":\"coconut\"]"
   ]
  },
  {
   "cell_type": "code",
   "execution_count": null,
   "id": "44073594-4c7b-447e-916a-f046828509a9",
   "metadata": {},
   "outputs": [],
   "source": []
  },
  {
   "cell_type": "markdown",
   "id": "83ae6c89-8786-48fb-940f-890b0975e62c",
   "metadata": {},
   "source": [
    "# THE ILOC METHOD\n",
    "\n",
    "The **.iloc[]** method is the preferred way to access values by their positional index\n",
    "- This method works even when Series have a custom, non-integer index\n",
    "- It is more efficient than slicing and is recommended by Pandas' creators"
   ]
  },
  {
   "cell_type": "markdown",
   "id": "77f31222-5289-4a5e-805a-1422e74b99b6",
   "metadata": {},
   "source": [
    "`df.iloc[row position, column position]`\n",
    "\n",
    "Examples:\n",
    "- `0 (single row)`\n",
    "- `[5, 9] (multiple rows)`\n",
    "- `[0:11] (range of rows)`\n",
    "\n",
    "**Note**: We will use the column position argument once we start working with Pandas DataFrames"
   ]
  },
  {
   "cell_type": "code",
   "execution_count": 26,
   "id": "dad50b6c-4931-4221-bd0a-2f4ddaa44e69",
   "metadata": {},
   "outputs": [
    {
     "data": {
      "text/plain": [
       "coffee       0\n",
       "bananas      5\n",
       "tea        155\n",
       "coconut      0\n",
       "sugar      518\n",
       "Name: Sales, dtype: int64"
      ]
     },
     "execution_count": 26,
     "metadata": {},
     "output_type": "execute_result"
    }
   ],
   "source": [
    "sales_series"
   ]
  },
  {
   "cell_type": "code",
   "execution_count": 27,
   "id": "71f4657f-4612-4f3c-aaa8-a60617e25775",
   "metadata": {},
   "outputs": [
    {
     "data": {
      "text/plain": [
       "155"
      ]
     },
     "execution_count": 27,
     "metadata": {},
     "output_type": "execute_result"
    }
   ],
   "source": [
    "sales_series.iloc[2]"
   ]
  },
  {
   "cell_type": "markdown",
   "id": "b8e017b1-8aaa-48b4-aea9-b7a74bed729f",
   "metadata": {},
   "source": [
    "> This returns the value in the 3rd position (*0-indexed*), even though the custom index for that value is \"tea\""
   ]
  },
  {
   "cell_type": "code",
   "execution_count": 28,
   "id": "3fd1c834-5a15-42b3-bf3b-48fafc9a1a86",
   "metadata": {},
   "outputs": [
    {
     "data": {
      "text/plain": [
       "tea        155\n",
       "coconut      0\n",
       "Name: Sales, dtype: int64"
      ]
     },
     "execution_count": 28,
     "metadata": {},
     "output_type": "execute_result"
    }
   ],
   "source": [
    "sales_series.iloc[2:4]"
   ]
  },
  {
   "cell_type": "markdown",
   "id": "9a22b9db-24e7-4761-bb28-b469a8b700d0",
   "metadata": {},
   "source": [
    "> This returns the values from the 3rd to the 4th position (stop is non-inclusive)"
   ]
  },
  {
   "cell_type": "code",
   "execution_count": null,
   "id": "065afa27-c57d-4ffa-bfbe-0518cd5fed64",
   "metadata": {},
   "outputs": [],
   "source": []
  },
  {
   "cell_type": "markdown",
   "id": "7e0a0984-248b-42dd-af0b-a7c075d19011",
   "metadata": {},
   "source": [
    "# THE LOC METHOD\n",
    "\n",
    "The **.loc[]** method is the preferred way to access values by their custom labels"
   ]
  },
  {
   "cell_type": "markdown",
   "id": "a91481d5-43e0-4532-8b15-3d398ba945c1",
   "metadata": {},
   "source": [
    "`df.loc[row label, column label]`\n",
    "\n",
    "Examples:\n",
    "- `\"pizza\" (single row)`\n",
    "- `[\"mike\", \"ike\"] (multiple rows)`\n",
    "- `[\"jan\":\"dec\"] (range of rows)`"
   ]
  },
  {
   "cell_type": "code",
   "execution_count": 29,
   "id": "e94b2b2a-0df1-4101-9cbf-68cda8510525",
   "metadata": {},
   "outputs": [
    {
     "data": {
      "text/plain": [
       "coffee       0\n",
       "bananas      5\n",
       "tea        155\n",
       "coconut      0\n",
       "sugar      518\n",
       "Name: Sales, dtype: int64"
      ]
     },
     "execution_count": 29,
     "metadata": {},
     "output_type": "execute_result"
    }
   ],
   "source": [
    "sales_series"
   ]
  },
  {
   "cell_type": "code",
   "execution_count": 30,
   "id": "b7d9cc80-dad5-4851-a8e3-35aa592710a2",
   "metadata": {},
   "outputs": [
    {
     "data": {
      "text/plain": [
       "155"
      ]
     },
     "execution_count": 30,
     "metadata": {},
     "output_type": "execute_result"
    }
   ],
   "source": [
    "sales_series.loc[\"tea\"]"
   ]
  },
  {
   "cell_type": "code",
   "execution_count": 31,
   "id": "3bfb86f1-dfe2-4112-8dd4-034d872a893b",
   "metadata": {},
   "outputs": [
    {
     "data": {
      "text/plain": [
       "bananas      5\n",
       "tea        155\n",
       "coconut      0\n",
       "Name: Sales, dtype: int64"
      ]
     },
     "execution_count": 31,
     "metadata": {},
     "output_type": "execute_result"
    }
   ],
   "source": [
    "sales_series.loc[\"bananas\":\"coconut\"]"
   ]
  },
  {
   "cell_type": "markdown",
   "id": "477ee2b4-c9fa-431a-aa4d-479c8951b265",
   "metadata": {},
   "source": [
    "> **Note**:\n",
    "> - Slices are inclusive when using custom labels\n",
    "> - The **.loc[]** method works even when the indices are integers, but if they are custom integers not ordered from 0 to n-1, the rows will be returned based on the labels themselves and NOT their numeric position"
   ]
  },
  {
   "cell_type": "code",
   "execution_count": null,
   "id": "3bb28521-1df4-436d-a206-15314505504b",
   "metadata": {},
   "outputs": [],
   "source": []
  },
  {
   "cell_type": "markdown",
   "id": "ad6e39ce-f5ef-418f-9544-c26403899aa2",
   "metadata": {},
   "source": [
    "# DUPLICATE INDEX VALUES\n",
    "\n",
    "It is possible to have **duplicate index values** in a Pandas Series or DataFrame\n",
    "- Accessing these indices by their label using `.loc[]` returns all corresponding rows"
   ]
  },
  {
   "cell_type": "code",
   "execution_count": 32,
   "id": "d533b7d6-fbbc-4000-9b48-fb7979852548",
   "metadata": {},
   "outputs": [],
   "source": [
    "sales = [0, 5, 155, 0, 518]\n",
    "items = [\"coffee\", \"coffee\", \"tea\", \"coconut\", \"sugar\"]"
   ]
  },
  {
   "cell_type": "code",
   "execution_count": 33,
   "id": "043cf752-6886-4a00-9918-10cdde3035a7",
   "metadata": {},
   "outputs": [
    {
     "data": {
      "text/plain": [
       "coffee       0\n",
       "coffee       5\n",
       "tea        155\n",
       "coconut      0\n",
       "sugar      518\n",
       "Name: Sales, dtype: int64"
      ]
     },
     "execution_count": 33,
     "metadata": {},
     "output_type": "execute_result"
    }
   ],
   "source": [
    "sales_series = pd.Series(sales, index=items, name=\"Sales\")\n",
    "sales_series"
   ]
  },
  {
   "cell_type": "code",
   "execution_count": 34,
   "id": "b4a7e915-2494-474e-9446-95b158a2e3fb",
   "metadata": {},
   "outputs": [
    {
     "data": {
      "text/plain": [
       "coffee    0\n",
       "coffee    5\n",
       "Name: Sales, dtype: int64"
      ]
     },
     "execution_count": 34,
     "metadata": {},
     "output_type": "execute_result"
    }
   ],
   "source": [
    "sales_series.loc[\"coffee\"]"
   ]
  },
  {
   "cell_type": "markdown",
   "id": "fa1524f6-64ce-481a-a777-2cd71fbbaf16",
   "metadata": {},
   "source": [
    "> Warning! Duplicate index value are **generally not advised**, but there are some edge cases where they are useful"
   ]
  },
  {
   "cell_type": "code",
   "execution_count": null,
   "id": "b3671abe-f77d-4653-b400-6327b54b6f71",
   "metadata": {},
   "outputs": [],
   "source": []
  },
  {
   "cell_type": "markdown",
   "id": "ef069e9a-665b-4a2f-925a-f2e934a0070a",
   "metadata": {},
   "source": [
    "# RESETTING THE INDEX\n",
    "\n",
    "You can **reset the index** in a Pandas Series or DataFrame back to the default range of integers by using the `.reset_index()` method.\n",
    "- By default, the existing index will become a new column in a DataFrame"
   ]
  },
  {
   "cell_type": "code",
   "execution_count": 35,
   "id": "66930528-96c3-4622-a869-c089f41fde84",
   "metadata": {},
   "outputs": [
    {
     "data": {
      "text/plain": [
       "coffee       0\n",
       "coffee       5\n",
       "tea        155\n",
       "coconut      0\n",
       "sugar      518\n",
       "Name: Sales, dtype: int64"
      ]
     },
     "execution_count": 35,
     "metadata": {},
     "output_type": "execute_result"
    }
   ],
   "source": [
    "sales_series"
   ]
  },
  {
   "cell_type": "code",
   "execution_count": 36,
   "id": "2522c1db-1ac7-46f6-bc92-ba241d9ff1f9",
   "metadata": {},
   "outputs": [
    {
     "data": {
      "text/html": [
       "<div>\n",
       "<style scoped>\n",
       "    .dataframe tbody tr th:only-of-type {\n",
       "        vertical-align: middle;\n",
       "    }\n",
       "\n",
       "    .dataframe tbody tr th {\n",
       "        vertical-align: top;\n",
       "    }\n",
       "\n",
       "    .dataframe thead th {\n",
       "        text-align: right;\n",
       "    }\n",
       "</style>\n",
       "<table border=\"1\" class=\"dataframe\">\n",
       "  <thead>\n",
       "    <tr style=\"text-align: right;\">\n",
       "      <th></th>\n",
       "      <th>index</th>\n",
       "      <th>Sales</th>\n",
       "    </tr>\n",
       "  </thead>\n",
       "  <tbody>\n",
       "    <tr>\n",
       "      <th>0</th>\n",
       "      <td>coffee</td>\n",
       "      <td>0</td>\n",
       "    </tr>\n",
       "    <tr>\n",
       "      <th>1</th>\n",
       "      <td>coffee</td>\n",
       "      <td>5</td>\n",
       "    </tr>\n",
       "    <tr>\n",
       "      <th>2</th>\n",
       "      <td>tea</td>\n",
       "      <td>155</td>\n",
       "    </tr>\n",
       "    <tr>\n",
       "      <th>3</th>\n",
       "      <td>coconut</td>\n",
       "      <td>0</td>\n",
       "    </tr>\n",
       "    <tr>\n",
       "      <th>4</th>\n",
       "      <td>sugar</td>\n",
       "      <td>518</td>\n",
       "    </tr>\n",
       "  </tbody>\n",
       "</table>\n",
       "</div>"
      ],
      "text/plain": [
       "     index  Sales\n",
       "0   coffee      0\n",
       "1   coffee      5\n",
       "2      tea    155\n",
       "3  coconut      0\n",
       "4    sugar    518"
      ]
     },
     "execution_count": 36,
     "metadata": {},
     "output_type": "execute_result"
    }
   ],
   "source": [
    "sales_series.reset_index()"
   ]
  },
  {
   "cell_type": "code",
   "execution_count": 37,
   "id": "bcddde37-b6ce-4265-8861-16951147c5bc",
   "metadata": {},
   "outputs": [
    {
     "data": {
      "text/plain": [
       "coffee       0\n",
       "coffee       5\n",
       "tea        155\n",
       "coconut      0\n",
       "sugar      518\n",
       "Name: Sales, dtype: int64"
      ]
     },
     "execution_count": 37,
     "metadata": {},
     "output_type": "execute_result"
    }
   ],
   "source": [
    "sales_series"
   ]
  },
  {
   "cell_type": "markdown",
   "id": "5bd58be1-8129-4751-b772-c59381549594",
   "metadata": {},
   "source": [
    "> Use **drop=True** when resetting the index if you don't want the previous index values stored"
   ]
  },
  {
   "cell_type": "code",
   "execution_count": 38,
   "id": "e97b3a6b-8ff1-448b-99ec-c91fa08a7e33",
   "metadata": {},
   "outputs": [
    {
     "data": {
      "text/plain": [
       "0      0\n",
       "1      5\n",
       "2    155\n",
       "3      0\n",
       "4    518\n",
       "Name: Sales, dtype: int64"
      ]
     },
     "execution_count": 38,
     "metadata": {},
     "output_type": "execute_result"
    }
   ],
   "source": [
    "sales_series.reset_index(drop=True)"
   ]
  },
  {
   "cell_type": "code",
   "execution_count": null,
   "id": "7423c284-c743-41ae-be5c-dc831fa0a5c0",
   "metadata": {},
   "outputs": [],
   "source": []
  },
  {
   "cell_type": "markdown",
   "id": "4842d7db-31bb-46ba-a915-47a59a135088",
   "metadata": {},
   "source": [
    "# EXERCISE: ACCESSING SERIES DATA\n",
    "\n",
    "#### NEW MESSAGE: \n",
    "- From: Rachel Revenue (Finacial Analyst)\n",
    "- Subject: Oil Price Series w/Dates\n",
    "\n",
    "`Thanks for picking up this work, but this data isn’t really useful\n",
    "without dates since I need to understand trends over time to\n",
    "improve my forecasts.`\n",
    "\n",
    "`Can you set the date series to be the index?`\n",
    "\n",
    "`Then, take the mean of the first 10 and last 10 prices. After\n",
    "that, can you grab all oil prices from January 1st, 2017 to\n",
    "January 7th, 2017 and revert the index of this slice back to\n",
    "integers?`\n",
    "\n",
    "`Thanks!`"
   ]
  },
  {
   "cell_type": "code",
   "execution_count": 39,
   "id": "1780e033-1655-484c-b3f5-e1db35eb3a88",
   "metadata": {},
   "outputs": [],
   "source": [
    "# create a DataFrame from the oil file, drop missing values\n",
    "oil = pd.read_csv(\"https://media.githubusercontent.com/media/apoorvpd/data_practice/master/oil.csv\").dropna()"
   ]
  },
  {
   "cell_type": "code",
   "execution_count": 40,
   "id": "59bccdb2-f82a-4849-9008-15dffb6c8b43",
   "metadata": {},
   "outputs": [
    {
     "data": {
      "text/html": [
       "<div>\n",
       "<style scoped>\n",
       "    .dataframe tbody tr th:only-of-type {\n",
       "        vertical-align: middle;\n",
       "    }\n",
       "\n",
       "    .dataframe tbody tr th {\n",
       "        vertical-align: top;\n",
       "    }\n",
       "\n",
       "    .dataframe thead th {\n",
       "        text-align: right;\n",
       "    }\n",
       "</style>\n",
       "<table border=\"1\" class=\"dataframe\">\n",
       "  <thead>\n",
       "    <tr style=\"text-align: right;\">\n",
       "      <th></th>\n",
       "      <th>date</th>\n",
       "      <th>dcoilwtico</th>\n",
       "    </tr>\n",
       "  </thead>\n",
       "  <tbody>\n",
       "    <tr>\n",
       "      <th>1</th>\n",
       "      <td>2013-01-02</td>\n",
       "      <td>93.14</td>\n",
       "    </tr>\n",
       "    <tr>\n",
       "      <th>2</th>\n",
       "      <td>2013-01-03</td>\n",
       "      <td>92.97</td>\n",
       "    </tr>\n",
       "    <tr>\n",
       "      <th>3</th>\n",
       "      <td>2013-01-04</td>\n",
       "      <td>93.12</td>\n",
       "    </tr>\n",
       "    <tr>\n",
       "      <th>4</th>\n",
       "      <td>2013-01-07</td>\n",
       "      <td>93.20</td>\n",
       "    </tr>\n",
       "    <tr>\n",
       "      <th>5</th>\n",
       "      <td>2013-01-08</td>\n",
       "      <td>93.21</td>\n",
       "    </tr>\n",
       "  </tbody>\n",
       "</table>\n",
       "</div>"
      ],
      "text/plain": [
       "         date  dcoilwtico\n",
       "1  2013-01-02       93.14\n",
       "2  2013-01-03       92.97\n",
       "3  2013-01-04       93.12\n",
       "4  2013-01-07       93.20\n",
       "5  2013-01-08       93.21"
      ]
     },
     "execution_count": 40,
     "metadata": {},
     "output_type": "execute_result"
    }
   ],
   "source": [
    "oil.head()"
   ]
  },
  {
   "cell_type": "code",
   "execution_count": null,
   "id": "f9339fe4-1f93-4288-b67a-8eee3f42d9a5",
   "metadata": {},
   "outputs": [],
   "source": []
  },
  {
   "cell_type": "code",
   "execution_count": 41,
   "id": "7fc587d7-e21a-4b6c-b1ac-1bdb3c2c27e9",
   "metadata": {},
   "outputs": [
    {
     "data": {
      "text/plain": [
       "array([52.22, 51.44, 51.98, 52.01, 52.82, 54.01, 53.8 , 53.75, 52.36,\n",
       "       53.26, 53.77, 53.98, 51.95, 50.82, 52.19, 53.01, 52.36, 52.45,\n",
       "       51.12, 51.39, 52.33, 52.77, 52.38, 52.14, 53.24, 53.18, 52.63,\n",
       "       52.75, 53.9 , 53.55, 53.81, 53.01, 52.19, 52.37, 52.99, 53.84,\n",
       "       52.96, 53.21, 53.11, 53.41, 53.41, 54.02, 53.61, 54.48, 53.99,\n",
       "       54.04, 54.  , 53.82, 52.63, 53.33, 53.19, 52.68, 49.83, 48.75,\n",
       "       48.05, 47.95, 47.24, 48.34, 48.3 , 48.34, 47.79, 47.02, 47.29,\n",
       "       47.  , 47.3 , 47.02, 48.36, 49.47, 50.3 , 50.54, 50.25, 50.99,\n",
       "       51.14, 51.69, 52.25, 53.06, 53.38, 53.12, 53.19, 52.62, 52.46,\n",
       "       50.49, 50.26, 49.64, 48.9 , 49.22, 49.22, 48.96, 49.31, 48.83,\n",
       "       47.65, 47.79, 45.55, 46.23, 46.46, 45.84, 47.28, 47.81, 47.83,\n",
       "       48.86])"
      ]
     },
     "execution_count": 41,
     "metadata": {},
     "output_type": "execute_result"
    }
   ],
   "source": [
    "# # Grab 100 rows of oil prices\n",
    "oil_array = np.array(oil[\"dcoilwtico\"].iloc[1000:1100])\n",
    "\n",
    "oil_array"
   ]
  },
  {
   "cell_type": "code",
   "execution_count": 42,
   "id": "f13a0798-c5b6-40de-a3eb-6e355265682b",
   "metadata": {},
   "outputs": [],
   "source": [
    "oil_series = pd.Series(oil_array, index=oil['date'].iloc[1000:1100], name='oil_prices')"
   ]
  },
  {
   "cell_type": "code",
   "execution_count": 43,
   "id": "ccaf5fde-c597-4b67-8228-7e647082f521",
   "metadata": {},
   "outputs": [
    {
     "data": {
      "text/plain": [
       "date\n",
       "2016-12-20    52.22\n",
       "2016-12-21    51.44\n",
       "2016-12-22    51.98\n",
       "2016-12-23    52.01\n",
       "2016-12-27    52.82\n",
       "              ...  \n",
       "2017-05-09    45.84\n",
       "2017-05-10    47.28\n",
       "2017-05-11    47.81\n",
       "2017-05-12    47.83\n",
       "2017-05-15    48.86\n",
       "Name: oil_prices, Length: 100, dtype: float64"
      ]
     },
     "execution_count": 43,
     "metadata": {},
     "output_type": "execute_result"
    }
   ],
   "source": [
    "oil_series"
   ]
  },
  {
   "cell_type": "code",
   "execution_count": 44,
   "id": "3a281fbe-20e4-446c-93f0-a0903df9a196",
   "metadata": {},
   "outputs": [
    {
     "data": {
      "text/plain": [
       "Index(['2016-12-20', '2016-12-21', '2016-12-22', '2016-12-23', '2016-12-27',\n",
       "       '2016-12-28', '2016-12-29', '2016-12-30', '2017-01-03', '2017-01-04',\n",
       "       '2017-01-05', '2017-01-06', '2017-01-09', '2017-01-10', '2017-01-11',\n",
       "       '2017-01-12', '2017-01-13', '2017-01-17', '2017-01-18', '2017-01-19',\n",
       "       '2017-01-20', '2017-01-23', '2017-01-24', '2017-01-25', '2017-01-26',\n",
       "       '2017-01-27', '2017-01-30', '2017-01-31', '2017-02-01', '2017-02-02',\n",
       "       '2017-02-03', '2017-02-06', '2017-02-07', '2017-02-08', '2017-02-09',\n",
       "       '2017-02-10', '2017-02-13', '2017-02-14', '2017-02-15', '2017-02-16',\n",
       "       '2017-02-17', '2017-02-21', '2017-02-22', '2017-02-23', '2017-02-24',\n",
       "       '2017-02-27', '2017-02-28', '2017-03-01', '2017-03-02', '2017-03-03',\n",
       "       '2017-03-06', '2017-03-07', '2017-03-08', '2017-03-09', '2017-03-10',\n",
       "       '2017-03-13', '2017-03-14', '2017-03-15', '2017-03-16', '2017-03-17',\n",
       "       '2017-03-20', '2017-03-21', '2017-03-22', '2017-03-23', '2017-03-24',\n",
       "       '2017-03-27', '2017-03-28', '2017-03-29', '2017-03-30', '2017-03-31',\n",
       "       '2017-04-03', '2017-04-04', '2017-04-05', '2017-04-06', '2017-04-07',\n",
       "       '2017-04-10', '2017-04-11', '2017-04-12', '2017-04-13', '2017-04-17',\n",
       "       '2017-04-18', '2017-04-19', '2017-04-20', '2017-04-21', '2017-04-24',\n",
       "       '2017-04-25', '2017-04-26', '2017-04-27', '2017-04-28', '2017-05-01',\n",
       "       '2017-05-02', '2017-05-03', '2017-05-04', '2017-05-05', '2017-05-08',\n",
       "       '2017-05-09', '2017-05-10', '2017-05-11', '2017-05-12', '2017-05-15'],\n",
       "      dtype='object', name='date')"
      ]
     },
     "execution_count": 44,
     "metadata": {},
     "output_type": "execute_result"
    }
   ],
   "source": [
    "oil_series.index # Sanity Check!"
   ]
  },
  {
   "cell_type": "code",
   "execution_count": 45,
   "id": "f2817008-0a10-4903-bac6-ca45519ae9f5",
   "metadata": {},
   "outputs": [
    {
     "data": {
      "text/plain": [
       "52.765"
      ]
     },
     "execution_count": 45,
     "metadata": {},
     "output_type": "execute_result"
    }
   ],
   "source": [
    "oil_series[:10].mean()"
   ]
  },
  {
   "cell_type": "code",
   "execution_count": 46,
   "id": "c3814ad4-65a5-40c2-937c-07b246a3130f",
   "metadata": {},
   "outputs": [
    {
     "data": {
      "text/plain": [
       "47.13"
      ]
     },
     "execution_count": 46,
     "metadata": {},
     "output_type": "execute_result"
    }
   ],
   "source": [
    "oil_series[-10:].mean()"
   ]
  },
  {
   "cell_type": "code",
   "execution_count": 47,
   "id": "86e3e16e-6ad7-437f-ae80-1299c4f3bfd9",
   "metadata": {},
   "outputs": [
    {
     "data": {
      "text/plain": [
       "date\n",
       "2017-01-03    52.36\n",
       "2017-01-04    53.26\n",
       "2017-01-05    53.77\n",
       "2017-01-06    53.98\n",
       "Name: oil_prices, dtype: float64"
      ]
     },
     "execution_count": 47,
     "metadata": {},
     "output_type": "execute_result"
    }
   ],
   "source": [
    "oil_series.loc['2017-01-01': '2017-01-07']"
   ]
  },
  {
   "cell_type": "code",
   "execution_count": 48,
   "id": "35f9815c-9387-4715-9254-e74070b69bb3",
   "metadata": {},
   "outputs": [
    {
     "data": {
      "text/plain": [
       "0    52.36\n",
       "1    53.26\n",
       "2    53.77\n",
       "3    53.98\n",
       "Name: oil_prices, dtype: float64"
      ]
     },
     "execution_count": 48,
     "metadata": {},
     "output_type": "execute_result"
    }
   ],
   "source": [
    "oil_series.loc['2017-01-01': '2017-01-07'].reset_index(drop=True)"
   ]
  },
  {
   "cell_type": "code",
   "execution_count": null,
   "id": "08bf6587-ffc6-4326-9398-a2e202df20f8",
   "metadata": {},
   "outputs": [],
   "source": []
  },
  {
   "cell_type": "markdown",
   "id": "35617502-2772-4f04-b701-f2561ffc519a",
   "metadata": {},
   "source": [
    "# Filtering Series\n",
    "\n",
    "You can **filter a Series** by passing a logical test into the `.loc[]` accessor (*like arrays!*)"
   ]
  },
  {
   "cell_type": "code",
   "execution_count": 49,
   "id": "8425076e-57c4-4568-8b56-5320b642e45c",
   "metadata": {},
   "outputs": [
    {
     "data": {
      "text/plain": [
       "coffee       0\n",
       "coffee       5\n",
       "tea        155\n",
       "coconut      0\n",
       "sugar      518\n",
       "Name: Sales, dtype: int64"
      ]
     },
     "execution_count": 49,
     "metadata": {},
     "output_type": "execute_result"
    }
   ],
   "source": [
    "sales_series"
   ]
  },
  {
   "cell_type": "code",
   "execution_count": 50,
   "id": "738abb92-68cd-45a3-a1b4-645e278f6c96",
   "metadata": {},
   "outputs": [
    {
     "data": {
      "text/plain": [
       "coffee      5\n",
       "tea       155\n",
       "sugar     518\n",
       "Name: Sales, dtype: int64"
      ]
     },
     "execution_count": 50,
     "metadata": {},
     "output_type": "execute_result"
    }
   ],
   "source": [
    "sales_series.loc[sales_series > 0] # This returns all rows from sales_series with a value greater than 0"
   ]
  },
  {
   "cell_type": "code",
   "execution_count": 51,
   "id": "71d98e20-213d-4662-a3c0-b2c21ef06116",
   "metadata": {},
   "outputs": [
    {
     "data": {
      "text/plain": [
       "coffee    5\n",
       "Name: Sales, dtype: int64"
      ]
     },
     "execution_count": 51,
     "metadata": {},
     "output_type": "execute_result"
    }
   ],
   "source": [
    "mask = (sales_series > 0) & (sales_series.index == \"coffee\")\n",
    "sales_series.loc[mask]"
   ]
  },
  {
   "cell_type": "markdown",
   "id": "25c72459-37dd-4db5-958e-16a652086f47",
   "metadata": {},
   "source": [
    "> This uses a **mask** to store complex logic and returns all rows from `sales_series` with greater than 0 and an index equal to \"coffee\""
   ]
  },
  {
   "cell_type": "code",
   "execution_count": 52,
   "id": "feddf443-eba8-4eb7-9f61-d8391bb5e2c5",
   "metadata": {},
   "outputs": [
    {
     "data": {
      "text/plain": [
       "array([ True,  True,  True, False, False])"
      ]
     },
     "execution_count": 52,
     "metadata": {},
     "output_type": "execute_result"
    }
   ],
   "source": [
    "sales_series.index.isin(['coffee', 'tea'])"
   ]
  },
  {
   "cell_type": "code",
   "execution_count": 53,
   "id": "09d7798d-139c-4d8b-93da-5327b8ddd811",
   "metadata": {},
   "outputs": [
    {
     "data": {
      "text/plain": [
       "array([False, False, False,  True,  True])"
      ]
     },
     "execution_count": 53,
     "metadata": {},
     "output_type": "execute_result"
    }
   ],
   "source": [
    "~sales_series.index.isin(['coffee', 'tea'])"
   ]
  },
  {
   "cell_type": "markdown",
   "id": "7fc982c4-2d76-481b-abf4-5b0af5d02862",
   "metadata": {},
   "source": [
    "> The tilde `~` inverts Boolean values!"
   ]
  },
  {
   "cell_type": "code",
   "execution_count": null,
   "id": "e83b4836-3846-4653-98da-92080022d23b",
   "metadata": {},
   "outputs": [],
   "source": []
  },
  {
   "cell_type": "markdown",
   "id": "17a3d4c0-155a-423a-bfe6-1db64348f50d",
   "metadata": {},
   "source": [
    "# Sorting Series\n",
    "\n",
    "You can **sort Series** by their values or their index\n",
    "\n",
    "1. The **.sort_values()** method sorts a Series by it's values in ascending order\n",
    "2. The **.sort_index()** method sorts a Series by it's index in ascending order"
   ]
  },
  {
   "cell_type": "code",
   "execution_count": 54,
   "id": "e95933df-8699-4792-8ae8-19dd8171eaeb",
   "metadata": {},
   "outputs": [
    {
     "data": {
      "text/plain": [
       "coffee       0\n",
       "coffee       5\n",
       "tea        155\n",
       "coconut      0\n",
       "sugar      518\n",
       "Name: Sales, dtype: int64"
      ]
     },
     "execution_count": 54,
     "metadata": {},
     "output_type": "execute_result"
    }
   ],
   "source": [
    "sales_series"
   ]
  },
  {
   "cell_type": "code",
   "execution_count": 55,
   "id": "25045971-6570-40bc-b962-013791d2b9c7",
   "metadata": {},
   "outputs": [
    {
     "data": {
      "text/plain": [
       "coffee       0\n",
       "coconut      0\n",
       "coffee       5\n",
       "tea        155\n",
       "sugar      518\n",
       "Name: Sales, dtype: int64"
      ]
     },
     "execution_count": 55,
     "metadata": {},
     "output_type": "execute_result"
    }
   ],
   "source": [
    "sales_series.sort_values()"
   ]
  },
  {
   "cell_type": "code",
   "execution_count": 56,
   "id": "14fb8e42-0afd-495e-8fbf-36a8832e0a19",
   "metadata": {},
   "outputs": [
    {
     "data": {
      "text/plain": [
       "sugar      518\n",
       "tea        155\n",
       "coffee       5\n",
       "coffee       0\n",
       "coconut      0\n",
       "Name: Sales, dtype: int64"
      ]
     },
     "execution_count": 56,
     "metadata": {},
     "output_type": "execute_result"
    }
   ],
   "source": [
    "sales_series.sort_values(ascending=False)"
   ]
  },
  {
   "cell_type": "code",
   "execution_count": 57,
   "id": "5f4c68fd-f4d5-4038-9457-1f9cd1bea719",
   "metadata": {},
   "outputs": [
    {
     "data": {
      "text/plain": [
       "coconut      0\n",
       "coffee       0\n",
       "coffee       5\n",
       "sugar      518\n",
       "tea        155\n",
       "Name: Sales, dtype: int64"
      ]
     },
     "execution_count": 57,
     "metadata": {},
     "output_type": "execute_result"
    }
   ],
   "source": [
    "sales_series.sort_index()"
   ]
  },
  {
   "cell_type": "code",
   "execution_count": 58,
   "id": "79799e73-6c40-4d89-aa16-45772e6d0f0f",
   "metadata": {},
   "outputs": [
    {
     "data": {
      "text/plain": [
       "tea        155\n",
       "sugar      518\n",
       "coffee       0\n",
       "coffee       5\n",
       "coconut      0\n",
       "Name: Sales, dtype: int64"
      ]
     },
     "execution_count": 58,
     "metadata": {},
     "output_type": "execute_result"
    }
   ],
   "source": [
    "sales_series.sort_index(ascending=False)"
   ]
  },
  {
   "cell_type": "code",
   "execution_count": null,
   "id": "7be3c2b4-8b07-4330-97d6-4acbf06bcf31",
   "metadata": {},
   "outputs": [],
   "source": []
  },
  {
   "cell_type": "markdown",
   "id": "81fabd1f-80f4-48b1-8c3c-37432538c7cb",
   "metadata": {},
   "source": [
    "# EXERCISE: SORTING & FILTERING SERIES\n",
    "\n",
    "#### NEW MESSAGE: \n",
    "- From: Rachel Revenue (Finacial Analyst)\n",
    "- Subject: Oil Price Anomalies\n",
    "\n",
    "`Hi again, your work has been super helpful already!`\n",
    "\n",
    "`I need to look at this data from a few more angles.`\n",
    "\n",
    "`First, can you get me the 10 lowest prices from the data,\n",
    "sorted by date, starting with the most recent and ending with\n",
    "the oldest?`\n",
    "\n",
    "`After that, return to the original data. I’ve provided a list of\n",
    "dates I want to narrow down to, and I also want to look only at\n",
    "prices less than or equal to 50 dollars per barrel.`\n",
    "\n",
    "`Thanks!`"
   ]
  },
  {
   "cell_type": "code",
   "execution_count": 59,
   "id": "4083e7c2-b922-47dc-9856-85179faa59fd",
   "metadata": {},
   "outputs": [],
   "source": [
    "dates = [\n",
    "    \"2016-12-22\",\n",
    "    \"2017-05-03\",\n",
    "    \"2017-01-06\",\n",
    "    \"2017-03-05\",\n",
    "    \"2017-02-12\",\n",
    "    \"2017-03-21\",\n",
    "    \"2017-04-14\",\n",
    "    \"2017-04-15\",\n",
    "]"
   ]
  },
  {
   "cell_type": "code",
   "execution_count": 60,
   "id": "aac908e2-de2d-4999-bcf6-7250ec646d46",
   "metadata": {},
   "outputs": [
    {
     "data": {
      "text/plain": [
       "array([52.22, 51.44, 51.98, 52.01, 52.82, 54.01, 53.8 , 53.75, 52.36,\n",
       "       53.26, 53.77, 53.98, 51.95, 50.82, 52.19, 53.01, 52.36, 52.45,\n",
       "       51.12, 51.39, 52.33, 52.77, 52.38, 52.14, 53.24, 53.18, 52.63,\n",
       "       52.75, 53.9 , 53.55, 53.81, 53.01, 52.19, 52.37, 52.99, 53.84,\n",
       "       52.96, 53.21, 53.11, 53.41, 53.41, 54.02, 53.61, 54.48, 53.99,\n",
       "       54.04, 54.  , 53.82, 52.63, 53.33, 53.19, 52.68, 49.83, 48.75,\n",
       "       48.05, 47.95, 47.24, 48.34, 48.3 , 48.34, 47.79, 47.02, 47.29,\n",
       "       47.  , 47.3 , 47.02, 48.36, 49.47, 50.3 , 50.54, 50.25, 50.99,\n",
       "       51.14, 51.69, 52.25, 53.06, 53.38, 53.12, 53.19, 52.62, 52.46,\n",
       "       50.49, 50.26, 49.64, 48.9 , 49.22, 49.22, 48.96, 49.31, 48.83,\n",
       "       47.65, 47.79, 45.55, 46.23, 46.46, 45.84, 47.28, 47.81, 47.83,\n",
       "       48.86])"
      ]
     },
     "execution_count": 60,
     "metadata": {},
     "output_type": "execute_result"
    }
   ],
   "source": [
    "# create a DataFrame from the oil file, drop missing values\n",
    "oil = pd.read_csv(\"https://media.githubusercontent.com/media/apoorvpd/data_practice/master/oil.csv\").dropna()\n",
    "\n",
    "# Grab 100 rows of oil prices\n",
    "oil_array = np.array(oil[\"dcoilwtico\"].iloc[1000:1100])\n",
    "\n",
    "oil_array"
   ]
  },
  {
   "cell_type": "code",
   "execution_count": 61,
   "id": "a2e835a5-a51d-4935-a08d-c93bebaf508d",
   "metadata": {},
   "outputs": [
    {
     "data": {
      "text/html": [
       "<div>\n",
       "<style scoped>\n",
       "    .dataframe tbody tr th:only-of-type {\n",
       "        vertical-align: middle;\n",
       "    }\n",
       "\n",
       "    .dataframe tbody tr th {\n",
       "        vertical-align: top;\n",
       "    }\n",
       "\n",
       "    .dataframe thead th {\n",
       "        text-align: right;\n",
       "    }\n",
       "</style>\n",
       "<table border=\"1\" class=\"dataframe\">\n",
       "  <thead>\n",
       "    <tr style=\"text-align: right;\">\n",
       "      <th></th>\n",
       "      <th>date</th>\n",
       "      <th>dcoilwtico</th>\n",
       "    </tr>\n",
       "  </thead>\n",
       "  <tbody>\n",
       "    <tr>\n",
       "      <th>1</th>\n",
       "      <td>2013-01-02</td>\n",
       "      <td>93.14</td>\n",
       "    </tr>\n",
       "    <tr>\n",
       "      <th>2</th>\n",
       "      <td>2013-01-03</td>\n",
       "      <td>92.97</td>\n",
       "    </tr>\n",
       "    <tr>\n",
       "      <th>3</th>\n",
       "      <td>2013-01-04</td>\n",
       "      <td>93.12</td>\n",
       "    </tr>\n",
       "    <tr>\n",
       "      <th>4</th>\n",
       "      <td>2013-01-07</td>\n",
       "      <td>93.20</td>\n",
       "    </tr>\n",
       "    <tr>\n",
       "      <th>5</th>\n",
       "      <td>2013-01-08</td>\n",
       "      <td>93.21</td>\n",
       "    </tr>\n",
       "  </tbody>\n",
       "</table>\n",
       "</div>"
      ],
      "text/plain": [
       "         date  dcoilwtico\n",
       "1  2013-01-02       93.14\n",
       "2  2013-01-03       92.97\n",
       "3  2013-01-04       93.12\n",
       "4  2013-01-07       93.20\n",
       "5  2013-01-08       93.21"
      ]
     },
     "execution_count": 61,
     "metadata": {},
     "output_type": "execute_result"
    }
   ],
   "source": [
    "oil.head()"
   ]
  },
  {
   "cell_type": "code",
   "execution_count": 62,
   "id": "3f884f51-5570-4a5b-89ba-31ac62d3251f",
   "metadata": {},
   "outputs": [],
   "source": [
    "oil_series = pd.Series(oil_array, index=oil[\"date\"].iloc[1000:1100], name=\"oil_series\")"
   ]
  },
  {
   "cell_type": "code",
   "execution_count": 63,
   "id": "96c1ee13-21a8-4e6d-b24c-168a789a9c11",
   "metadata": {},
   "outputs": [
    {
     "data": {
      "text/plain": [
       "date\n",
       "2017-05-04    45.55\n",
       "2017-05-09    45.84\n",
       "2017-05-05    46.23\n",
       "2017-05-08    46.46\n",
       "2017-03-23    47.00\n",
       "2017-03-21    47.02\n",
       "2017-03-27    47.02\n",
       "2017-03-14    47.24\n",
       "2017-05-10    47.28\n",
       "2017-03-22    47.29\n",
       "Name: oil_series, dtype: float64"
      ]
     },
     "execution_count": 63,
     "metadata": {},
     "output_type": "execute_result"
    }
   ],
   "source": [
    "oil_series.sort_values().iloc[:10]"
   ]
  },
  {
   "cell_type": "code",
   "execution_count": 64,
   "id": "80c381a6-d7e7-45d5-a70e-a5d04cd95198",
   "metadata": {},
   "outputs": [
    {
     "data": {
      "text/plain": [
       "date\n",
       "2017-05-10    47.28\n",
       "2017-05-09    45.84\n",
       "2017-05-08    46.46\n",
       "2017-05-05    46.23\n",
       "2017-05-04    45.55\n",
       "2017-03-27    47.02\n",
       "2017-03-23    47.00\n",
       "2017-03-22    47.29\n",
       "2017-03-21    47.02\n",
       "2017-03-14    47.24\n",
       "Name: oil_series, dtype: float64"
      ]
     },
     "execution_count": 64,
     "metadata": {},
     "output_type": "execute_result"
    }
   ],
   "source": [
    "oil_series.sort_values().iloc[:10].sort_index(ascending=False)"
   ]
  },
  {
   "cell_type": "code",
   "execution_count": 65,
   "id": "fe3769c0-a034-4267-946e-827505e22124",
   "metadata": {},
   "outputs": [
    {
     "data": {
      "text/plain": [
       "date\n",
       "2017-03-21    47.02\n",
       "2017-05-03    47.79\n",
       "Name: oil_series, dtype: float64"
      ]
     },
     "execution_count": 65,
     "metadata": {},
     "output_type": "execute_result"
    }
   ],
   "source": [
    "mask = oil_series.index.isin(dates) & (oil_series <= 50)\n",
    "oil_series.loc[mask]"
   ]
  },
  {
   "cell_type": "code",
   "execution_count": null,
   "id": "5ec8ac68-92ee-42c2-a4af-1cef60cd515a",
   "metadata": {},
   "outputs": [],
   "source": []
  },
  {
   "cell_type": "markdown",
   "id": "2c02b7e4-c554-45c1-8ede-0fabecec1fd6",
   "metadata": {},
   "source": [
    "# String Methods\n",
    "\n",
    "The Pandas str accessor lets you access many **string methods**"
   ]
  },
  {
   "cell_type": "code",
   "execution_count": 66,
   "id": "3b1e3974-70c2-4fdc-b2e9-34a21c6c1c01",
   "metadata": {},
   "outputs": [
    {
     "data": {
      "text/plain": [
       "0     3.99\n",
       "1     5.99\n",
       "2    22.99\n",
       "3     7.99\n",
       "4    33.99\n",
       "dtype: float64"
      ]
     },
     "execution_count": 66,
     "metadata": {},
     "output_type": "execute_result"
    }
   ],
   "source": [
    "prices = pd.Series([3.99, 5.99, 22.99, 7.99, 33.99])\n",
    "prices"
   ]
  },
  {
   "cell_type": "code",
   "execution_count": 67,
   "id": "05d94244-1477-4549-8086-4caa38f7735f",
   "metadata": {},
   "outputs": [],
   "source": [
    "prices = \"$\" + prices.astype(\"float\").astype(\"string\")"
   ]
  },
  {
   "cell_type": "code",
   "execution_count": 68,
   "id": "74a2d090-1e6f-489e-87a5-4422a72e89b6",
   "metadata": {},
   "outputs": [
    {
     "data": {
      "text/plain": [
       "0     $3.99\n",
       "1     $5.99\n",
       "2    $22.99\n",
       "3     $7.99\n",
       "4    $33.99\n",
       "dtype: string"
      ]
     },
     "execution_count": 68,
     "metadata": {},
     "output_type": "execute_result"
    }
   ],
   "source": [
    "prices"
   ]
  },
  {
   "cell_type": "code",
   "execution_count": 69,
   "id": "2f7b9d0b-6235-470e-b85d-7f92c276eab9",
   "metadata": {},
   "outputs": [
    {
     "data": {
      "text/plain": [
       "0     True\n",
       "1    False\n",
       "2    False\n",
       "3    False\n",
       "4     True\n",
       "dtype: boolean"
      ]
     },
     "execution_count": 69,
     "metadata": {},
     "output_type": "execute_result"
    }
   ],
   "source": [
    "prices.str.contains(\"3\")  # The str accessor lets you access the string methods"
   ]
  },
  {
   "cell_type": "code",
   "execution_count": 70,
   "id": "7bc7e6f6-0f8d-429d-93c4-6eb2921c9212",
   "metadata": {},
   "outputs": [
    {
     "data": {
      "text/plain": [
       "0     3.99\n",
       "1     5.99\n",
       "2    22.99\n",
       "3     7.99\n",
       "4    33.99\n",
       "dtype: float64"
      ]
     },
     "execution_count": 70,
     "metadata": {},
     "output_type": "execute_result"
    }
   ],
   "source": [
    "clean = prices.str.strip(\"$\").astype(\"float\")  # This is removing the dollar sign, then converting to float\n",
    "clean"
   ]
  },
  {
   "cell_type": "code",
   "execution_count": null,
   "id": "029cbbab-735d-4496-b37a-c4427f9e80e1",
   "metadata": {},
   "outputs": [],
   "source": []
  },
  {
   "cell_type": "markdown",
   "id": "c9a5aa17-a5ed-4e0c-adc8-d57dddbcede5",
   "metadata": {},
   "source": [
    "# EXERCISE: SERIES OPERATIONS\n",
    "\n",
    "#### NEW MESSAGE: \n",
    "- From: Rachel Revenue (Finacial Analyst)\n",
    "- Subject: Sensitivity Analysis\n",
    "\n",
    "`Hey there,`\n",
    "\n",
    "`I’m doing some ‘stress testing’ on my models. I want to look at\n",
    "the financial impact if oil prices were 10% higher and add an\n",
    "additional two dollars per barrel on top of that.`\n",
    "\n",
    "`Once you’ve done that, create a series that represents the\n",
    "percent difference between each price and the max price.`\n",
    "\n",
    "`Finally, extract the month from the string dates in the index,\n",
    "and store them as an integer.`\n",
    "\n",
    "`Thanks!`"
   ]
  },
  {
   "cell_type": "code",
   "execution_count": 71,
   "id": "189e7323-7831-4ac3-b1c0-1c8ed4ba24c0",
   "metadata": {},
   "outputs": [
    {
     "data": {
      "text/plain": [
       "array([52.22, 51.44, 51.98, 52.01, 52.82, 54.01, 53.8 , 53.75, 52.36,\n",
       "       53.26, 53.77, 53.98, 51.95, 50.82, 52.19, 53.01, 52.36, 52.45,\n",
       "       51.12, 51.39, 52.33, 52.77, 52.38, 52.14, 53.24, 53.18, 52.63,\n",
       "       52.75, 53.9 , 53.55, 53.81, 53.01, 52.19, 52.37, 52.99, 53.84,\n",
       "       52.96, 53.21, 53.11, 53.41, 53.41, 54.02, 53.61, 54.48, 53.99,\n",
       "       54.04, 54.  , 53.82, 52.63, 53.33, 53.19, 52.68, 49.83, 48.75,\n",
       "       48.05, 47.95, 47.24, 48.34, 48.3 , 48.34, 47.79, 47.02, 47.29,\n",
       "       47.  , 47.3 , 47.02, 48.36, 49.47, 50.3 , 50.54, 50.25, 50.99,\n",
       "       51.14, 51.69, 52.25, 53.06, 53.38, 53.12, 53.19, 52.62, 52.46,\n",
       "       50.49, 50.26, 49.64, 48.9 , 49.22, 49.22, 48.96, 49.31, 48.83,\n",
       "       47.65, 47.79, 45.55, 46.23, 46.46, 45.84, 47.28, 47.81, 47.83,\n",
       "       48.86])"
      ]
     },
     "execution_count": 71,
     "metadata": {},
     "output_type": "execute_result"
    }
   ],
   "source": [
    "# create a DataFrame from the oil file, drop missing values\n",
    "oil = pd.read_csv(\"https://media.githubusercontent.com/media/apoorvpd/data_practice/master/oil.csv\").dropna()\n",
    "\n",
    "# Grab 100 rows of oil prices\n",
    "oil_array = np.array(oil[\"dcoilwtico\"].iloc[1000:1100])\n",
    "\n",
    "oil_array"
   ]
  },
  {
   "cell_type": "code",
   "execution_count": 72,
   "id": "ea8f6cf5-ea5c-4dae-ab6a-18063bbaee28",
   "metadata": {},
   "outputs": [],
   "source": [
    "oil_series = pd.Series(oil_array, index=oil[\"date\"].iloc[1000:1100], name=\"oil_series\")"
   ]
  },
  {
   "cell_type": "code",
   "execution_count": 73,
   "id": "45787ed3-7270-494a-ae24-0de76f444b19",
   "metadata": {},
   "outputs": [
    {
     "data": {
      "text/plain": [
       "date\n",
       "2016-12-20    59.442\n",
       "2016-12-21    58.584\n",
       "2016-12-22    59.178\n",
       "2016-12-23    59.211\n",
       "2016-12-27    60.102\n",
       "               ...  \n",
       "2017-05-09    52.424\n",
       "2017-05-10    54.008\n",
       "2017-05-11    54.591\n",
       "2017-05-12    54.613\n",
       "2017-05-15    55.746\n",
       "Name: oil_series, Length: 100, dtype: float64"
      ]
     },
     "execution_count": 73,
     "metadata": {},
     "output_type": "execute_result"
    }
   ],
   "source": [
    "oil_series * 1.1 + 2"
   ]
  },
  {
   "cell_type": "code",
   "execution_count": 74,
   "id": "42d6bd99-2d23-42ef-8833-454fb881e1dd",
   "metadata": {},
   "outputs": [
    {
     "data": {
      "text/plain": [
       "54.48"
      ]
     },
     "execution_count": 74,
     "metadata": {},
     "output_type": "execute_result"
    }
   ],
   "source": [
    "max_price = oil_series.max()\n",
    "max_price"
   ]
  },
  {
   "cell_type": "code",
   "execution_count": 75,
   "id": "49a37a28-6bf0-4fba-912f-911331c6eb16",
   "metadata": {},
   "outputs": [
    {
     "data": {
      "text/plain": [
       "date\n",
       "2016-12-20   -0.041483\n",
       "2016-12-21   -0.055800\n",
       "2016-12-22   -0.045888\n",
       "2016-12-23   -0.045338\n",
       "2016-12-27   -0.030470\n",
       "                ...   \n",
       "2017-05-09   -0.158590\n",
       "2017-05-10   -0.132159\n",
       "2017-05-11   -0.122430\n",
       "2017-05-12   -0.122063\n",
       "2017-05-15   -0.103157\n",
       "Name: oil_series, Length: 100, dtype: float64"
      ]
     },
     "execution_count": 75,
     "metadata": {},
     "output_type": "execute_result"
    }
   ],
   "source": [
    "max_price_differential = (oil_series - max_price) / max_price\n",
    "max_price_differential"
   ]
  },
  {
   "cell_type": "code",
   "execution_count": 76,
   "id": "346d04ee-7671-4b29-83f3-f4d258c5c5d1",
   "metadata": {},
   "outputs": [
    {
     "data": {
      "text/plain": [
       "Index([12, 12, 12, 12, 12, 12, 12, 12,  1,  1,  1,  1,  1,  1,  1,  1,  1,  1,\n",
       "        1,  1,  1,  1,  1,  1,  1,  1,  1,  1,  2,  2,  2,  2,  2,  2,  2,  2,\n",
       "        2,  2,  2,  2,  2,  2,  2,  2,  2,  2,  2,  3,  3,  3,  3,  3,  3,  3,\n",
       "        3,  3,  3,  3,  3,  3,  3,  3,  3,  3,  3,  3,  3,  3,  3,  3,  4,  4,\n",
       "        4,  4,  4,  4,  4,  4,  4,  4,  4,  4,  4,  4,  4,  4,  4,  4,  4,  5,\n",
       "        5,  5,  5,  5,  5,  5,  5,  5,  5,  5],\n",
       "      dtype='int32', name='date')"
      ]
     },
     "execution_count": 76,
     "metadata": {},
     "output_type": "execute_result"
    }
   ],
   "source": [
    "month = oil_series.index.str[5:7].astype('int')\n",
    "month"
   ]
  },
  {
   "cell_type": "code",
   "execution_count": null,
   "id": "ba58cd90-c657-4385-a2c2-1958952c6dce",
   "metadata": {},
   "outputs": [],
   "source": []
  },
  {
   "cell_type": "markdown",
   "id": "62444373-6b2f-4094-94e9-c91146cba502",
   "metadata": {},
   "source": [
    "# MISSING DATA\n",
    "\n",
    "**Missing data** in Pandas is often represented by NumPy \"NaN\" values\n",
    "- This is more efficient than Python's \"None\" data type\n",
    "- Pandas treats NaN values as a float, which allows them to be used in vectorized operations"
   ]
  },
  {
   "cell_type": "code",
   "execution_count": 77,
   "id": "b5c787b4-5b1c-41a3-af17-b08ed7275090",
   "metadata": {},
   "outputs": [
    {
     "data": {
      "text/plain": [
       "0      0.0\n",
       "1      5.0\n",
       "2    155.0\n",
       "3      NaN\n",
       "4    518.0\n",
       "Name: Sales, dtype: float64"
      ]
     },
     "execution_count": 77,
     "metadata": {},
     "output_type": "execute_result"
    }
   ],
   "source": [
    "sales = [0, 5, 155, np.nan, 518]\n",
    "\n",
    "sales_series = pd.Series(sales, name=\"Sales\")\n",
    "sales_series"
   ]
  },
  {
   "cell_type": "markdown",
   "id": "50d3982d-1d5a-4c96-a640-f6d593234894",
   "metadata": {},
   "source": [
    "> - **np.nan** creates a NaN value.\n",
    "> - These are rarely created by hand, and typically appear when reading in data from external sources\n",
    "> - If NaN was not present here, the data type would be int64"
   ]
  },
  {
   "cell_type": "code",
   "execution_count": 78,
   "id": "0f475e66-6ce0-4d1f-afb5-3804ec0b5ba3",
   "metadata": {},
   "outputs": [
    {
     "data": {
      "text/plain": [
       "0      2.0\n",
       "1      7.0\n",
       "2    157.0\n",
       "3      NaN\n",
       "4    520.0\n",
       "Name: Sales, dtype: float64"
      ]
     },
     "execution_count": 78,
     "metadata": {},
     "output_type": "execute_result"
    }
   ],
   "source": [
    "sales_series + 2"
   ]
  },
  {
   "cell_type": "markdown",
   "id": "b4d9e35d-ad18-47c2-82d0-14c464844819",
   "metadata": {},
   "source": [
    "> Arithmetic operations performed on NaN values will return NaN"
   ]
  },
  {
   "cell_type": "code",
   "execution_count": 79,
   "id": "da587fd2-f6be-4ad8-ab99-d87cb5a94fac",
   "metadata": {},
   "outputs": [
    {
     "data": {
      "text/plain": [
       "0      2.0\n",
       "1      7.0\n",
       "2    157.0\n",
       "3      2.0\n",
       "4    520.0\n",
       "Name: Sales, dtype: float64"
      ]
     },
     "execution_count": 79,
     "metadata": {},
     "output_type": "execute_result"
    }
   ],
   "source": [
    "sales_series.add(2, fill_value=0)"
   ]
  },
  {
   "cell_type": "markdown",
   "id": "a2508495-86b4-4061-8271-7411479c7098",
   "metadata": {},
   "source": [
    "> Most operation methods include a `fill_value` argument that lets you pass a value instead of NaN"
   ]
  },
  {
   "cell_type": "markdown",
   "id": "a435ce4f-3448-4212-8cff-aa0b6d00c59f",
   "metadata": {},
   "source": [
    "Pandas released it's own **missing data type**, NA, in December 2020\n",
    "- This allows missing values to be stored as integers, instead of needing to convert to float\n",
    "- This is still a new feature, but most bugs end up converting the data to NumPy's NaN"
   ]
  },
  {
   "cell_type": "code",
   "execution_count": 80,
   "id": "770b77a4-ee1d-4354-adad-ecefa5f2f49a",
   "metadata": {},
   "outputs": [
    {
     "data": {
      "text/plain": [
       "0       0\n",
       "1       5\n",
       "2     155\n",
       "3    <NA>\n",
       "4     518\n",
       "Name: Sales, dtype: object"
      ]
     },
     "execution_count": 80,
     "metadata": {},
     "output_type": "execute_result"
    }
   ],
   "source": [
    "sales = [0, 5, 155, pd.NA, 518]\n",
    "\n",
    "sales_series = pd.Series(sales, name=\"Sales\")\n",
    "sales_series"
   ]
  },
  {
   "cell_type": "code",
   "execution_count": null,
   "id": "7af7622f-37e4-4276-9d61-598b19b3bbe4",
   "metadata": {},
   "outputs": [],
   "source": []
  },
  {
   "cell_type": "markdown",
   "id": "6620a39d-dc36-4506-8e4f-c88b47c98d91",
   "metadata": {},
   "source": [
    "# Identifying Missing Data\n",
    "\n",
    "The `.isna()` and `.value_counts()` methods let you **identify missing data** in a Series\n",
    "- The **`.isna()`** method returns True if a value is missing, and False otherwise\n",
    "- The **`.value_counts()`** method returns unique values and their frequency"
   ]
  },
  {
   "cell_type": "code",
   "execution_count": 81,
   "id": "5876448e-7598-4ad8-a1d8-044dfe8353c1",
   "metadata": {},
   "outputs": [
    {
     "data": {
      "text/plain": [
       "0    COMPLETE\n",
       "1         NaN\n",
       "2         NaN\n",
       "3         NaN\n",
       "4    COMPLETE\n",
       "Name: checklist, dtype: object"
      ]
     },
     "execution_count": 81,
     "metadata": {},
     "output_type": "execute_result"
    }
   ],
   "source": [
    "checklist = pd.Series([\"COMPLETE\", np.nan, np.nan, np.nan, \"COMPLETE\"], name=\"checklist\")\n",
    "checklist"
   ]
  },
  {
   "cell_type": "code",
   "execution_count": 82,
   "id": "7e8185b6-062d-4bed-aeb3-fb315569e4a9",
   "metadata": {},
   "outputs": [
    {
     "data": {
      "text/plain": [
       "0    False\n",
       "1     True\n",
       "2     True\n",
       "3     True\n",
       "4    False\n",
       "Name: checklist, dtype: bool"
      ]
     },
     "execution_count": 82,
     "metadata": {},
     "output_type": "execute_result"
    }
   ],
   "source": [
    "checklist.isna()"
   ]
  },
  {
   "cell_type": "code",
   "execution_count": 83,
   "id": "acb19e68-811b-488b-9d29-6734de5d89e7",
   "metadata": {},
   "outputs": [
    {
     "data": {
      "text/plain": [
       "3"
      ]
     },
     "execution_count": 83,
     "metadata": {},
     "output_type": "execute_result"
    }
   ],
   "source": [
    "checklist.isna().sum()  # .isna().sum() returns the count of NaN values"
   ]
  },
  {
   "cell_type": "code",
   "execution_count": 84,
   "id": "ff901a8c-6207-4c20-8280-cd9ed7127a8d",
   "metadata": {},
   "outputs": [
    {
     "data": {
      "text/plain": [
       "checklist\n",
       "COMPLETE    2\n",
       "Name: count, dtype: int64"
      ]
     },
     "execution_count": 84,
     "metadata": {},
     "output_type": "execute_result"
    }
   ],
   "source": [
    "checklist.value_counts()"
   ]
  },
  {
   "cell_type": "code",
   "execution_count": 85,
   "id": "c75e8e43-3a7d-4c67-a301-90c0683915a3",
   "metadata": {},
   "outputs": [
    {
     "data": {
      "text/plain": [
       "checklist\n",
       "NaN         3\n",
       "COMPLETE    2\n",
       "Name: count, dtype: int64"
      ]
     },
     "execution_count": 85,
     "metadata": {},
     "output_type": "execute_result"
    }
   ],
   "source": [
    "checklist.value_counts(dropna=False)"
   ]
  },
  {
   "cell_type": "markdown",
   "id": "15fc78d4-cbc0-48db-8df3-3e80bf0e5c5a",
   "metadata": {},
   "source": [
    "> Most methods ignore NaN values, so you need to specify **`dropna=False`** to return the count of NaN values"
   ]
  },
  {
   "cell_type": "code",
   "execution_count": null,
   "id": "34c400b6-52ef-4b46-9635-4b094264d59d",
   "metadata": {},
   "outputs": [],
   "source": []
  },
  {
   "cell_type": "markdown",
   "id": "2e497d06-1503-4d7b-8946-f2243e7b4254",
   "metadata": {},
   "source": [
    "# Handling Missing Data\n",
    "\n",
    "- The `.dropna()` method removes NaN values from your Series or DataFrame\n",
    "- The `.fillna(value)` method replaces NaN values with a specified value"
   ]
  },
  {
   "cell_type": "code",
   "execution_count": 86,
   "id": "f49ccaed-4e40-4d68-9ffc-2df37a8d7555",
   "metadata": {},
   "outputs": [
    {
     "data": {
      "text/plain": [
       "0    COMPLETE\n",
       "1         NaN\n",
       "2         NaN\n",
       "3         NaN\n",
       "4    COMPLETE\n",
       "Name: checklist, dtype: object"
      ]
     },
     "execution_count": 86,
     "metadata": {},
     "output_type": "execute_result"
    }
   ],
   "source": [
    "checklist"
   ]
  },
  {
   "cell_type": "code",
   "execution_count": 87,
   "id": "8fb81429-02d8-4852-a76f-05bf054d9cbf",
   "metadata": {},
   "outputs": [
    {
     "data": {
      "text/plain": [
       "0    COMPLETE\n",
       "4    COMPLETE\n",
       "Name: checklist, dtype: object"
      ]
     },
     "execution_count": 87,
     "metadata": {},
     "output_type": "execute_result"
    }
   ],
   "source": [
    "checklist.dropna()"
   ]
  },
  {
   "cell_type": "markdown",
   "id": "16ecb3e9-04f1-43b8-8357-05f3f493251b",
   "metadata": {},
   "source": [
    "> **Note**: the index has gaps, so you can use `.reset_index()` to restore the range of integers"
   ]
  },
  {
   "cell_type": "code",
   "execution_count": 88,
   "id": "9e8c3ae9-38e0-4313-b691-6d4cb5fc18e8",
   "metadata": {},
   "outputs": [
    {
     "data": {
      "text/plain": [
       "0      COMPLETE\n",
       "1    INCOMPLETE\n",
       "2    INCOMPLETE\n",
       "3    INCOMPLETE\n",
       "4      COMPLETE\n",
       "Name: checklist, dtype: object"
      ]
     },
     "execution_count": 88,
     "metadata": {},
     "output_type": "execute_result"
    }
   ],
   "source": [
    "checklist.fillna(\"INCOMPLETE\")"
   ]
  },
  {
   "cell_type": "markdown",
   "id": "2866b10d-e8d5-4840-a06d-9f5e0d5a2d8f",
   "metadata": {},
   "source": [
    "It's important to be **thoughtful and delibrate** in how you handle missing data\n",
    "- Do you **keep** them?\n",
    "- Do you **remove** them?\n",
    "- Do you **replace** them with zeros?\n",
    "- Do you **impute** them with the mean?\n",
    "\n",
    "**PRO TIP**: These operations can dramatically impact the results of an analysis, so make sure you understand these impacts and talk to a data SME to understand why data is missing"
   ]
  },
  {
   "cell_type": "code",
   "execution_count": 89,
   "id": "d77c23e2-d2cb-420d-bfa9-004ce9134b09",
   "metadata": {},
   "outputs": [
    {
     "data": {
      "text/plain": [
       "0       0\n",
       "1       5\n",
       "2     155\n",
       "3    <NA>\n",
       "4     518\n",
       "Name: Sales, dtype: object"
      ]
     },
     "execution_count": 89,
     "metadata": {},
     "output_type": "execute_result"
    }
   ],
   "source": [
    "sales_series"
   ]
  },
  {
   "cell_type": "code",
   "execution_count": 90,
   "id": "23d8d277-f95a-44db-b2b4-a0e34baea266",
   "metadata": {},
   "outputs": [
    {
     "data": {
      "text/plain": [
       "0      0\n",
       "1      5\n",
       "2    155\n",
       "4    518\n",
       "Name: Sales, dtype: object"
      ]
     },
     "execution_count": 90,
     "metadata": {},
     "output_type": "execute_result"
    }
   ],
   "source": [
    "sales_series.dropna()"
   ]
  },
  {
   "cell_type": "code",
   "execution_count": 91,
   "id": "bca8925d-0b71-41b5-87fd-83e27143aa02",
   "metadata": {},
   "outputs": [],
   "source": [
    "pd.set_option('future.no_silent_downcasting', True)"
   ]
  },
  {
   "cell_type": "code",
   "execution_count": 92,
   "id": "40a3eaa7-dacd-4e6f-b4f9-1ef66dc50c8a",
   "metadata": {},
   "outputs": [
    {
     "data": {
      "text/plain": [
       "0      0\n",
       "1      5\n",
       "2    155\n",
       "3      0\n",
       "4    518\n",
       "Name: Sales, dtype: object"
      ]
     },
     "execution_count": 92,
     "metadata": {},
     "output_type": "execute_result"
    }
   ],
   "source": [
    "sales_series.fillna(0)"
   ]
  },
  {
   "cell_type": "code",
   "execution_count": 93,
   "id": "77a44b2c-4e1d-4f41-9b71-edbdb7b68536",
   "metadata": {},
   "outputs": [
    {
     "data": {
      "text/plain": [
       "0        0\n",
       "1        5\n",
       "2      155\n",
       "3    169.5\n",
       "4      518\n",
       "Name: Sales, dtype: object"
      ]
     },
     "execution_count": 93,
     "metadata": {},
     "output_type": "execute_result"
    }
   ],
   "source": [
    "sales_series.fillna(sales_series.mean())"
   ]
  },
  {
   "cell_type": "code",
   "execution_count": null,
   "id": "ade76c2f-7cac-404a-9e1a-bdfa42d836fb",
   "metadata": {},
   "outputs": [],
   "source": []
  },
  {
   "cell_type": "markdown",
   "id": "2479870f-b30a-4368-97f8-144951ccff0f",
   "metadata": {},
   "source": [
    "# EXERCISE: MISSING DATA\n",
    "\n",
    "#### NEW MESSAGE: \n",
    "- From: Rachel Revenue (Finacial Analyst)\n",
    "- Subject: Erroneous Data\n",
    "\n",
    "`Hey,`\n",
    "\n",
    "`I just got a promotion thanks to the analysis you helped me\n",
    "with. I owe you lunch!`\n",
    "\n",
    "`I noticed that two prices (51.44, 47.83), were incorrect, so I\n",
    "had them filled in with missing values. I’m not sure if I did this\n",
    "correctly.`\n",
    "\n",
    "`Can you confirm the number of missing values in\n",
    "the price column? Once you’ve done that, fill the prices in with\n",
    "the median of the oil price series.`\n",
    "\n",
    "`Thanks!`"
   ]
  },
  {
   "cell_type": "code",
   "execution_count": 94,
   "id": "51d915f5-da00-4aed-826c-341ecfe45d05",
   "metadata": {},
   "outputs": [
    {
     "data": {
      "text/plain": [
       "date\n",
       "2016-12-20    52.22\n",
       "2016-12-21    51.44\n",
       "2016-12-22    51.98\n",
       "2016-12-23    52.01\n",
       "2016-12-27    52.82\n",
       "              ...  \n",
       "2017-05-09    45.84\n",
       "2017-05-10    47.28\n",
       "2017-05-11    47.81\n",
       "2017-05-12    47.83\n",
       "2017-05-15    48.86\n",
       "Name: oil_series, Length: 100, dtype: float64"
      ]
     },
     "execution_count": 94,
     "metadata": {},
     "output_type": "execute_result"
    }
   ],
   "source": [
    "oil_series"
   ]
  },
  {
   "cell_type": "code",
   "execution_count": 97,
   "id": "9dbe8b43-dda1-455f-8318-daf25627298a",
   "metadata": {},
   "outputs": [],
   "source": [
    "oil_series = oil_series.where(~oil_series.isin([51.44, 47.83]), np.NaN)"
   ]
  },
  {
   "cell_type": "code",
   "execution_count": 98,
   "id": "503e7681-8819-4f0a-9498-ea95ff8833a9",
   "metadata": {},
   "outputs": [
    {
     "data": {
      "text/plain": [
       "2"
      ]
     },
     "execution_count": 98,
     "metadata": {},
     "output_type": "execute_result"
    }
   ],
   "source": [
    "oil_series.isna().sum()"
   ]
  },
  {
   "cell_type": "code",
   "execution_count": 99,
   "id": "49c3e3e0-4193-438c-9e29-c068c49b7024",
   "metadata": {},
   "outputs": [
    {
     "data": {
      "text/plain": [
       "date\n",
       "2016-12-20    52.220\n",
       "2016-12-21    52.205\n",
       "2016-12-22    51.980\n",
       "2016-12-23    52.010\n",
       "2016-12-27    52.820\n",
       "               ...  \n",
       "2017-05-09    45.840\n",
       "2017-05-10    47.280\n",
       "2017-05-11    47.810\n",
       "2017-05-12    52.205\n",
       "2017-05-15    48.860\n",
       "Name: oil_series, Length: 100, dtype: float64"
      ]
     },
     "execution_count": 99,
     "metadata": {},
     "output_type": "execute_result"
    }
   ],
   "source": [
    "oil_series.fillna(oil_series.median())"
   ]
  },
  {
   "cell_type": "code",
   "execution_count": null,
   "id": "1ad9f5b1-98b7-4775-8135-57e79a084065",
   "metadata": {},
   "outputs": [],
   "source": []
  },
  {
   "cell_type": "markdown",
   "id": "be61bb64-e25d-4744-b781-86f266d4aae9",
   "metadata": {},
   "source": [
    "# THE APPLY METHOD\n",
    "\n",
    "The **`.apply()`** method lets you apply custom functions to Pandas Series\n"
   ]
  },
  {
   "cell_type": "code",
   "execution_count": 100,
   "id": "fae690cd-2a78-4266-8530-d606cd8c1955",
   "metadata": {},
   "outputs": [],
   "source": [
    "def discount(price):\n",
    "    if price > 20:\n",
    "        return round(price * 0.9, 2)\n",
    "    return price"
   ]
  },
  {
   "cell_type": "code",
   "execution_count": 102,
   "id": "9ce6f6c0-418d-4fc0-863c-adce4f262e28",
   "metadata": {},
   "outputs": [
    {
     "data": {
      "text/plain": [
       "0     3.99\n",
       "1     5.99\n",
       "2    22.99\n",
       "3     7.99\n",
       "4    33.99\n",
       "dtype: float64"
      ]
     },
     "execution_count": 102,
     "metadata": {},
     "output_type": "execute_result"
    }
   ],
   "source": [
    "clean_wholesale = pd.Series([3.99, 5.99, 22.99, 7.99, 33.99])\n",
    "clean_wholesale"
   ]
  },
  {
   "cell_type": "code",
   "execution_count": 103,
   "id": "432a10cc-d3db-436e-9fda-f26f417fbae3",
   "metadata": {},
   "outputs": [
    {
     "data": {
      "text/plain": [
       "0     3.99\n",
       "1     5.99\n",
       "2    20.69\n",
       "3     7.99\n",
       "4    30.59\n",
       "dtype: float64"
      ]
     },
     "execution_count": 103,
     "metadata": {},
     "output_type": "execute_result"
    }
   ],
   "source": [
    "clean_wholesale.apply(discount)"
   ]
  },
  {
   "cell_type": "code",
   "execution_count": 105,
   "id": "42a0f99e-dbf0-4d63-a3fb-dcb3f5eb6f15",
   "metadata": {},
   "outputs": [
    {
     "data": {
      "text/plain": [
       "0     3.99\n",
       "1     5.99\n",
       "2    20.69\n",
       "3     7.99\n",
       "4    30.59\n",
       "dtype: float64"
      ]
     },
     "execution_count": 105,
     "metadata": {},
     "output_type": "execute_result"
    }
   ],
   "source": [
    "clean_wholesale.apply(lambda x: round(x * 0.9, 2) if x > 20 else x)"
   ]
  },
  {
   "cell_type": "code",
   "execution_count": null,
   "id": "254d0f90-a79f-4261-a5cd-4d8804670b6d",
   "metadata": {},
   "outputs": [],
   "source": []
  }
 ],
 "metadata": {
  "kernelspec": {
   "display_name": "Python 3 (ipykernel)",
   "language": "python",
   "name": "python3"
  },
  "language_info": {
   "codemirror_mode": {
    "name": "ipython",
    "version": 3
   },
   "file_extension": ".py",
   "mimetype": "text/x-python",
   "name": "python",
   "nbconvert_exporter": "python",
   "pygments_lexer": "ipython3",
   "version": "3.12.3"
  }
 },
 "nbformat": 4,
 "nbformat_minor": 5
}
