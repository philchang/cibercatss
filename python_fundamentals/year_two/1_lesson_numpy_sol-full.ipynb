{
 "cells": [
  {
   "cell_type": "markdown",
   "id": "c605045e-6276-4b61-a1a3-5cfd49cdcc31",
   "metadata": {
    "collapsed": true,
    "jupyter": {
     "outputs_hidden": true
    }
   },
   "source": [
    "# Meet Numpy\n",
    "\n",
    "1. **NumPy** is an open-source library that is the universal standard for working with numerical data in Python, and forms the foundation of other libraries like Pandas\n",
    "2. **Pandas DataFrames** are built on NumPy arrays and can leverage NumPy functions"
   ]
  },
  {
   "cell_type": "markdown",
   "id": "dc3d413d-32cc-467a-aa81-74de49606358",
   "metadata": {},
   "source": [
    "# NumPy Arrays\n",
    "\n",
    "**NumPy arrays** are fixed-size containers of items that are more efficient than Python lists or tuples for data processing\n",
    "1. They only store a single data type (mixed data types are stored as a string)\n",
    "2. They can be one-dimensional or multi-dimensional\n",
    "3. Array elements can be modified, but the array size cannot change"
   ]
  },
  {
   "cell_type": "code",
   "execution_count": 1,
   "id": "c5ef42c8-a774-4a15-8dfe-d9db7f190607",
   "metadata": {
    "ExecuteTime": {
     "end_time": "2024-05-26T22:54:24.650645Z",
     "start_time": "2024-05-26T22:54:24.648449Z"
    }
   },
   "outputs": [],
   "source": [
    "import numpy as np"
   ]
  },
  {
   "cell_type": "code",
   "execution_count": 2,
   "id": "3af4b102-25d7-40bc-8aaa-a441da2cfc95",
   "metadata": {
    "ExecuteTime": {
     "end_time": "2024-05-26T22:54:24.655323Z",
     "start_time": "2024-05-26T22:54:24.650645Z"
    }
   },
   "outputs": [
    {
     "data": {
      "text/plain": [
       "[0, 5, 155, 0, 518, 0, 1827, 616, 317, 325]"
      ]
     },
     "execution_count": 2,
     "metadata": {},
     "output_type": "execute_result"
    }
   ],
   "source": [
    "sales = [0, 5, 155, 0, 518, 0, 1827, 616, 317, 325]\n",
    "sales"
   ]
  },
  {
   "cell_type": "code",
   "execution_count": 3,
   "id": "cc07a8bc-78e9-4d6e-bc82-b83e7ad3d59b",
   "metadata": {
    "ExecuteTime": {
     "end_time": "2024-05-26T22:54:24.659217Z",
     "start_time": "2024-05-26T22:54:24.656283Z"
    }
   },
   "outputs": [
    {
     "data": {
      "text/plain": [
       "list"
      ]
     },
     "execution_count": 3,
     "metadata": {},
     "output_type": "execute_result"
    }
   ],
   "source": [
    "type(sales)"
   ]
  },
  {
   "cell_type": "markdown",
   "id": "e64ccf1a-ce4f-445d-8bad-717d2b744401",
   "metadata": {},
   "source": [
    "> NumPy's **array** function converts Python lists into NumPy arrays"
   ]
  },
  {
   "cell_type": "code",
   "execution_count": 4,
   "id": "0c7f8790-a03e-49e0-9e9d-50ba02abbf41",
   "metadata": {
    "ExecuteTime": {
     "end_time": "2024-05-26T22:54:24.662813Z",
     "start_time": "2024-05-26T22:54:24.659217Z"
    }
   },
   "outputs": [
    {
     "data": {
      "text/plain": [
       "array([   0,    5,  155,    0,  518,    0, 1827,  616,  317,  325])"
      ]
     },
     "execution_count": 4,
     "metadata": {},
     "output_type": "execute_result"
    }
   ],
   "source": [
    "sales_array = np.array(sales)\n",
    "sales_array"
   ]
  },
  {
   "cell_type": "code",
   "execution_count": 5,
   "id": "7b5f3daa-05e1-4f31-bf61-5bffd53f7993",
   "metadata": {
    "ExecuteTime": {
     "end_time": "2024-05-26T22:54:24.666771Z",
     "start_time": "2024-05-26T22:54:24.663820Z"
    }
   },
   "outputs": [
    {
     "data": {
      "text/plain": [
       "numpy.ndarray"
      ]
     },
     "execution_count": 5,
     "metadata": {},
     "output_type": "execute_result"
    }
   ],
   "source": [
    "type(sales_array)"
   ]
  },
  {
   "cell_type": "code",
   "execution_count": 5,
   "id": "1519aa03-5a1a-4f2b-9362-a2b73d97bb3c",
   "metadata": {
    "ExecuteTime": {
     "end_time": "2024-05-26T22:54:24.669353Z",
     "start_time": "2024-05-26T22:54:24.667286Z"
    }
   },
   "outputs": [],
   "source": []
  },
  {
   "cell_type": "markdown",
   "id": "593964e2-1623-4fc3-9081-10eba0858f66",
   "metadata": {},
   "source": [
    "# Array Properties\n",
    "\n",
    "NumPy arrays have these key properties:\n",
    "\n",
    "- **ndim** - the number of dimensions (axes) in the array\n",
    "- **shape** - the size of the array for each dimension\n",
    "- **size** - the total number of elements in the array\n",
    "- **dtype** - the data type of the elements in the array"
   ]
  },
  {
   "cell_type": "code",
   "execution_count": 6,
   "id": "3b961f98-f162-4052-b126-25e7973af8c2",
   "metadata": {
    "ExecuteTime": {
     "end_time": "2024-05-26T22:54:24.673480Z",
     "start_time": "2024-05-26T22:54:24.669889Z"
    }
   },
   "outputs": [
    {
     "data": {
      "text/plain": [
       "[[0, 5, 155, 0, 518], [0, 1827, 616, 317, 325]]"
      ]
     },
     "execution_count": 6,
     "metadata": {},
     "output_type": "execute_result"
    }
   ],
   "source": [
    "sales = [\n",
    "    [0, 5, 155, 0, 518],\n",
    "    [0, 1827, 616, 317, 325]\n",
    "]\n",
    "\n",
    "sales"
   ]
  },
  {
   "cell_type": "code",
   "execution_count": 7,
   "id": "4a7b62ee-c716-4c04-aeb6-178242dc2c37",
   "metadata": {
    "ExecuteTime": {
     "end_time": "2024-05-26T22:54:24.677141Z",
     "start_time": "2024-05-26T22:54:24.674015Z"
    }
   },
   "outputs": [
    {
     "data": {
      "text/plain": [
       "list"
      ]
     },
     "execution_count": 7,
     "metadata": {},
     "output_type": "execute_result"
    }
   ],
   "source": [
    "type(sales)"
   ]
  },
  {
   "cell_type": "code",
   "execution_count": 8,
   "id": "c3914163-8033-47e8-ad6b-40f35a891022",
   "metadata": {
    "ExecuteTime": {
     "end_time": "2024-05-26T22:54:24.680812Z",
     "start_time": "2024-05-26T22:54:24.678161Z"
    }
   },
   "outputs": [
    {
     "data": {
      "text/plain": [
       "array([[   0,    5,  155,    0,  518],\n",
       "       [   0, 1827,  616,  317,  325]])"
      ]
     },
     "execution_count": 8,
     "metadata": {},
     "output_type": "execute_result"
    }
   ],
   "source": [
    "sales_array = np.array(sales)\n",
    "sales_array"
   ]
  },
  {
   "cell_type": "code",
   "execution_count": 9,
   "id": "46ecd77c-1bc8-4571-af58-6ce556cca804",
   "metadata": {
    "ExecuteTime": {
     "end_time": "2024-05-26T22:54:24.685547Z",
     "start_time": "2024-05-26T22:54:24.682458Z"
    }
   },
   "outputs": [
    {
     "name": "stdout",
     "output_type": "stream",
     "text": [
      "ndim: 2\n",
      "shape: (2, 5)\n",
      "size: 10\n",
      "dtype: int32\n"
     ]
    }
   ],
   "source": [
    "print(f\"ndim: {sales_array.ndim}\")\n",
    "print(f\"shape: {sales_array.shape}\")\n",
    "print(f\"size: {sales_array.size}\")\n",
    "print(f\"dtype: {sales_array.dtype}\")"
   ]
  },
  {
   "cell_type": "markdown",
   "id": "ff00971a-45d0-471d-85e9-44e1c7f39dec",
   "metadata": {},
   "source": [
    "> - **ndim: 2**        The sales_array has 2 dimensions\n",
    "> - **shape: (2, 5)**  The first dimension has a size of 2 rows and second a size of 5 columns\n",
    "> - **size: 10**       It has 10 elements total\n",
    "> - **dtype: int**     The elements are stored as integers"
   ]
  },
  {
   "cell_type": "code",
   "execution_count": 9,
   "id": "6caebb53-2840-477b-a60e-d094d5276dc5",
   "metadata": {
    "ExecuteTime": {
     "end_time": "2024-05-26T22:54:24.688650Z",
     "start_time": "2024-05-26T22:54:24.686064Z"
    }
   },
   "outputs": [],
   "source": []
  },
  {
   "cell_type": "markdown",
   "id": "115bdc05-c1cb-4063-8646-2a12865f93f5",
   "metadata": {},
   "source": [
    "# EXERCISE: ARRAY BASICS\n",
    "\n",
    "#### NEW MESSAGE: \n",
    "- From: RossRetail (Head of Analytics)\n",
    "- Subject: NumPy?\n",
    "\n",
    "` Hi there, welcome to the DataCrafters LLC!`\n",
    "\n",
    "`Your resume mentions you have basic Python experience. Our finance team has been asking us to cut software costs - can you help us dig into Python as an analysis tool?`\n",
    "\n",
    "`I know NumPy is foundational, but not much beyond that.`\n",
    "\n",
    "`Can you convert a Python list into a NumPy array and help me get familiar with their properties?`\n",
    "\n",
    "`Thanks `"
   ]
  },
  {
   "cell_type": "code",
   "execution_count": 10,
   "id": "47e73b30-4e13-4db5-af47-9644d19b12da",
   "metadata": {
    "ExecuteTime": {
     "end_time": "2024-05-26T22:54:24.692632Z",
     "start_time": "2024-05-26T22:54:24.689167Z"
    }
   },
   "outputs": [
    {
     "data": {
      "text/plain": [
       "array([ 10,  20,  30,  40,  50,  60,  70,  80,  90, 100])"
      ]
     },
     "execution_count": 10,
     "metadata": {},
     "output_type": "execute_result"
    }
   ],
   "source": [
    "my_list = [x*10 for x in range(1, 11)]\n",
    "my_array = np.array(my_list)\n",
    "my_array"
   ]
  },
  {
   "cell_type": "code",
   "execution_count": 11,
   "id": "36286b04-ca81-49d9-ad9a-9b97bfaa8b32",
   "metadata": {
    "ExecuteTime": {
     "end_time": "2024-05-26T22:54:24.696158Z",
     "start_time": "2024-05-26T22:54:24.692632Z"
    }
   },
   "outputs": [
    {
     "name": "stdout",
     "output_type": "stream",
     "text": [
      "ndim: 1\n",
      "shape: (10,)\n",
      "size: 10\n",
      "dtype: int32\n"
     ]
    }
   ],
   "source": [
    "print(f\"ndim: {my_array.ndim}\")\n",
    "print(f\"shape: {my_array.shape}\")\n",
    "print(f\"size: {my_array.size}\")\n",
    "print(f\"dtype: {my_array.dtype}\")"
   ]
  },
  {
   "cell_type": "code",
   "execution_count": 11,
   "id": "47b5864d-d9fe-401c-a6cb-c4f3fb9c7ffb",
   "metadata": {
    "ExecuteTime": {
     "end_time": "2024-05-26T22:54:24.698943Z",
     "start_time": "2024-05-26T22:54:24.696676Z"
    }
   },
   "outputs": [],
   "source": []
  },
  {
   "cell_type": "markdown",
   "id": "88f8321b-261e-43ea-b9a2-afb638f1bd13",
   "metadata": {},
   "source": [
    "# ARRAY CREATION\n",
    "\n",
    "As an alternative to converting lists, you can **create arrays** using functions:\n",
    "\n",
    "1. **ones**:     Creates an array of ones of a given size, as float by default\n",
    "2. **zeros**:    Creates an array of zeros of a given size, as float by default\n",
    "3. **arange**:   Creates an array of integers with given start & stop values, and a step size (only stop is required and is not inclusive)\n",
    "4. **linspace**: Creates an array of floats with given start & stop values, with n elements, separated by a consistent step size (stop is inclusive)\n",
    "5. **reshape**:  Changes an array into the specified dimensions, if compatible"
   ]
  },
  {
   "cell_type": "markdown",
   "id": "2f2cfd09-059e-4387-95a9-ce156484357c",
   "metadata": {},
   "source": [
    "> `np.ones((rows, cols), dtype)`"
   ]
  },
  {
   "cell_type": "code",
   "execution_count": 12,
   "id": "fb816489-f465-4d4a-83d4-e4a47d54696d",
   "metadata": {
    "ExecuteTime": {
     "end_time": "2024-05-26T22:54:24.704324Z",
     "start_time": "2024-05-26T22:54:24.700001Z"
    }
   },
   "outputs": [
    {
     "data": {
      "text/plain": [
       "array([1., 1., 1., 1.])"
      ]
     },
     "execution_count": 12,
     "metadata": {},
     "output_type": "execute_result"
    }
   ],
   "source": [
    "np.ones(4, )"
   ]
  },
  {
   "cell_type": "markdown",
   "id": "7b456a12-cede-40bc-a0fe-6abb5c61aa1e",
   "metadata": {},
   "source": [
    "> `np.zeros((rows, cols), dtype)`"
   ]
  },
  {
   "cell_type": "code",
   "execution_count": 13,
   "id": "fd79b60a-ccd4-4f67-a9fe-4f23e6880762",
   "metadata": {
    "ExecuteTime": {
     "end_time": "2024-05-26T22:54:24.708296Z",
     "start_time": "2024-05-26T22:54:24.705018Z"
    }
   },
   "outputs": [
    {
     "data": {
      "text/plain": [
       "array([[0, 0, 0, 0, 0],\n",
       "       [0, 0, 0, 0, 0]])"
      ]
     },
     "execution_count": 13,
     "metadata": {},
     "output_type": "execute_result"
    }
   ],
   "source": [
    "np.zeros((2, 5), dtype=int)"
   ]
  },
  {
   "cell_type": "markdown",
   "id": "24b8068d-3250-477a-b4b6-9b9d5b18f8e4",
   "metadata": {},
   "source": [
    "> `np.arange(start, stop, step) `"
   ]
  },
  {
   "cell_type": "code",
   "execution_count": 14,
   "id": "187cf2ca-a60d-45cb-a009-80930b19dc21",
   "metadata": {
    "ExecuteTime": {
     "end_time": "2024-05-26T22:54:24.712411Z",
     "start_time": "2024-05-26T22:54:24.709300Z"
    }
   },
   "outputs": [
    {
     "data": {
      "text/plain": [
       "array([ 10,  20,  30,  40,  50,  60,  70,  80,  90, 100])"
      ]
     },
     "execution_count": 14,
     "metadata": {},
     "output_type": "execute_result"
    }
   ],
   "source": [
    "np.arange(10, 101, 10)"
   ]
  },
  {
   "cell_type": "markdown",
   "id": "651538b0-0420-4c92-9853-3e610d5c6593",
   "metadata": {},
   "source": [
    "> `np.linspace(start, stop, n)`"
   ]
  },
  {
   "cell_type": "code",
   "execution_count": 15,
   "id": "26d4d17e-1830-4bd5-ba38-5ca9418cdf8d",
   "metadata": {
    "ExecuteTime": {
     "end_time": "2024-05-26T22:54:24.716569Z",
     "start_time": "2024-05-26T22:54:24.713446Z"
    }
   },
   "outputs": [
    {
     "data": {
      "text/plain": [
       "array([  0.,  25.,  50.,  75., 100.])"
      ]
     },
     "execution_count": 15,
     "metadata": {},
     "output_type": "execute_result"
    }
   ],
   "source": [
    "np.linspace(0, 100, 5)"
   ]
  },
  {
   "cell_type": "markdown",
   "id": "ca1e5057-77f7-4534-9e93-1a909aae81e7",
   "metadata": {},
   "source": [
    "> `np.reshape(rows, cols)`"
   ]
  },
  {
   "cell_type": "code",
   "execution_count": 16,
   "id": "fce6c6c4-e904-4166-8544-8584dbab7d42",
   "metadata": {
    "ExecuteTime": {
     "end_time": "2024-05-26T22:54:24.720638Z",
     "start_time": "2024-05-26T22:54:24.717072Z"
    }
   },
   "outputs": [
    {
     "data": {
      "text/plain": [
       "array([1, 3, 5, 7])"
      ]
     },
     "execution_count": 16,
     "metadata": {},
     "output_type": "execute_result"
    }
   ],
   "source": [
    "np.arange(1, 9, 2)"
   ]
  },
  {
   "cell_type": "code",
   "execution_count": 17,
   "id": "a923f894-3c6c-4eea-9317-9b196ad57aee",
   "metadata": {
    "ExecuteTime": {
     "end_time": "2024-05-26T22:54:24.724204Z",
     "start_time": "2024-05-26T22:54:24.721147Z"
    }
   },
   "outputs": [
    {
     "data": {
      "text/plain": [
       "array([[1, 3],\n",
       "       [5, 7]])"
      ]
     },
     "execution_count": 17,
     "metadata": {},
     "output_type": "execute_result"
    }
   ],
   "source": [
    "np.arange(1, 9, 2).reshape(2, 2)"
   ]
  },
  {
   "cell_type": "code",
   "execution_count": 17,
   "id": "25281df7-dac3-4a00-b2c3-9884770cd89b",
   "metadata": {
    "ExecuteTime": {
     "end_time": "2024-05-26T22:54:24.727202Z",
     "start_time": "2024-05-26T22:54:24.725373Z"
    }
   },
   "outputs": [],
   "source": []
  },
  {
   "cell_type": "markdown",
   "id": "57ef61e0-edbb-489b-9666-da4bb5fcc98f",
   "metadata": {},
   "source": [
    "# Random Number Arrays\n",
    "\n",
    "You can create **random number arrays** from a variety of distributions using NumPy functions and methods (*great for sampling and simulation!*)\n",
    "\n",
    "- **default_rng** : Creates a random number generator (*the seed is for reproducibility*)\n",
    "- **random**      : Returns n random numbers from a uniform distribution between 0 and 1\n",
    "- **normal**      : Returns n random numbers from a normal distribution with a given mean and standard deviation"
   ]
  },
  {
   "cell_type": "markdown",
   "id": "70f4eb6a-903c-402c-bed6-ad61df02fcf7",
   "metadata": {},
   "source": [
    "> - First, we are creating a random number generator with a seed of 12345 and assigning it to `rng` using `default_rng`\n",
    "> - Then we are using the `random` method on `rng` to return an array with 10 random numbers"
   ]
  },
  {
   "cell_type": "code",
   "execution_count": 18,
   "id": "690df60e-bbc7-4bc0-87e7-f53379bdfac6",
   "metadata": {
    "ExecuteTime": {
     "end_time": "2024-05-26T22:54:24.731866Z",
     "start_time": "2024-05-26T22:54:24.727740Z"
    }
   },
   "outputs": [
    {
     "data": {
      "text/plain": [
       "array([0.22733602, 0.31675834, 0.79736546, 0.67625467, 0.39110955,\n",
       "       0.33281393, 0.59830875, 0.18673419, 0.67275604, 0.94180287])"
      ]
     },
     "execution_count": 18,
     "metadata": {},
     "output_type": "execute_result"
    }
   ],
   "source": [
    "from numpy.random import default_rng\n",
    "\n",
    "rng = default_rng(12345)\n",
    "\n",
    "random_array = rng.random(10)\n",
    "random_array"
   ]
  },
  {
   "cell_type": "markdown",
   "id": "e4eed1a4-714a-4b26-9d46-20f5e2c0f800",
   "metadata": {},
   "source": [
    "> Here we are using the `normal` method on `rng` to return an array with 10 random numbers from a normal distribution with a mean of 5 and a standard deviation of 1."
   ]
  },
  {
   "cell_type": "code",
   "execution_count": 19,
   "id": "25a8a6e1-166d-4fe3-9034-b22ee182fdb7",
   "metadata": {
    "ExecuteTime": {
     "end_time": "2024-05-26T22:54:24.737055Z",
     "start_time": "2024-05-26T22:54:24.733345Z"
    }
   },
   "outputs": [
    {
     "data": {
      "text/plain": [
       "array([3.57617496, 6.26372846, 4.12933826, 4.74082677, 4.92465669,\n",
       "       4.25911535, 3.6322073 , 5.6488928 , 5.36105811, 3.04713694])"
      ]
     },
     "execution_count": 19,
     "metadata": {},
     "output_type": "execute_result"
    }
   ],
   "source": [
    "rng = default_rng(12345)\n",
    "mean, stddev = 5, 1\n",
    "random_normal = rng.normal(mean, stddev, size=10)\n",
    "random_normal"
   ]
  },
  {
   "cell_type": "markdown",
   "id": "a6b419fc-3dfd-4582-b110-a20bde758254",
   "metadata": {},
   "source": [
    "> **PRO TIP**: Even though it's optional, make sure to **set a seed** when generating random numbers to ensure you and others can recreate the work you have done"
   ]
  },
  {
   "cell_type": "markdown",
   "id": "044ed478-0dce-4b84-ae72-62be1acfe542",
   "metadata": {},
   "source": [
    "# EXERCISE: ARRAY CREATION\n",
    "\n",
    "#### NEW MESSAGE: \n",
    "- From: RossRetail (Head of Analytics)\n",
    "- Subject: Array Creation\n",
    "\n",
    "`Thanks for your help last time – I’m starting to understand\n",
    "NumPy Arrays!`\n",
    "\n",
    "`Are there any NumPy functions that can create arrays so we\n",
    "don’t have to convert from a Python list? Recreate the array\n",
    "from the first assignment but make it 5 rows by 2 columns.`\n",
    "\n",
    "`Once you’ve done that, create an array of random numbers\n",
    "between 0 and 1 in a 3x3 shape. One of our data scientists has\n",
    "been asking about this so I want to make sure it’s possible.\n",
    "Thanks!`"
   ]
  },
  {
   "cell_type": "code",
   "execution_count": 20,
   "id": "2f65bdf7-beb9-4d76-8ba6-f7da6c1c358e",
   "metadata": {
    "ExecuteTime": {
     "end_time": "2024-05-26T22:54:24.741465Z",
     "start_time": "2024-05-26T22:54:24.737571Z"
    }
   },
   "outputs": [
    {
     "data": {
      "text/plain": [
       "array([[ 10.,  20.],\n",
       "       [ 30.,  40.],\n",
       "       [ 50.,  60.],\n",
       "       [ 70.,  80.],\n",
       "       [ 90., 100.]])"
      ]
     },
     "execution_count": 20,
     "metadata": {},
     "output_type": "execute_result"
    }
   ],
   "source": [
    "my_array = np.linspace(10, 100, 10).reshape(5, 2)\n",
    "my_array"
   ]
  },
  {
   "cell_type": "code",
   "execution_count": 21,
   "id": "c1f80d5f-04b5-4592-aad1-8ad7a23ef801",
   "metadata": {
    "ExecuteTime": {
     "end_time": "2024-05-26T22:54:24.745921Z",
     "start_time": "2024-05-26T22:54:24.742432Z"
    }
   },
   "outputs": [
    {
     "data": {
      "text/plain": [
       "array([[0.67583134, 0.2143232 , 0.30945203],\n",
       "       [0.7994661 , 0.9958021 , 0.14223182],\n",
       "       [0.07872553, 0.18082381, 0.35964689]])"
      ]
     },
     "execution_count": 21,
     "metadata": {},
     "output_type": "execute_result"
    }
   ],
   "source": [
    "from numpy.random import default_rng\n",
    "\n",
    "rng = default_rng(2024)\n",
    "\n",
    "random_array = rng.random(9).reshape(3, 3)\n",
    "random_array"
   ]
  },
  {
   "cell_type": "code",
   "execution_count": 21,
   "id": "03cb7129-241b-4a0f-a80e-aa5b438cedfc",
   "metadata": {
    "ExecuteTime": {
     "end_time": "2024-05-26T22:54:24.748689Z",
     "start_time": "2024-05-26T22:54:24.746708Z"
    }
   },
   "outputs": [],
   "source": []
  },
  {
   "cell_type": "markdown",
   "id": "44b9bd22-0b94-4828-b6fb-0c8781730453",
   "metadata": {},
   "source": [
    "# Indexing & Slicing Arrays\n",
    "\n",
    "Indexing & slicing one-dimensional arrays is the same as base Python\n",
    "\n",
    "- `array[index]`: indexing to access a single element (*0-indexed*)\n",
    "- `array[start:stop:step_size]`: slicing to access a series of elements (*stop is not inclusive*)"
   ]
  },
  {
   "cell_type": "code",
   "execution_count": 22,
   "id": "7268a9a5-bf29-4ed6-a2c1-00c7bf7b0329",
   "metadata": {
    "ExecuteTime": {
     "end_time": "2024-05-26T22:54:24.752688Z",
     "start_time": "2024-05-26T22:54:24.748689Z"
    }
   },
   "outputs": [
    {
     "data": {
      "text/plain": [
       "array(['fruits', 'vegetables', 'cereal', 'dairy', 'eggs', 'snacks',\n",
       "       'beverages', 'coffee', 'tea', 'spices'], dtype='<U10')"
      ]
     },
     "execution_count": 22,
     "metadata": {},
     "output_type": "execute_result"
    }
   ],
   "source": [
    "product_array = np.array(['fruits', 'vegetables', 'cereal', 'dairy', 'eggs', 'snacks', 'beverages', 'coffee', 'tea', 'spices'])\n",
    "product_array"
   ]
  },
  {
   "cell_type": "code",
   "execution_count": 23,
   "id": "62a412dc-556b-41e3-88a6-c4ad803516fa",
   "metadata": {
    "ExecuteTime": {
     "end_time": "2024-05-26T22:54:24.755970Z",
     "start_time": "2024-05-26T22:54:24.753411Z"
    }
   },
   "outputs": [
    {
     "name": "stdout",
     "output_type": "stream",
     "text": [
      "vegetables\n"
     ]
    }
   ],
   "source": [
    "print(product_array[1]) # This grabs the second element of product_array"
   ]
  },
  {
   "cell_type": "code",
   "execution_count": 24,
   "id": "e0663de6-38ab-4c91-86cb-f5b2eb5620cd",
   "metadata": {
    "ExecuteTime": {
     "end_time": "2024-05-26T22:54:24.759046Z",
     "start_time": "2024-05-26T22:54:24.756479Z"
    }
   },
   "outputs": [
    {
     "name": "stdout",
     "output_type": "stream",
     "text": [
      "spices\n"
     ]
    }
   ],
   "source": [
    "print(product_array[-1]) # This grabs the last element of product_array"
   ]
  },
  {
   "cell_type": "code",
   "execution_count": 25,
   "id": "df103920-4242-4398-b4fe-fe00e71a2ea0",
   "metadata": {
    "ExecuteTime": {
     "end_time": "2024-05-26T22:54:24.762614Z",
     "start_time": "2024-05-26T22:54:24.759559Z"
    }
   },
   "outputs": [
    {
     "data": {
      "text/plain": [
       "array(['fruits', 'vegetables', 'cereal', 'dairy', 'eggs'], dtype='<U10')"
      ]
     },
     "execution_count": 25,
     "metadata": {},
     "output_type": "execute_result"
    }
   ],
   "source": [
    "product_array[:5]  # This grabs the first five elements of product_array"
   ]
  },
  {
   "cell_type": "code",
   "execution_count": 26,
   "id": "8b3917a6-309b-4e4b-b73a-eb66b2f0ece6",
   "metadata": {
    "ExecuteTime": {
     "end_time": "2024-05-26T22:54:24.766315Z",
     "start_time": "2024-05-26T22:54:24.763245Z"
    }
   },
   "outputs": [
    {
     "data": {
      "text/plain": [
       "array(['snacks', 'coffee', 'spices'], dtype='<U10')"
      ]
     },
     "execution_count": 26,
     "metadata": {},
     "output_type": "execute_result"
    }
   ],
   "source": [
    "product_array[5::2] # This starts at the sixth element and grabs every other element until the end of product_array"
   ]
  },
  {
   "cell_type": "code",
   "execution_count": 26,
   "id": "8ad511c4-51f5-4408-a20a-6701b308db3c",
   "metadata": {
    "ExecuteTime": {
     "end_time": "2024-05-26T22:54:24.768922Z",
     "start_time": "2024-05-26T22:54:24.766830Z"
    }
   },
   "outputs": [],
   "source": []
  },
  {
   "cell_type": "markdown",
   "id": "3f2ce57b-c0ac-4f79-8216-ccdfba4c0305",
   "metadata": {},
   "source": [
    "> Indexing and slicing two-dimensional arrays requires an extra index or slice\n",
    "> - `array[row index, column index]` - indexing to access a single element (*0-indexed*)\n",
    "> - `array[start:stop:step_size, start:stop:step_size]` - slicing to access a series of elements"
   ]
  },
  {
   "cell_type": "code",
   "execution_count": 27,
   "id": "3f234f95-b76b-4803-92a1-2c7369f076d5",
   "metadata": {
    "ExecuteTime": {
     "end_time": "2024-05-26T22:54:24.772578Z",
     "start_time": "2024-05-26T22:54:24.769436Z"
    }
   },
   "outputs": [
    {
     "data": {
      "text/plain": [
       "array([['fruits', 'vegetables', 'cereal', 'dairy', 'eggs'],\n",
       "       ['snacks', 'beverages', 'coffee', 'tea', 'spices']], dtype='<U10')"
      ]
     },
     "execution_count": 27,
     "metadata": {},
     "output_type": "execute_result"
    }
   ],
   "source": [
    "product_array2D = product_array.reshape(2, 5)\n",
    "product_array2D"
   ]
  },
  {
   "cell_type": "code",
   "execution_count": 28,
   "id": "d8dccc7c-e4fd-4a47-9bb1-225ab3013f56",
   "metadata": {
    "ExecuteTime": {
     "end_time": "2024-05-26T22:54:24.776955Z",
     "start_time": "2024-05-26T22:54:24.773928Z"
    }
   },
   "outputs": [
    {
     "data": {
      "text/plain": [
       "'coffee'"
      ]
     },
     "execution_count": 28,
     "metadata": {},
     "output_type": "execute_result"
    }
   ],
   "source": [
    "product_array2D[1, 2] # This goes to the second row and grabs the third element"
   ]
  },
  {
   "cell_type": "code",
   "execution_count": 29,
   "id": "24e55390-20d7-49e8-bccd-6f0f1e9a177b",
   "metadata": {
    "ExecuteTime": {
     "end_time": "2024-05-26T22:54:24.781034Z",
     "start_time": "2024-05-26T22:54:24.777837Z"
    }
   },
   "outputs": [
    {
     "data": {
      "text/plain": [
       "array([['cereal', 'dairy', 'eggs'],\n",
       "       ['coffee', 'tea', 'spices']], dtype='<U10')"
      ]
     },
     "execution_count": 29,
     "metadata": {},
     "output_type": "execute_result"
    }
   ],
   "source": [
    "product_array2D[:, 2:] # This goes to all rows and grabs all the elements starting from the third in each row"
   ]
  },
  {
   "cell_type": "code",
   "execution_count": 30,
   "id": "fe3e2673-7111-42a9-8e5d-ffa6c9e4b9f3",
   "metadata": {
    "ExecuteTime": {
     "end_time": "2024-05-26T22:54:24.784591Z",
     "start_time": "2024-05-26T22:54:24.781461Z"
    }
   },
   "outputs": [
    {
     "data": {
      "text/plain": [
       "array([['snacks', 'beverages', 'coffee', 'tea', 'spices']], dtype='<U10')"
      ]
     },
     "execution_count": 30,
     "metadata": {},
     "output_type": "execute_result"
    }
   ],
   "source": [
    "product_array2D[1:, :] # This goes to the second row and grabs all it's elements"
   ]
  },
  {
   "cell_type": "code",
   "execution_count": 30,
   "id": "3f25511d-0203-49c0-89ba-46800de1117b",
   "metadata": {
    "ExecuteTime": {
     "end_time": "2024-05-26T22:54:24.789221Z",
     "start_time": "2024-05-26T22:54:24.786599Z"
    }
   },
   "outputs": [],
   "source": []
  },
  {
   "cell_type": "markdown",
   "id": "77ce2628-1ffe-47bd-a3d4-410ec04ee605",
   "metadata": {},
   "source": [
    "# EXERCISE: ARRAY ACCESS\n",
    "\n",
    "#### NEW MESSAGE: \n",
    "- From: RossRetail (Head of Analytics)\n",
    "- Subject: Indexing & Slicing Arrays\n",
    "\n",
    "`Ok, last ‘theoretical’ exercise before we start working with\n",
    "real data.`\n",
    " \n",
    "`I am familiar with indexing and slicing in base Python but have\n",
    "no idea how it works in multiple dimensions.`\n",
    "\n",
    "`I’ve provided a few different ‘cuts’ of the data in the notebook\n",
    "– can you slice and dice the random array we created in the\n",
    "last exercise?`\n",
    "\n",
    "`Thanks!`"
   ]
  },
  {
   "cell_type": "code",
   "execution_count": 31,
   "id": "6d482fb2-85a5-4770-b055-3fce8a230198",
   "metadata": {
    "ExecuteTime": {
     "end_time": "2024-05-26T22:54:24.793315Z",
     "start_time": "2024-05-26T22:54:24.789747Z"
    }
   },
   "outputs": [
    {
     "data": {
      "text/plain": [
       "array([[0.67583134, 0.2143232 , 0.30945203],\n",
       "       [0.7994661 , 0.9958021 , 0.14223182],\n",
       "       [0.07872553, 0.18082381, 0.35964689]])"
      ]
     },
     "execution_count": 31,
     "metadata": {},
     "output_type": "execute_result"
    }
   ],
   "source": [
    "from numpy.random import default_rng\n",
    "\n",
    "rng = default_rng(2024)\n",
    "\n",
    "random_array = rng.random(9).reshape(3, 3)\n",
    "random_array"
   ]
  },
  {
   "cell_type": "markdown",
   "id": "1b036458-8545-422f-ab40-d427fab7fef1",
   "metadata": {},
   "source": [
    "> First two `rows`"
   ]
  },
  {
   "cell_type": "code",
   "execution_count": 32,
   "id": "72378107-5137-40c8-9d8d-ac8924164160",
   "metadata": {
    "ExecuteTime": {
     "end_time": "2024-05-26T22:54:24.797442Z",
     "start_time": "2024-05-26T22:54:24.793849Z"
    }
   },
   "outputs": [
    {
     "data": {
      "text/plain": [
       "array([[0.67583134, 0.2143232 , 0.30945203],\n",
       "       [0.7994661 , 0.9958021 , 0.14223182]])"
      ]
     },
     "execution_count": 32,
     "metadata": {},
     "output_type": "execute_result"
    }
   ],
   "source": [
    "random_array[:2,:]"
   ]
  },
  {
   "cell_type": "markdown",
   "id": "acd7930e-7aa2-4399-98ec-6cba6fe86f89",
   "metadata": {},
   "source": [
    "> First `column`"
   ]
  },
  {
   "cell_type": "code",
   "execution_count": 33,
   "id": "6ccdda12-5cfe-4143-965f-71ddb1ba6202",
   "metadata": {
    "ExecuteTime": {
     "end_time": "2024-05-26T22:54:24.801589Z",
     "start_time": "2024-05-26T22:54:24.798469Z"
    }
   },
   "outputs": [
    {
     "data": {
      "text/plain": [
       "array([0.67583134, 0.7994661 , 0.07872553])"
      ]
     },
     "execution_count": 33,
     "metadata": {},
     "output_type": "execute_result"
    }
   ],
   "source": [
    "random_array[:, 0]"
   ]
  },
  {
   "cell_type": "markdown",
   "id": "7cb6a5a0-5b22-42f7-a306-180e92edaf87",
   "metadata": {},
   "source": [
    "> Second number in third `row`"
   ]
  },
  {
   "cell_type": "code",
   "execution_count": 34,
   "id": "998c739a-6e51-46bf-b20c-e0f68dfe4b1d",
   "metadata": {
    "ExecuteTime": {
     "end_time": "2024-05-26T22:54:24.805299Z",
     "start_time": "2024-05-26T22:54:24.802097Z"
    }
   },
   "outputs": [
    {
     "data": {
      "text/plain": [
       "0.18082381369685463"
      ]
     },
     "execution_count": 34,
     "metadata": {},
     "output_type": "execute_result"
    }
   ],
   "source": [
    "random_array[2, 1]"
   ]
  },
  {
   "cell_type": "code",
   "execution_count": 34,
   "id": "1eba7daf-4345-4162-b524-0f8f157d4758",
   "metadata": {
    "ExecuteTime": {
     "end_time": "2024-05-26T22:54:24.808172Z",
     "start_time": "2024-05-26T22:54:24.805808Z"
    }
   },
   "outputs": [],
   "source": []
  },
  {
   "cell_type": "markdown",
   "id": "a8622bb4-d9ef-4616-b04f-596da294ad53",
   "metadata": {},
   "source": [
    "# Array Operations\n",
    "\n",
    "Arithmetic operators can be used to perform **array operations**"
   ]
  },
  {
   "cell_type": "code",
   "execution_count": 35,
   "id": "044f0bbe-9d5f-4eee-acd0-9bcadaf32236",
   "metadata": {
    "ExecuteTime": {
     "end_time": "2024-05-26T22:54:24.812292Z",
     "start_time": "2024-05-26T22:54:24.809211Z"
    }
   },
   "outputs": [
    {
     "data": {
      "text/plain": [
       "array([[   0,    5,  155,    0,  518],\n",
       "       [   0, 1827,  616,  317,  325]])"
      ]
     },
     "execution_count": 35,
     "metadata": {},
     "output_type": "execute_result"
    }
   ],
   "source": [
    "sales = [\n",
    "    [0, 5, 155, 0, 518],\n",
    "    [0, 1827, 616, 317, 325]\n",
    "]\n",
    "\n",
    "sales_array = np.array(sales)\n",
    "sales_array"
   ]
  },
  {
   "cell_type": "code",
   "execution_count": 36,
   "id": "3d9ace20-a881-4bf7-8377-a2b3edafe402",
   "metadata": {
    "ExecuteTime": {
     "end_time": "2024-05-26T22:54:24.816265Z",
     "start_time": "2024-05-26T22:54:24.813340Z"
    }
   },
   "outputs": [
    {
     "data": {
      "text/plain": [
       "array([[   2,    7,  157,    2,  520],\n",
       "       [   2, 1829,  618,  319,  327]])"
      ]
     },
     "execution_count": 36,
     "metadata": {},
     "output_type": "execute_result"
    }
   ],
   "source": [
    "sales_array + 2  # This adds 2 to every element in the array"
   ]
  },
  {
   "cell_type": "code",
   "execution_count": 37,
   "id": "92e847ba-abb8-4589-b5c9-6446d91acb44",
   "metadata": {
    "ExecuteTime": {
     "end_time": "2024-05-26T22:54:24.819314Z",
     "start_time": "2024-05-26T22:54:24.817243Z"
    }
   },
   "outputs": [],
   "source": [
    "quantity = sales_array[0, :]  # This assigns all the elements in the first row to 'quantity'"
   ]
  },
  {
   "cell_type": "code",
   "execution_count": 38,
   "id": "1d13eb46-f3f0-4863-97c6-82419cbf5202",
   "metadata": {
    "ExecuteTime": {
     "end_time": "2024-05-26T22:54:24.822379Z",
     "start_time": "2024-05-26T22:54:24.819824Z"
    }
   },
   "outputs": [],
   "source": [
    "price = sales_array[1, :]     # This assigns all the elements in the second row to 'price'"
   ]
  },
  {
   "cell_type": "code",
   "execution_count": 39,
   "id": "c53c522f-e714-416d-8e9f-5c72f440cec1",
   "metadata": {
    "ExecuteTime": {
     "end_time": "2024-05-26T22:54:24.826461Z",
     "start_time": "2024-05-26T22:54:24.822891Z"
    }
   },
   "outputs": [
    {
     "data": {
      "text/plain": [
       "array([     0,   9135,  95480,      0, 168350])"
      ]
     },
     "execution_count": 39,
     "metadata": {},
     "output_type": "execute_result"
    }
   ],
   "source": [
    "quantity * price"
   ]
  },
  {
   "cell_type": "code",
   "execution_count": 39,
   "id": "a3b09a91-fffe-4c71-948c-5e30b4b44c45",
   "metadata": {
    "ExecuteTime": {
     "end_time": "2024-05-26T22:54:24.829634Z",
     "start_time": "2024-05-26T22:54:24.827479Z"
    }
   },
   "outputs": [],
   "source": []
  },
  {
   "cell_type": "markdown",
   "id": "be82a661-efcf-460c-bac5-1d5653075382",
   "metadata": {},
   "source": [
    "# EXERCISE: ARRAY OPERATIONS\n",
    "\n",
    "#### NEW MESSAGE: \n",
    "- From: RossRetail (Head of Analytics)\n",
    "- Subject: Random Discount\n",
    "\n",
    "`Ok, so now that we’ve gotten the basics down, we can start\n",
    "using NumPy for our first tasks. As part of a promotion, we\n",
    "want to apply a random discount to surprise our customers\n",
    "and generate social media buzz.`\n",
    "\n",
    "`First, add a flat shipping cost of 5 to our prices to get the\n",
    "‘total’ amount owed.`\n",
    "\n",
    "`The numbers in the random array represent ‘discount\n",
    "percent’. To get the ‘percent owed’, subtract the first 6\n",
    "numbers in the random array from 1, then multiply ‘percent\n",
    "owed’ by ‘total’ to get the final amount owed.`\n",
    "\n",
    "`Thanks!`"
   ]
  },
  {
   "cell_type": "code",
   "execution_count": 40,
   "id": "95009529-74ff-45cc-a3b6-700bf4ff16fb",
   "metadata": {
    "ExecuteTime": {
     "end_time": "2024-05-26T22:54:24.833226Z",
     "start_time": "2024-05-26T22:54:24.830143Z"
    }
   },
   "outputs": [],
   "source": [
    "prices = np.array([5.99, 6.99, 22.49, 99.99, 4.99, 49.99])"
   ]
  },
  {
   "cell_type": "code",
   "execution_count": 41,
   "id": "0e7b92aa-f53c-4ce7-98ee-b5f28de7637d",
   "metadata": {
    "ExecuteTime": {
     "end_time": "2024-05-26T22:54:24.838143Z",
     "start_time": "2024-05-26T22:54:24.834389Z"
    }
   },
   "outputs": [
    {
     "data": {
      "text/plain": [
       "array([ 10.99,  11.99,  27.49, 104.99,   9.99,  54.99])"
      ]
     },
     "execution_count": 41,
     "metadata": {},
     "output_type": "execute_result"
    }
   ],
   "source": [
    "total = prices + 5\n",
    "total"
   ]
  },
  {
   "cell_type": "code",
   "execution_count": 42,
   "id": "ed8ca02b-fdcf-4435-91f8-7cd7164b44bb",
   "metadata": {
    "ExecuteTime": {
     "end_time": "2024-05-26T22:54:24.842767Z",
     "start_time": "2024-05-26T22:54:24.839186Z"
    }
   },
   "outputs": [
    {
     "data": {
      "text/plain": [
       "array([[0.67583134, 0.2143232 , 0.30945203],\n",
       "       [0.7994661 , 0.9958021 , 0.14223182],\n",
       "       [0.07872553, 0.18082381, 0.35964689]])"
      ]
     },
     "execution_count": 42,
     "metadata": {},
     "output_type": "execute_result"
    }
   ],
   "source": [
    "random_array"
   ]
  },
  {
   "cell_type": "code",
   "execution_count": 43,
   "id": "8f08bcd2-299b-48f0-9dc3-342f15de10a8",
   "metadata": {
    "ExecuteTime": {
     "end_time": "2024-05-26T22:54:24.846853Z",
     "start_time": "2024-05-26T22:54:24.843282Z"
    }
   },
   "outputs": [],
   "source": [
    "random_array = random_array.flatten()"
   ]
  },
  {
   "cell_type": "code",
   "execution_count": 44,
   "id": "a641bfba-dbbd-4e57-9f98-c5a8cf118693",
   "metadata": {
    "ExecuteTime": {
     "end_time": "2024-05-26T22:54:24.851837Z",
     "start_time": "2024-05-26T22:54:24.847689Z"
    }
   },
   "outputs": [
    {
     "data": {
      "text/plain": [
       "array([0.67583134, 0.2143232 , 0.30945203, 0.7994661 , 0.9958021 ,\n",
       "       0.14223182])"
      ]
     },
     "execution_count": 44,
     "metadata": {},
     "output_type": "execute_result"
    }
   ],
   "source": [
    "discount_percent = random_array[:6]\n",
    "discount_percent"
   ]
  },
  {
   "cell_type": "code",
   "execution_count": 45,
   "id": "96f302d9-35e0-4546-a3ea-ada684187ae5",
   "metadata": {
    "ExecuteTime": {
     "end_time": "2024-05-26T22:54:24.856039Z",
     "start_time": "2024-05-26T22:54:24.852858Z"
    }
   },
   "outputs": [],
   "source": [
    "percent_owed = 1 - discount_percent"
   ]
  },
  {
   "cell_type": "code",
   "execution_count": 46,
   "id": "761d99b4-9853-4fe9-9bb0-5352a166082b",
   "metadata": {
    "ExecuteTime": {
     "end_time": "2024-05-26T22:54:24.860659Z",
     "start_time": "2024-05-26T22:54:24.856552Z"
    }
   },
   "outputs": [
    {
     "data": {
      "text/plain": [
       "array([0.32416866, 0.7856768 , 0.69054797, 0.2005339 , 0.0041979 ,\n",
       "       0.85776818])"
      ]
     },
     "execution_count": 46,
     "metadata": {},
     "output_type": "execute_result"
    }
   ],
   "source": [
    "percent_owed"
   ]
  },
  {
   "cell_type": "code",
   "execution_count": 47,
   "id": "37ac84c7-f386-4c16-ad4c-a8c88c85c564",
   "metadata": {
    "ExecuteTime": {
     "end_time": "2024-05-26T22:54:24.865180Z",
     "start_time": "2024-05-26T22:54:24.861170Z"
    }
   },
   "outputs": [
    {
     "data": {
      "text/plain": [
       "array([1.94177029e+00, 5.49188082e+00, 1.55304238e+01, 2.00513850e+01,\n",
       "       2.09475267e-02, 4.28798316e+01])"
      ]
     },
     "execution_count": 47,
     "metadata": {},
     "output_type": "execute_result"
    }
   ],
   "source": [
    "percent_owed * prices"
   ]
  },
  {
   "cell_type": "code",
   "execution_count": 48,
   "id": "25380051-d6f5-4bcf-8232-4f19585868c4",
   "metadata": {
    "ExecuteTime": {
     "end_time": "2024-05-26T22:54:24.870801Z",
     "start_time": "2024-05-26T22:54:24.866204Z"
    }
   },
   "outputs": [
    {
     "data": {
      "text/plain": [
       "array([ 2.,  5., 16., 20.,  0., 43.])"
      ]
     },
     "execution_count": 48,
     "metadata": {},
     "output_type": "execute_result"
    }
   ],
   "source": [
    "(percent_owed * prices).round()"
   ]
  },
  {
   "cell_type": "code",
   "execution_count": 48,
   "id": "569c936d-4bfa-419f-860f-6090c703e3b6",
   "metadata": {
    "ExecuteTime": {
     "end_time": "2024-05-26T22:54:24.873357Z",
     "start_time": "2024-05-26T22:54:24.871822Z"
    }
   },
   "outputs": [],
   "source": []
  },
  {
   "cell_type": "markdown",
   "id": "439cf960-eeb3-4d2a-bc5f-06624ef4c284",
   "metadata": {},
   "source": [
    "# FILTERING ARRAYS\n",
    "\n",
    "You can **filter arrays** by indexing them with a logical test.\n",
    "- Only the array elements in positions where the logical test returns True are returned"
   ]
  },
  {
   "cell_type": "code",
   "execution_count": 49,
   "id": "157ba672-61b0-45fa-9f1b-d906a8c9072b",
   "metadata": {
    "ExecuteTime": {
     "end_time": "2024-05-26T22:54:24.876962Z",
     "start_time": "2024-05-26T22:54:24.873889Z"
    }
   },
   "outputs": [
    {
     "data": {
      "text/plain": [
       "array([[   0,    5,  155,    0,  518],\n",
       "       [   0, 1827,  616,  317,  325]])"
      ]
     },
     "execution_count": 49,
     "metadata": {},
     "output_type": "execute_result"
    }
   ],
   "source": [
    "sales_array"
   ]
  },
  {
   "cell_type": "markdown",
   "id": "81f43710-10f9-4e89-aaa5-dc7baeaf9508",
   "metadata": {},
   "source": [
    "> Performing a logical test on a NumPy array\n",
    "returns a **Boolean array** with the results of the\n",
    "logical test on each array element"
   ]
  },
  {
   "cell_type": "code",
   "execution_count": 50,
   "id": "3ef02dd3-6d2d-4b4f-8ccd-5fdae97b59d8",
   "metadata": {
    "ExecuteTime": {
     "end_time": "2024-05-26T22:54:24.881043Z",
     "start_time": "2024-05-26T22:54:24.877473Z"
    }
   },
   "outputs": [
    {
     "data": {
      "text/plain": [
       "array([[False,  True,  True, False,  True],\n",
       "       [False,  True,  True,  True,  True]])"
      ]
     },
     "execution_count": 50,
     "metadata": {},
     "output_type": "execute_result"
    }
   ],
   "source": [
    "sales_array != 0"
   ]
  },
  {
   "cell_type": "markdown",
   "id": "e4d4c6b8-1fdc-41a3-9511-b4b230752372",
   "metadata": {},
   "source": [
    "> Indexing an array with a Boolean array returns an array with\n",
    "the elements where the Boolean value is **True**"
   ]
  },
  {
   "cell_type": "code",
   "execution_count": 51,
   "id": "7d68c7ce-7785-4756-851c-20486b2a477e",
   "metadata": {
    "ExecuteTime": {
     "end_time": "2024-05-26T22:54:24.885841Z",
     "start_time": "2024-05-26T22:54:24.882063Z"
    }
   },
   "outputs": [
    {
     "data": {
      "text/plain": [
       "array([   5,  155,  518, 1827,  616,  317,  325])"
      ]
     },
     "execution_count": 51,
     "metadata": {},
     "output_type": "execute_result"
    }
   ],
   "source": [
    "sales_array[sales_array != 0]"
   ]
  },
  {
   "cell_type": "markdown",
   "id": "d05e8709-2af6-48f8-98c4-e7f2e928d2ec",
   "metadata": {},
   "source": [
    "> You can filter arrays with **multiple logical tests**\n",
    "> - Use `|` for **or** conditions and `&` for **and** conditions"
   ]
  },
  {
   "cell_type": "code",
   "execution_count": 52,
   "id": "609da5d7-0cf3-4bf6-a4bd-d8c22390756e",
   "metadata": {
    "ExecuteTime": {
     "end_time": "2024-05-26T22:54:24.890184Z",
     "start_time": "2024-05-26T22:54:24.886624Z"
    }
   },
   "outputs": [
    {
     "data": {
      "text/plain": [
       "array([[   0,    5,  155,    0,  518],\n",
       "       [   0, 1827,  616,  317,  325]])"
      ]
     },
     "execution_count": 52,
     "metadata": {},
     "output_type": "execute_result"
    }
   ],
   "source": [
    "sales_array"
   ]
  },
  {
   "cell_type": "code",
   "execution_count": 53,
   "id": "fcdbb47c-6074-4b52-84fa-8fdab157ead4",
   "metadata": {
    "ExecuteTime": {
     "end_time": "2024-05-26T22:54:24.896369Z",
     "start_time": "2024-05-26T22:54:24.890727Z"
    }
   },
   "outputs": [
    {
     "data": {
      "text/plain": [
       "array([  0,   5,   0,   0, 616])"
      ]
     },
     "execution_count": 53,
     "metadata": {},
     "output_type": "execute_result"
    }
   ],
   "source": [
    "sales_array[(sales_array == 616) | (sales_array < 100)] # Returns an array with elements equal to 616 or less than 100"
   ]
  },
  {
   "cell_type": "code",
   "execution_count": 54,
   "id": "afd626b4-5c85-482d-8391-cb133e896dee",
   "metadata": {
    "ExecuteTime": {
     "end_time": "2024-05-26T22:54:25.366645Z",
     "start_time": "2024-05-26T22:54:25.362783Z"
    }
   },
   "outputs": [
    {
     "data": {
      "text/plain": [
       "array([155, 317, 325])"
      ]
     },
     "execution_count": 54,
     "metadata": {},
     "output_type": "execute_result"
    }
   ],
   "source": [
    "sales_array[(sales_array > 100) & (sales_array < 500)] # Returns an array with elements greater than 100 and less than 500"
   ]
  },
  {
   "cell_type": "code",
   "execution_count": 55,
   "id": "5f8a0ed4-9bef-499f-a371-a27f8341759a",
   "metadata": {
    "ExecuteTime": {
     "end_time": "2024-05-26T22:54:26.026059Z",
     "start_time": "2024-05-26T22:54:26.022392Z"
    }
   },
   "outputs": [
    {
     "data": {
      "text/plain": [
       "array([155, 317, 325])"
      ]
     },
     "execution_count": 55,
     "metadata": {},
     "output_type": "execute_result"
    }
   ],
   "source": [
    "mask = (sales_array > 100) & (sales_array < 500)\n",
    "sales_array[mask]"
   ]
  },
  {
   "cell_type": "markdown",
   "id": "933d33ba-aa53-46c8-a04d-e608bae90e30",
   "metadata": {},
   "source": [
    "> **PRO TIP**: Store complex filtering criteria in a variable (known as a Boolean mask)"
   ]
  },
  {
   "cell_type": "markdown",
   "id": "12212fef-1c7a-4fd3-b277-c04b0b6197dd",
   "metadata": {},
   "source": [
    "> You can filter arrays based on **values in other arrays**\n",
    "> - Use the Boolean array returned from the other array to index the array you want to filter"
   ]
  },
  {
   "cell_type": "code",
   "execution_count": 56,
   "id": "55343f1b-d591-4cf4-8036-84fd74961c0c",
   "metadata": {
    "ExecuteTime": {
     "end_time": "2024-05-26T22:54:26.494142Z",
     "start_time": "2024-05-26T22:54:26.490609Z"
    }
   },
   "outputs": [
    {
     "data": {
      "text/plain": [
       "array([[   0,    5,  155,    0,  518],\n",
       "       [   0, 1827,  616,  317,  325]])"
      ]
     },
     "execution_count": 56,
     "metadata": {},
     "output_type": "execute_result"
    }
   ],
   "source": [
    "sales_array"
   ]
  },
  {
   "cell_type": "code",
   "execution_count": 57,
   "id": "b27eb9f2-45fc-46b1-a3b3-b191dfb93020",
   "metadata": {
    "ExecuteTime": {
     "end_time": "2024-05-26T22:54:26.548775Z",
     "start_time": "2024-05-26T22:54:26.544640Z"
    }
   },
   "outputs": [
    {
     "data": {
      "text/plain": [
       "array([   0,    5,  155,    0,  518,    0, 1827,  616,  317,  325])"
      ]
     },
     "execution_count": 57,
     "metadata": {},
     "output_type": "execute_result"
    }
   ],
   "source": [
    "sales_array.flatten()"
   ]
  },
  {
   "cell_type": "code",
   "execution_count": 58,
   "id": "77b5d900-28e0-447f-89fc-1a553a0cf9ee",
   "metadata": {
    "ExecuteTime": {
     "end_time": "2024-05-26T22:54:26.592941Z",
     "start_time": "2024-05-26T22:54:26.589756Z"
    }
   },
   "outputs": [
    {
     "data": {
      "text/plain": [
       "array(['fruits', 'vegetables', 'cereal', 'dairy', 'eggs', 'snacks',\n",
       "       'beverages', 'coffee', 'tea', 'spices'], dtype='<U10')"
      ]
     },
     "execution_count": 58,
     "metadata": {},
     "output_type": "execute_result"
    }
   ],
   "source": [
    "product_array"
   ]
  },
  {
   "cell_type": "code",
   "execution_count": 59,
   "id": "ed0bc217-adf7-4823-982c-f4b57f03b3b5",
   "metadata": {
    "ExecuteTime": {
     "end_time": "2024-05-26T22:54:26.656675Z",
     "start_time": "2024-05-26T22:54:26.653144Z"
    }
   },
   "outputs": [
    {
     "data": {
      "text/plain": [
       "array(['vegetables', 'cereal', 'eggs', 'beverages', 'coffee', 'tea',\n",
       "       'spices'], dtype='<U10')"
      ]
     },
     "execution_count": 59,
     "metadata": {},
     "output_type": "execute_result"
    }
   ],
   "source": [
    "product_array[sales_array.flatten() > 0] # This returns the elements from product_array where values in sales_array are greater than 0"
   ]
  },
  {
   "cell_type": "code",
   "execution_count": 59,
   "id": "455d9f88-7589-447d-806d-8104b4c7e533",
   "metadata": {
    "ExecuteTime": {
     "end_time": "2024-05-26T22:54:26.696933Z",
     "start_time": "2024-05-26T22:54:26.694828Z"
    }
   },
   "outputs": [],
   "source": []
  },
  {
   "cell_type": "markdown",
   "id": "aba88265-2f3a-4c00-8c30-c5cd45502ec3",
   "metadata": {},
   "source": [
    "# Modifying Array Values\n",
    "\n",
    "You can **modify array values** by assigning new ones"
   ]
  },
  {
   "cell_type": "code",
   "execution_count": 60,
   "id": "78863039-49bd-4e9a-a364-83388e6c31bf",
   "metadata": {
    "ExecuteTime": {
     "end_time": "2024-05-26T22:54:26.763084Z",
     "start_time": "2024-05-26T22:54:26.758188Z"
    }
   },
   "outputs": [
    {
     "data": {
      "text/plain": [
       "array([[   0,    5,  155,    0,  518],\n",
       "       [   0, 1827,  616,  317,  325]])"
      ]
     },
     "execution_count": 60,
     "metadata": {},
     "output_type": "execute_result"
    }
   ],
   "source": [
    "sales_array"
   ]
  },
  {
   "cell_type": "code",
   "execution_count": 61,
   "id": "71002af3-0f1c-4c0b-a1f4-dcef095b5db1",
   "metadata": {
    "ExecuteTime": {
     "end_time": "2024-05-26T22:54:26.811638Z",
     "start_time": "2024-05-26T22:54:26.808534Z"
    }
   },
   "outputs": [],
   "source": [
    "sales_1D = sales_array.flatten()"
   ]
  },
  {
   "cell_type": "code",
   "execution_count": 62,
   "id": "df5ffe73-5725-4f78-be53-da6b98a0ff29",
   "metadata": {
    "ExecuteTime": {
     "end_time": "2024-05-26T22:54:26.878645Z",
     "start_time": "2024-05-26T22:54:26.875920Z"
    }
   },
   "outputs": [
    {
     "data": {
      "text/plain": [
       "array([  25,    5,  155,    0,  518,    0, 1827,  616,  317,  325])"
      ]
     },
     "execution_count": 62,
     "metadata": {},
     "output_type": "execute_result"
    }
   ],
   "source": [
    "sales_1D[0] = 25  # This assigns a single value via indexing\n",
    "sales_1D"
   ]
  },
  {
   "cell_type": "code",
   "execution_count": 63,
   "id": "fff7133d-6c6c-4e75-849d-c16b65df9a16",
   "metadata": {
    "ExecuteTime": {
     "end_time": "2024-05-26T22:54:26.912170Z",
     "start_time": "2024-05-26T22:54:26.908736Z"
    }
   },
   "outputs": [
    {
     "data": {
      "text/plain": [
       "array([  25,    5,  155,    5,  518,    5, 1827,  616,  317,  325])"
      ]
     },
     "execution_count": 63,
     "metadata": {},
     "output_type": "execute_result"
    }
   ],
   "source": [
    "sales_1D[sales_1D == 0] = 5  # This filters the zero values in sales_array and assigns them a new value of 5\n",
    "sales_1D"
   ]
  },
  {
   "cell_type": "code",
   "execution_count": 63,
   "id": "68ceee6e-fefe-4b23-bc63-55a732cdcb9c",
   "metadata": {
    "ExecuteTime": {
     "end_time": "2024-05-26T22:54:26.976294Z",
     "start_time": "2024-05-26T22:54:26.971548Z"
    }
   },
   "outputs": [],
   "source": []
  },
  {
   "cell_type": "markdown",
   "id": "b2314af8-dbdf-49a5-8803-49baede08467",
   "metadata": {},
   "source": [
    "# The WHERE Function\n",
    "\n",
    "The **`where()`** NumPy function performs a logical test and returns a given value if the test is True, or another if the test is False\n",
    "\n",
    "`np.where(logical test, value if True, value if False)`"
   ]
  },
  {
   "cell_type": "code",
   "execution_count": 64,
   "id": "686e0f0d-5e02-40a7-abef-db6396c1d69f",
   "metadata": {
    "ExecuteTime": {
     "end_time": "2024-05-26T22:54:26.990336Z",
     "start_time": "2024-05-26T22:54:26.987768Z"
    }
   },
   "outputs": [],
   "source": [
    "inventory_array = np.array([12, 102, 18, 0, 0])"
   ]
  },
  {
   "cell_type": "code",
   "execution_count": 65,
   "id": "61d139db-9813-4271-8da6-58bc6ab0a34a",
   "metadata": {
    "ExecuteTime": {
     "end_time": "2024-05-26T22:54:27.023997Z",
     "start_time": "2024-05-26T22:54:27.018286Z"
    }
   },
   "outputs": [
    {
     "data": {
      "text/plain": [
       "array(['fruits', 'vegetables', 'cereal', 'dairy', 'eggs'], dtype='<U10')"
      ]
     },
     "execution_count": 65,
     "metadata": {},
     "output_type": "execute_result"
    }
   ],
   "source": [
    "small_product_array = product_array[:5]\n",
    "small_product_array"
   ]
  },
  {
   "cell_type": "markdown",
   "id": "115fb70e-5a27-42f7-b32b-4267220ee86a",
   "metadata": {},
   "source": [
    "> If inventory is zero or negative, assign *Out of Stock*, otherwise assign *In Stock*"
   ]
  },
  {
   "cell_type": "code",
   "execution_count": 66,
   "id": "4d654024-2164-41b5-9202-1fc0af2b182a",
   "metadata": {
    "ExecuteTime": {
     "end_time": "2024-05-26T22:54:27.110930Z",
     "start_time": "2024-05-26T22:54:27.106350Z"
    }
   },
   "outputs": [
    {
     "data": {
      "text/plain": [
       "array(['In Stock', 'In Stock', 'In Stock', 'Out of Stock', 'Out of Stock'],\n",
       "      dtype='<U12')"
      ]
     },
     "execution_count": 66,
     "metadata": {},
     "output_type": "execute_result"
    }
   ],
   "source": [
    "np.where(inventory_array <=0, \"Out of Stock\", \"In Stock\")"
   ]
  },
  {
   "cell_type": "markdown",
   "id": "bd61ce6c-a023-45cb-99be-0edc43cbc4a4",
   "metadata": {},
   "source": [
    "> If inventory is zero or negative, assign *Out of Stock*, otherwise assign the product_array value"
   ]
  },
  {
   "cell_type": "code",
   "execution_count": 67,
   "id": "3bb4a4bc-8fec-479b-993d-9633ee5786d0",
   "metadata": {
    "ExecuteTime": {
     "end_time": "2024-05-26T22:54:27.132218Z",
     "start_time": "2024-05-26T22:54:27.126627Z"
    }
   },
   "outputs": [
    {
     "data": {
      "text/plain": [
       "array(['fruits', 'vegetables', 'cereal', 'Out of Stock', 'Out of Stock'],\n",
       "      dtype='<U12')"
      ]
     },
     "execution_count": 67,
     "metadata": {},
     "output_type": "execute_result"
    }
   ],
   "source": [
    "np.where(inventory_array <= 0, \"Out of Stock\", small_product_array)"
   ]
  },
  {
   "cell_type": "code",
   "execution_count": 67,
   "id": "1fc9ea47-ab21-44f8-bf0c-b8e9fd4d7331",
   "metadata": {
    "ExecuteTime": {
     "end_time": "2024-05-26T22:54:27.174546Z",
     "start_time": "2024-05-26T22:54:27.171538Z"
    }
   },
   "outputs": [],
   "source": []
  },
  {
   "cell_type": "markdown",
   "id": "b1875601-3d34-4017-a8d1-37cda5a8b1c8",
   "metadata": {},
   "source": [
    "# EXERCISE: FILTERING ARRAYS\n",
    "\n",
    "#### NEW MESSAGE: \n",
    "- From: RossRetail (Head of Analytics)\n",
    "- Subject: Subsetting Our Data\n",
    "\n",
    "`Hey there,`\n",
    "\n",
    "`We’re working on some more promotions. Can you filter our\n",
    "product list to only include prices greater than 25?`\n",
    "\n",
    "`Once you’ve done that, modify your logic to force cola into\n",
    "the list. Call this array ‘fancy_feast_special’.`\n",
    "\n",
    "`Finally, we need to modify our shipping logic. Create a new\n",
    "shipping cost array, but this time if price is greater than 20,\n",
    "shipping cost is 0, otherwise shipping cost is 5.`\n",
    "\n",
    "`Thanks!`"
   ]
  },
  {
   "cell_type": "code",
   "execution_count": 68,
   "id": "aea2233c-0eee-4260-9dc7-c1b2d898deaf",
   "metadata": {
    "ExecuteTime": {
     "end_time": "2024-05-26T22:54:27.289432Z",
     "start_time": "2024-05-26T22:54:27.285341Z"
    }
   },
   "outputs": [
    {
     "data": {
      "text/plain": [
       "array(['salad', 'bread', 'mustard', 'rare tomato', 'cola',\n",
       "       'gourmet ice cream'], dtype='<U17')"
      ]
     },
     "execution_count": 68,
     "metadata": {},
     "output_type": "execute_result"
    }
   ],
   "source": [
    "products = np.array(\n",
    "    [\"salad\", \"bread\", \"mustard\", \"rare tomato\", \"cola\", \"gourmet ice cream\"]\n",
    ")\n",
    "\n",
    "products"
   ]
  },
  {
   "cell_type": "code",
   "execution_count": 69,
   "id": "c451e77e-d30c-43b5-91b7-36349605ba29",
   "metadata": {
    "ExecuteTime": {
     "end_time": "2024-05-26T22:54:27.382624Z",
     "start_time": "2024-05-26T22:54:27.379521Z"
    }
   },
   "outputs": [
    {
     "data": {
      "text/plain": [
       "array([ 5.99,  6.99, 22.49, 99.99,  4.99, 49.99])"
      ]
     },
     "execution_count": 69,
     "metadata": {},
     "output_type": "execute_result"
    }
   ],
   "source": [
    "prices"
   ]
  },
  {
   "cell_type": "code",
   "execution_count": 70,
   "id": "f5682f3d-5d4a-4a2c-882c-37b20186f834",
   "metadata": {
    "ExecuteTime": {
     "end_time": "2024-05-26T22:54:27.405435Z",
     "start_time": "2024-05-26T22:54:27.400936Z"
    }
   },
   "outputs": [
    {
     "data": {
      "text/plain": [
       "array(['rare tomato', 'gourmet ice cream'], dtype='<U17')"
      ]
     },
     "execution_count": 70,
     "metadata": {},
     "output_type": "execute_result"
    }
   ],
   "source": [
    "products[prices > 25]"
   ]
  },
  {
   "cell_type": "code",
   "execution_count": 71,
   "id": "4f246b4a-f546-405d-8cd7-9eab40d892ed",
   "metadata": {
    "ExecuteTime": {
     "end_time": "2024-05-26T22:54:27.435629Z",
     "start_time": "2024-05-26T22:54:27.430095Z"
    }
   },
   "outputs": [
    {
     "data": {
      "text/plain": [
       "array(['rare tomato', 'cola', 'gourmet ice cream'], dtype='<U17')"
      ]
     },
     "execution_count": 71,
     "metadata": {},
     "output_type": "execute_result"
    }
   ],
   "source": [
    "mask = (prices > 25) | (products == 'cola')\n",
    "\n",
    "fancy_feast_special = products[mask]\n",
    "fancy_feast_special"
   ]
  },
  {
   "cell_type": "code",
   "execution_count": 72,
   "id": "c9d3f2fc-40e7-4918-9ec1-7486b8374eff",
   "metadata": {
    "ExecuteTime": {
     "end_time": "2024-05-26T22:54:27.508922Z",
     "start_time": "2024-05-26T22:54:27.504994Z"
    }
   },
   "outputs": [
    {
     "data": {
      "text/plain": [
       "array([5, 5, 0, 0, 5, 0])"
      ]
     },
     "execution_count": 72,
     "metadata": {},
     "output_type": "execute_result"
    }
   ],
   "source": [
    "shipping_cost = np.where(prices > 20, 0, 5)\n",
    "shipping_cost"
   ]
  },
  {
   "cell_type": "code",
   "execution_count": 72,
   "id": "47f11046-8419-4bce-b335-58fe6d028f81",
   "metadata": {
    "ExecuteTime": {
     "end_time": "2024-05-26T22:54:27.521107Z",
     "start_time": "2024-05-26T22:54:27.517355Z"
    }
   },
   "outputs": [],
   "source": []
  },
  {
   "cell_type": "markdown",
   "id": "1f5233a1-8f09-4354-9465-21cd77159f68",
   "metadata": {},
   "source": [
    "# Array Aggregation Methods\n",
    "\n",
    "**Array aggregation methods** let you calculate metrics like sum, mean, and max"
   ]
  },
  {
   "cell_type": "code",
   "execution_count": 73,
   "id": "46e787c6-abb2-4d31-9a41-349289b92ba9",
   "metadata": {
    "ExecuteTime": {
     "end_time": "2024-05-26T22:54:27.562446Z",
     "start_time": "2024-05-26T22:54:27.558770Z"
    }
   },
   "outputs": [
    {
     "data": {
      "text/plain": [
       "array([[   0,    5,  155,    0,  518],\n",
       "       [   0, 1827,  616,  317,  325]])"
      ]
     },
     "execution_count": 73,
     "metadata": {},
     "output_type": "execute_result"
    }
   ],
   "source": [
    "sales_array"
   ]
  },
  {
   "cell_type": "code",
   "execution_count": 74,
   "id": "739d1a11-6d50-4908-9cca-fa56f7f0a5f9",
   "metadata": {
    "ExecuteTime": {
     "end_time": "2024-05-26T22:54:27.632274Z",
     "start_time": "2024-05-26T22:54:27.628495Z"
    }
   },
   "outputs": [
    {
     "data": {
      "text/plain": [
       "3763"
      ]
     },
     "execution_count": 74,
     "metadata": {},
     "output_type": "execute_result"
    }
   ],
   "source": [
    "sales_array.sum() # Returns the sum of all values in an array"
   ]
  },
  {
   "cell_type": "code",
   "execution_count": 75,
   "id": "bc0b6b14-90f5-45bf-80f6-36822431eac0",
   "metadata": {
    "ExecuteTime": {
     "end_time": "2024-05-26T22:54:27.666163Z",
     "start_time": "2024-05-26T22:54:27.658870Z"
    }
   },
   "outputs": [
    {
     "data": {
      "text/plain": [
       "1827"
      ]
     },
     "execution_count": 75,
     "metadata": {},
     "output_type": "execute_result"
    }
   ],
   "source": [
    "sales_array.max() # Returns the largest value in an array"
   ]
  },
  {
   "cell_type": "code",
   "execution_count": 76,
   "id": "c1b72c0f-4e11-4ce9-a8f3-764ec28561c3",
   "metadata": {
    "ExecuteTime": {
     "end_time": "2024-05-26T22:54:27.768603Z",
     "start_time": "2024-05-26T22:54:27.763920Z"
    }
   },
   "outputs": [
    {
     "data": {
      "text/plain": [
       "376.3"
      ]
     },
     "execution_count": 76,
     "metadata": {},
     "output_type": "execute_result"
    }
   ],
   "source": [
    "sales_array.mean() # Returns the average of the values in an array"
   ]
  },
  {
   "cell_type": "code",
   "execution_count": 77,
   "id": "5225ecec-8c58-4d88-a220-fb67279dbc78",
   "metadata": {
    "ExecuteTime": {
     "end_time": "2024-05-26T22:54:27.801434Z",
     "start_time": "2024-05-26T22:54:27.797813Z"
    }
   },
   "outputs": [
    {
     "data": {
      "text/plain": [
       "0"
      ]
     },
     "execution_count": 77,
     "metadata": {},
     "output_type": "execute_result"
    }
   ],
   "source": [
    "sales_array.min() # Returns the smallest value in an array"
   ]
  },
  {
   "cell_type": "markdown",
   "id": "7f8e3479-4f51-455a-adee-975cf03bb407",
   "metadata": {},
   "source": [
    "> You can also aggregate across **rows** or **columns**"
   ]
  },
  {
   "cell_type": "code",
   "execution_count": 78,
   "id": "96a2256b-ae0a-4126-9193-f1e4552de10c",
   "metadata": {
    "ExecuteTime": {
     "end_time": "2024-05-26T22:54:27.905910Z",
     "start_time": "2024-05-26T22:54:27.901874Z"
    }
   },
   "outputs": [
    {
     "data": {
      "text/plain": [
       "array([[   0,    5,  155,    0,  518],\n",
       "       [   0, 1827,  616,  317,  325]])"
      ]
     },
     "execution_count": 78,
     "metadata": {},
     "output_type": "execute_result"
    }
   ],
   "source": [
    "sales_array"
   ]
  },
  {
   "cell_type": "code",
   "execution_count": 79,
   "id": "a53fdfb2-8072-4adf-9adb-ddcfc1e7c7f4",
   "metadata": {
    "ExecuteTime": {
     "end_time": "2024-05-26T22:54:27.934235Z",
     "start_time": "2024-05-26T22:54:27.930344Z"
    }
   },
   "outputs": [
    {
     "data": {
      "text/plain": [
       "3763"
      ]
     },
     "execution_count": 79,
     "metadata": {},
     "output_type": "execute_result"
    }
   ],
   "source": [
    "sales_array.sum()"
   ]
  },
  {
   "cell_type": "code",
   "execution_count": 80,
   "id": "0fcd7705-15f5-422c-bf2a-04f9dc303f63",
   "metadata": {
    "ExecuteTime": {
     "end_time": "2024-05-26T22:54:28.048964Z",
     "start_time": "2024-05-26T22:54:28.045534Z"
    }
   },
   "outputs": [
    {
     "data": {
      "text/plain": [
       "array([   0, 1832,  771,  317,  843])"
      ]
     },
     "execution_count": 80,
     "metadata": {},
     "output_type": "execute_result"
    }
   ],
   "source": [
    "sales_array.sum(axis=0) # Aggregates across columns"
   ]
  },
  {
   "cell_type": "code",
   "execution_count": 81,
   "id": "cb1101df-abe1-4934-849d-51e06fd497fb",
   "metadata": {
    "ExecuteTime": {
     "end_time": "2024-05-26T22:54:28.076249Z",
     "start_time": "2024-05-26T22:54:28.072088Z"
    }
   },
   "outputs": [
    {
     "data": {
      "text/plain": [
       "array([ 678, 3085])"
      ]
     },
     "execution_count": 81,
     "metadata": {},
     "output_type": "execute_result"
    }
   ],
   "source": [
    "sales_array.sum(axis=1) # Aggregates across rows"
   ]
  },
  {
   "cell_type": "markdown",
   "id": "b09423f9-36a1-4068-84ac-61cbd3a73416",
   "metadata": {},
   "source": [
    "# ARRAY FUNCTIONS\n",
    "\n",
    "**Array functions** let you perform other aggregations like median and percentiles"
   ]
  },
  {
   "cell_type": "markdown",
   "id": "ef76e9e8-bde5-4f45-97c2-41da0529aad6",
   "metadata": {},
   "source": [
    "> You can also return a **unique** list of values or the **square root** for each number "
   ]
  },
  {
   "cell_type": "code",
   "execution_count": 82,
   "id": "f9c0e35d-af73-40ef-9bdf-618dc23da9cc",
   "metadata": {
    "ExecuteTime": {
     "end_time": "2024-05-26T22:54:28.222747Z",
     "start_time": "2024-05-26T22:54:28.216577Z"
    }
   },
   "outputs": [
    {
     "data": {
      "text/plain": [
       "array([[   0,    5,  155,    0,  518],\n",
       "       [   0, 1827,  616,  317,  325]])"
      ]
     },
     "execution_count": 82,
     "metadata": {},
     "output_type": "execute_result"
    }
   ],
   "source": [
    "sales_array"
   ]
  },
  {
   "cell_type": "code",
   "execution_count": 83,
   "id": "933764ae-4187-4b40-b69b-15eff3095871",
   "metadata": {
    "ExecuteTime": {
     "end_time": "2024-05-26T22:54:28.255786Z",
     "start_time": "2024-05-26T22:54:28.251700Z"
    }
   },
   "outputs": [
    {
     "data": {
      "text/plain": [
       "array([   0,    5,  155,  317,  325,  518,  616, 1827])"
      ]
     },
     "execution_count": 83,
     "metadata": {},
     "output_type": "execute_result"
    }
   ],
   "source": [
    "np.unique(sales_array)"
   ]
  },
  {
   "cell_type": "code",
   "execution_count": 84,
   "id": "51386339-9cc6-4e9a-ae93-d79bffe486f7",
   "metadata": {
    "ExecuteTime": {
     "end_time": "2024-05-26T22:54:28.350007Z",
     "start_time": "2024-05-26T22:54:28.346646Z"
    }
   },
   "outputs": [
    {
     "data": {
      "text/plain": [
       "array([[ 0.        ,  2.23606798, 12.4498996 ,  0.        , 22.75961335],\n",
       "       [ 0.        , 42.74342055, 24.81934729, 17.80449381, 18.02775638]])"
      ]
     },
     "execution_count": 84,
     "metadata": {},
     "output_type": "execute_result"
    }
   ],
   "source": [
    "np.sqrt(sales_array)"
   ]
  },
  {
   "cell_type": "code",
   "execution_count": 85,
   "id": "7d8a13eb-ac92-4de9-9a63-5ffb77749fa7",
   "metadata": {
    "ExecuteTime": {
     "end_time": "2024-05-26T22:54:28.401955Z",
     "start_time": "2024-05-26T22:54:28.397153Z"
    }
   },
   "outputs": [
    {
     "data": {
      "text/plain": [
       "236.0"
      ]
     },
     "execution_count": 85,
     "metadata": {},
     "output_type": "execute_result"
    }
   ],
   "source": [
    "np.median(sales_array) # Returns the median value in an array"
   ]
  },
  {
   "cell_type": "code",
   "execution_count": 86,
   "id": "512c5741-f11a-458e-9cc4-d5da293fe5bc",
   "metadata": {
    "ExecuteTime": {
     "end_time": "2024-05-26T22:54:28.483565Z",
     "start_time": "2024-05-26T22:54:28.478899Z"
    }
   },
   "outputs": [
    {
     "data": {
      "text/plain": [
       "236.0"
      ]
     },
     "execution_count": 86,
     "metadata": {},
     "output_type": "execute_result"
    }
   ],
   "source": [
    "np.percentile(sales_array, 50)"
   ]
  },
  {
   "cell_type": "code",
   "execution_count": 87,
   "id": "68533839-4ceb-453f-86a3-0010903a3e60",
   "metadata": {
    "ExecuteTime": {
     "end_time": "2024-05-26T22:54:28.518107Z",
     "start_time": "2024-05-26T22:54:28.514709Z"
    }
   },
   "outputs": [
    {
     "data": {
      "text/plain": [
       "737.0999999999996"
      ]
     },
     "execution_count": 87,
     "metadata": {},
     "output_type": "execute_result"
    }
   ],
   "source": [
    "np.percentile(sales_array, 90)"
   ]
  },
  {
   "cell_type": "code",
   "execution_count": 87,
   "id": "a6345728-e3e0-4f44-9870-4a6b792fb2b4",
   "metadata": {
    "ExecuteTime": {
     "end_time": "2024-05-26T22:54:28.578386Z",
     "start_time": "2024-05-26T22:54:28.576592Z"
    }
   },
   "outputs": [],
   "source": []
  },
  {
   "cell_type": "markdown",
   "id": "c8ae48da-0ce7-4d66-af0a-ff02271118e1",
   "metadata": {},
   "source": [
    "# SORTING ARRAYS\n",
    "\n",
    "The `sort()` method will **sort arrays** in place\n",
    "- Use the axis argument to specify the dimension to sort by"
   ]
  },
  {
   "cell_type": "code",
   "execution_count": 88,
   "id": "d7e91ffc-563c-4895-af2b-3899ef346cc4",
   "metadata": {
    "ExecuteTime": {
     "end_time": "2024-05-26T22:54:28.611163Z",
     "start_time": "2024-05-26T22:54:28.608265Z"
    }
   },
   "outputs": [
    {
     "data": {
      "text/plain": [
       "array([[   0,    5,  155,    0,  518],\n",
       "       [   0, 1827,  616,  317,  325]])"
      ]
     },
     "execution_count": 88,
     "metadata": {},
     "output_type": "execute_result"
    }
   ],
   "source": [
    "sales_array"
   ]
  },
  {
   "cell_type": "code",
   "execution_count": 89,
   "id": "8eae5c93-4ae9-4162-ba66-c2c63816dee6",
   "metadata": {
    "ExecuteTime": {
     "end_time": "2024-05-26T22:54:28.701751Z",
     "start_time": "2024-05-26T22:54:28.697928Z"
    }
   },
   "outputs": [
    {
     "data": {
      "text/plain": [
       "array([[   0,    0,    5,  155,  518],\n",
       "       [   0,  317,  325,  616, 1827]])"
      ]
     },
     "execution_count": 89,
     "metadata": {},
     "output_type": "execute_result"
    }
   ],
   "source": [
    "sales_array.sort()  # axis = 1 by default, which sorts a 2D array row by row\n",
    "sales_array"
   ]
  },
  {
   "cell_type": "code",
   "execution_count": 90,
   "id": "e17e8aef-c316-4da8-95fb-0015fefa91fc",
   "metadata": {
    "ExecuteTime": {
     "end_time": "2024-05-26T22:54:28.721056Z",
     "start_time": "2024-05-26T22:54:28.717681Z"
    }
   },
   "outputs": [
    {
     "data": {
      "text/plain": [
       "array([[   0,    0,    5,  155,  518],\n",
       "       [   0,  317,  325,  616, 1827]])"
      ]
     },
     "execution_count": 90,
     "metadata": {},
     "output_type": "execute_result"
    }
   ],
   "source": [
    "sales_array.sort(axis=0)  # axis = 0 will sort by columns\n",
    "sales_array"
   ]
  },
  {
   "cell_type": "code",
   "execution_count": 91,
   "id": "d7a337ae-d1ac-4ac7-acc1-c34ff225b8de",
   "metadata": {
    "ExecuteTime": {
     "end_time": "2024-05-26T22:54:28.751032Z",
     "start_time": "2024-05-26T22:54:28.748515Z"
    }
   },
   "outputs": [],
   "source": [
    "sales_array = np.array([\n",
    "        [0,    5,  616,    0,  518],\n",
    "        [   0, 1827,  155,  317,  325]\n",
    "])"
   ]
  },
  {
   "cell_type": "code",
   "execution_count": 92,
   "id": "5a28b1a0-0a7e-4ec2-907e-4117c4a53b5a",
   "metadata": {
    "ExecuteTime": {
     "end_time": "2024-05-26T22:54:28.843573Z",
     "start_time": "2024-05-26T22:54:28.837017Z"
    }
   },
   "outputs": [
    {
     "data": {
      "text/plain": [
       "array([[   0,    5,  616,    0,  518],\n",
       "       [   0, 1827,  155,  317,  325]])"
      ]
     },
     "execution_count": 92,
     "metadata": {},
     "output_type": "execute_result"
    }
   ],
   "source": [
    "sales_array"
   ]
  },
  {
   "cell_type": "code",
   "execution_count": 93,
   "id": "e20bbd84-1bf5-4974-a12b-90eafe108262",
   "metadata": {
    "ExecuteTime": {
     "end_time": "2024-05-26T22:54:28.885679Z",
     "start_time": "2024-05-26T22:54:28.882092Z"
    }
   },
   "outputs": [
    {
     "data": {
      "text/plain": [
       "array([[   0,    5,  155,    0,  325],\n",
       "       [   0, 1827,  616,  317,  518]])"
      ]
     },
     "execution_count": 93,
     "metadata": {},
     "output_type": "execute_result"
    }
   ],
   "source": [
    "sales_array.sort(axis=0)  # axis = 0 will sort by columns\n",
    "sales_array"
   ]
  },
  {
   "cell_type": "code",
   "execution_count": 93,
   "id": "9883d49d-36fb-4831-b2e9-88e7819690cd",
   "metadata": {
    "ExecuteTime": {
     "end_time": "2024-05-26T22:54:28.928778Z",
     "start_time": "2024-05-26T22:54:28.926847Z"
    }
   },
   "outputs": [],
   "source": []
  },
  {
   "cell_type": "markdown",
   "id": "5fa6e43e-7da9-4bfa-ba4a-00a5d56a4ade",
   "metadata": {},
   "source": [
    "# EXERCISE: SORTING AND AGGREGATING\n",
    "\n",
    "#### NEW MESSAGE: \n",
    "- From: RossRetail (Head of Analytics)\n",
    "- Subject: Top Tier Products\n",
    "\n",
    "`Hey there,`\n",
    "\n",
    "`Thanks for all your hard work. I know we’re working with\n",
    "small sample sizes, but we’re proving that analysis can be\n",
    "done in Python!`\n",
    "\n",
    "`Can you calculate the mean, min, max, and median of our 3\n",
    "most expensive product prices? Sorting the array first should\n",
    "help!`\n",
    "\n",
    "`Then, calculate the number of unique price tiers we have.\n",
    "Thanks!`"
   ]
  },
  {
   "cell_type": "code",
   "execution_count": 94,
   "id": "ca988118-a9a1-4c1e-b1a9-00f80ad7d6e9",
   "metadata": {
    "ExecuteTime": {
     "end_time": "2024-05-26T22:54:28.954347Z",
     "start_time": "2024-05-26T22:54:28.950765Z"
    }
   },
   "outputs": [
    {
     "data": {
      "text/plain": [
       "array([ 5.99,  6.99, 22.49, 99.99,  4.99, 49.99])"
      ]
     },
     "execution_count": 94,
     "metadata": {},
     "output_type": "execute_result"
    }
   ],
   "source": [
    "prices = np.array([5.99, 6.99, 22.49, 99.99, 4.99, 49.99])\n",
    "\n",
    "prices"
   ]
  },
  {
   "cell_type": "code",
   "execution_count": 95,
   "id": "773e022a-ea29-4c47-b576-2ce97f5fbd9f",
   "metadata": {
    "ExecuteTime": {
     "end_time": "2024-05-26T22:54:28.995006Z",
     "start_time": "2024-05-26T22:54:28.991498Z"
    }
   },
   "outputs": [],
   "source": [
    "prices.sort()"
   ]
  },
  {
   "cell_type": "code",
   "execution_count": 96,
   "id": "6287c362-f828-459a-b07d-b6f3b3dd88ff",
   "metadata": {
    "ExecuteTime": {
     "end_time": "2024-05-26T22:54:29.064914Z",
     "start_time": "2024-05-26T22:54:29.055814Z"
    }
   },
   "outputs": [
    {
     "data": {
      "text/plain": [
       "array([ 4.99,  5.99,  6.99, 22.49, 49.99, 99.99])"
      ]
     },
     "execution_count": 96,
     "metadata": {},
     "output_type": "execute_result"
    }
   ],
   "source": [
    "prices"
   ]
  },
  {
   "cell_type": "code",
   "execution_count": 97,
   "id": "a2e98466-7c3f-403e-833e-cea395c4a3fe",
   "metadata": {
    "ExecuteTime": {
     "end_time": "2024-05-26T22:54:29.098916Z",
     "start_time": "2024-05-26T22:54:29.095775Z"
    }
   },
   "outputs": [
    {
     "data": {
      "text/plain": [
       "array([99.99, 49.99, 22.49])"
      ]
     },
     "execution_count": 97,
     "metadata": {},
     "output_type": "execute_result"
    }
   ],
   "source": [
    "high_priced = prices[:2:-1]\n",
    "high_priced"
   ]
  },
  {
   "cell_type": "code",
   "execution_count": 98,
   "id": "bd56cbcf-b3f4-4caa-a5c7-8b01a4850c45",
   "metadata": {
    "ExecuteTime": {
     "end_time": "2024-05-26T22:54:29.115967Z",
     "start_time": "2024-05-26T22:54:29.113443Z"
    }
   },
   "outputs": [
    {
     "name": "stdout",
     "output_type": "stream",
     "text": [
      "High Prices Mean: 57.49\n",
      "High Prices Min: 22.49\n",
      "High Prices Max: 99.99\n",
      "High Prices Median: 49.99\n"
     ]
    }
   ],
   "source": [
    "print(\"High Prices Mean:\", np.mean(high_priced))\n",
    "print(\"High Prices Min:\", np.min(high_priced))\n",
    "print(\"High Prices Max:\", np.max(high_priced))\n",
    "print(\"High Prices Median:\", np.median(high_priced))"
   ]
  },
  {
   "cell_type": "code",
   "execution_count": 99,
   "id": "95531dee-581c-455a-bce2-a1ab0237981f",
   "metadata": {
    "ExecuteTime": {
     "end_time": "2024-05-26T22:54:29.176096Z",
     "start_time": "2024-05-26T22:54:29.173570Z"
    }
   },
   "outputs": [],
   "source": [
    "price_tiers = np.array([\"budget\", \"budget\", \"mid-tier\", \"luxury\", \"mid-tier\", \"luxury\"])"
   ]
  },
  {
   "cell_type": "code",
   "execution_count": 100,
   "id": "3d17aaa3-8fff-43df-8668-1009b7546fad",
   "metadata": {
    "ExecuteTime": {
     "end_time": "2024-05-26T22:54:29.240169Z",
     "start_time": "2024-05-26T22:54:29.236890Z"
    }
   },
   "outputs": [
    {
     "data": {
      "text/plain": [
       "array(['budget', 'luxury', 'mid-tier'], dtype='<U8')"
      ]
     },
     "execution_count": 100,
     "metadata": {},
     "output_type": "execute_result"
    }
   ],
   "source": [
    "np.unique(price_tiers) "
   ]
  },
  {
   "cell_type": "code",
   "execution_count": 100,
   "id": "494b80c7-3f08-4af7-b735-fc9bba87b9a9",
   "metadata": {
    "ExecuteTime": {
     "end_time": "2024-05-26T22:54:29.276028Z",
     "start_time": "2024-05-26T22:54:29.273495Z"
    }
   },
   "outputs": [],
   "source": []
  }
 ],
 "metadata": {
  "kernelspec": {
   "display_name": "Python 3 (ipykernel)",
   "language": "python",
   "name": "python3"
  },
  "language_info": {
   "codemirror_mode": {
    "name": "ipython",
    "version": 3
   },
   "file_extension": ".py",
   "mimetype": "text/x-python",
   "name": "python",
   "nbconvert_exporter": "python",
   "pygments_lexer": "ipython3",
   "version": "3.12.3"
  }
 },
 "nbformat": 4,
 "nbformat_minor": 5
}
