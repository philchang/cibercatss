{
 "cells": [
  {
   "cell_type": "code",
   "execution_count": 1,
   "metadata": {
    "colab": {
     "base_uri": "https://localhost:8080/"
    },
    "id": "sjSDqwdvbLfy",
    "outputId": "fd1e8dbf-fab1-4952-d4e1-d2ed3d15c052",
    "tags": []
   },
   "outputs": [],
   "source": [
    "import camber"
   ]
  },
  {
   "cell_type": "code",
   "execution_count": 2,
   "metadata": {
    "colab": {
     "base_uri": "https://localhost:8080/"
    },
    "id": "HFkOMbKlbMhl",
    "outputId": "c1c4bd0d-341f-4316-d128-a523a9e3c224",
    "tags": []
   },
   "outputs": [
    {
     "data": {
      "application/vnd.jupyter.widget-view+json": {
       "model_id": "bda1ad9296de4a83b8fe88fd3042ea85",
       "version_major": 2,
       "version_minor": 0
      },
      "text/plain": [
       "Output()"
      ]
     },
     "metadata": {},
     "output_type": "display_data"
    }
   ],
   "source": [
    "spark = camber.spark.connect(worker_size=\"XSMALL\")"
   ]
  },
  {
   "cell_type": "markdown",
   "metadata": {
    "id": "UPxSCATRloH2"
   },
   "source": [
    "# Necessary Imports"
   ]
  },
  {
   "cell_type": "code",
   "execution_count": 3,
   "metadata": {
    "id": "tueeyEIElp86",
    "tags": []
   },
   "outputs": [],
   "source": [
    "import pyspark\n",
    "\n",
    "import pandas as pd \n",
    "import numpy as np\n",
    "\n",
    "import seaborn as sns\n",
    "import matplotlib as mpl\n",
    "from matplotlib import pyplot as plt"
   ]
  },
  {
   "cell_type": "code",
   "execution_count": null,
   "metadata": {
    "tags": []
   },
   "outputs": [],
   "source": []
  },
  {
   "cell_type": "markdown",
   "metadata": {
    "id": "SfCA8efxlH5v"
   },
   "source": [
    "# Load the dataset "
   ]
  },
  {
   "cell_type": "code",
   "execution_count": 4,
   "metadata": {
    "colab": {
     "base_uri": "https://localhost:8080/"
    },
    "id": "pOLc2SMnmaYY",
    "outputId": "9c51e4e7-28db-4057-a155-d28d16c44041",
    "tags": []
   },
   "outputs": [],
   "source": [
    "DATA_PATH = \"s3a://camber-spark-bkt/ciber-catts/shared-data/titanic\""
   ]
  },
  {
   "cell_type": "code",
   "execution_count": 5,
   "metadata": {
    "id": "xIAoPnFflcdW",
    "tags": []
   },
   "outputs": [],
   "source": [
    "train_data = f\"{DATA_PATH}/train.csv\"\n",
    "test_data = f\"{DATA_PATH}/test.csv\""
   ]
  },
  {
   "cell_type": "code",
   "execution_count": 6,
   "metadata": {
    "id": "p149wasel_2l",
    "tags": []
   },
   "outputs": [],
   "source": [
    "df = spark.read.format(\"csv\").option(\"inferSchema\", \"true\").option(\"header\", \"true\") \\\n",
    "  .option(\"sep\", \",\") \\\n",
    "  .load(train_data)"
   ]
  },
  {
   "cell_type": "markdown",
   "metadata": {
    "id": "MjQozl88mWAa"
   },
   "source": [
    "# Dataset Overview"
   ]
  },
  {
   "cell_type": "code",
   "execution_count": 7,
   "metadata": {
    "colab": {
     "base_uri": "https://localhost:8080/"
    },
    "id": "Jwt41XFImdyo",
    "outputId": "15d9b34d-9b6f-41ba-9a00-795c53c2b6bd",
    "tags": []
   },
   "outputs": [
    {
     "name": "stdout",
     "output_type": "stream",
     "text": [
      "Schema overview\n",
      "root\n",
      " |-- PassengerId: integer (nullable = true)\n",
      " |-- Survived: integer (nullable = true)\n",
      " |-- Pclass: integer (nullable = true)\n",
      " |-- Name: string (nullable = true)\n",
      " |-- Sex: string (nullable = true)\n",
      " |-- Age: double (nullable = true)\n",
      " |-- SibSp: integer (nullable = true)\n",
      " |-- Parch: integer (nullable = true)\n",
      " |-- Ticket: string (nullable = true)\n",
      " |-- Fare: double (nullable = true)\n",
      " |-- Cabin: string (nullable = true)\n",
      " |-- Embarked: string (nullable = true)\n",
      "\n"
     ]
    }
   ],
   "source": [
    "print('Schema overview')\n",
    "df.printSchema()"
   ]
  },
  {
   "cell_type": "code",
   "execution_count": 8,
   "metadata": {
    "colab": {
     "base_uri": "https://localhost:8080/",
     "height": 444
    },
    "id": "zcry54-Lm0jR",
    "outputId": "d0f64417-0309-446b-c533-1b673ee4ddc1",
    "tags": []
   },
   "outputs": [
    {
     "name": "stdout",
     "output_type": "stream",
     "text": [
      "Columns overview\n"
     ]
    },
    {
     "data": {
      "text/html": [
       "<div>\n",
       "<style scoped>\n",
       "    .dataframe tbody tr th:only-of-type {\n",
       "        vertical-align: middle;\n",
       "    }\n",
       "\n",
       "    .dataframe tbody tr th {\n",
       "        vertical-align: top;\n",
       "    }\n",
       "\n",
       "    .dataframe thead th {\n",
       "        text-align: right;\n",
       "    }\n",
       "</style>\n",
       "<table border=\"1\" class=\"dataframe\">\n",
       "  <thead>\n",
       "    <tr style=\"text-align: right;\">\n",
       "      <th></th>\n",
       "      <th>Column Name</th>\n",
       "      <th>Data type</th>\n",
       "    </tr>\n",
       "  </thead>\n",
       "  <tbody>\n",
       "    <tr>\n",
       "      <th>0</th>\n",
       "      <td>PassengerId</td>\n",
       "      <td>int</td>\n",
       "    </tr>\n",
       "    <tr>\n",
       "      <th>1</th>\n",
       "      <td>Survived</td>\n",
       "      <td>int</td>\n",
       "    </tr>\n",
       "    <tr>\n",
       "      <th>2</th>\n",
       "      <td>Pclass</td>\n",
       "      <td>int</td>\n",
       "    </tr>\n",
       "    <tr>\n",
       "      <th>3</th>\n",
       "      <td>Name</td>\n",
       "      <td>string</td>\n",
       "    </tr>\n",
       "    <tr>\n",
       "      <th>4</th>\n",
       "      <td>Sex</td>\n",
       "      <td>string</td>\n",
       "    </tr>\n",
       "    <tr>\n",
       "      <th>5</th>\n",
       "      <td>Age</td>\n",
       "      <td>double</td>\n",
       "    </tr>\n",
       "    <tr>\n",
       "      <th>6</th>\n",
       "      <td>SibSp</td>\n",
       "      <td>int</td>\n",
       "    </tr>\n",
       "    <tr>\n",
       "      <th>7</th>\n",
       "      <td>Parch</td>\n",
       "      <td>int</td>\n",
       "    </tr>\n",
       "    <tr>\n",
       "      <th>8</th>\n",
       "      <td>Ticket</td>\n",
       "      <td>string</td>\n",
       "    </tr>\n",
       "    <tr>\n",
       "      <th>9</th>\n",
       "      <td>Fare</td>\n",
       "      <td>double</td>\n",
       "    </tr>\n",
       "    <tr>\n",
       "      <th>10</th>\n",
       "      <td>Cabin</td>\n",
       "      <td>string</td>\n",
       "    </tr>\n",
       "    <tr>\n",
       "      <th>11</th>\n",
       "      <td>Embarked</td>\n",
       "      <td>string</td>\n",
       "    </tr>\n",
       "  </tbody>\n",
       "</table>\n",
       "</div>"
      ],
      "text/plain": [
       "    Column Name Data type\n",
       "0   PassengerId       int\n",
       "1      Survived       int\n",
       "2        Pclass       int\n",
       "3          Name    string\n",
       "4           Sex    string\n",
       "5           Age    double\n",
       "6         SibSp       int\n",
       "7         Parch       int\n",
       "8        Ticket    string\n",
       "9          Fare    double\n",
       "10        Cabin    string\n",
       "11     Embarked    string"
      ]
     },
     "execution_count": 8,
     "metadata": {},
     "output_type": "execute_result"
    }
   ],
   "source": [
    "print('Columns overview')\n",
    "pd.DataFrame(df.dtypes, columns = ['Column Name','Data type'])"
   ]
  },
  {
   "cell_type": "code",
   "execution_count": 9,
   "metadata": {
    "colab": {
     "base_uri": "https://localhost:8080/"
    },
    "id": "x-yQlRn6m8cI",
    "outputId": "17f9c454-3614-4f6e-8acc-1fc6082418d1",
    "tags": []
   },
   "outputs": [
    {
     "name": "stdout",
     "output_type": "stream",
     "text": [
      "+-------+-----------------+-------------------+------------------+--------------------+------+------------------+------------------+-------------------+------------------+-----------------+-----+--------+\n",
      "|summary|      PassengerId|           Survived|            Pclass|                Name|   Sex|               Age|             SibSp|              Parch|            Ticket|             Fare|Cabin|Embarked|\n",
      "+-------+-----------------+-------------------+------------------+--------------------+------+------------------+------------------+-------------------+------------------+-----------------+-----+--------+\n",
      "|  count|              891|                891|               891|                 891|   891|               714|               891|                891|               891|              891|  204|     889|\n",
      "|   mean|            446.0| 0.3838383838383838| 2.308641975308642|                null|  null| 29.69911764705882|0.5230078563411896|0.38159371492704824|260318.54916792738| 32.2042079685746| null|    null|\n",
      "| stddev|257.3538420152301|0.48659245426485753|0.8360712409770491|                null|  null|14.526497332334035|1.1027434322934315| 0.8060572211299488|471609.26868834975|49.69342859718089| null|    null|\n",
      "|    min|                1|                  0|                 1|\"Andersson, Mr. A...|female|              0.42|                 0|                  0|            110152|              0.0|  A10|       C|\n",
      "|    max|              891|                  1|                 3|van Melkebeke, Mr...|  male|              80.0|                 8|                  6|         WE/P 5735|         512.3292|    T|       S|\n",
      "+-------+-----------------+-------------------+------------------+--------------------+------+------------------+------------------+-------------------+------------------+-----------------+-----+--------+\n",
      "\n"
     ]
    }
   ],
   "source": [
    "# Use the describe() function to get the summary statistics\n",
    "summary_df = df.describe()\n",
    "\n",
    "# Show the summary statistics\n",
    "summary_df.show()"
   ]
  },
  {
   "cell_type": "markdown",
   "metadata": {
    "id": "yiLbZ71gqj0v"
   },
   "source": [
    "# Identifying Missing Values"
   ]
  },
  {
   "cell_type": "code",
   "execution_count": 10,
   "metadata": {
    "colab": {
     "base_uri": "https://localhost:8080/"
    },
    "id": "-ZactB6sqmNT",
    "outputId": "d37e58ba-cc68-4166-8deb-beb2128b5709",
    "tags": []
   },
   "outputs": [
    {
     "name": "stdout",
     "output_type": "stream",
     "text": [
      "+-----------+--------+------+----+---+---+-----+-----+------+----+-----+--------+\n",
      "|PassengerId|Survived|Pclass|Name|Sex|Age|SibSp|Parch|Ticket|Fare|Cabin|Embarked|\n",
      "+-----------+--------+------+----+---+---+-----+-----+------+----+-----+--------+\n",
      "|          0|       0|     0|   0|  0|177|    0|    0|     0|   0|  687|       2|\n",
      "+-----------+--------+------+----+---+---+-----+-----+------+----+-----+--------+\n",
      "\n"
     ]
    }
   ],
   "source": [
    "from pyspark.sql.functions import col, sum\n",
    "\n",
    "# Assuming you have a DataFrame called 'df'\n",
    "# Calculate the count of missing values in each column\n",
    "missing_counts = df.select([sum(col(c).isNull().cast(\"integer\")).alias(c) for c in df.columns])\n",
    "\n",
    "# Show the count of missing values\n",
    "missing_counts.show()\n"
   ]
  },
  {
   "cell_type": "markdown",
   "metadata": {
    "id": "PCsuLM6rp1Zk"
   },
   "source": [
    "## Filling missing values for 'Cabin' with 'Unknown'"
   ]
  },
  {
   "cell_type": "code",
   "execution_count": 11,
   "metadata": {
    "colab": {
     "base_uri": "https://localhost:8080/"
    },
    "id": "qbCQ_kHfp6qb",
    "outputId": "68d815ea-5bdf-493f-e981-631434b96917",
    "tags": []
   },
   "outputs": [
    {
     "name": "stdout",
     "output_type": "stream",
     "text": [
      "+-------+\n",
      "|  Cabin|\n",
      "+-------+\n",
      "|    A23|\n",
      "|    B79|\n",
      "|    E44|\n",
      "|  F E69|\n",
      "|    D28|\n",
      "|    C78|\n",
      "|    C95|\n",
      "|  F G73|\n",
      "|B58 B60|\n",
      "|     D7|\n",
      "|   C128|\n",
      "|    B39|\n",
      "|    B22|\n",
      "|   C110|\n",
      "|    D21|\n",
      "|     F2|\n",
      "|    B30|\n",
      "|   C104|\n",
      "|    B50|\n",
      "|     A6|\n",
      "+-------+\n",
      "only showing top 20 rows\n",
      "\n"
     ]
    }
   ],
   "source": [
    "# Assuming you have a DataFrame called 'df' representing the Titanic dataset\n",
    "# Extract the unique values in the 'Cabin' column\n",
    "cabin_values = df.select(\"Cabin\").distinct()\n",
    "\n",
    "# Show the unique values in the 'Cabin' column\n",
    "cabin_values.show()"
   ]
  },
  {
   "cell_type": "code",
   "execution_count": 12,
   "metadata": {
    "colab": {
     "base_uri": "https://localhost:8080/"
    },
    "id": "KN2s9Fh-p_52",
    "outputId": "3802e40f-7bde-47a9-cc1d-4e5280e8b635",
    "tags": []
   },
   "outputs": [
    {
     "name": "stdout",
     "output_type": "stream",
     "text": [
      "+-----------+--------+------+--------------------+------+----+-----+-----+----------------+-------+-------+--------+\n",
      "|PassengerId|Survived|Pclass|                Name|   Sex| Age|SibSp|Parch|          Ticket|   Fare|  Cabin|Embarked|\n",
      "+-----------+--------+------+--------------------+------+----+-----+-----+----------------+-------+-------+--------+\n",
      "|          1|       0|     3|Braund, Mr. Owen ...|  male|22.0|    1|    0|       A/5 21171|   7.25|Unknown|       S|\n",
      "|          2|       1|     1|Cumings, Mrs. Joh...|female|38.0|    1|    0|        PC 17599|71.2833|    C85|       C|\n",
      "|          3|       1|     3|Heikkinen, Miss. ...|female|26.0|    0|    0|STON/O2. 3101282|  7.925|Unknown|       S|\n",
      "|          4|       1|     1|Futrelle, Mrs. Ja...|female|35.0|    1|    0|          113803|   53.1|   C123|       S|\n",
      "|          5|       0|     3|Allen, Mr. Willia...|  male|35.0|    0|    0|          373450|   8.05|Unknown|       S|\n",
      "|          6|       0|     3|    Moran, Mr. James|  male|null|    0|    0|          330877| 8.4583|Unknown|       Q|\n",
      "|          7|       0|     1|McCarthy, Mr. Tim...|  male|54.0|    0|    0|           17463|51.8625|    E46|       S|\n",
      "|          8|       0|     3|Palsson, Master. ...|  male| 2.0|    3|    1|          349909| 21.075|Unknown|       S|\n",
      "|          9|       1|     3|Johnson, Mrs. Osc...|female|27.0|    0|    2|          347742|11.1333|Unknown|       S|\n",
      "|         10|       1|     2|Nasser, Mrs. Nich...|female|14.0|    1|    0|          237736|30.0708|Unknown|       C|\n",
      "|         11|       1|     3|Sandstrom, Miss. ...|female| 4.0|    1|    1|         PP 9549|   16.7|     G6|       S|\n",
      "|         12|       1|     1|Bonnell, Miss. El...|female|58.0|    0|    0|          113783|  26.55|   C103|       S|\n",
      "|         13|       0|     3|Saundercock, Mr. ...|  male|20.0|    0|    0|       A/5. 2151|   8.05|Unknown|       S|\n",
      "|         14|       0|     3|Andersson, Mr. An...|  male|39.0|    1|    5|          347082| 31.275|Unknown|       S|\n",
      "|         15|       0|     3|Vestrom, Miss. Hu...|female|14.0|    0|    0|          350406| 7.8542|Unknown|       S|\n",
      "|         16|       1|     2|Hewlett, Mrs. (Ma...|female|55.0|    0|    0|          248706|   16.0|Unknown|       S|\n",
      "|         17|       0|     3|Rice, Master. Eugene|  male| 2.0|    4|    1|          382652| 29.125|Unknown|       Q|\n",
      "|         18|       1|     2|Williams, Mr. Cha...|  male|null|    0|    0|          244373|   13.0|Unknown|       S|\n",
      "|         19|       0|     3|Vander Planke, Mr...|female|31.0|    1|    0|          345763|   18.0|Unknown|       S|\n",
      "|         20|       1|     3|Masselmani, Mrs. ...|female|null|    0|    0|            2649|  7.225|Unknown|       C|\n",
      "+-----------+--------+------+--------------------+------+----+-----+-----+----------------+-------+-------+--------+\n",
      "only showing top 20 rows\n",
      "\n"
     ]
    }
   ],
   "source": [
    "# Fill missing values in the 'Cabin' column with a specific value, such as 'Unknown'\n",
    "df = df.fillna({'Cabin': 'Unknown'})\n",
    "\n",
    "# Show the DataFrame with filled missing values\n",
    "df.show()"
   ]
  },
  {
   "cell_type": "markdown",
   "metadata": {
    "id": "H1t9qLnPqZrT"
   },
   "source": [
    "## Filling missing values for 'Age'"
   ]
  },
  {
   "cell_type": "code",
   "execution_count": 13,
   "metadata": {
    "colab": {
     "base_uri": "https://localhost:8080/"
    },
    "id": "UwKmsvQqnGe3",
    "outputId": "3fa83223-1e68-4942-cc82-2bfc4dcbf17d",
    "tags": []
   },
   "outputs": [
    {
     "name": "stdout",
     "output_type": "stream",
     "text": [
      "+-------+------------------+\n",
      "|summary|               Age|\n",
      "+-------+------------------+\n",
      "|  count|               714|\n",
      "|   mean| 29.69911764705882|\n",
      "| stddev|14.526497332334035|\n",
      "|    min|              0.42|\n",
      "|    max|              80.0|\n",
      "+-------+------------------+\n",
      "\n"
     ]
    }
   ],
   "source": [
    "# Calculate summary statistics of the 'Age' column\n",
    "summary_df = df.select(\"Age\").describe()\n",
    "\n",
    "# Show the summary statistics\n",
    "summary_df.show()"
   ]
  },
  {
   "cell_type": "code",
   "execution_count": 14,
   "metadata": {
    "colab": {
     "base_uri": "https://localhost:8080/",
     "height": 472
    },
    "id": "TaglrHx4rDUo",
    "outputId": "2d96287f-49f8-4829-c16f-0bedefd4612e",
    "tags": []
   },
   "outputs": [
    {
     "data": {
      "image/png": "[encoded data removed]",
      "text/plain": [
       "<Figure size 640x480 with 1 Axes>"
      ]
     },
     "metadata": {},
     "output_type": "display_data"
    }
   ],
   "source": [
    "import matplotlib.pyplot as plt\n",
    "\n",
    "# Assuming you have a DataFrame called 'df' representing the Titanic dataset\n",
    "# Filter out missing values in the 'Age' column\n",
    "age_data = df.select('Age').dropna().toPandas()\n",
    "\n",
    "# Create a histogram using PySpark's built-in visualization\n",
    "plt.hist(age_data['Age'], bins=20, edgecolor='black')\n",
    "plt.xlabel('Age')\n",
    "plt.ylabel('Frequency')\n",
    "plt.title('Histogram of Age')\n",
    "plt.show()\n"
   ]
  },
  {
   "cell_type": "markdown",
   "metadata": {
    "id": "-PqZQMgmsY3l"
   },
   "source": [
    "🔑 **Note:** Since the distribution is slightly right-skewed, using the median as a measure of central tendency can be a suitable option. Replace the missing values with the median value of the dataset or the specific column."
   ]
  },
  {
   "cell_type": "code",
   "execution_count": 15,
   "metadata": {
    "tags": []
   },
   "outputs": [
    {
     "data": {
      "text/plain": [
       "[28.0]"
      ]
     },
     "execution_count": 15,
     "metadata": {},
     "output_type": "execute_result"
    }
   ],
   "source": [
    "df.approxQuantile(\"Age\", [0.5], 0.001)"
   ]
  },
  {
   "cell_type": "code",
   "execution_count": 16,
   "metadata": {
    "id": "-2ToynKuseoX",
    "tags": []
   },
   "outputs": [],
   "source": [
    "# Calculate the median of the column with missing values\n",
    "median_value = df.approxQuantile(\"Age\", [0.5], 0.001)[0]\n",
    "\n",
    "# Fill missing values with the median value\n",
    "df = df.fillna({'Age': median_value})"
   ]
  },
  {
   "cell_type": "markdown",
   "metadata": {
    "id": "Ma5T96qXs175"
   },
   "source": [
    "🔑 **Note:** \n",
    "1. The `approxQuantile()` function is used to estimate quantiles, such as the median. In this case, we pass `[0.5]` as the desired quantile, which corresponds to the median. The last argument, `0.001`, represents the relative error tolerance for the approximation. You can adjust this value based on your requirements.\n",
    "\n",
    "2. Once you obtain the estimated median value, you can use the `fillna()` function to fill the missing values in the specified column with the median value."
   ]
  },
  {
   "cell_type": "code",
   "execution_count": 17,
   "metadata": {
    "colab": {
     "base_uri": "https://localhost:8080/"
    },
    "id": "Wi2DHOL1oQ8Q",
    "outputId": "56f53d82-b753-42e8-b018-b6c8d165fa53",
    "tags": []
   },
   "outputs": [
    {
     "name": "stdout",
     "output_type": "stream",
     "text": [
      "+-----------+--------+------+----+---+---+-----+-----+------+----+-----+--------+\n",
      "|PassengerId|Survived|Pclass|Name|Sex|Age|SibSp|Parch|Ticket|Fare|Cabin|Embarked|\n",
      "+-----------+--------+------+----+---+---+-----+-----+------+----+-----+--------+\n",
      "|          0|       0|     0|   0|  0|  0|    0|    0|     0|   0|    0|       2|\n",
      "+-----------+--------+------+----+---+---+-----+-----+------+----+-----+--------+\n",
      "\n"
     ]
    }
   ],
   "source": [
    "from pyspark.sql.functions import col, sum\n",
    "\n",
    "# Assuming you have a DataFrame called 'df'\n",
    "# Calculate the count of missing values in each column\n",
    "missing_counts = df.select([sum(col(c).isNull().cast(\"integer\")).alias(c) for c in df.columns])\n",
    "\n",
    "# Show the count of missing values\n",
    "missing_counts.show()\n"
   ]
  },
  {
   "cell_type": "markdown",
   "metadata": {
    "id": "tOWfJPqftkO1"
   },
   "source": [
    "## Dropping rows for missing values of 'Embarked'"
   ]
  },
  {
   "cell_type": "markdown",
   "metadata": {
    "id": "elA6aywntNDe"
   },
   "source": [
    "The \"Embarked\" column in the Titanic dataset refers to the port of embarkation for each passenger. It represents the location where passengers boarded the Titanic. The possible values for the \"Embarked\" column are:\n",
    "\n",
    "* C: Cherbourg\n",
    "* Q: Queenstown (now known as Cobh)\n",
    "* S: Southampton\n",
    "These values indicate the three ports from which passengers boarded the Titanic. The \"Embarked\" column provides information about the initial embarkation point of each passenger and can be used to analyze patterns related to their embarkation location.\n",
    "\n",
    "It's worth noting that the \"Embarked\" column may contain few missing values (null values) for some passengers in the dataset. These missing values can be handled by excluding the corresponding rows from analysis."
   ]
  },
  {
   "cell_type": "code",
   "execution_count": 18,
   "metadata": {
    "colab": {
     "base_uri": "https://localhost:8080/"
    },
    "id": "gpW8nu1GoYGs",
    "outputId": "fc9112da-a6a5-41c6-c7e5-f141533b6989",
    "tags": []
   },
   "outputs": [
    {
     "name": "stdout",
     "output_type": "stream",
     "text": [
      "+--------+\n",
      "|Embarked|\n",
      "+--------+\n",
      "|       Q|\n",
      "|    null|\n",
      "|       C|\n",
      "|       S|\n",
      "+--------+\n",
      "\n"
     ]
    }
   ],
   "source": [
    "# Assuming you have a DataFrame called 'df' representing the Titanic dataset\n",
    "# Extract the unique values in the 'Cabin' column\n",
    "embarked_values = df.select(\"Embarked\").distinct()\n",
    "\n",
    "# Show the unique values in the 'Cabin' column\n",
    "embarked_values.show()"
   ]
  },
  {
   "cell_type": "code",
   "execution_count": 19,
   "metadata": {
    "colab": {
     "base_uri": "https://localhost:8080/"
    },
    "id": "mdWVDk4RpKhB",
    "outputId": "95bf43b7-4006-49b0-9a82-aec103e82969",
    "tags": []
   },
   "outputs": [
    {
     "name": "stdout",
     "output_type": "stream",
     "text": [
      "+-----------+--------+------+--------------------+------+----+-----+-----+----------------+-------+-------+--------+\n",
      "|PassengerId|Survived|Pclass|                Name|   Sex| Age|SibSp|Parch|          Ticket|   Fare|  Cabin|Embarked|\n",
      "+-----------+--------+------+--------------------+------+----+-----+-----+----------------+-------+-------+--------+\n",
      "|          1|       0|     3|Braund, Mr. Owen ...|  male|22.0|    1|    0|       A/5 21171|   7.25|Unknown|       S|\n",
      "|          2|       1|     1|Cumings, Mrs. Joh...|female|38.0|    1|    0|        PC 17599|71.2833|    C85|       C|\n",
      "|          3|       1|     3|Heikkinen, Miss. ...|female|26.0|    0|    0|STON/O2. 3101282|  7.925|Unknown|       S|\n",
      "|          4|       1|     1|Futrelle, Mrs. Ja...|female|35.0|    1|    0|          113803|   53.1|   C123|       S|\n",
      "|          5|       0|     3|Allen, Mr. Willia...|  male|35.0|    0|    0|          373450|   8.05|Unknown|       S|\n",
      "|          6|       0|     3|    Moran, Mr. James|  male|28.0|    0|    0|          330877| 8.4583|Unknown|       Q|\n",
      "|          7|       0|     1|McCarthy, Mr. Tim...|  male|54.0|    0|    0|           17463|51.8625|    E46|       S|\n",
      "|          8|       0|     3|Palsson, Master. ...|  male| 2.0|    3|    1|          349909| 21.075|Unknown|       S|\n",
      "|          9|       1|     3|Johnson, Mrs. Osc...|female|27.0|    0|    2|          347742|11.1333|Unknown|       S|\n",
      "|         10|       1|     2|Nasser, Mrs. Nich...|female|14.0|    1|    0|          237736|30.0708|Unknown|       C|\n",
      "|         11|       1|     3|Sandstrom, Miss. ...|female| 4.0|    1|    1|         PP 9549|   16.7|     G6|       S|\n",
      "|         12|       1|     1|Bonnell, Miss. El...|female|58.0|    0|    0|          113783|  26.55|   C103|       S|\n",
      "|         13|       0|     3|Saundercock, Mr. ...|  male|20.0|    0|    0|       A/5. 2151|   8.05|Unknown|       S|\n",
      "|         14|       0|     3|Andersson, Mr. An...|  male|39.0|    1|    5|          347082| 31.275|Unknown|       S|\n",
      "|         15|       0|     3|Vestrom, Miss. Hu...|female|14.0|    0|    0|          350406| 7.8542|Unknown|       S|\n",
      "|         16|       1|     2|Hewlett, Mrs. (Ma...|female|55.0|    0|    0|          248706|   16.0|Unknown|       S|\n",
      "|         17|       0|     3|Rice, Master. Eugene|  male| 2.0|    4|    1|          382652| 29.125|Unknown|       Q|\n",
      "|         18|       1|     2|Williams, Mr. Cha...|  male|28.0|    0|    0|          244373|   13.0|Unknown|       S|\n",
      "|         19|       0|     3|Vander Planke, Mr...|female|31.0|    1|    0|          345763|   18.0|Unknown|       S|\n",
      "|         20|       1|     3|Masselmani, Mrs. ...|female|28.0|    0|    0|            2649|  7.225|Unknown|       C|\n",
      "+-----------+--------+------+--------------------+------+----+-----+-----+----------------+-------+-------+--------+\n",
      "only showing top 20 rows\n",
      "\n"
     ]
    }
   ],
   "source": [
    "# Drop rows with missing values in the 'Embarked' column\n",
    "df = df.dropna(subset=['Embarked'])\n",
    "\n",
    "# Show the DataFrame after dropping rows with missing values\n",
    "df.show()"
   ]
  },
  {
   "cell_type": "markdown",
   "metadata": {
    "id": "ca4PxF5St76i"
   },
   "source": [
    "## Anymore missing values?"
   ]
  },
  {
   "cell_type": "code",
   "execution_count": 20,
   "metadata": {
    "colab": {
     "base_uri": "https://localhost:8080/"
    },
    "id": "-A7lHZwmtzEJ",
    "outputId": "186cc92f-e7e8-411d-ad67-015d6db0b60c",
    "tags": []
   },
   "outputs": [
    {
     "name": "stdout",
     "output_type": "stream",
     "text": [
      "+-----------+--------+------+----+---+---+-----+-----+------+----+-----+--------+\n",
      "|PassengerId|Survived|Pclass|Name|Sex|Age|SibSp|Parch|Ticket|Fare|Cabin|Embarked|\n",
      "+-----------+--------+------+----+---+---+-----+-----+------+----+-----+--------+\n",
      "|          0|       0|     0|   0|  0|  0|    0|    0|     0|   0|    0|       0|\n",
      "+-----------+--------+------+----+---+---+-----+-----+------+----+-----+--------+\n",
      "\n"
     ]
    }
   ],
   "source": [
    "\n",
    "from pyspark.sql.functions import col, sum\n",
    "\n",
    "# Assuming you have a DataFrame called 'df'\n",
    "# Calculate the count of missing values in each column\n",
    "missing_counts = df.select([sum(col(c).isNull().cast(\"integer\")).alias(c) for c in df.columns])\n",
    "\n",
    "# Show the count of missing values\n",
    "missing_counts.show()\n"
   ]
  },
  {
   "cell_type": "markdown",
   "metadata": {
    "id": "ZNSXpJ3KuOql"
   },
   "source": [
    "# Exploratory Data Analysis"
   ]
  },
  {
   "cell_type": "markdown",
   "metadata": {
    "id": "OrVeQaKbuTF3"
   },
   "source": [
    "## How many survived?"
   ]
  },
  {
   "cell_type": "code",
   "execution_count": 21,
   "metadata": {
    "colab": {
     "base_uri": "https://localhost:8080/"
    },
    "id": "Cwa6dXBgt14n",
    "outputId": "2309ac9f-fb85-46ff-e5f4-ea434c075bf9",
    "tags": []
   },
   "outputs": [
    {
     "name": "stdout",
     "output_type": "stream",
     "text": [
      "+--------+-----+\n",
      "|Survived|count|\n",
      "+--------+-----+\n",
      "|       1|  340|\n",
      "|       0|  549|\n",
      "+--------+-----+\n",
      "\n"
     ]
    }
   ],
   "source": [
    "df.groupBy(\"Survived\").count().show()"
   ]
  },
  {
   "cell_type": "markdown",
   "metadata": {
    "id": "bpBfRx5pudKh"
   },
   "source": [
    "🔑 **Note:**\n",
    "\n",
    "1. The code `df.groupBy(\"Survived\").count().show()` performs a grouping operation on the \"Survived\" column of the DataFrame df and counts the number of occurrences for each unique value.\n",
    "\n",
    "2. The output will show the counts of \"Survived\" values, along with the corresponding counts for each category (e.g., 0 for not survived and 1 for survived)."
   ]
  },
  {
   "cell_type": "markdown",
   "metadata": {
    "id": "bH9y1vOguyWA"
   },
   "source": [
    "## How the survival rate was correlated with some variables/features:"
   ]
  },
  {
   "cell_type": "markdown",
   "metadata": {
    "id": "TMQqyG6uvDex"
   },
   "source": [
    "### Sex:"
   ]
  },
  {
   "cell_type": "code",
   "execution_count": 22,
   "metadata": {
    "colab": {
     "base_uri": "https://localhost:8080/"
    },
    "id": "8hbdnWYlvCb2",
    "outputId": "1a687ffb-7beb-4dfe-ff2a-39e3166e5e6f",
    "tags": []
   },
   "outputs": [
    {
     "name": "stdout",
     "output_type": "stream",
     "text": [
      "+------+--------+-----+\n",
      "|   Sex|Survived|count|\n",
      "+------+--------+-----+\n",
      "|  male|       0|  468|\n",
      "|female|       1|  231|\n",
      "|female|       0|   81|\n",
      "|  male|       1|  109|\n",
      "+------+--------+-----+\n",
      "\n"
     ]
    }
   ],
   "source": [
    "df.groupBy(\"Sex\",\"Survived\").count().show()"
   ]
  },
  {
   "cell_type": "code",
   "execution_count": 23,
   "metadata": {
    "tags": []
   },
   "outputs": [
    {
     "name": "stdout",
     "output_type": "stream",
     "text": [
      "+------+--------+-----+\n",
      "|   Sex|Survived|count|\n",
      "+------+--------+-----+\n",
      "|  male|       0|  468|\n",
      "|female|       1|  231|\n",
      "|female|       0|   81|\n",
      "|  male|       1|  109|\n",
      "+------+--------+-----+\n",
      "\n"
     ]
    }
   ],
   "source": [
    "df.groupBy(\"Sex\", \"Survived\").count().show()\n"
   ]
  },
  {
   "cell_type": "code",
   "execution_count": 24,
   "metadata": {
    "tags": []
   },
   "outputs": [],
   "source": [
    "# total_counts.select(\"total\").groupBy().sum(\"total\").collect()[0][0]"
   ]
  },
  {
   "cell_type": "code",
   "execution_count": 25,
   "metadata": {
    "colab": {
     "base_uri": "https://localhost:8080/"
    },
    "id": "k8azQCOCwSlR",
    "outputId": "205117fb-e8d5-4006-d120-e612ade8a60c",
    "tags": []
   },
   "outputs": [
    {
     "name": "stdout",
     "output_type": "stream",
     "text": [
      "+------+--------+-----+-----+--------------------+\n",
      "|   Sex|Survived|count|total|percentage (overall)|\n",
      "+------+--------+-----+-----+--------------------+\n",
      "|  male|       0|  468|  577|   52.64341957255343|\n",
      "|female|       1|  231|  312|  25.984251968503933|\n",
      "|female|       0|   81|  312|   9.111361079865016|\n",
      "|  male|       1|  109|  577|  12.260967379077616|\n",
      "+------+--------+-----+-----+--------------------+\n",
      "\n"
     ]
    }
   ],
   "source": [
    "# Group by \"Sex\" and \"Survived\" columns and calculate counts\n",
    "grouped_df = df.groupBy(\"Sex\", \"Survived\").count()\n",
    "\n",
    "# Calculate total counts for each category of \"Sex\"\n",
    "total_counts = grouped_df.groupBy(\"Sex\").agg(sum(\"count\").alias(\"total\"))\n",
    "\n",
    "# Calculate overall total count\n",
    "overall_total_count = total_counts.select(\"total\").groupBy().sum(\"total\").collect()[0][0]\n",
    "\n",
    "# Calculate percentages overall\n",
    "grouped_df_with_percentage = grouped_df.join(total_counts, \"Sex\").withColumn(\"percentage (overall)\", (grouped_df[\"count\"] / overall_total_count) * 100)\n",
    "\n",
    "# Show the grouped DataFrame with counts and percentages\n",
    "grouped_df_with_percentage.show()\n"
   ]
  },
  {
   "cell_type": "markdown",
   "metadata": {
    "id": "NvEpqZEZvIIF"
   },
   "source": [
    "👀 **Observation:**\n",
    "\n",
    "1. The dataset shows that nearly two-thirds (65%) of the passengers were male, while the remaining one-third (35%) were female.\n",
    "\n",
    "2. The most notable observation is the significant difference in survival rates between women and men: approximately 75% of the female passengers survived, whereas only around 18.9% of the male passengers managed to survive."
   ]
  },
  {
   "cell_type": "markdown",
   "metadata": {
    "id": "GInqBZAyw3I5"
   },
   "source": [
    "### Pclass:"
   ]
  },
  {
   "cell_type": "code",
   "execution_count": 26,
   "metadata": {
    "colab": {
     "base_uri": "https://localhost:8080/"
    },
    "id": "vn2fhJ6Yx19W",
    "outputId": "7a75d15b-0c17-4383-9937-6cd99076007a",
    "tags": []
   },
   "outputs": [
    {
     "name": "stdout",
     "output_type": "stream",
     "text": [
      "+------+-----+\n",
      "|Pclass|total|\n",
      "+------+-----+\n",
      "|     1|  214|\n",
      "|     3|  491|\n",
      "|     2|  184|\n",
      "+------+-----+\n",
      "\n",
      "+------+--------+-----+-----+------------------------+\n",
      "|Pclass|Survived|count|total|percentage(within class)|\n",
      "+------+--------+-----+-----+------------------------+\n",
      "|     1|       0|   80|  214|       37.38317757009346|\n",
      "|     3|       1|  119|  491|      24.236252545824847|\n",
      "|     1|       1|  134|  214|      62.616822429906534|\n",
      "|     2|       1|   87|  184|       47.28260869565217|\n",
      "|     2|       0|   97|  184|       52.71739130434783|\n",
      "|     3|       0|  372|  491|       75.76374745417516|\n",
      "+------+--------+-----+-----+------------------------+\n",
      "\n"
     ]
    }
   ],
   "source": [
    "# Group by \"Pclass\" and \"Survived\" columns and calculate counts\n",
    "grouped_df = df.groupBy(\"Pclass\", \"Survived\").count()\n",
    "\n",
    "# Calculate total counts for each category of \"Pclass\"\n",
    "total_counts = grouped_df.groupBy(\"Pclass\").agg(sum(\"count\").alias(\"total\"))\n",
    "\n",
    "total_counts.show()\n",
    "\n",
    "# Calculate percentages for each \"Pclass\"\n",
    "grouped_df_with_percentage = grouped_df.join(total_counts, \"Pclass\")\n",
    "grouped_df_with_percentage = grouped_df_with_percentage.withColumn(\"percentage(within class)\", grouped_df_with_percentage[\"count\"] / grouped_df_with_percentage[\"total\"] * 100)\n",
    "\n",
    "# # Show the grouped DataFrame with counts and percentages\n",
    "grouped_df_with_percentage.show()\n"
   ]
  },
  {
   "cell_type": "markdown",
   "metadata": {
    "id": "1hEBk_TcxQhF"
   },
   "source": [
    "👀 **Observation:**\n",
    "\n",
    "1. Among the passenger classes, class 3 had the largest number of travelers, followed by class 1, while class 2 had the fewest passengers. Surprisingly, the number of travelers in class 3 was greater than the combined number of passengers in class 1 and class 2.\n",
    "\n",
    "2. The survival rate for class 1 passengers was the highest at around 63%. Class 2 and class 3 passengers had lower survival rates, approximately 47.3% and 24.2%, respectively."
   ]
  },
  {
   "cell_type": "markdown",
   "metadata": {
    "id": "OfcxgsJgyMtO"
   },
   "source": [
    "### Age:"
   ]
  },
  {
   "cell_type": "code",
   "execution_count": 27,
   "metadata": {
    "colab": {
     "base_uri": "https://localhost:8080/",
     "height": 607
    },
    "id": "pxI2fAVRyTlG",
    "outputId": "9519ed67-0f80-416f-85e1-e87cc4049fe3",
    "tags": []
   },
   "outputs": [
    {
     "data": {
      "image/png": "[encoded data removed]",
      "text/plain": [
       "<Figure size 1000x600 with 1 Axes>"
      ]
     },
     "metadata": {},
     "output_type": "display_data"
    }
   ],
   "source": [
    "import matplotlib.pyplot as plt\n",
    "import seaborn as sns\n",
    "\n",
    "# Filter the DataFrame for passengers who survived and those who didn't\n",
    "survived_data = df.filter(df.Survived == 1).select(\"Age\").dropna().toPandas()\n",
    "not_survived_data = df.filter(df.Survived == 0).select(\"Age\").dropna().toPandas()\n",
    "\n",
    "# Set up figure and axes\n",
    "fig, ax = plt.subplots(figsize=(10, 6))\n",
    "\n",
    "# Plot histograms for the \"Age\" column\n",
    "sns.histplot(survived_data[\"Age\"], bins=20, color='skyblue', label=\"Survived\", ax=ax)\n",
    "sns.histplot(not_survived_data[\"Age\"], bins=20, color='salmon', label=\"Not Survived\", ax=ax)\n",
    "\n",
    "# Customize plot appearance\n",
    "ax.set_xlabel(\"Age\")\n",
    "ax.set_ylabel(\"Frequency\")\n",
    "ax.set_title(\"Distribution of Age for Survived and Not Survived\")\n",
    "ax.legend()\n",
    "\n",
    "# Remove spines\n",
    "sns.despine()\n",
    "\n",
    "# Add gridlines\n",
    "ax.grid(True, axis='y', linestyle='--', alpha=0.5)\n",
    "\n",
    "# Adjust layout\n",
    "fig.tight_layout()\n",
    "\n",
    "# Show the plot\n",
    "plt.show()\n"
   ]
  },
  {
   "cell_type": "markdown",
   "metadata": {
    "id": "wRuAn5ec0Kbv"
   },
   "source": [
    "👀 **Observation:**\n",
    "\n",
    "1. The survival rate among senior individuals (aged over 60) was notably low.\n",
    "\n",
    "2. Interestingly, contrary to our initial expectations, teenagers and people in their twenties had a lower survival rate compared to individuals in their forties and fifties.\n"
   ]
  },
  {
   "cell_type": "markdown",
   "metadata": {
    "id": "em_IjyEt1Ri6"
   },
   "source": [
    "### Embarked:"
   ]
  },
  {
   "cell_type": "code",
   "execution_count": 28,
   "metadata": {
    "colab": {
     "base_uri": "https://localhost:8080/"
    },
    "id": "dFpoY6V-ztLt",
    "outputId": "f2ef29ba-7066-4492-d6b4-f51437a6a1f1",
    "tags": []
   },
   "outputs": [
    {
     "name": "stdout",
     "output_type": "stream",
     "text": [
      "+--------+-----+\n",
      "|Embarked|total|\n",
      "+--------+-----+\n",
      "|       Q|   77|\n",
      "|       C|  168|\n",
      "|       S|  644|\n",
      "+--------+-----+\n",
      "\n",
      "+--------+--------+-----+-----+-------------------------+------------------+\n",
      "|Embarked|Survived|count|total|percentage (within class)|overall_percentage|\n",
      "+--------+--------+-----+-----+-------------------------+------------------+\n",
      "|       Q|       1|   30|   77|       38.961038961038966| 3.374578177727784|\n",
      "|       S|       0|  427|  644|        66.30434782608695|48.031496062992126|\n",
      "|       S|       1|  217|  644|        33.69565217391305|24.409448818897637|\n",
      "|       C|       1|   93|  168|        55.35714285714286| 10.46119235095613|\n",
      "|       Q|       0|   47|   77|       61.038961038961034| 5.286839145106861|\n",
      "|       C|       0|   75|  168|       44.642857142857146|  8.43644544431946|\n",
      "+--------+--------+-----+-----+-------------------------+------------------+\n",
      "\n"
     ]
    }
   ],
   "source": [
    "# Group by \"Embarked\" and \"Survived\" columns and calculate counts\n",
    "grouped_df = df.groupBy(\"Embarked\", \"Survived\").count()\n",
    "\n",
    "# Calculate total counts for each category of \"Embarked\"\n",
    "total_counts = grouped_df.groupBy(\"Embarked\").sum(\"count\").withColumnRenamed(\"sum(count)\", \"total\")\n",
    "total_counts.show()\n",
    "# Calculate percentages overall for each combination\n",
    "grouped_df_with_percentage = grouped_df.join(total_counts, \"Embarked\")\n",
    "grouped_df_with_percentage = grouped_df_with_percentage.withColumn(\"percentage (within class)\", grouped_df_with_percentage[\"count\"] / grouped_df_with_percentage[\"total\"] * 100)\n",
    "\n",
    "# Calculate overall total count\n",
    "overall_total_count = grouped_df_with_percentage.groupBy().sum(\"count\").collect()[0][0]\n",
    "\n",
    "# Calculate overall percentages\n",
    "grouped_df_with_percentage = grouped_df_with_percentage.withColumn(\"overall_percentage\", (grouped_df_with_percentage[\"count\"] / overall_total_count) * 100)\n",
    "\n",
    "# Show the grouped DataFrame with counts, percentages, and overall percentages\n",
    "grouped_df_with_percentage.show()\n"
   ]
  },
  {
   "cell_type": "markdown",
   "metadata": {
    "id": "vTvR0ZeC2drM"
   },
   "source": [
    "👀 **Observation:**\n",
    "\n",
    "1. The \"Embarked\" column indicates the port of embarkation, where \"C\" represents Cherbourg, \"Q\" represents Queenstown, and \"S\" represents Southampton.\n",
    "2. The largest proportion of travelers, approximately 72%, boarded from Southampton. Around 19% boarded from Cherbourg, and the remaining passengers, nearly 9%, embarked from Queenstown.\n",
    "3. Among the passengers, only those who boarded from Cherbourg had a survival rate exceeding 50%. Passengers who boarded from Southampton had the lowest chance of survival, approximately 33%."
   ]
  },
  {
   "cell_type": "markdown",
   "metadata": {
    "id": "ahLnwnDl25CX"
   },
   "source": [
    "### Fare: "
   ]
  },
  {
   "cell_type": "code",
   "execution_count": 29,
   "metadata": {
    "colab": {
     "base_uri": "https://localhost:8080/"
    },
    "id": "sxRqxp_F1XIL",
    "outputId": "fa0b6e4b-00f7-4861-f686-1568ed125087",
    "tags": []
   },
   "outputs": [
    {
     "name": "stdout",
     "output_type": "stream",
     "text": [
      "+--------+--------+-----+\n",
      "|    Fare|Survived|count|\n",
      "+--------+--------+-----+\n",
      "|    28.5|       0|    1|\n",
      "| 56.4958|       1|    5|\n",
      "|   24.15|       0|    7|\n",
      "|   120.0|       1|    4|\n",
      "|   15.85|       0|    2|\n",
      "|  8.6625|       0|   12|\n",
      "|    79.2|       0|    2|\n",
      "|   36.75|       0|    1|\n",
      "|  8.4042|       0|    1|\n",
      "|  83.475|       1|    1|\n",
      "|    71.0|       1|    1|\n",
      "|211.3375|       1|    3|\n",
      "|   78.85|       1|    1|\n",
      "|    16.1|       1|    2|\n",
      "|    12.0|       1|    1|\n",
      "|  8.4333|       0|    1|\n",
      "|   7.925|       1|    8|\n",
      "| 15.0458|       0|    1|\n",
      "|   79.65|       1|    2|\n",
      "|     8.3|       0|    1|\n",
      "+--------+--------+-----+\n",
      "only showing top 20 rows\n",
      "\n"
     ]
    }
   ],
   "source": [
    "df.groupBy(\"Fare\",\"Survived\").count().show()"
   ]
  },
  {
   "cell_type": "code",
   "execution_count": 30,
   "metadata": {
    "colab": {
     "base_uri": "https://localhost:8080/"
    },
    "id": "nPPnsGog2_Tc",
    "outputId": "d4efe7b9-939b-4bfe-e4fc-b0aee53e1965",
    "tags": []
   },
   "outputs": [
    {
     "name": "stdout",
     "output_type": "stream",
     "text": [
      "+--------------+-------+--------------+\n",
      "|First Quartile| Median|Third Quartile|\n",
      "+--------------+-------+--------------+\n",
      "|        7.8958|14.4542|          31.0|\n",
      "+--------------+-------+--------------+\n",
      "\n"
     ]
    }
   ],
   "source": [
    "from pyspark.sql.functions import col\n",
    "\n",
    "# \n",
    "# Calculate the quartiles for the \"Fare\" column\n",
    "quartiles = df.approxQuantile(\"Fare\", [0.25, 0.5, 0.75], 0.0)\n",
    "\n",
    "# Create a DataFrame to display the quartiles\n",
    "quartiles_df = spark.createDataFrame([(quartiles[0], quartiles[1], quartiles[2])], [\"First Quartile\", \"Median\", \"Third Quartile\"])\n",
    "\n",
    "# Show the quartiles DataFrame\n",
    "quartiles_df.show()\n"
   ]
  },
  {
   "cell_type": "markdown",
   "metadata": {
    "id": "JoyYNurP3aTf"
   },
   "source": [
    "Splitting the fare feature into 4 categories according to the quartiles:"
   ]
  },
  {
   "cell_type": "code",
   "execution_count": 31,
   "metadata": {
    "colab": {
     "base_uri": "https://localhost:8080/"
    },
    "id": "-rzTNvFl3FhP",
    "outputId": "30c5caa4-dc5f-4752-8c9b-f2ef5b07084f",
    "tags": []
   },
   "outputs": [
    {
     "name": "stdout",
     "output_type": "stream",
     "text": [
      "+-----------+--------+------+--------------------+------+----+-----+-----+----------------+-------+-------+--------+-------------+\n",
      "|PassengerId|Survived|Pclass|                Name|   Sex| Age|SibSp|Parch|          Ticket|   Fare|  Cabin|Embarked|   Fare_Class|\n",
      "+-----------+--------+------+--------------------+------+----+-----+-----+----------------+-------+-------+--------+-------------+\n",
      "|          1|       0|     3|Braund, Mr. Owen ...|  male|22.0|    1|    0|       A/5 21171|   7.25|Unknown|       S|          Low|\n",
      "|          2|       1|     1|Cumings, Mrs. Joh...|female|38.0|    1|    0|        PC 17599|71.2833|    C85|       C|         High|\n",
      "|          3|       1|     3|Heikkinen, Miss. ...|female|26.0|    0|    0|STON/O2. 3101282|  7.925|Unknown|       S| Moderate-Mid|\n",
      "|          4|       1|     1|Futrelle, Mrs. Ja...|female|35.0|    1|    0|          113803|   53.1|   C123|       S|         High|\n",
      "|          5|       0|     3|Allen, Mr. Willia...|  male|35.0|    0|    0|          373450|   8.05|Unknown|       S| Moderate-Mid|\n",
      "|          6|       0|     3|    Moran, Mr. James|  male|28.0|    0|    0|          330877| 8.4583|Unknown|       Q| Moderate-Mid|\n",
      "|          7|       0|     1|McCarthy, Mr. Tim...|  male|54.0|    0|    0|           17463|51.8625|    E46|       S|         High|\n",
      "|          8|       0|     3|Palsson, Master. ...|  male| 2.0|    3|    1|          349909| 21.075|Unknown|       S|Moderate-High|\n",
      "|          9|       1|     3|Johnson, Mrs. Osc...|female|27.0|    0|    2|          347742|11.1333|Unknown|       S| Moderate-Mid|\n",
      "|         10|       1|     2|Nasser, Mrs. Nich...|female|14.0|    1|    0|          237736|30.0708|Unknown|       C|Moderate-High|\n",
      "|         11|       1|     3|Sandstrom, Miss. ...|female| 4.0|    1|    1|         PP 9549|   16.7|     G6|       S|Moderate-High|\n",
      "|         12|       1|     1|Bonnell, Miss. El...|female|58.0|    0|    0|          113783|  26.55|   C103|       S|Moderate-High|\n",
      "|         13|       0|     3|Saundercock, Mr. ...|  male|20.0|    0|    0|       A/5. 2151|   8.05|Unknown|       S| Moderate-Mid|\n",
      "|         14|       0|     3|Andersson, Mr. An...|  male|39.0|    1|    5|          347082| 31.275|Unknown|       S|         High|\n",
      "|         15|       0|     3|Vestrom, Miss. Hu...|female|14.0|    0|    0|          350406| 7.8542|Unknown|       S|          Low|\n",
      "|         16|       1|     2|Hewlett, Mrs. (Ma...|female|55.0|    0|    0|          248706|   16.0|Unknown|       S|Moderate-High|\n",
      "|         17|       0|     3|Rice, Master. Eugene|  male| 2.0|    4|    1|          382652| 29.125|Unknown|       Q|Moderate-High|\n",
      "|         18|       1|     2|Williams, Mr. Cha...|  male|28.0|    0|    0|          244373|   13.0|Unknown|       S| Moderate-Mid|\n",
      "|         19|       0|     3|Vander Planke, Mr...|female|31.0|    1|    0|          345763|   18.0|Unknown|       S|Moderate-High|\n",
      "|         20|       1|     3|Masselmani, Mrs. ...|female|28.0|    0|    0|            2649|  7.225|Unknown|       C|          Low|\n",
      "+-----------+--------+------+--------------------+------+----+-----+-----+----------------+-------+-------+--------+-------------+\n",
      "only showing top 20 rows\n",
      "\n"
     ]
    }
   ],
   "source": [
    "from pyspark.sql.functions import col, when\n",
    "\n",
    "# Define the bins and labels for fare classes\n",
    "fare_bins = [0, 7.9, 14.45, 31, 512.33]\n",
    "fare_labels = ['Low', 'Moderate-Mid', 'Moderate-High', 'High']\n",
    "\n",
    "# Create a new column \"Fare_Class\" based on the \"Fare\" column\n",
    "df = df.withColumn('Fare_Class', when((col('Fare') >= fare_bins[0]) & (col('Fare') < fare_bins[1]), fare_labels[0])\n",
    "                                .when((col('Fare') >= fare_bins[1]) & (col('Fare') < fare_bins[2]), fare_labels[1])\n",
    "                                .when((col('Fare') >= fare_bins[2]) & (col('Fare') < fare_bins[3]), fare_labels[2])\n",
    "                                .otherwise(fare_labels[3]))\n",
    "\n",
    "# Show the updated DataFrame with the new \"Fare_Class\" column\n",
    "df.show()\n"
   ]
  },
  {
   "cell_type": "code",
   "execution_count": 32,
   "metadata": {
    "colab": {
     "base_uri": "https://localhost:8080/"
    },
    "id": "i0XEQkpwPhj5",
    "outputId": "2bc96801-e208-4446-9a25-44fabff06391",
    "tags": []
   },
   "outputs": [
    {
     "name": "stdout",
     "output_type": "stream",
     "text": [
      "+-------------+--------+-----+\n",
      "|   Fare_Class|Survived|count|\n",
      "+-------------+--------+-----+\n",
      "| Moderate-Mid|       1|   67|\n",
      "|         High|       1|  129|\n",
      "|         High|       0|   94|\n",
      "| Moderate-Mid|       0|  150|\n",
      "|          Low|       0|  179|\n",
      "|Moderate-High|       1|  100|\n",
      "|Moderate-High|       0|  126|\n",
      "|          Low|       1|   44|\n",
      "+-------------+--------+-----+\n",
      "\n"
     ]
    }
   ],
   "source": [
    "df.groupBy(\"Fare_Class\",\"Survived\").count().show()"
   ]
  },
  {
   "cell_type": "code",
   "execution_count": 33,
   "metadata": {
    "colab": {
     "base_uri": "https://localhost:8080/",
     "height": 564
    },
    "id": "XObj0o1P3w3S",
    "outputId": "9e2d3b16-4efa-4e72-b86f-cbe1a8080ed4",
    "tags": []
   },
   "outputs": [
    {
     "data": {
      "image/png": "[encoded data removed]",
      "text/plain": [
       "<Figure size 1000x600 with 1 Axes>"
      ]
     },
     "metadata": {},
     "output_type": "display_data"
    }
   ],
   "source": [
    "import matplotlib.pyplot as plt\n",
    "\n",
    "# Group by \"Fare_Class\" and \"Survived\" columns and calculate counts\n",
    "grouped_df = df.groupBy(\"Fare_Class\", \"Survived\").count()\n",
    "\n",
    "# Pivot the DataFrame to reshape it for side-by-side comparison\n",
    "pivot_df = grouped_df.groupBy(\"Fare_Class\").pivot(\"Survived\").sum(\"count\").fillna(0)\n",
    "\n",
    "# Calculate the survival rate for each fare class\n",
    "pivot_df = pivot_df.withColumn(\"Survival_Rate\", pivot_df[\"1\"] / (pivot_df[\"0\"] + pivot_df[\"1\"]))\n",
    "\n",
    "# Sort the DataFrame based on the survival rate in descending order\n",
    "pivot_df = pivot_df.orderBy(\"Survival_Rate\", ascending=False)\n",
    "\n",
    "# Convert the DataFrame to Pandas for plotting\n",
    "pivot_pd = pivot_df.toPandas()\n",
    "\n",
    "# Set up the figure and axes\n",
    "fig, ax = plt.subplots(figsize=(10, 6))\n",
    "\n",
    "# Set the width of the bars\n",
    "bar_width = 0.35\n",
    "\n",
    "# Set the positions of the bars on the x-axis\n",
    "x = range(len(pivot_pd))\n",
    "\n",
    "# Plot the grouped bars for survived passengers\n",
    "ax.bar(x, pivot_pd[\"1\"], width=bar_width, color=\"green\", label=\"Survived\")\n",
    "\n",
    "# Plot the grouped bars for not survived passengers\n",
    "ax.bar([i + bar_width for i in x], pivot_pd[\"0\"], width=bar_width, color=\"red\", label=\"Not Survived\")\n",
    "\n",
    "# Set the labels and title\n",
    "ax.set_xlabel(\"Fare Class\")\n",
    "ax.set_ylabel(\"Count\")\n",
    "ax.set_title(\"Passenger Count by Fare Class and Survival\")\n",
    "\n",
    "# Set the x-axis tick labels\n",
    "ax.set_xticks([i + bar_width / 2 for i in x])\n",
    "ax.set_xticklabels(pivot_pd[\"Fare_Class\"])\n",
    "\n",
    "# Show the legend\n",
    "ax.legend()\n",
    "\n",
    "# Display the plot\n",
    "plt.show()\n"
   ]
  },
  {
   "cell_type": "markdown",
   "metadata": {
    "id": "8lc5mx0a4-zq"
   },
   "source": [
    "👀 **Observation:** Generally, there is a tendency for higher fares to be associated with higher survival rates."
   ]
  },
  {
   "cell_type": "code",
   "execution_count": null,
   "metadata": {
    "id": "msIPXGX34ILJ"
   },
   "outputs": [],
   "source": []
  }
 ],
 "metadata": {
  "colab": {
   "provenance": []
  },
  "kernelspec": {
   "display_name": "PyCamber",
   "language": "python",
   "name": "python3"
  },
  "language_info": {
   "codemirror_mode": {
    "name": "ipython",
    "version": 3
   },
   "file_extension": ".py",
   "mimetype": "text/x-python",
   "name": "python",
   "nbconvert_exporter": "python",
   "pygments_lexer": "ipython3",
   "version": "3.10.10"
  }
 },
 "nbformat": 4,
 "nbformat_minor": 4
}
