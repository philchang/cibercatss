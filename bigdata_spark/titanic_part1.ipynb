{
 "cells": [
  {
   "cell_type": "code",
   "execution_count": 1,
   "id": "aa8137f1-bead-44b8-8601-641bd7c53fd4",
   "metadata": {
    "tags": []
   },
   "outputs": [],
   "source": [
    "import camber"
   ]
  },
  {
   "cell_type": "code",
   "execution_count": 2,
   "id": "9ea6e06b-b437-43c9-a4a9-80c020b101e2",
   "metadata": {},
   "outputs": [
    {
     "data": {
      "application/vnd.jupyter.widget-view+json": {
       "model_id": "35deef73a0894974b9f11977c2cdde8f",
       "version_major": 2,
       "version_minor": 0
      },
      "text/plain": [
       "Output()"
      ]
     },
     "metadata": {},
     "output_type": "display_data"
    }
   ],
   "source": [
    "spark = camber.spark.connect(worker_size=\"XSMALL\")"
   ]
  },
  {
   "cell_type": "markdown",
   "id": "28c98241-adb7-4518-b1b2-6bdb3dcce257",
   "metadata": {},
   "source": [
    "# Necessary Imports"
   ]
  },
  {
   "cell_type": "code",
   "execution_count": 3,
   "id": "73728ce8-d514-475c-a770-17b8271e895b",
   "metadata": {
    "tags": []
   },
   "outputs": [],
   "source": [
    "import pyspark\n",
    "\n",
    "import pandas as pd \n",
    "import numpy as np\n",
    "\n",
    "import seaborn as sns\n",
    "import matplotlib as mpl\n",
    "from matplotlib import pyplot as plt"
   ]
  },
  {
   "cell_type": "markdown",
   "id": "581905b6-3c69-4d74-8cd9-1587fdcda72e",
   "metadata": {},
   "source": [
    "# Load the dataset"
   ]
  },
  {
   "cell_type": "code",
   "execution_count": 4,
   "id": "ca554a68-c78b-461d-a737-d77c9c00290b",
   "metadata": {
    "tags": []
   },
   "outputs": [],
   "source": [
    "DATA_PATH = \"s3a://camber-spark-bkt/ciber-catts/shared-data/titanic\""
   ]
  },
  {
   "cell_type": "code",
   "execution_count": 5,
   "id": "08551f4b-7865-47cc-a81f-8750d7b7e191",
   "metadata": {
    "tags": []
   },
   "outputs": [],
   "source": [
    "train_data = f\"{DATA_PATH}/train.csv\"\n",
    "test_data = f\"{DATA_PATH}/test.csv\""
   ]
  },
  {
   "cell_type": "code",
   "execution_count": 6,
   "id": "07fbb458-3efb-40e0-a72d-9cd0ef406d68",
   "metadata": {
    "tags": []
   },
   "outputs": [],
   "source": [
    "df = spark.read.format(\"csv\").option(\"inferSchema\", \"true\").option(\"header\", \"true\") \\\n",
    "  .option(\"sep\", \",\") \\\n",
    "  .load(train_data)"
   ]
  },
  {
   "cell_type": "code",
   "execution_count": null,
   "id": "57777dde-d7d5-4707-90b7-28bc84ef5e1a",
   "metadata": {
    "tags": []
   },
   "outputs": [],
   "source": []
  },
  {
   "cell_type": "markdown",
   "id": "4c80b65c-f8e5-46fd-8b16-3fac0aa4e4b7",
   "metadata": {},
   "source": [
    "NOTE:\n",
    "\n",
    "\n",
    "`df = spark.read.format(\"csv\")`: This line initiates the process of reading a CSV file into a DataFrame. The spark.read method is used to create a DataFrameReader, which provides various methods for reading data from different formats. In this case, we specify the format as \"csv\" to read a CSV file.\n",
    "\n",
    "`.option(\"inferSchema\", \"true\")`: This line sets the option for inferring the schema of the DataFrame from the CSV file. When set to \"true\", Spark will automatically infer the data types of the columns based on the contents of the CSV file.\n",
    "\n",
    "`.option(\"header\", \"true\")`: This line sets the option to treat the first row of the CSV file as the header. By setting this option to \"true\", Spark will use the first row to determine the column names of the DataFrame.\n",
    "\n",
    "`.option(\"sep\", \",\")`: This line sets the option for the separator used in the CSV file. Here, the separator is set to a comma (\",\") to indicate that the CSV file is comma-separated.\n",
    "\n",
    "`.load(train_data)`: This line specifies the path of the CSV file to be loaded into the DataFrame. The train_data variable should contain the file path or the URL of the CSV file."
   ]
  },
  {
   "cell_type": "markdown",
   "id": "599aa4c6-fac7-4164-afc6-7e2ffea07eaa",
   "metadata": {},
   "source": [
    "# Dataset Overview"
   ]
  },
  {
   "cell_type": "code",
   "execution_count": 7,
   "id": "02aa8141-98a5-4b69-b836-2b01005d294d",
   "metadata": {
    "tags": []
   },
   "outputs": [
    {
     "name": "stdout",
     "output_type": "stream",
     "text": [
      "Schema overview\n",
      "root\n",
      " |-- PassengerId: integer (nullable = true)\n",
      " |-- Survived: integer (nullable = true)\n",
      " |-- Pclass: integer (nullable = true)\n",
      " |-- Name: string (nullable = true)\n",
      " |-- Sex: string (nullable = true)\n",
      " |-- Age: double (nullable = true)\n",
      " |-- SibSp: integer (nullable = true)\n",
      " |-- Parch: integer (nullable = true)\n",
      " |-- Ticket: string (nullable = true)\n",
      " |-- Fare: double (nullable = true)\n",
      " |-- Cabin: string (nullable = true)\n",
      " |-- Embarked: string (nullable = true)\n",
      "\n"
     ]
    }
   ],
   "source": [
    "print('Schema overview')\n",
    "df.printSchema()"
   ]
  },
  {
   "cell_type": "code",
   "execution_count": 8,
   "id": "6ccf9a41-6d04-4965-a1cc-03d1399e7773",
   "metadata": {
    "tags": []
   },
   "outputs": [
    {
     "name": "stdout",
     "output_type": "stream",
     "text": [
      "Columns overview\n"
     ]
    },
    {
     "data": {
      "text/html": [
       "<div>\n",
       "<style scoped>\n",
       "    .dataframe tbody tr th:only-of-type {\n",
       "        vertical-align: middle;\n",
       "    }\n",
       "\n",
       "    .dataframe tbody tr th {\n",
       "        vertical-align: top;\n",
       "    }\n",
       "\n",
       "    .dataframe thead th {\n",
       "        text-align: right;\n",
       "    }\n",
       "</style>\n",
       "<table border=\"1\" class=\"dataframe\">\n",
       "  <thead>\n",
       "    <tr style=\"text-align: right;\">\n",
       "      <th></th>\n",
       "      <th>Column Name</th>\n",
       "      <th>Data type</th>\n",
       "    </tr>\n",
       "  </thead>\n",
       "  <tbody>\n",
       "    <tr>\n",
       "      <th>0</th>\n",
       "      <td>PassengerId</td>\n",
       "      <td>int</td>\n",
       "    </tr>\n",
       "    <tr>\n",
       "      <th>1</th>\n",
       "      <td>Survived</td>\n",
       "      <td>int</td>\n",
       "    </tr>\n",
       "    <tr>\n",
       "      <th>2</th>\n",
       "      <td>Pclass</td>\n",
       "      <td>int</td>\n",
       "    </tr>\n",
       "    <tr>\n",
       "      <th>3</th>\n",
       "      <td>Name</td>\n",
       "      <td>string</td>\n",
       "    </tr>\n",
       "    <tr>\n",
       "      <th>4</th>\n",
       "      <td>Sex</td>\n",
       "      <td>string</td>\n",
       "    </tr>\n",
       "    <tr>\n",
       "      <th>5</th>\n",
       "      <td>Age</td>\n",
       "      <td>double</td>\n",
       "    </tr>\n",
       "    <tr>\n",
       "      <th>6</th>\n",
       "      <td>SibSp</td>\n",
       "      <td>int</td>\n",
       "    </tr>\n",
       "    <tr>\n",
       "      <th>7</th>\n",
       "      <td>Parch</td>\n",
       "      <td>int</td>\n",
       "    </tr>\n",
       "    <tr>\n",
       "      <th>8</th>\n",
       "      <td>Ticket</td>\n",
       "      <td>string</td>\n",
       "    </tr>\n",
       "    <tr>\n",
       "      <th>9</th>\n",
       "      <td>Fare</td>\n",
       "      <td>double</td>\n",
       "    </tr>\n",
       "    <tr>\n",
       "      <th>10</th>\n",
       "      <td>Cabin</td>\n",
       "      <td>string</td>\n",
       "    </tr>\n",
       "    <tr>\n",
       "      <th>11</th>\n",
       "      <td>Embarked</td>\n",
       "      <td>string</td>\n",
       "    </tr>\n",
       "  </tbody>\n",
       "</table>\n",
       "</div>"
      ],
      "text/plain": [
       "    Column Name Data type\n",
       "0   PassengerId       int\n",
       "1      Survived       int\n",
       "2        Pclass       int\n",
       "3          Name    string\n",
       "4           Sex    string\n",
       "5           Age    double\n",
       "6         SibSp       int\n",
       "7         Parch       int\n",
       "8        Ticket    string\n",
       "9          Fare    double\n",
       "10        Cabin    string\n",
       "11     Embarked    string"
      ]
     },
     "execution_count": 8,
     "metadata": {},
     "output_type": "execute_result"
    }
   ],
   "source": [
    "print('Columns overview')\n",
    "pd.DataFrame(df.dtypes, columns = ['Column Name','Data type'])"
   ]
  },
  {
   "cell_type": "markdown",
   "id": "ea2e4eeb-0c83-4a01-92b7-af2049a94430",
   "metadata": {},
   "source": [
    "# Converting Spark DataFrame to list of dictionaries"
   ]
  },
  {
   "cell_type": "code",
   "execution_count": 9,
   "id": "f7356e66-058d-4fe5-844a-fde40948c8a2",
   "metadata": {
    "tags": []
   },
   "outputs": [],
   "source": [
    "# Convert Spark DataFrame to list of dictionaries\n",
    "data_dict_list = []\n",
    "\n",
    "# Collect rows from Spark DataFrame and create dictionaries\n",
    "for row in df.collect():\n",
    "    row_dict = {}\n",
    "    for col in df.columns:\n",
    "        row_dict[col] = row[col]\n",
    "    data_dict_list.append(row_dict)"
   ]
  },
  {
   "cell_type": "code",
   "execution_count": 10,
   "id": "4ca46cde-5607-4c0b-b77c-f85d20485de9",
   "metadata": {
    "tags": []
   },
   "outputs": [
    {
     "name": "stdout",
     "output_type": "stream",
     "text": [
      "{'PassengerId': 1, 'Survived': 0, 'Pclass': 3, 'Name': 'Braund, Mr. Owen Harris', 'Sex': 'male', 'Age': 22.0, 'SibSp': 1, 'Parch': 0, 'Ticket': 'A/5 21171', 'Fare': 7.25, 'Cabin': None, 'Embarked': 'S'}\n",
      "{'PassengerId': 2, 'Survived': 1, 'Pclass': 1, 'Name': 'Cumings, Mrs. John Bradley (Florence Briggs Thayer)', 'Sex': 'female', 'Age': 38.0, 'SibSp': 1, 'Parch': 0, 'Ticket': 'PC 17599', 'Fare': 71.2833, 'Cabin': 'C85', 'Embarked': 'C'}\n"
     ]
    }
   ],
   "source": [
    "# Cheeck out the list of dictionaries (upto 2 elements)\n",
    "for row_dict in data_dict_list[:2]:\n",
    "    print(row_dict)"
   ]
  },
  {
   "cell_type": "code",
   "execution_count": 11,
   "id": "98d1106a-279e-4e24-b0c1-0c9dd12dad1d",
   "metadata": {
    "tags": []
   },
   "outputs": [
    {
     "data": {
      "text/plain": [
       "[{'PassengerId': 1,\n",
       "  'Survived': 0,\n",
       "  'Pclass': 3,\n",
       "  'Name': 'Braund, Mr. Owen Harris',\n",
       "  'Sex': 'male',\n",
       "  'Age': 22.0,\n",
       "  'SibSp': 1,\n",
       "  'Parch': 0,\n",
       "  'Ticket': 'A/5 21171',\n",
       "  'Fare': 7.25,\n",
       "  'Cabin': None,\n",
       "  'Embarked': 'S'},\n",
       " {'PassengerId': 2,\n",
       "  'Survived': 1,\n",
       "  'Pclass': 1,\n",
       "  'Name': 'Cumings, Mrs. John Bradley (Florence Briggs Thayer)',\n",
       "  'Sex': 'female',\n",
       "  'Age': 38.0,\n",
       "  'SibSp': 1,\n",
       "  'Parch': 0,\n",
       "  'Ticket': 'PC 17599',\n",
       "  'Fare': 71.2833,\n",
       "  'Cabin': 'C85',\n",
       "  'Embarked': 'C'}]"
      ]
     },
     "execution_count": 11,
     "metadata": {},
     "output_type": "execute_result"
    }
   ],
   "source": [
    "data_dict_list[:2]"
   ]
  },
  {
   "cell_type": "markdown",
   "id": "5f60262b-1da8-4a28-8ae3-e0a25a03d709",
   "metadata": {},
   "source": [
    "# Identifying null values per key"
   ]
  },
  {
   "cell_type": "code",
   "execution_count": 12,
   "id": "974a1014-aa5d-40f3-96fa-720f1e04c9f4",
   "metadata": {
    "tags": []
   },
   "outputs": [],
   "source": [
    "def count_null_values(list_dicts):\n",
    "\n",
    "    # Initialize null value count dictionary\n",
    "    null_value_count = {col: 0 for col in df.columns}\n",
    "\n",
    "    # Iterate over the list of dictionaries\n",
    "    for row_dict in data_dict_list:\n",
    "        # Iterate over the keys in each dictionary\n",
    "        for key, value in row_dict.items():\n",
    "            # Check for null values and update the null value count\n",
    "            if value is None:\n",
    "                null_value_count[key] += 1\n",
    "\n",
    "    # Display the null value count per key\n",
    "    for col, count in null_value_count.items():\n",
    "        print(f\"Key '{col}' has {count} null value(s)\")\n"
   ]
  },
  {
   "cell_type": "code",
   "execution_count": 13,
   "id": "616e46a3-f729-4603-b61b-9add8ea2dfbf",
   "metadata": {
    "tags": []
   },
   "outputs": [
    {
     "name": "stdout",
     "output_type": "stream",
     "text": [
      "Key 'PassengerId' has 0 null value(s)\n",
      "Key 'Survived' has 0 null value(s)\n",
      "Key 'Pclass' has 0 null value(s)\n",
      "Key 'Name' has 0 null value(s)\n",
      "Key 'Sex' has 0 null value(s)\n",
      "Key 'Age' has 177 null value(s)\n",
      "Key 'SibSp' has 0 null value(s)\n",
      "Key 'Parch' has 0 null value(s)\n",
      "Key 'Ticket' has 0 null value(s)\n",
      "Key 'Fare' has 0 null value(s)\n",
      "Key 'Cabin' has 687 null value(s)\n",
      "Key 'Embarked' has 2 null value(s)\n"
     ]
    }
   ],
   "source": [
    "count_null_values(list_dicts = data_dict_list)"
   ]
  },
  {
   "cell_type": "markdown",
   "id": "2686e52a-6d5f-4285-b0a7-c890a215c6d9",
   "metadata": {},
   "source": [
    "## Exercise 1: Write the code to fill the missing values of 'Cabin' with 'Unknown'."
   ]
  },
  {
   "cell_type": "code",
   "execution_count": 14,
   "id": "5bd06c39-2239-4746-a713-e1e3b007fb59",
   "metadata": {
    "tags": []
   },
   "outputs": [],
   "source": [
    "# Define the value to fill nulls\n",
    "fill_value = \"Unknown\"\n",
    "\n",
    "# Iterate over the list of dictionaries\n",
    "for row_dict in data_dict_list:\n",
    "    # Iterate over the keys in each dictionary\n",
    "    for key, value in row_dict.items():\n",
    "        # Check for null values and update the null value count\n",
    "        if key == 'Cabin' and value is None:\n",
    "            row_dict[key] = fill_value"
   ]
  },
  {
   "cell_type": "code",
   "execution_count": 15,
   "id": "a62805d0-4969-4077-936c-5edbaf40ba1e",
   "metadata": {
    "tags": []
   },
   "outputs": [
    {
     "name": "stdout",
     "output_type": "stream",
     "text": [
      "Key 'PassengerId' has 0 null value(s)\n",
      "Key 'Survived' has 0 null value(s)\n",
      "Key 'Pclass' has 0 null value(s)\n",
      "Key 'Name' has 0 null value(s)\n",
      "Key 'Sex' has 0 null value(s)\n",
      "Key 'Age' has 177 null value(s)\n",
      "Key 'SibSp' has 0 null value(s)\n",
      "Key 'Parch' has 0 null value(s)\n",
      "Key 'Ticket' has 0 null value(s)\n",
      "Key 'Fare' has 0 null value(s)\n",
      "Key 'Cabin' has 0 null value(s)\n",
      "Key 'Embarked' has 2 null value(s)\n"
     ]
    }
   ],
   "source": [
    "count_null_values(list_dicts = data_dict_list)"
   ]
  },
  {
   "cell_type": "markdown",
   "id": "6fba518e-f6dd-4ee9-aac7-ca8ce969e572",
   "metadata": {},
   "source": [
    "## Exercise 2: Write the code to identify the unique cabins and their corresponding counts. Then, sort the results in descending order based on the counts. Print the top 10 results."
   ]
  },
  {
   "cell_type": "code",
   "execution_count": 16,
   "id": "f07c041f-ae1b-4368-8ff0-966c88774766",
   "metadata": {
    "tags": []
   },
   "outputs": [
    {
     "name": "stdout",
     "output_type": "stream",
     "text": [
      "Unique cabins and their counts (sorted by count in descending order):\n",
      "Cabin: Unknown, Count: 687\n",
      "Cabin: G6, Count: 4\n",
      "Cabin: C23 C25 C27, Count: 4\n",
      "Cabin: B96 B98, Count: 4\n",
      "Cabin: F33, Count: 3\n",
      "Cabin: E101, Count: 3\n",
      "Cabin: F2, Count: 3\n",
      "Cabin: D, Count: 3\n",
      "Cabin: C22 C26, Count: 3\n",
      "Cabin: C123, Count: 2\n"
     ]
    }
   ],
   "source": [
    "# Initialize the dictionary for storing unique cabins and counts\n",
    "unique_cabins = {}\n",
    "\n",
    "# Iterate over the list of dictionaries\n",
    "for row_dict in data_dict_list:\n",
    "    # Iterate over the keys in each dictionary\n",
    "    for key, value in row_dict.items():\n",
    "        # Check if the key corresponds to 'Cabin' and the value is not null\n",
    "        if key == 'Cabin' and value is not None:\n",
    "            # Update the count for the unique cabin value\n",
    "            if value in unique_cabins:\n",
    "                unique_cabins[value] += 1\n",
    "            else:\n",
    "                unique_cabins[value] = 1\n",
    "\n",
    "\n",
    "# Sort the unique cabins and their counts based on counts in descending order\n",
    "sorted_cabins = sorted(unique_cabins.items(), key=lambda x: x[1], reverse=True)\n",
    "\n",
    "# Display the unique cabins along with their counts\n",
    "print(\"Unique cabins and their counts (sorted by count in descending order):\")\n",
    "for cabin, count in sorted_cabins[:10]:\n",
    "    print(f\"Cabin: {cabin}, Count: {count}\")"
   ]
  },
  {
   "cell_type": "markdown",
   "id": "f3ba7730-8c3f-4164-8d2b-5510d7508a28",
   "metadata": {},
   "source": [
    "## Plot the data distribution of 'Age' "
   ]
  },
  {
   "cell_type": "code",
   "execution_count": 17,
   "id": "b4b5046a-8fa4-4ec9-9633-539660166d6a",
   "metadata": {
    "tags": []
   },
   "outputs": [
    {
     "data": {
      "image/png": "[encoded data removed]",
      "text/plain": [
       "<Figure size 640x480 with 1 Axes>"
      ]
     },
     "metadata": {},
     "output_type": "display_data"
    }
   ],
   "source": [
    "import matplotlib.pyplot as plt\n",
    "\n",
    "# Create an empty list to store the ages\n",
    "ages = []\n",
    "\n",
    "# Iterate over the list of dictionaries\n",
    "for element in data_dict_list:\n",
    "    for key, value in element.items():\n",
    "        # Get the value of the \"Age\" key\n",
    "        if key == \"Age\" and value is not None:\n",
    "            age = value\n",
    "    # Append the age to the list\n",
    "    ages.append(age)\n",
    "\n",
    "# Plot the data distribution\n",
    "plt.hist(ages, bins=10)\n",
    "plt.xlabel(\"Age\")\n",
    "plt.ylabel(\"Frequency\")\n",
    "plt.title(\"Data Distribution for Age\")\n",
    "plt.show()"
   ]
  },
  {
   "cell_type": "markdown",
   "id": "f0523023-fca8-4bfa-89d4-08ad1f05513e",
   "metadata": {},
   "source": [
    "Since the distribution is slightly right-skewed, using the median as a measure of central tendency can be a suitable option. \n",
    "\n",
    "## Exercise 3: Replace the missing values of 'Age' with the median 'Age' of the dataset."
   ]
  },
  {
   "cell_type": "code",
   "execution_count": 18,
   "id": "27dd2f55-8346-4550-b513-6b29008fc161",
   "metadata": {
    "tags": []
   },
   "outputs": [],
   "source": [
    "# Create an empty list to store the ages\n",
    "ages = []\n",
    "\n",
    "# Iterate over the list of dictionaries\n",
    "for element in data_dict_list:\n",
    "    for key, value in element.items():\n",
    "        # Get the value of the \"Age\" key\n",
    "        if key == \"Age\" and value is not None:\n",
    "            age = value\n",
    "    # Append the age to the list\n",
    "    ages.append(age)"
   ]
  },
  {
   "cell_type": "code",
   "execution_count": 19,
   "id": "d75e20b2-bd58-426b-b368-1472839dd0de",
   "metadata": {
    "tags": []
   },
   "outputs": [
    {
     "name": "stdout",
     "output_type": "stream",
     "text": [
      "Median Age: 28.0\n"
     ]
    }
   ],
   "source": [
    "median_age = None\n",
    "\n",
    "# Sort the ages in ascending order\n",
    "ages.sort()\n",
    "\n",
    "# Calculate the median\n",
    "n = len(ages)\n",
    "if n % 2 == 1:  # odd length\n",
    "    median_age = ages[n // 2]\n",
    "else:    # even length\n",
    "    median_age = (ages[n // 2 - 1] + ages[n // 2]) / 2\n",
    "\n",
    "# Display the median\n",
    "print(\"Median Age:\", median_age)"
   ]
  },
  {
   "cell_type": "code",
   "execution_count": 20,
   "id": "ed90270c-9278-4282-a9e9-372072053c82",
   "metadata": {
    "tags": []
   },
   "outputs": [],
   "source": [
    "# Define the value to fill nulls\n",
    "fill_value = median_age\n",
    "\n",
    "\n",
    "# Iterate over the list of dictionaries\n",
    "for row_dict in data_dict_list:\n",
    "    # Iterate over the keys in each dictionary\n",
    "    for key, value in row_dict.items():\n",
    "        # Check for null values and update the null value count\n",
    "        if key == 'Age' and value is None:\n",
    "            row_dict[key] = fill_value\n",
    "           "
   ]
  },
  {
   "cell_type": "code",
   "execution_count": 21,
   "id": "f87a9299-6621-4f91-8b4b-b5b846ec94ba",
   "metadata": {
    "tags": []
   },
   "outputs": [
    {
     "name": "stdout",
     "output_type": "stream",
     "text": [
      "Key 'PassengerId' has 0 null value(s)\n",
      "Key 'Survived' has 0 null value(s)\n",
      "Key 'Pclass' has 0 null value(s)\n",
      "Key 'Name' has 0 null value(s)\n",
      "Key 'Sex' has 0 null value(s)\n",
      "Key 'Age' has 0 null value(s)\n",
      "Key 'SibSp' has 0 null value(s)\n",
      "Key 'Parch' has 0 null value(s)\n",
      "Key 'Ticket' has 0 null value(s)\n",
      "Key 'Fare' has 0 null value(s)\n",
      "Key 'Cabin' has 0 null value(s)\n",
      "Key 'Embarked' has 2 null value(s)\n"
     ]
    }
   ],
   "source": [
    "count_null_values(list_dicts = data_dict_list)"
   ]
  },
  {
   "cell_type": "markdown",
   "id": "2abc0ad5-1a39-47a9-930e-3ec1c10b8391",
   "metadata": {},
   "source": [
    "## Exercise 4: Write the code to identify the unique values of 'Embarked' and their corresponding counts. Then, sort the results in descending order based on the counts. "
   ]
  },
  {
   "cell_type": "code",
   "execution_count": 31,
   "id": "25465f73-d20f-4a91-a77d-363ef4d1a9d5",
   "metadata": {
    "tags": []
   },
   "outputs": [
    {
     "name": "stdout",
     "output_type": "stream",
     "text": [
      "Unique embarks and their counts (sorted by count in descending order):\n",
      "Embark: S, Count: 644\n",
      "Embark: C, Count: 168\n",
      "Embark: Q, Count: 77\n",
      "Embark: None, Count: 2\n"
     ]
    }
   ],
   "source": [
    "# Initialize the dictionary for storing unique embarks and counts\n",
    "unique_embarks = {}\n",
    "\n",
    "# Iterate over the list of dictionaries\n",
    "for row_dict in data_dict_list:\n",
    "    # Iterate over the keys in each dictionary\n",
    "    for key, value in row_dict.items():\n",
    "        # Check if the key corresponds to 'Embarked' and the value is not null\n",
    "        if key == 'Embarked':\n",
    "            # Update the count for the unique Embarked value\n",
    "            if value in unique_embarks:\n",
    "                unique_embarks[value] += 1\n",
    "            else:\n",
    "                unique_embarks[value] = 1\n",
    "\n",
    "\n",
    "# Sort the unique embarks and their counts based on counts in descending order\n",
    "sorted_embarks = sorted(unique_embarks.items(), key=lambda x: x[1], reverse=True)\n",
    "\n",
    "# Display the unique embarks along with their counts\n",
    "print(\"Unique embarks and their counts (sorted by count in descending order):\")\n",
    "for embark, count in sorted_embarks:\n",
    "    print(f\"Embark: {embark}, Count: {count}\")"
   ]
  },
  {
   "cell_type": "markdown",
   "id": "a35297c7-604a-4d4b-82f4-b4a6e2520542",
   "metadata": {},
   "source": [
    "## Exercise 5: Write the code to remove from the `data_dict_list` where 'Embarked' is None. "
   ]
  },
  {
   "cell_type": "code",
   "execution_count": 36,
   "id": "382fe742-5ebf-4151-8cf5-a7bf2aa25f22",
   "metadata": {
    "tags": []
   },
   "outputs": [],
   "source": [
    "for i in range(len(data_dict_list)):\n",
    "    if data_dict_list[i].get('Embarked') is None:\n",
    "            data_dict_list.pop(i)"
   ]
  },
  {
   "cell_type": "code",
   "execution_count": 37,
   "id": "f9d6d007-f07f-4ed5-9976-cfa32b8d643b",
   "metadata": {
    "tags": []
   },
   "outputs": [
    {
     "name": "stdout",
     "output_type": "stream",
     "text": [
      "Key 'PassengerId' has 0 null value(s)\n",
      "Key 'Survived' has 0 null value(s)\n",
      "Key 'Pclass' has 0 null value(s)\n",
      "Key 'Name' has 0 null value(s)\n",
      "Key 'Sex' has 0 null value(s)\n",
      "Key 'Age' has 0 null value(s)\n",
      "Key 'SibSp' has 0 null value(s)\n",
      "Key 'Parch' has 0 null value(s)\n",
      "Key 'Ticket' has 0 null value(s)\n",
      "Key 'Fare' has 0 null value(s)\n",
      "Key 'Cabin' has 0 null value(s)\n",
      "Key 'Embarked' has 0 null value(s)\n"
     ]
    }
   ],
   "source": [
    "count_null_values(list_dicts = data_dict_list)"
   ]
  },
  {
   "cell_type": "code",
   "execution_count": null,
   "id": "082a63d6-21d7-4a2c-984d-2ce8367f5445",
   "metadata": {},
   "outputs": [],
   "source": []
  }
 ],
 "metadata": {
  "kernelspec": {
   "display_name": "PyCamber",
   "language": "python",
   "name": "python3"
  },
  "language_info": {
   "codemirror_mode": {
    "name": "ipython",
    "version": 3
   },
   "file_extension": ".py",
   "mimetype": "text/x-python",
   "name": "python",
   "nbconvert_exporter": "python",
   "pygments_lexer": "ipython3",
   "version": "3.10.10"
  },
  "toc-showcode": false,
  "toc-showmarkdowntxt": false
 },
 "nbformat": 4,
 "nbformat_minor": 5
}
