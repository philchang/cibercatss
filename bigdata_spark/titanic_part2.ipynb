{
 "cells": [
  {
   "cell_type": "code",
   "execution_count": 1,
   "id": "aa8137f1-bead-44b8-8601-641bd7c53fd4",
   "metadata": {
    "tags": []
   },
   "outputs": [],
   "source": [
    "import camber"
   ]
  },
  {
   "cell_type": "code",
   "execution_count": 2,
   "id": "9ea6e06b-b437-43c9-a4a9-80c020b101e2",
   "metadata": {},
   "outputs": [
    {
     "data": {
      "application/vnd.jupyter.widget-view+json": {
       "model_id": "05e72d9d197849c29c369df71ee49f36",
       "version_major": 2,
       "version_minor": 0
      },
      "text/plain": [
       "Output()"
      ]
     },
     "metadata": {},
     "output_type": "display_data"
    }
   ],
   "source": [
    "spark = camber.spark.connect(worker_size=\"XSMALL\")"
   ]
  },
  {
   "cell_type": "markdown",
   "id": "28c98241-adb7-4518-b1b2-6bdb3dcce257",
   "metadata": {},
   "source": [
    "# Necessary Imports"
   ]
  },
  {
   "cell_type": "code",
   "execution_count": 3,
   "id": "73728ce8-d514-475c-a770-17b8271e895b",
   "metadata": {
    "tags": []
   },
   "outputs": [],
   "source": [
    "import pyspark\n",
    "\n",
    "import pandas as pd \n",
    "import numpy as np\n",
    "\n",
    "import seaborn as sns\n",
    "import matplotlib as mpl\n",
    "from matplotlib import pyplot as plt"
   ]
  },
  {
   "cell_type": "markdown",
   "id": "581905b6-3c69-4d74-8cd9-1587fdcda72e",
   "metadata": {},
   "source": [
    "# Load the dataset"
   ]
  },
  {
   "cell_type": "code",
   "execution_count": 4,
   "id": "ca554a68-c78b-461d-a737-d77c9c00290b",
   "metadata": {
    "tags": []
   },
   "outputs": [],
   "source": [
    "DATA_PATH = \"s3a://camber-spark-bkt/ciber-catts/shared-data/titanic\""
   ]
  },
  {
   "cell_type": "code",
   "execution_count": 5,
   "id": "08551f4b-7865-47cc-a81f-8750d7b7e191",
   "metadata": {
    "tags": []
   },
   "outputs": [],
   "source": [
    "train_data = f\"{DATA_PATH}/train.csv\"\n",
    "test_data = f\"{DATA_PATH}/test.csv\""
   ]
  },
  {
   "cell_type": "code",
   "execution_count": 6,
   "id": "07fbb458-3efb-40e0-a72d-9cd0ef406d68",
   "metadata": {
    "tags": []
   },
   "outputs": [],
   "source": [
    "df = spark.read.format(\"csv\").option(\"inferSchema\", \"true\").option(\"header\", \"true\") \\\n",
    "  .option(\"sep\", \",\") \\\n",
    "  .load(train_data)"
   ]
  },
  {
   "cell_type": "code",
   "execution_count": null,
   "id": "57777dde-d7d5-4707-90b7-28bc84ef5e1a",
   "metadata": {
    "tags": []
   },
   "outputs": [],
   "source": []
  },
  {
   "cell_type": "markdown",
   "id": "4c80b65c-f8e5-46fd-8b16-3fac0aa4e4b7",
   "metadata": {},
   "source": [
    "NOTE:\n",
    "\n",
    "\n",
    "`df = spark.read.format(\"csv\")`: This line initiates the process of reading a CSV file into a DataFrame. The spark.read method is used to create a DataFrameReader, which provides various methods for reading data from different formats. In this case, we specify the format as \"csv\" to read a CSV file.\n",
    "\n",
    "`.option(\"inferSchema\", \"true\")`: This line sets the option for inferring the schema of the DataFrame from the CSV file. When set to \"true\", Spark will automatically infer the data types of the columns based on the contents of the CSV file.\n",
    "\n",
    "`.option(\"header\", \"true\")`: This line sets the option to treat the first row of the CSV file as the header. By setting this option to \"true\", Spark will use the first row to determine the column names of the DataFrame.\n",
    "\n",
    "`.option(\"sep\", \",\")`: This line sets the option for the separator used in the CSV file. Here, the separator is set to a comma (\",\") to indicate that the CSV file is comma-separated.\n",
    "\n",
    "`.load(train_data)`: This line specifies the path of the CSV file to be loaded into the DataFrame. The train_data variable should contain the file path or the URL of the CSV file."
   ]
  },
  {
   "cell_type": "markdown",
   "id": "599aa4c6-fac7-4164-afc6-7e2ffea07eaa",
   "metadata": {},
   "source": [
    "# Dataset Overview"
   ]
  },
  {
   "cell_type": "code",
   "execution_count": 7,
   "id": "02aa8141-98a5-4b69-b836-2b01005d294d",
   "metadata": {
    "tags": []
   },
   "outputs": [
    {
     "name": "stdout",
     "output_type": "stream",
     "text": [
      "Schema overview\n",
      "root\n",
      " |-- PassengerId: integer (nullable = true)\n",
      " |-- Survived: integer (nullable = true)\n",
      " |-- Pclass: integer (nullable = true)\n",
      " |-- Name: string (nullable = true)\n",
      " |-- Sex: string (nullable = true)\n",
      " |-- Age: double (nullable = true)\n",
      " |-- SibSp: integer (nullable = true)\n",
      " |-- Parch: integer (nullable = true)\n",
      " |-- Ticket: string (nullable = true)\n",
      " |-- Fare: double (nullable = true)\n",
      " |-- Cabin: string (nullable = true)\n",
      " |-- Embarked: string (nullable = true)\n",
      "\n"
     ]
    }
   ],
   "source": [
    "print('Schema overview')\n",
    "df.printSchema()"
   ]
  },
  {
   "cell_type": "code",
   "execution_count": 8,
   "id": "6ccf9a41-6d04-4965-a1cc-03d1399e7773",
   "metadata": {
    "tags": []
   },
   "outputs": [
    {
     "name": "stdout",
     "output_type": "stream",
     "text": [
      "Columns overview\n"
     ]
    },
    {
     "data": {
      "text/html": [
       "<div>\n",
       "<style scoped>\n",
       "    .dataframe tbody tr th:only-of-type {\n",
       "        vertical-align: middle;\n",
       "    }\n",
       "\n",
       "    .dataframe tbody tr th {\n",
       "        vertical-align: top;\n",
       "    }\n",
       "\n",
       "    .dataframe thead th {\n",
       "        text-align: right;\n",
       "    }\n",
       "</style>\n",
       "<table border=\"1\" class=\"dataframe\">\n",
       "  <thead>\n",
       "    <tr style=\"text-align: right;\">\n",
       "      <th></th>\n",
       "      <th>Column Name</th>\n",
       "      <th>Data type</th>\n",
       "    </tr>\n",
       "  </thead>\n",
       "  <tbody>\n",
       "    <tr>\n",
       "      <th>0</th>\n",
       "      <td>PassengerId</td>\n",
       "      <td>int</td>\n",
       "    </tr>\n",
       "    <tr>\n",
       "      <th>1</th>\n",
       "      <td>Survived</td>\n",
       "      <td>int</td>\n",
       "    </tr>\n",
       "    <tr>\n",
       "      <th>2</th>\n",
       "      <td>Pclass</td>\n",
       "      <td>int</td>\n",
       "    </tr>\n",
       "    <tr>\n",
       "      <th>3</th>\n",
       "      <td>Name</td>\n",
       "      <td>string</td>\n",
       "    </tr>\n",
       "    <tr>\n",
       "      <th>4</th>\n",
       "      <td>Sex</td>\n",
       "      <td>string</td>\n",
       "    </tr>\n",
       "    <tr>\n",
       "      <th>5</th>\n",
       "      <td>Age</td>\n",
       "      <td>double</td>\n",
       "    </tr>\n",
       "    <tr>\n",
       "      <th>6</th>\n",
       "      <td>SibSp</td>\n",
       "      <td>int</td>\n",
       "    </tr>\n",
       "    <tr>\n",
       "      <th>7</th>\n",
       "      <td>Parch</td>\n",
       "      <td>int</td>\n",
       "    </tr>\n",
       "    <tr>\n",
       "      <th>8</th>\n",
       "      <td>Ticket</td>\n",
       "      <td>string</td>\n",
       "    </tr>\n",
       "    <tr>\n",
       "      <th>9</th>\n",
       "      <td>Fare</td>\n",
       "      <td>double</td>\n",
       "    </tr>\n",
       "    <tr>\n",
       "      <th>10</th>\n",
       "      <td>Cabin</td>\n",
       "      <td>string</td>\n",
       "    </tr>\n",
       "    <tr>\n",
       "      <th>11</th>\n",
       "      <td>Embarked</td>\n",
       "      <td>string</td>\n",
       "    </tr>\n",
       "  </tbody>\n",
       "</table>\n",
       "</div>"
      ],
      "text/plain": [
       "    Column Name Data type\n",
       "0   PassengerId       int\n",
       "1      Survived       int\n",
       "2        Pclass       int\n",
       "3          Name    string\n",
       "4           Sex    string\n",
       "5           Age    double\n",
       "6         SibSp       int\n",
       "7         Parch       int\n",
       "8        Ticket    string\n",
       "9          Fare    double\n",
       "10        Cabin    string\n",
       "11     Embarked    string"
      ]
     },
     "execution_count": 8,
     "metadata": {},
     "output_type": "execute_result"
    }
   ],
   "source": [
    "print('Columns overview')\n",
    "pd.DataFrame(df.dtypes, columns = ['Column Name','Data type'])"
   ]
  },
  {
   "cell_type": "markdown",
   "id": "ea2e4eeb-0c83-4a01-92b7-af2049a94430",
   "metadata": {},
   "source": [
    "# Converting Spark DataFrame to list of dictionaries"
   ]
  },
  {
   "cell_type": "code",
   "execution_count": 9,
   "id": "f7356e66-058d-4fe5-844a-fde40948c8a2",
   "metadata": {
    "tags": []
   },
   "outputs": [],
   "source": [
    "# Convert Spark DataFrame to list of dictionaries\n",
    "data_dict_list = []\n",
    "\n",
    "# Collect rows from Spark DataFrame and create dictionaries\n",
    "for row in df.collect():\n",
    "    row_dict = {}\n",
    "    for col in df.columns:\n",
    "        row_dict[col] = row[col]\n",
    "    data_dict_list.append(row_dict)"
   ]
  },
  {
   "cell_type": "code",
   "execution_count": 10,
   "id": "4ca46cde-5607-4c0b-b77c-f85d20485de9",
   "metadata": {
    "tags": []
   },
   "outputs": [
    {
     "name": "stdout",
     "output_type": "stream",
     "text": [
      "{'PassengerId': 1, 'Survived': 0, 'Pclass': 3, 'Name': 'Braund, Mr. Owen Harris', 'Sex': 'male', 'Age': 22.0, 'SibSp': 1, 'Parch': 0, 'Ticket': 'A/5 21171', 'Fare': 7.25, 'Cabin': None, 'Embarked': 'S'}\n",
      "{'PassengerId': 2, 'Survived': 1, 'Pclass': 1, 'Name': 'Cumings, Mrs. John Bradley (Florence Briggs Thayer)', 'Sex': 'female', 'Age': 38.0, 'SibSp': 1, 'Parch': 0, 'Ticket': 'PC 17599', 'Fare': 71.2833, 'Cabin': 'C85', 'Embarked': 'C'}\n"
     ]
    }
   ],
   "source": [
    "# Cheeck out the list of dictionaries (upto 2 elements)\n",
    "for row_dict in data_dict_list[:2]:\n",
    "    print(row_dict)"
   ]
  },
  {
   "cell_type": "code",
   "execution_count": 11,
   "id": "98d1106a-279e-4e24-b0c1-0c9dd12dad1d",
   "metadata": {
    "tags": []
   },
   "outputs": [
    {
     "data": {
      "text/plain": [
       "[{'PassengerId': 1,\n",
       "  'Survived': 0,\n",
       "  'Pclass': 3,\n",
       "  'Name': 'Braund, Mr. Owen Harris',\n",
       "  'Sex': 'male',\n",
       "  'Age': 22.0,\n",
       "  'SibSp': 1,\n",
       "  'Parch': 0,\n",
       "  'Ticket': 'A/5 21171',\n",
       "  'Fare': 7.25,\n",
       "  'Cabin': None,\n",
       "  'Embarked': 'S'},\n",
       " {'PassengerId': 2,\n",
       "  'Survived': 1,\n",
       "  'Pclass': 1,\n",
       "  'Name': 'Cumings, Mrs. John Bradley (Florence Briggs Thayer)',\n",
       "  'Sex': 'female',\n",
       "  'Age': 38.0,\n",
       "  'SibSp': 1,\n",
       "  'Parch': 0,\n",
       "  'Ticket': 'PC 17599',\n",
       "  'Fare': 71.2833,\n",
       "  'Cabin': 'C85',\n",
       "  'Embarked': 'C'}]"
      ]
     },
     "execution_count": 11,
     "metadata": {},
     "output_type": "execute_result"
    }
   ],
   "source": [
    "data_dict_list[:2]"
   ]
  },
  {
   "cell_type": "markdown",
   "id": "5f60262b-1da8-4a28-8ae3-e0a25a03d709",
   "metadata": {},
   "source": [
    "# Identifying null values per key"
   ]
  },
  {
   "cell_type": "code",
   "execution_count": 12,
   "id": "974a1014-aa5d-40f3-96fa-720f1e04c9f4",
   "metadata": {
    "tags": []
   },
   "outputs": [],
   "source": [
    "def count_null_values(list_dicts):\n",
    "\n",
    "    # Initialize null value count dictionary\n",
    "    null_value_count = {col: 0 for col in df.columns}\n",
    "\n",
    "    # Iterate over the list of dictionaries\n",
    "    for row_dict in data_dict_list:\n",
    "        # Iterate over the keys in each dictionary\n",
    "        for key, value in row_dict.items():\n",
    "            # Check for null values and update the null value count\n",
    "            if value is None:\n",
    "                null_value_count[key] += 1\n",
    "\n",
    "    # Display the null value count per key\n",
    "    for col, count in null_value_count.items():\n",
    "        print(f\"Key '{col}' has {count} null value(s)\")\n"
   ]
  },
  {
   "cell_type": "code",
   "execution_count": 13,
   "id": "616e46a3-f729-4603-b61b-9add8ea2dfbf",
   "metadata": {
    "tags": []
   },
   "outputs": [
    {
     "name": "stdout",
     "output_type": "stream",
     "text": [
      "Key 'PassengerId' has 0 null value(s)\n",
      "Key 'Survived' has 0 null value(s)\n",
      "Key 'Pclass' has 0 null value(s)\n",
      "Key 'Name' has 0 null value(s)\n",
      "Key 'Sex' has 0 null value(s)\n",
      "Key 'Age' has 177 null value(s)\n",
      "Key 'SibSp' has 0 null value(s)\n",
      "Key 'Parch' has 0 null value(s)\n",
      "Key 'Ticket' has 0 null value(s)\n",
      "Key 'Fare' has 0 null value(s)\n",
      "Key 'Cabin' has 687 null value(s)\n",
      "Key 'Embarked' has 2 null value(s)\n"
     ]
    }
   ],
   "source": [
    "count_null_values(list_dicts = data_dict_list)"
   ]
  },
  {
   "cell_type": "markdown",
   "id": "2686e52a-6d5f-4285-b0a7-c890a215c6d9",
   "metadata": {},
   "source": [
    "## Exercise 1: Write the code to fill the missing values of 'Cabin' with 'Unknown'."
   ]
  },
  {
   "cell_type": "code",
   "execution_count": 14,
   "id": "5bd06c39-2239-4746-a713-e1e3b007fb59",
   "metadata": {
    "tags": []
   },
   "outputs": [],
   "source": [
    "# Define the value to fill nulls\n",
    "fill_value = \"Unknown\"\n",
    "\n",
    "# Iterate over the list of dictionaries\n",
    "for row_dict in data_dict_list:\n",
    "    # Iterate over the keys in each dictionary\n",
    "    for key, value in row_dict.items():\n",
    "        # Check for null values and update the null value count\n",
    "        if key == 'Cabin' and value is None:\n",
    "            row_dict[key] = fill_value"
   ]
  },
  {
   "cell_type": "code",
   "execution_count": 15,
   "id": "a62805d0-4969-4077-936c-5edbaf40ba1e",
   "metadata": {
    "tags": []
   },
   "outputs": [
    {
     "name": "stdout",
     "output_type": "stream",
     "text": [
      "Key 'PassengerId' has 0 null value(s)\n",
      "Key 'Survived' has 0 null value(s)\n",
      "Key 'Pclass' has 0 null value(s)\n",
      "Key 'Name' has 0 null value(s)\n",
      "Key 'Sex' has 0 null value(s)\n",
      "Key 'Age' has 177 null value(s)\n",
      "Key 'SibSp' has 0 null value(s)\n",
      "Key 'Parch' has 0 null value(s)\n",
      "Key 'Ticket' has 0 null value(s)\n",
      "Key 'Fare' has 0 null value(s)\n",
      "Key 'Cabin' has 0 null value(s)\n",
      "Key 'Embarked' has 2 null value(s)\n"
     ]
    }
   ],
   "source": [
    "count_null_values(list_dicts = data_dict_list)"
   ]
  },
  {
   "cell_type": "markdown",
   "id": "6fba518e-f6dd-4ee9-aac7-ca8ce969e572",
   "metadata": {},
   "source": [
    "## Exercise 2: Write the code to identify the unique cabins and their corresponding counts. Then, sort the results in descending order based on the counts. Print the top 10 results."
   ]
  },
  {
   "cell_type": "code",
   "execution_count": 16,
   "id": "f07c041f-ae1b-4368-8ff0-966c88774766",
   "metadata": {
    "tags": []
   },
   "outputs": [
    {
     "name": "stdout",
     "output_type": "stream",
     "text": [
      "Unique cabins and their counts (sorted by count in descending order):\n",
      "Cabin: Unknown, Count: 687\n",
      "Cabin: G6, Count: 4\n",
      "Cabin: C23 C25 C27, Count: 4\n",
      "Cabin: B96 B98, Count: 4\n",
      "Cabin: F33, Count: 3\n",
      "Cabin: E101, Count: 3\n",
      "Cabin: F2, Count: 3\n",
      "Cabin: D, Count: 3\n",
      "Cabin: C22 C26, Count: 3\n",
      "Cabin: C123, Count: 2\n"
     ]
    }
   ],
   "source": [
    "# Initialize the dictionary for storing unique cabins and counts\n",
    "unique_cabins = {}\n",
    "\n",
    "# Iterate over the list of dictionaries\n",
    "for row_dict in data_dict_list:\n",
    "    # Iterate over the keys in each dictionary\n",
    "    for key, value in row_dict.items():\n",
    "        # Check if the key corresponds to 'Cabin' and the value is not null\n",
    "        if key == 'Cabin' and value is not None:\n",
    "            # Update the count for the unique cabin value\n",
    "            if value in unique_cabins:\n",
    "                unique_cabins[value] += 1\n",
    "            else:\n",
    "                unique_cabins[value] = 1\n",
    "\n",
    "\n",
    "# Sort the unique cabins and their counts based on counts in descending order\n",
    "sorted_cabins = sorted(unique_cabins.items(), key=lambda x: x[1], reverse=True)\n",
    "\n",
    "# Display the unique cabins along with their counts\n",
    "print(\"Unique cabins and their counts (sorted by count in descending order):\")\n",
    "for cabin, count in sorted_cabins[:10]:\n",
    "    print(f\"Cabin: {cabin}, Count: {count}\")"
   ]
  },
  {
   "cell_type": "markdown",
   "id": "f3ba7730-8c3f-4164-8d2b-5510d7508a28",
   "metadata": {},
   "source": [
    "## Plot the data distribution of 'Age' "
   ]
  },
  {
   "cell_type": "code",
   "execution_count": 17,
   "id": "b4b5046a-8fa4-4ec9-9633-539660166d6a",
   "metadata": {
    "tags": []
   },
   "outputs": [
    {
     "data": {
      "image/png": "[encoded data removed]",
      "text/plain": [
       "<Figure size 640x480 with 1 Axes>"
      ]
     },
     "metadata": {},
     "output_type": "display_data"
    }
   ],
   "source": [
    "import matplotlib.pyplot as plt\n",
    "\n",
    "# Create an empty list to store the ages\n",
    "ages = []\n",
    "\n",
    "# Iterate over the list of dictionaries\n",
    "for element in data_dict_list:\n",
    "    for key, value in element.items():\n",
    "        # Get the value of the \"Age\" key\n",
    "        if key == \"Age\" and value is not None:\n",
    "            age = value\n",
    "    # Append the age to the list\n",
    "    ages.append(age)\n",
    "\n",
    "# Plot the data distribution\n",
    "plt.hist(ages, bins=10)\n",
    "plt.xlabel(\"Age\")\n",
    "plt.ylabel(\"Frequency\")\n",
    "plt.title(\"Data Distribution for Age\")\n",
    "plt.show()"
   ]
  },
  {
   "cell_type": "markdown",
   "id": "f0523023-fca8-4bfa-89d4-08ad1f05513e",
   "metadata": {},
   "source": [
    "Since the distribution is slightly right-skewed, using the median as a measure of central tendency can be a suitable option. \n",
    "\n",
    "## Exercise 3: Replace the missing values of 'Age' with the median 'Age' of the dataset."
   ]
  },
  {
   "cell_type": "code",
   "execution_count": 18,
   "id": "27dd2f55-8346-4550-b513-6b29008fc161",
   "metadata": {
    "tags": []
   },
   "outputs": [],
   "source": [
    "# Create an empty list to store the ages\n",
    "ages = []\n",
    "\n",
    "# Iterate over the list of dictionaries\n",
    "for element in data_dict_list:\n",
    "    for key, value in element.items():\n",
    "        # Get the value of the \"Age\" key\n",
    "        if key == \"Age\" and value is not None:\n",
    "            age = value\n",
    "    # Append the age to the list\n",
    "    ages.append(age)"
   ]
  },
  {
   "cell_type": "code",
   "execution_count": 19,
   "id": "d75e20b2-bd58-426b-b368-1472839dd0de",
   "metadata": {
    "tags": []
   },
   "outputs": [
    {
     "name": "stdout",
     "output_type": "stream",
     "text": [
      "Median Age: 28.0\n"
     ]
    }
   ],
   "source": [
    "median_age = None\n",
    "\n",
    "# Sort the ages in ascending order\n",
    "ages.sort()\n",
    "\n",
    "# Calculate the median\n",
    "n = len(ages)\n",
    "if n % 2 == 1:  # odd length\n",
    "    median_age = ages[n // 2]\n",
    "else:    # even length\n",
    "    median_age = (ages[n // 2 - 1] + ages[n // 2]) / 2\n",
    "\n",
    "# Display the median\n",
    "print(\"Median Age:\", median_age)"
   ]
  },
  {
   "cell_type": "code",
   "execution_count": 20,
   "id": "ed90270c-9278-4282-a9e9-372072053c82",
   "metadata": {
    "tags": []
   },
   "outputs": [],
   "source": [
    "# Define the value to fill nulls\n",
    "fill_value = median_age\n",
    "\n",
    "\n",
    "# Iterate over the list of dictionaries\n",
    "for row_dict in data_dict_list:\n",
    "    # Iterate over the keys in each dictionary\n",
    "    for key, value in row_dict.items():\n",
    "        # Check for null values and update the null value count\n",
    "        if key == 'Age' and value is None:\n",
    "            row_dict[key] = fill_value\n",
    "           "
   ]
  },
  {
   "cell_type": "code",
   "execution_count": 21,
   "id": "f87a9299-6621-4f91-8b4b-b5b846ec94ba",
   "metadata": {
    "tags": []
   },
   "outputs": [
    {
     "name": "stdout",
     "output_type": "stream",
     "text": [
      "Key 'PassengerId' has 0 null value(s)\n",
      "Key 'Survived' has 0 null value(s)\n",
      "Key 'Pclass' has 0 null value(s)\n",
      "Key 'Name' has 0 null value(s)\n",
      "Key 'Sex' has 0 null value(s)\n",
      "Key 'Age' has 0 null value(s)\n",
      "Key 'SibSp' has 0 null value(s)\n",
      "Key 'Parch' has 0 null value(s)\n",
      "Key 'Ticket' has 0 null value(s)\n",
      "Key 'Fare' has 0 null value(s)\n",
      "Key 'Cabin' has 0 null value(s)\n",
      "Key 'Embarked' has 2 null value(s)\n"
     ]
    }
   ],
   "source": [
    "count_null_values(list_dicts = data_dict_list)"
   ]
  },
  {
   "cell_type": "markdown",
   "id": "2abc0ad5-1a39-47a9-930e-3ec1c10b8391",
   "metadata": {},
   "source": [
    "## Exercise 4: Write the code to identify the unique values of 'Embarked' and their corresponding counts. Then, sort the results in descending order based on the counts. "
   ]
  },
  {
   "cell_type": "code",
   "execution_count": 22,
   "id": "25465f73-d20f-4a91-a77d-363ef4d1a9d5",
   "metadata": {
    "tags": []
   },
   "outputs": [
    {
     "name": "stdout",
     "output_type": "stream",
     "text": [
      "Unique embarks and their counts (sorted by count in descending order):\n",
      "Embark: S, Count: 644\n",
      "Embark: C, Count: 168\n",
      "Embark: Q, Count: 77\n",
      "Embark: None, Count: 2\n"
     ]
    }
   ],
   "source": [
    "# Initialize the dictionary for storing unique embarks and counts\n",
    "unique_embarks = {}\n",
    "\n",
    "# Iterate over the list of dictionaries\n",
    "for row_dict in data_dict_list:\n",
    "    # Iterate over the keys in each dictionary\n",
    "    for key, value in row_dict.items():\n",
    "        # Check if the key corresponds to 'Embarked' and the value is not null\n",
    "        if key == 'Embarked':\n",
    "            # Update the count for the unique Embarked value\n",
    "            if value in unique_embarks:\n",
    "                unique_embarks[value] += 1\n",
    "            else:\n",
    "                unique_embarks[value] = 1\n",
    "\n",
    "\n",
    "# Sort the unique embarks and their counts based on counts in descending order\n",
    "sorted_embarks = sorted(unique_embarks.items(), key=lambda x: x[1], reverse=True)\n",
    "\n",
    "# Display the unique embarks along with their counts\n",
    "print(\"Unique embarks and their counts (sorted by count in descending order):\")\n",
    "for embark, count in sorted_embarks:\n",
    "    print(f\"Embark: {embark}, Count: {count}\")"
   ]
  },
  {
   "cell_type": "markdown",
   "id": "a35297c7-604a-4d4b-82f4-b4a6e2520542",
   "metadata": {},
   "source": [
    "## Exercise 5: Write the code to remove from the `data_dict_list` where 'Embarked' is None. "
   ]
  },
  {
   "cell_type": "code",
   "execution_count": 24,
   "id": "382fe742-5ebf-4151-8cf5-a7bf2aa25f22",
   "metadata": {
    "tags": []
   },
   "outputs": [],
   "source": [
    "for i in range(len(data_dict_list)):\n",
    "    if data_dict_list[i].get('Embarked') is None:\n",
    "            data_dict_list.pop(i)"
   ]
  },
  {
   "cell_type": "code",
   "execution_count": 25,
   "id": "f9d6d007-f07f-4ed5-9976-cfa32b8d643b",
   "metadata": {
    "tags": []
   },
   "outputs": [
    {
     "name": "stdout",
     "output_type": "stream",
     "text": [
      "Key 'PassengerId' has 0 null value(s)\n",
      "Key 'Survived' has 0 null value(s)\n",
      "Key 'Pclass' has 0 null value(s)\n",
      "Key 'Name' has 0 null value(s)\n",
      "Key 'Sex' has 0 null value(s)\n",
      "Key 'Age' has 0 null value(s)\n",
      "Key 'SibSp' has 0 null value(s)\n",
      "Key 'Parch' has 0 null value(s)\n",
      "Key 'Ticket' has 0 null value(s)\n",
      "Key 'Fare' has 0 null value(s)\n",
      "Key 'Cabin' has 0 null value(s)\n",
      "Key 'Embarked' has 0 null value(s)\n"
     ]
    }
   ],
   "source": [
    "count_null_values(list_dicts = data_dict_list)"
   ]
  },
  {
   "cell_type": "markdown",
   "id": "69e2dbd3-1537-4f9a-949f-846ca2915fb1",
   "metadata": {},
   "source": [
    "# Exploratory Data Analysis using NumPy"
   ]
  },
  {
   "cell_type": "markdown",
   "id": "db99eae3-a2d5-4d6b-8231-9f38d0c7a74d",
   "metadata": {},
   "source": [
    "# How many survived?"
   ]
  },
  {
   "cell_type": "code",
   "execution_count": 27,
   "id": "93373d2d-94fb-4a57-a782-cf3ea5a0c55c",
   "metadata": {
    "tags": []
   },
   "outputs": [],
   "source": [
    "# Create an empty list to store the survivals\n",
    "survivals = []\n",
    "\n",
    "# Iterate over the list of dictionaries\n",
    "for element in data_dict_list:\n",
    "    for key, value in element.items():\n",
    "        # Get the value of the \"Survived\" key\n",
    "        if key == \"Survived\" and value is not None:\n",
    "            survived = value\n",
    "    # Append the survived to the list\n",
    "    survivals.append(survived)"
   ]
  },
  {
   "cell_type": "code",
   "execution_count": 29,
   "id": "05c4d482-9f1e-42f2-b885-fae87b2a9b63",
   "metadata": {
    "tags": []
   },
   "outputs": [],
   "source": [
    "# Count the occurrences of each unique value in 'Survived'\n",
    "unique_values, counts = np.unique(survivals, return_counts=True)"
   ]
  },
  {
   "cell_type": "code",
   "execution_count": 35,
   "id": "5b9044f7-da76-4736-9341-cd2f5dbb98a4",
   "metadata": {
    "tags": []
   },
   "outputs": [
    {
     "name": "stdout",
     "output_type": "stream",
     "text": [
      "Survived: 0 Count: 549\n",
      "Survived: 1 Count: 340\n"
     ]
    }
   ],
   "source": [
    "# Print the occurrences of each unique value in 'Survived'\n",
    "for i in range(len(unique_values)):\n",
    "    value = unique_values[i]\n",
    "    count = counts[i]\n",
    "    print(\"Survived:\", value, \"Count:\", count)"
   ]
  },
  {
   "cell_type": "markdown",
   "id": "09acfade-11ea-465c-a581-5baede592684",
   "metadata": {},
   "source": [
    "# How the survival rate was correlated with some variables/features:"
   ]
  },
  {
   "cell_type": "markdown",
   "id": "bb901e8b-8ead-4e58-8e2f-36342fa6c472",
   "metadata": {},
   "source": [
    "## Sex:"
   ]
  },
  {
   "cell_type": "code",
   "execution_count": 36,
   "id": "cf796a75-4444-46a5-b6c2-a999e8a20e4a",
   "metadata": {
    "tags": []
   },
   "outputs": [],
   "source": [
    "def key_values_list(key_name):\n",
    "    values = []\n",
    "    \n",
    "    # Iterate over the list of dictionaries\n",
    "    for element in data_dict_list:\n",
    "        for key, value in element.items():\n",
    "            # Get the value of the key\n",
    "            if key == key_name and value is not None:\n",
    "                result = value\n",
    "        # Append the survived to the list\n",
    "        values.append(result)\n",
    "    \n",
    "    return values"
   ]
  },
  {
   "cell_type": "code",
   "execution_count": 37,
   "id": "bd0a941e-b9a2-4752-971c-07041a477f40",
   "metadata": {
    "tags": []
   },
   "outputs": [],
   "source": [
    "sex_list = key_values_list(\"Sex\")\n",
    "survivals_list = key_values_list(\"Survived\")"
   ]
  },
  {
   "cell_type": "code",
   "execution_count": 38,
   "id": "bc487f74-2717-4a6b-80bd-27659f9a1206",
   "metadata": {
    "tags": []
   },
   "outputs": [],
   "source": [
    "# Combine the 'sex' and 'survived' arrays into a single 2D array\n",
    "data = np.column_stack((sex_list, survivals_list))"
   ]
  },
  {
   "cell_type": "code",
   "execution_count": 39,
   "id": "4bc4b058-4ffb-407b-9006-8b4e548d7903",
   "metadata": {
    "tags": []
   },
   "outputs": [],
   "source": [
    "# Get unique rows and their counts\n",
    "unique_rows, counts = np.unique(data, axis=0, return_counts=True)"
   ]
  },
  {
   "cell_type": "code",
   "execution_count": 40,
   "id": "604ed03b-4f4b-462b-a005-d0afbb3d0346",
   "metadata": {
    "tags": []
   },
   "outputs": [
    {
     "name": "stdout",
     "output_type": "stream",
     "text": [
      "Sex: female, Survived: 0, Count: 81\n",
      "Sex: female, Survived: 1, Count: 231\n",
      "Sex: male, Survived: 0, Count: 468\n",
      "Sex: male, Survived: 1, Count: 109\n"
     ]
    }
   ],
   "source": [
    "# Display the results\n",
    "for row, count in zip(unique_rows, counts):\n",
    "    sex, survived = row\n",
    "    print(f\"Sex: {sex}, Survived: {survived}, Count: {count}\")"
   ]
  },
  {
   "cell_type": "markdown",
   "id": "528cd4e2-ac07-45dc-9b4c-01b0f40cf2c2",
   "metadata": {},
   "source": [
    "### Exercise 6: Modify the code above to generate percentages from counts which are grouped by based on 'Sex' and 'Survived'"
   ]
  },
  {
   "cell_type": "code",
   "execution_count": 41,
   "id": "7ed30744-b366-4112-a5b2-3634e4e486a4",
   "metadata": {
    "tags": []
   },
   "outputs": [],
   "source": [
    "sex_list = key_values_list(\"Sex\")\n",
    "survivals_list = key_values_list(\"Survived\")"
   ]
  },
  {
   "cell_type": "code",
   "execution_count": 42,
   "id": "154d025f-45ff-4645-ba62-2277a86b04e3",
   "metadata": {
    "tags": []
   },
   "outputs": [],
   "source": [
    "# Combine the 'sex' and 'survived' arrays into a single 2D array\n",
    "data = np.column_stack((sex_list, survivals_list))"
   ]
  },
  {
   "cell_type": "code",
   "execution_count": 46,
   "id": "b87ce0ab-1e72-4655-80c3-73cbc815bf23",
   "metadata": {
    "tags": []
   },
   "outputs": [
    {
     "data": {
      "text/plain": [
       "array([['male', '0'],\n",
       "       ['female', '1'],\n",
       "       ['female', '1'],\n",
       "       ...,\n",
       "       ['female', '0'],\n",
       "       ['male', '1'],\n",
       "       ['male', '0']], dtype='<U21')"
      ]
     },
     "execution_count": 46,
     "metadata": {},
     "output_type": "execute_result"
    }
   ],
   "source": [
    "data"
   ]
  },
  {
   "cell_type": "code",
   "execution_count": 43,
   "id": "1696cc67-2a1e-4a40-a2f7-e670f3cd569c",
   "metadata": {
    "tags": []
   },
   "outputs": [],
   "source": [
    "# Get unique rows and their counts\n",
    "unique_rows, counts = np.unique(data, axis=0, return_counts=True)"
   ]
  },
  {
   "cell_type": "code",
   "execution_count": 44,
   "id": "c872f69d-ac96-4f25-b567-1d83c14b6e48",
   "metadata": {
    "tags": []
   },
   "outputs": [],
   "source": [
    "total_count = np.sum(counts)  # Calculate the total count of occurrences"
   ]
  },
  {
   "cell_type": "code",
   "execution_count": 45,
   "id": "92042ed7-8688-4bc1-81e5-ec38546f3f00",
   "metadata": {
    "tags": []
   },
   "outputs": [
    {
     "name": "stdout",
     "output_type": "stream",
     "text": [
      "Sex: female, Survived: 0, Count: 81, Percentage: 9.11%\n",
      "Sex: female, Survived: 1, Count: 231, Percentage: 25.98%\n",
      "Sex: male, Survived: 0, Count: 468, Percentage: 52.64%\n",
      "Sex: male, Survived: 1, Count: 109, Percentage: 12.26%\n"
     ]
    }
   ],
   "source": [
    "# Display the results with percentages\n",
    "for row, count in zip(unique_rows, counts):\n",
    "    sex, survived = row\n",
    "    percentage = (count / total_count) * 100\n",
    "    print(f\"Sex: {sex}, Survived: {survived}, Count: {count}, Percentage: {percentage:.2f}%\")"
   ]
  },
  {
   "cell_type": "markdown",
   "id": "88b53bd0-2f7d-4043-b589-4fd7dbe8da29",
   "metadata": {},
   "source": [
    "## Pclass:"
   ]
  },
  {
   "cell_type": "markdown",
   "id": "2f99c739-a8e9-4c5c-ae33-8883589151fc",
   "metadata": {},
   "source": [
    "### Exercise 7: Write the code to generate percentages from counts which are grouped by based on 'Pclass' and 'Survived'"
   ]
  },
  {
   "cell_type": "code",
   "execution_count": 47,
   "id": "19f9e4a3-c4af-4fb8-93dc-4d56c18c771d",
   "metadata": {
    "tags": []
   },
   "outputs": [],
   "source": [
    "pclass_list = key_values_list(\"Pclass\")\n",
    "survivals_list = key_values_list(\"Survived\")"
   ]
  },
  {
   "cell_type": "code",
   "execution_count": 48,
   "id": "b8ea8836-1cef-4051-9af8-a76d40a6e3cc",
   "metadata": {
    "tags": []
   },
   "outputs": [],
   "source": [
    "# Combine the 'pclass' and 'survived' arrays into a single 2D array\n",
    "data = np.column_stack((pclass_list, survivals_list))"
   ]
  },
  {
   "cell_type": "code",
   "execution_count": 49,
   "id": "e5663570-cb9a-4397-8902-0a32d6b017f7",
   "metadata": {
    "tags": []
   },
   "outputs": [
    {
     "data": {
      "text/plain": [
       "array([[3, 0],\n",
       "       [1, 1],\n",
       "       [3, 1],\n",
       "       ...,\n",
       "       [3, 0],\n",
       "       [1, 1],\n",
       "       [3, 0]])"
      ]
     },
     "execution_count": 49,
     "metadata": {},
     "output_type": "execute_result"
    }
   ],
   "source": [
    "data"
   ]
  },
  {
   "cell_type": "code",
   "execution_count": 50,
   "id": "884880c4-290c-4cf4-a651-cfcd71fbfd40",
   "metadata": {
    "tags": []
   },
   "outputs": [],
   "source": [
    "# Get unique rows and their counts\n",
    "unique_rows, counts = np.unique(data, axis=0, return_counts=True)"
   ]
  },
  {
   "cell_type": "code",
   "execution_count": 51,
   "id": "c85d6c45-dd8e-4e1f-9f3b-200391827b29",
   "metadata": {
    "tags": []
   },
   "outputs": [],
   "source": [
    "total_count = np.sum(counts)  # Calculate the total count of occurrences"
   ]
  },
  {
   "cell_type": "code",
   "execution_count": 53,
   "id": "559b81d4-5dc5-4233-88d7-e3e0fc8b532b",
   "metadata": {
    "tags": []
   },
   "outputs": [
    {
     "name": "stdout",
     "output_type": "stream",
     "text": [
      "Pclass: 1, Survived: 0, Count: 80, Percentage: 9.00%\n",
      "Pclass: 1, Survived: 1, Count: 134, Percentage: 15.07%\n",
      "Pclass: 2, Survived: 0, Count: 97, Percentage: 10.91%\n",
      "Pclass: 2, Survived: 1, Count: 87, Percentage: 9.79%\n",
      "Pclass: 3, Survived: 0, Count: 372, Percentage: 41.84%\n",
      "Pclass: 3, Survived: 1, Count: 119, Percentage: 13.39%\n"
     ]
    }
   ],
   "source": [
    "# Display the results with percentages\n",
    "for row, count in zip(unique_rows, counts):\n",
    "    pclass, survived = row\n",
    "    percentage = (count / total_count) * 100\n",
    "    print(f\"Pclass: {pclass}, Survived: {survived}, Count: {count}, Percentage: {percentage:.2f}%\")"
   ]
  },
  {
   "cell_type": "markdown",
   "id": "9e77f6fd-9bb5-4484-b149-1f56359583e4",
   "metadata": {},
   "source": [
    "## Age:"
   ]
  },
  {
   "cell_type": "markdown",
   "id": "8bdb16a2-ab1d-43b1-b498-374f8bae1bec",
   "metadata": {},
   "source": [
    "### Exercise 8: Write the code to identify how many teenagers survived and not survived in terms of counts and percentages"
   ]
  },
  {
   "cell_type": "code",
   "execution_count": 58,
   "id": "768fc7ce-484b-45df-ac6e-0cce964617dd",
   "metadata": {
    "tags": []
   },
   "outputs": [
    {
     "name": "stdout",
     "output_type": "stream",
     "text": [
      "Teenagers:\n",
      "Total count: 95\n",
      "Survived count: 39, Percentage: 41.05%\n",
      "Not survived count: 56, Percentage: 58.95%\n"
     ]
    }
   ],
   "source": [
    "values = []\n",
    "teenager_survived = 0\n",
    "teenager_not_survived = 0\n",
    "\n",
    "# Iterate over the list of dictionaries\n",
    "for element in data_dict_list:\n",
    "    survived = element.get('Survived')\n",
    "    age = element.get('Age')\n",
    "    \n",
    "    # Check if the person is a teenager and has age and survival information\n",
    "    if age is not None and survived is not None and 13 <= age <= 19:\n",
    "        # Append the survived status to the list\n",
    "        values.append(survived)\n",
    "        \n",
    "        # Increment the count of teenagers based on survival status\n",
    "        if survived == 1:\n",
    "            teenager_survived += 1\n",
    "        else:\n",
    "            teenager_not_survived += 1\n",
    "\n",
    "# Calculate the total count of teenagers\n",
    "total_count = teenager_survived + teenager_not_survived\n",
    "\n",
    "# Calculate the percentages\n",
    "survived_percentage = (teenager_survived / total_count) * 100\n",
    "not_survived_percentage = (teenager_not_survived / total_count) * 100\n",
    "\n",
    "# Display the results\n",
    "print(\"Teenagers:\")\n",
    "print(f\"Total count: {total_count}\")\n",
    "print(f\"Survived count: {teenager_survived}, Percentage: {survived_percentage:.2f}%\")\n",
    "print(f\"Not survived count: {teenager_not_survived}, Percentage: {not_survived_percentage:.2f}%\")\n"
   ]
  },
  {
   "cell_type": "markdown",
   "id": "27b080eb-f5ac-486a-aedc-6e421871c083",
   "metadata": {},
   "source": [
    "### Exercise 9: Modify the code above to identify how many people in the age range of 60 and above survived and not survived in terms of counts and percentages"
   ]
  },
  {
   "cell_type": "code",
   "execution_count": 57,
   "id": "073be2b2-c53e-432a-8915-a21f6e599c27",
   "metadata": {
    "tags": []
   },
   "outputs": [
    {
     "name": "stdout",
     "output_type": "stream",
     "text": [
      "Elderly Individuals (Age 60 and above):\n",
      "Total count: 25\n",
      "Survived count: 6, Percentage: 24.00%\n",
      "Not survived count: 19, Percentage: 76.00%\n"
     ]
    }
   ],
   "source": [
    "values = []\n",
    "elderly_survived = 0\n",
    "elderly_not_survived = 0\n",
    "\n",
    "# Iterate over the list of dictionaries\n",
    "for element in data_dict_list:\n",
    "    survived = element.get('Survived')\n",
    "    age = element.get('Age')\n",
    "    \n",
    "    # Check if the person is in the age range of 60 and above and has survival information\n",
    "    if age is not None and survived is not None and age >= 60:\n",
    "        # Append the survived status to the list\n",
    "        values.append(survived)\n",
    "        \n",
    "        # Increment the count of elderly based on survival status\n",
    "        if survived == 1:\n",
    "            elderly_survived += 1\n",
    "        else:\n",
    "            elderly_not_survived += 1\n",
    "\n",
    "# Calculate the total count of elderly individuals\n",
    "total_count = elderly_survived + elderly_not_survived\n",
    "\n",
    "# Calculate the percentages\n",
    "survived_percentage = (elderly_survived / total_count) * 100\n",
    "not_survived_percentage = (elderly_not_survived / total_count) * 100\n",
    "\n",
    "# Display the results\n",
    "print(\"Elderly Individuals (Age 60 and above):\")\n",
    "print(f\"Total count: {total_count}\")\n",
    "print(f\"Survived count: {elderly_survived}, Percentage: {survived_percentage:.2f}%\")\n",
    "print(f\"Not survived count: {elderly_not_survived}, Percentage: {not_survived_percentage:.2f}%\")\n"
   ]
  },
  {
   "cell_type": "markdown",
   "id": "effe5c18-b86d-4728-bc3a-ab2f3b4110e1",
   "metadata": {},
   "source": [
    "### Exercise 10: Based on the age groups, do a simple segmentation by dividing dataset into 4 categories below and report which age group had the highest survival rate:\n",
    "\n",
    "1. Teenagers: 13 - 19\n",
    "2. Young Adults: 20 - 29 \n",
    "3. Middle Age: 30 - 50\n",
    "4. Older Adults: 51-59\n",
    "5. Elderly: >= 60\n",
    "\n"
   ]
  },
  {
   "cell_type": "code",
   "execution_count": 65,
   "id": "3f2ee939-3143-4f4e-adb8-95041774485d",
   "metadata": {
    "tags": []
   },
   "outputs": [
    {
     "name": "stdout",
     "output_type": "stream",
     "text": [
      "Age Group Survival Rates:\n",
      "Teenagers: Count=95, Survival Rate=41.05%\n",
      "Young_adults: Count=397, Survival Rate=32.49%\n",
      "Middle_aged: Count=265, Survival Rate=41.89%\n",
      "Older_adults: Count=38, Survival Rate=39.47%\n",
      "Elderly: Count=25, Survival Rate=24.00%\n",
      "\n",
      "The age group with the highest survival rate is: Middle_aged\n"
     ]
    }
   ],
   "source": [
    "age_groups = {\n",
    "    'teenagers': {'count': 0, 'survived': 0},\n",
    "    'young_adults': {'count': 0, 'survived': 0},\n",
    "    'middle_aged': {'count': 0, 'survived': 0},\n",
    "    'older_adults': {'count': 0, 'survived': 0},\n",
    "    'elderly': {'count': 0, 'survived': 0}\n",
    "}\n",
    "\n",
    "# Define the age ranges for each age group\n",
    "age_ranges = {\n",
    "    'teenagers': (13, 19),\n",
    "    'young_adults': (20, 29),\n",
    "    'middle_aged': (30, 50),\n",
    "    'older_adults': (51, 59),\n",
    "    'elderly': (60, 150)  # Assuming the maximum age is 150\n",
    "}\n",
    "\n",
    "# Iterate over the list of dictionaries\n",
    "for element in data_dict_list:\n",
    "    survived = element.get('Survived')\n",
    "    age = element.get('Age')\n",
    "    \n",
    "    # Check if the person has age and survival information\n",
    "    if age is not None and survived is not None:\n",
    "        # Increment the count and survival count for the respective age group\n",
    "        for age_group, age_range in age_ranges.items():\n",
    "            if age_range[0] <= age <= age_range[1]:\n",
    "                age_groups[age_group]['count'] += 1\n",
    "                age_groups[age_group]['survived'] += survived\n",
    "                break  # Break the loop after finding the matching age group\n",
    "\n",
    "# Calculate the survival rates for each age group\n",
    "for age_group, data in age_groups.items():\n",
    "    count = data['count']\n",
    "    survived = data['survived']\n",
    "    \n",
    "    # Calculate the survival rate as a percentage\n",
    "    survival_rate = (survived / count) * 100 if count > 0 else 0\n",
    "    \n",
    "    # Update the dictionary with the survival rate\n",
    "    age_groups[age_group]['survival_rate'] = survival_rate\n",
    "\n",
    "# Find the age group with the highest survival rate\n",
    "highest_survival_rate_age_group = max(age_groups, key=lambda x: age_groups[x]['survival_rate'])\n",
    "\n",
    "# Display the results\n",
    "print(\"Age Group Survival Rates:\")\n",
    "for age_group, data in age_groups.items():\n",
    "    count = data['count']\n",
    "    survival_rate = data['survival_rate']\n",
    "    print(f\"{age_group.capitalize()}: Count={count}, Survival Rate={survival_rate:.2f}%\")\n",
    "\n",
    "print(f\"\\nThe age group with the highest survival rate is: {highest_survival_rate_age_group.capitalize()}\")\n"
   ]
  },
  {
   "cell_type": "markdown",
   "id": "114a809b-776f-46d7-9c1e-0dcc76bfe3fc",
   "metadata": {},
   "source": [
    "## Fare:"
   ]
  },
  {
   "cell_type": "markdown",
   "id": "5a68e874-5c3f-4e17-a78e-846935de2b11",
   "metadata": {},
   "source": [
    "### Exercise 11: Write the code to derive first quartile, median and third quartile of fare prices"
   ]
  },
  {
   "cell_type": "code",
   "execution_count": 66,
   "id": "8c0e52b4-1263-4ced-bd57-fcb0385a9308",
   "metadata": {
    "tags": []
   },
   "outputs": [
    {
     "name": "stdout",
     "output_type": "stream",
     "text": [
      "Fare Statistics:\n",
      "First Quartile: 7.8958\n",
      "Median: 14.4542\n",
      "Third Quartile: 31.0\n"
     ]
    }
   ],
   "source": [
    "fare_prices = key_values_list(\"Fare\")\n",
    "\n",
    "# Calculate the first quartile (25th percentile)\n",
    "first_quartile = np.percentile(fare_prices, 25)\n",
    "\n",
    "# Calculate the median (50th percentile)\n",
    "median = np.percentile(fare_prices, 50)\n",
    "\n",
    "# Calculate the third quartile (75th percentile)\n",
    "third_quartile = np.percentile(fare_prices, 75)\n",
    "\n",
    "print(\"Fare Statistics:\")\n",
    "print(f\"First Quartile: {first_quartile}\")\n",
    "print(f\"Median: {median}\")\n",
    "print(f\"Third Quartile: {third_quartile}\")"
   ]
  },
  {
   "cell_type": "markdown",
   "id": "9710f670-f289-4a92-a2d7-03a897fb86bb",
   "metadata": {},
   "source": [
    "### Exercise 12: Based on the first quartile, median and third quartile of fare prices, do a simple segmentation by dividing dataset into 4 categories and report which fare group had the highest survival rate: \n",
    "\n",
    "1. Less than or equal to First Quartile: Low\n",
    "2. Greater than First Quartile, but less than or equal to Median: Moderate \n",
    "3. Greater than Median, but less than or equal to third quartile: Moderate High\n",
    "4. Greater than Third Quartile, but less than or equal to maximum fare price: High"
   ]
  },
  {
   "cell_type": "code",
   "execution_count": 69,
   "id": "eed3b49e-63fd-48ee-bd9d-cdebf4cb3940",
   "metadata": {
    "tags": []
   },
   "outputs": [
    {
     "name": "stdout",
     "output_type": "stream",
     "text": [
      "Fare Group Survival Rates:\n",
      "Low: Count=223, Survival Rate=19.73%\n",
      "Moderate: Count=224, Survival Rate=30.36%\n",
      "Moderate high: Count=222, Survival Rate=45.50%\n",
      "High: Count=220, Survival Rate=57.73%\n",
      "\n",
      "The fare group with the highest survival rate is: High\n"
     ]
    }
   ],
   "source": [
    "fare_groups = {\n",
    "    'Low': {'count': 0, 'survived': 0},\n",
    "    'Moderate': {'count': 0, 'survived': 0},\n",
    "    'Moderate High': {'count': 0, 'survived': 0},\n",
    "    'High': {'count': 0, 'survived': 0},\n",
    "}\n",
    "\n",
    "# Define the fare ranges for each age group\n",
    "fare_ranges = {\n",
    "    'Low': (0, first_quartile),\n",
    "    'Moderate': (first_quartile + 0.001, median),\n",
    "    'Moderate High': (median + 0.001, third_quartile),\n",
    "    'High': (third_quartile + 0.001, np.max(fare_prices))\n",
    "}\n",
    "\n",
    "# Iterate over the list of dictionaries\n",
    "for element in data_dict_list:\n",
    "    survived = element.get('Survived')\n",
    "    fare = element.get('Fare')\n",
    "    \n",
    "    # Check if the person has age and survival information\n",
    "    if fare is not None and survived is not None:\n",
    "        # Increment the count and survival count for the respective age group\n",
    "        for fare_group, fare_range in fare_ranges.items():\n",
    "            if fare_range[0] <= fare <= fare_range[1]:\n",
    "                fare_groups[fare_group]['count'] += 1\n",
    "                fare_groups[fare_group]['survived'] += survived\n",
    "                break  # Break the loop after finding the matching age group\n",
    "\n",
    "# Calculate the survival rates for each fare group\n",
    "for fare_group, data in fare_groups.items():\n",
    "    count = data['count']\n",
    "    survived = data['survived']\n",
    "    \n",
    "    # Calculate the survival rate as a percentage\n",
    "    survival_rate = (survived / count) * 100 if count > 0 else 0\n",
    "    \n",
    "    # Update the dictionary with the survival rate\n",
    "    fare_groups[fare_group]['survival_rate'] = survival_rate\n",
    "\n",
    "# Find the age group with the highest survival rate\n",
    "highest_survival_rate_fare_group = max(fare_groups, key=lambda x: fare_groups[x]['survival_rate'])\n",
    "\n",
    "# Display the results\n",
    "print(\"Fare Group Survival Rates:\")\n",
    "for fare_group, data in fare_groups.items():\n",
    "    count = data['count']\n",
    "    survival_rate = data['survival_rate']\n",
    "    print(f\"{fare_group.capitalize()}: Count={count}, Survival Rate={survival_rate:.2f}%\")\n",
    "\n",
    "print(f\"\\nThe fare group with the highest survival rate is: {highest_survival_rate_fare_group.capitalize()}\")\n"
   ]
  },
  {
   "cell_type": "code",
   "execution_count": null,
   "id": "5a556c8c-4c14-4676-a873-b2a0afe387a9",
   "metadata": {},
   "outputs": [],
   "source": []
  }
 ],
 "metadata": {
  "kernelspec": {
   "display_name": "PyCamber",
   "language": "python",
   "name": "python3"
  },
  "language_info": {
   "codemirror_mode": {
    "name": "ipython",
    "version": 3
   },
   "file_extension": ".py",
   "mimetype": "text/x-python",
   "name": "python",
   "nbconvert_exporter": "python",
   "pygments_lexer": "ipython3",
   "version": "3.10.10"
  },
  "toc-showcode": false,
  "toc-showmarkdowntxt": false
 },
 "nbformat": 4,
 "nbformat_minor": 5
}
