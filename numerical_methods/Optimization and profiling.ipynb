{
 "cells": [
  {
   "cell_type": "markdown",
   "id": "9d7f8d9d",
   "metadata": {},
   "source": [
    "# Python Optimization\n",
    "\n",
    "In this section we will discuss python optimization.  "
   ]
  },
  {
   "cell_type": "markdown",
   "id": "a66692f2",
   "metadata": {},
   "source": [
    "## Profiling"
   ]
  },
  {
   "cell_type": "markdown",
   "id": "d7548cc6",
   "metadata": {},
   "source": [
    "## Clean code practice"
   ]
  },
  {
   "cell_type": "markdown",
   "id": "b1667a4f",
   "metadata": {},
   "source": [
    "## Hot spot optimization with numba"
   ]
  },
  {
   "cell_type": "markdown",
   "id": "00c26819",
   "metadata": {},
   "source": [
    "## Hot spot optimization with f2py"
   ]
  },
  {
   "cell_type": "code",
   "execution_count": null,
   "id": "05cb4356",
   "metadata": {},
   "outputs": [],
   "source": []
  }
 ],
 "metadata": {
  "kernelspec": {
   "display_name": "Python 3 (ipykernel)",
   "language": "python",
   "name": "python3"
  },
  "language_info": {
   "codemirror_mode": {
    "name": "ipython",
    "version": 3
   },
   "file_extension": ".py",
   "mimetype": "text/x-python",
   "name": "python",
   "nbconvert_exporter": "python",
   "pygments_lexer": "ipython3",
   "version": "3.9.13"
  }
 },
 "nbformat": 4,
 "nbformat_minor": 5
}
